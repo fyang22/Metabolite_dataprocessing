{
 "cells": [
  {
   "cell_type": "code",
   "execution_count": 1,
   "metadata": {
    "vscode": {
     "languageId": "r"
    }
   },
   "outputs": [
    {
     "name": "stderr",
     "output_type": "stream",
     "text": [
      "Loading required package: S4Vectors\n",
      "\n"
     ]
    },
    {
     "name": "stderr",
     "output_type": "stream",
     "text": [
      "Loading required package: stats4\n",
      "\n",
      "Loading required package: BiocGenerics\n",
      "\n",
      "\n",
      "Attaching package: 'BiocGenerics'\n",
      "\n",
      "\n",
      "The following objects are masked from 'package:stats':\n",
      "\n",
      "    IQR, mad, sd, var, xtabs\n",
      "\n",
      "\n",
      "The following objects are masked from 'package:base':\n",
      "\n",
      "    anyDuplicated, aperm, append, as.data.frame, basename, cbind,\n",
      "    colnames, dirname, do.call, duplicated, eval, evalq, Filter, Find,\n",
      "    get, grep, grepl, intersect, is.unsorted, lapply, Map, mapply,\n",
      "    match, mget, order, paste, pmax, pmax.int, pmin, pmin.int,\n",
      "    Position, rank, rbind, Reduce, rownames, sapply, setdiff, sort,\n",
      "    table, tapply, union, unique, unsplit, which.max, which.min\n",
      "\n",
      "\n",
      "\n",
      "Attaching package: 'S4Vectors'\n",
      "\n",
      "\n",
      "The following object is masked from 'package:utils':\n",
      "\n",
      "    findMatches\n",
      "\n",
      "\n",
      "The following objects are masked from 'package:base':\n",
      "\n",
      "    expand.grid, I, unname\n",
      "\n",
      "\n",
      "Loading required package: BiocParallel\n",
      "\n",
      "Loading required package: ProtGenerics\n",
      "\n",
      "\n",
      "Attaching package: 'ProtGenerics'\n",
      "\n",
      "\n",
      "The following object is masked from 'package:stats':\n",
      "\n",
      "    smooth\n",
      "\n",
      "\n"
     ]
    }
   ],
   "source": [
    "library(Spectra)"
   ]
  },
  {
   "cell_type": "code",
   "execution_count": 2,
   "metadata": {
    "vscode": {
     "languageId": "r"
    }
   },
   "outputs": [],
   "source": [
    "# get mzML files directory\n",
    "mzml_files <- list.files(path = \"C:/Users/fanya174/Documents/Aging/raw_pos\", pattern = \"\\\\.mzML$\", full.names = TRUE)"
   ]
  },
  {
   "cell_type": "markdown",
   "metadata": {},
   "source": [
    "# Read volcano data\n",
    "# indicate the sample has the max intensity"
   ]
  },
  {
   "cell_type": "code",
   "execution_count": 5,
   "metadata": {
    "vscode": {
     "languageId": "r"
    }
   },
   "outputs": [
    {
     "data": {
      "text/html": [
       "<table class=\"dataframe\">\n",
       "<caption>A data.frame: 6 × 46</caption>\n",
       "<thead>\n",
       "\t<tr><th></th><th scope=col>sample</th><th scope=col>QC_38_01_13658</th><th scope=col>WT-week8-4_5_01_13659</th><th scope=col>KO-week8-5_12_01_13660</th><th scope=col>KO-week8-3_10_01_13661</th><th scope=col>WT-week52-6_31_01_13662</th><th scope=col>KO-week16-1_20_01_13663</th><th scope=col>KO-week16-2_21_01_13664</th><th scope=col>WT-week16-2_15_01_13665</th><th scope=col>WT-week52-5_30_01_13666</th><th scope=col>⋯</th><th scope=col>KO-week16-5_24_01_13693</th><th scope=col>QC_38_01_13694</th><th scope=col>KO-week52-4_35_01_13695</th><th scope=col>KO-week8-4_11_01_13696</th><th scope=col>KO-week16-4_23_01_13697</th><th scope=col>WT-week52-3_28_01_13698</th><th scope=col>QC_38_01_13699</th><th scope=col>sample_max</th><th scope=col>mzmed</th><th scope=col>rtmed</th></tr>\n",
       "\t<tr><th></th><th scope=col>&lt;chr&gt;</th><th scope=col>&lt;dbl&gt;</th><th scope=col>&lt;dbl&gt;</th><th scope=col>&lt;dbl&gt;</th><th scope=col>&lt;dbl&gt;</th><th scope=col>&lt;dbl&gt;</th><th scope=col>&lt;dbl&gt;</th><th scope=col>&lt;dbl&gt;</th><th scope=col>&lt;dbl&gt;</th><th scope=col>&lt;dbl&gt;</th><th scope=col>⋯</th><th scope=col>&lt;dbl&gt;</th><th scope=col>&lt;dbl&gt;</th><th scope=col>&lt;dbl&gt;</th><th scope=col>&lt;dbl&gt;</th><th scope=col>&lt;dbl&gt;</th><th scope=col>&lt;dbl&gt;</th><th scope=col>&lt;dbl&gt;</th><th scope=col>&lt;chr&gt;</th><th scope=col>&lt;dbl&gt;</th><th scope=col>&lt;dbl&gt;</th></tr>\n",
       "</thead>\n",
       "<tbody>\n",
       "\t<tr><th scope=row>120</th><td>M232T388  </td><td>547998.9</td><td>136379.43</td><td>304794.0</td><td> 385822.9</td><td> 36507.386</td><td> 637063.8</td><td> 383948.82</td><td> 404911.0</td><td> 39568.737</td><td>⋯</td><td> 86616.62</td><td>541827.7</td><td> 17103.863</td><td>212246.6</td><td>398101.0</td><td> 35154.778</td><td>505921.21</td><td>KO-week16-1_20_01_13663</td><td>232.1245</td><td>387.5795</td></tr>\n",
       "\t<tr><th scope=row>261</th><td>M195T626  </td><td>198778.2</td><td>241585.90</td><td>279283.9</td><td> 186037.8</td><td>227475.204</td><td> 371407.7</td><td> 317536.11</td><td> 284774.3</td><td>259823.513</td><td>⋯</td><td>276861.19</td><td>195409.7</td><td>244674.796</td><td>229771.2</td><td>308135.4</td><td>144271.646</td><td>163112.63</td><td>KO-week16-1_20_01_13663</td><td>195.1183</td><td>625.5230</td></tr>\n",
       "\t<tr><th scope=row>267</th><td>M275T635  </td><td>137083.6</td><td> 55172.04</td><td>105705.0</td><td> 171025.5</td><td>  6923.152</td><td> 224269.3</td><td> 170668.06</td><td> 149705.4</td><td>  8942.849</td><td>⋯</td><td> 48563.39</td><td>100309.4</td><td>  9261.748</td><td>109448.8</td><td>140209.6</td><td>  2806.152</td><td> 65455.93</td><td>KO-week16-1_20_01_13663</td><td>275.1744</td><td>634.7815</td></tr>\n",
       "\t<tr><th scope=row>268</th><td>M274T635  </td><td>851381.3</td><td>430062.95</td><td>652061.9</td><td>1084406.6</td><td> 24975.967</td><td>1519059.0</td><td>1125411.44</td><td>1033123.6</td><td> 33232.484</td><td>⋯</td><td>398340.50</td><td>626875.1</td><td> 32253.770</td><td>508189.4</td><td>949726.3</td><td> 62153.016</td><td>489276.25</td><td>KO-week16-1_20_01_13663</td><td>274.1713</td><td>635.2230</td></tr>\n",
       "\t<tr><th scope=row>271</th><td>M242T649  </td><td>555488.0</td><td>122010.48</td><td>416429.1</td><td> 517829.7</td><td> 17828.569</td><td>1257927.3</td><td>1034365.10</td><td> 827836.9</td><td> 27134.550</td><td>⋯</td><td>143121.19</td><td>519463.6</td><td> 18866.108</td><td>432306.8</td><td>816220.0</td><td> 33566.184</td><td>508097.16</td><td>KO-week16-1_20_01_13663</td><td>242.1703</td><td>649.3385</td></tr>\n",
       "\t<tr><th scope=row>278</th><td>M274T655_2</td><td>633438.2</td><td>233399.29</td><td>383404.9</td><td> 471940.9</td><td> 39686.117</td><td> 932896.7</td><td>  44251.93</td><td> 674389.6</td><td> 46709.959</td><td>⋯</td><td>285026.97</td><td>535538.9</td><td> 42100.872</td><td>337625.9</td><td>484911.2</td><td> 55509.769</td><td>429639.03</td><td>KO-week16-1_20_01_13663</td><td>274.1704</td><td>655.2645</td></tr>\n",
       "</tbody>\n",
       "</table>\n"
      ],
      "text/latex": [
       "A data.frame: 6 × 46\n",
       "\\begin{tabular}{r|lllllllllllllllllllll}\n",
       "  & sample & QC\\_38\\_01\\_13658 & WT-week8-4\\_5\\_01\\_13659 & KO-week8-5\\_12\\_01\\_13660 & KO-week8-3\\_10\\_01\\_13661 & WT-week52-6\\_31\\_01\\_13662 & KO-week16-1\\_20\\_01\\_13663 & KO-week16-2\\_21\\_01\\_13664 & WT-week16-2\\_15\\_01\\_13665 & WT-week52-5\\_30\\_01\\_13666 & ⋯ & KO-week16-5\\_24\\_01\\_13693 & QC\\_38\\_01\\_13694 & KO-week52-4\\_35\\_01\\_13695 & KO-week8-4\\_11\\_01\\_13696 & KO-week16-4\\_23\\_01\\_13697 & WT-week52-3\\_28\\_01\\_13698 & QC\\_38\\_01\\_13699 & sample\\_max & mzmed & rtmed\\\\\n",
       "  & <chr> & <dbl> & <dbl> & <dbl> & <dbl> & <dbl> & <dbl> & <dbl> & <dbl> & <dbl> & ⋯ & <dbl> & <dbl> & <dbl> & <dbl> & <dbl> & <dbl> & <dbl> & <chr> & <dbl> & <dbl>\\\\\n",
       "\\hline\n",
       "\t120 & M232T388   & 547998.9 & 136379.43 & 304794.0 &  385822.9 &  36507.386 &  637063.8 &  383948.82 &  404911.0 &  39568.737 & ⋯ &  86616.62 & 541827.7 &  17103.863 & 212246.6 & 398101.0 &  35154.778 & 505921.21 & KO-week16-1\\_20\\_01\\_13663 & 232.1245 & 387.5795\\\\\n",
       "\t261 & M195T626   & 198778.2 & 241585.90 & 279283.9 &  186037.8 & 227475.204 &  371407.7 &  317536.11 &  284774.3 & 259823.513 & ⋯ & 276861.19 & 195409.7 & 244674.796 & 229771.2 & 308135.4 & 144271.646 & 163112.63 & KO-week16-1\\_20\\_01\\_13663 & 195.1183 & 625.5230\\\\\n",
       "\t267 & M275T635   & 137083.6 &  55172.04 & 105705.0 &  171025.5 &   6923.152 &  224269.3 &  170668.06 &  149705.4 &   8942.849 & ⋯ &  48563.39 & 100309.4 &   9261.748 & 109448.8 & 140209.6 &   2806.152 &  65455.93 & KO-week16-1\\_20\\_01\\_13663 & 275.1744 & 634.7815\\\\\n",
       "\t268 & M274T635   & 851381.3 & 430062.95 & 652061.9 & 1084406.6 &  24975.967 & 1519059.0 & 1125411.44 & 1033123.6 &  33232.484 & ⋯ & 398340.50 & 626875.1 &  32253.770 & 508189.4 & 949726.3 &  62153.016 & 489276.25 & KO-week16-1\\_20\\_01\\_13663 & 274.1713 & 635.2230\\\\\n",
       "\t271 & M242T649   & 555488.0 & 122010.48 & 416429.1 &  517829.7 &  17828.569 & 1257927.3 & 1034365.10 &  827836.9 &  27134.550 & ⋯ & 143121.19 & 519463.6 &  18866.108 & 432306.8 & 816220.0 &  33566.184 & 508097.16 & KO-week16-1\\_20\\_01\\_13663 & 242.1703 & 649.3385\\\\\n",
       "\t278 & M274T655\\_2 & 633438.2 & 233399.29 & 383404.9 &  471940.9 &  39686.117 &  932896.7 &   44251.93 &  674389.6 &  46709.959 & ⋯ & 285026.97 & 535538.9 &  42100.872 & 337625.9 & 484911.2 &  55509.769 & 429639.03 & KO-week16-1\\_20\\_01\\_13663 & 274.1704 & 655.2645\\\\\n",
       "\\end{tabular}\n"
      ],
      "text/markdown": [
       "\n",
       "A data.frame: 6 × 46\n",
       "\n",
       "| <!--/--> | sample &lt;chr&gt; | QC_38_01_13658 &lt;dbl&gt; | WT-week8-4_5_01_13659 &lt;dbl&gt; | KO-week8-5_12_01_13660 &lt;dbl&gt; | KO-week8-3_10_01_13661 &lt;dbl&gt; | WT-week52-6_31_01_13662 &lt;dbl&gt; | KO-week16-1_20_01_13663 &lt;dbl&gt; | KO-week16-2_21_01_13664 &lt;dbl&gt; | WT-week16-2_15_01_13665 &lt;dbl&gt; | WT-week52-5_30_01_13666 &lt;dbl&gt; | ⋯ ⋯ | KO-week16-5_24_01_13693 &lt;dbl&gt; | QC_38_01_13694 &lt;dbl&gt; | KO-week52-4_35_01_13695 &lt;dbl&gt; | KO-week8-4_11_01_13696 &lt;dbl&gt; | KO-week16-4_23_01_13697 &lt;dbl&gt; | WT-week52-3_28_01_13698 &lt;dbl&gt; | QC_38_01_13699 &lt;dbl&gt; | sample_max &lt;chr&gt; | mzmed &lt;dbl&gt; | rtmed &lt;dbl&gt; |\n",
       "|---|---|---|---|---|---|---|---|---|---|---|---|---|---|---|---|---|---|---|---|---|---|\n",
       "| 120 | M232T388   | 547998.9 | 136379.43 | 304794.0 |  385822.9 |  36507.386 |  637063.8 |  383948.82 |  404911.0 |  39568.737 | ⋯ |  86616.62 | 541827.7 |  17103.863 | 212246.6 | 398101.0 |  35154.778 | 505921.21 | KO-week16-1_20_01_13663 | 232.1245 | 387.5795 |\n",
       "| 261 | M195T626   | 198778.2 | 241585.90 | 279283.9 |  186037.8 | 227475.204 |  371407.7 |  317536.11 |  284774.3 | 259823.513 | ⋯ | 276861.19 | 195409.7 | 244674.796 | 229771.2 | 308135.4 | 144271.646 | 163112.63 | KO-week16-1_20_01_13663 | 195.1183 | 625.5230 |\n",
       "| 267 | M275T635   | 137083.6 |  55172.04 | 105705.0 |  171025.5 |   6923.152 |  224269.3 |  170668.06 |  149705.4 |   8942.849 | ⋯ |  48563.39 | 100309.4 |   9261.748 | 109448.8 | 140209.6 |   2806.152 |  65455.93 | KO-week16-1_20_01_13663 | 275.1744 | 634.7815 |\n",
       "| 268 | M274T635   | 851381.3 | 430062.95 | 652061.9 | 1084406.6 |  24975.967 | 1519059.0 | 1125411.44 | 1033123.6 |  33232.484 | ⋯ | 398340.50 | 626875.1 |  32253.770 | 508189.4 | 949726.3 |  62153.016 | 489276.25 | KO-week16-1_20_01_13663 | 274.1713 | 635.2230 |\n",
       "| 271 | M242T649   | 555488.0 | 122010.48 | 416429.1 |  517829.7 |  17828.569 | 1257927.3 | 1034365.10 |  827836.9 |  27134.550 | ⋯ | 143121.19 | 519463.6 |  18866.108 | 432306.8 | 816220.0 |  33566.184 | 508097.16 | KO-week16-1_20_01_13663 | 242.1703 | 649.3385 |\n",
       "| 278 | M274T655_2 | 633438.2 | 233399.29 | 383404.9 |  471940.9 |  39686.117 |  932896.7 |   44251.93 |  674389.6 |  46709.959 | ⋯ | 285026.97 | 535538.9 |  42100.872 | 337625.9 | 484911.2 |  55509.769 | 429639.03 | KO-week16-1_20_01_13663 | 274.1704 | 655.2645 |\n",
       "\n"
      ],
      "text/plain": [
       "    sample     QC_38_01_13658 WT-week8-4_5_01_13659 KO-week8-5_12_01_13660\n",
       "120 M232T388   547998.9       136379.43             304794.0              \n",
       "261 M195T626   198778.2       241585.90             279283.9              \n",
       "267 M275T635   137083.6        55172.04             105705.0              \n",
       "268 M274T635   851381.3       430062.95             652061.9              \n",
       "271 M242T649   555488.0       122010.48             416429.1              \n",
       "278 M274T655_2 633438.2       233399.29             383404.9              \n",
       "    KO-week8-3_10_01_13661 WT-week52-6_31_01_13662 KO-week16-1_20_01_13663\n",
       "120  385822.9               36507.386               637063.8              \n",
       "261  186037.8              227475.204               371407.7              \n",
       "267  171025.5                6923.152               224269.3              \n",
       "268 1084406.6               24975.967              1519059.0              \n",
       "271  517829.7               17828.569              1257927.3              \n",
       "278  471940.9               39686.117               932896.7              \n",
       "    KO-week16-2_21_01_13664 WT-week16-2_15_01_13665 WT-week52-5_30_01_13666 ⋯\n",
       "120  383948.82               404911.0                39568.737              ⋯\n",
       "261  317536.11               284774.3               259823.513              ⋯\n",
       "267  170668.06               149705.4                 8942.849              ⋯\n",
       "268 1125411.44              1033123.6                33232.484              ⋯\n",
       "271 1034365.10               827836.9                27134.550              ⋯\n",
       "278   44251.93               674389.6                46709.959              ⋯\n",
       "    KO-week16-5_24_01_13693 QC_38_01_13694 KO-week52-4_35_01_13695\n",
       "120  86616.62               541827.7        17103.863             \n",
       "261 276861.19               195409.7       244674.796             \n",
       "267  48563.39               100309.4         9261.748             \n",
       "268 398340.50               626875.1        32253.770             \n",
       "271 143121.19               519463.6        18866.108             \n",
       "278 285026.97               535538.9        42100.872             \n",
       "    KO-week8-4_11_01_13696 KO-week16-4_23_01_13697 WT-week52-3_28_01_13698\n",
       "120 212246.6               398101.0                 35154.778             \n",
       "261 229771.2               308135.4                144271.646             \n",
       "267 109448.8               140209.6                  2806.152             \n",
       "268 508189.4               949726.3                 62153.016             \n",
       "271 432306.8               816220.0                 33566.184             \n",
       "278 337625.9               484911.2                 55509.769             \n",
       "    QC_38_01_13699 sample_max              mzmed    rtmed   \n",
       "120 505921.21      KO-week16-1_20_01_13663 232.1245 387.5795\n",
       "261 163112.63      KO-week16-1_20_01_13663 195.1183 625.5230\n",
       "267  65455.93      KO-week16-1_20_01_13663 275.1744 634.7815\n",
       "268 489276.25      KO-week16-1_20_01_13663 274.1713 635.2230\n",
       "271 508097.16      KO-week16-1_20_01_13663 242.1703 649.3385\n",
       "278 429639.03      KO-week16-1_20_01_13663 274.1704 655.2645"
      ]
     },
     "metadata": {},
     "output_type": "display_data"
    }
   ],
   "source": [
    "Features <- read.csv(\"important_features.csv\", header = TRUE, check.names = FALSE, sep = \",\")\n",
    "# sort SigFeatures by Sample_max\n",
    "Features <- Features[order(Features$sample_max),]\n",
    "head(Features)"
   ]
  },
  {
   "cell_type": "code",
   "execution_count": 6,
   "metadata": {
    "vscode": {
     "languageId": "r"
    }
   },
   "outputs": [],
   "source": [
    "# function to normalize the intensity of the spectra\n",
    "low_int <- function(x,...){\n",
    "    x > max(x, na.rm = TRUE) * 0.05\n",
    "}\n",
    "norm_int<-function(x,...){\n",
    "    maxint <- max(x[,\"intensity\"], na.rm=TRUE)\n",
    "    x[,\"intensity\"] <- 100 * x[,\"intensity\"]/maxint\n",
    "    x\n",
    "}"
   ]
  },
  {
   "cell_type": "markdown",
   "metadata": {},
   "source": [
    "## Get spectrum of volcano features"
   ]
  },
  {
   "cell_type": "code",
   "execution_count": 7,
   "metadata": {
    "vscode": {
     "languageId": "r"
    }
   },
   "outputs": [
    {
     "name": "stdout",
     "output_type": "stream",
     "text": [
      "[1] \"M232T388\"\n"
     ]
    },
    {
     "name": "stderr",
     "output_type": "stream",
     "text": [
      "Warning message in fun(libname, pkgname):\n",
      "\"mzR has been built against a different Rcpp version (1.0.10)\n",
      "than is installed on your system (1.0.11). This might lead to errors\n",
      "when loading mzR. If you encounter such issues, please send a report,\n",
      "including the output of sessionInfo() to the Bioc support forum at \n",
      "https://support.bioconductor.org/. For details see also\n",
      "https://github.com/sneumann/mzR/wiki/mzR-Rcpp-compiler-linker-issue.\"\n",
      "Backend of the input object is read-only, will change that to an 'MsBackendMemory'\n",
      "\n"
     ]
    },
    {
     "name": "stdout",
     "output_type": "stream",
     "text": [
      "[1] \"M195T626\"\n"
     ]
    },
    {
     "name": "stderr",
     "output_type": "stream",
     "text": [
      "Backend of the input object is read-only, will change that to an 'MsBackendMemory'\n",
      "\n"
     ]
    },
    {
     "name": "stdout",
     "output_type": "stream",
     "text": [
      "[1] \"M275T635\"\n"
     ]
    },
    {
     "name": "stderr",
     "output_type": "stream",
     "text": [
      "Backend of the input object is read-only, will change that to an 'MsBackendMemory'\n",
      "\n"
     ]
    },
    {
     "name": "stdout",
     "output_type": "stream",
     "text": [
      "[1] \"M274T635\"\n"
     ]
    },
    {
     "name": "stderr",
     "output_type": "stream",
     "text": [
      "Backend of the input object is read-only, will change that to an 'MsBackendMemory'\n",
      "\n",
      "Warning message:\n",
      "\"'combinePeaks' for lists of peak matrices is deprecated; please use 'combinePeaksData' instead.\"\n"
     ]
    },
    {
     "name": "stdout",
     "output_type": "stream",
     "text": [
      "[1] \"M242T649\"\n"
     ]
    },
    {
     "name": "stderr",
     "output_type": "stream",
     "text": [
      "Backend of the input object is read-only, will change that to an 'MsBackendMemory'\n",
      "\n",
      "Warning message:\n",
      "\"'combinePeaks' for lists of peak matrices is deprecated; please use 'combinePeaksData' instead.\"\n"
     ]
    },
    {
     "name": "stdout",
     "output_type": "stream",
     "text": [
      "[1] \"M274T655_2\"\n"
     ]
    },
    {
     "name": "stderr",
     "output_type": "stream",
     "text": [
      "Backend of the input object is read-only, will change that to an 'MsBackendMemory'\n",
      "\n"
     ]
    },
    {
     "name": "stdout",
     "output_type": "stream",
     "text": [
      "[1] \"M265T722\"\n"
     ]
    },
    {
     "name": "stderr",
     "output_type": "stream",
     "text": [
      "Backend of the input object is read-only, will change that to an 'MsBackendMemory'\n",
      "\n"
     ]
    },
    {
     "name": "stdout",
     "output_type": "stream",
     "text": [
      "[1] \"M109T758\"\n"
     ]
    },
    {
     "name": "stderr",
     "output_type": "stream",
     "text": [
      "Backend of the input object is read-only, will change that to an 'MsBackendMemory'\n",
      "\n",
      "Warning message:\n",
      "\"'combinePeaks' for lists of peak matrices is deprecated; please use 'combinePeaksData' instead.\"\n"
     ]
    },
    {
     "name": "stdout",
     "output_type": "stream",
     "text": [
      "[1] \"M209T758\"\n"
     ]
    },
    {
     "name": "stderr",
     "output_type": "stream",
     "text": [
      "Backend of the input object is read-only, will change that to an 'MsBackendMemory'\n",
      "\n"
     ]
    },
    {
     "name": "stdout",
     "output_type": "stream",
     "text": [
      "[1] \"M199T792\"\n"
     ]
    },
    {
     "name": "stderr",
     "output_type": "stream",
     "text": [
      "Backend of the input object is read-only, will change that to an 'MsBackendMemory'\n",
      "\n"
     ]
    },
    {
     "name": "stdout",
     "output_type": "stream",
     "text": [
      "[1] \"M277T804\"\n"
     ]
    },
    {
     "name": "stderr",
     "output_type": "stream",
     "text": [
      "Backend of the input object is read-only, will change that to an 'MsBackendMemory'\n",
      "\n"
     ]
    },
    {
     "name": "stdout",
     "output_type": "stream",
     "text": [
      "[1] \"M289T818\"\n"
     ]
    },
    {
     "name": "stderr",
     "output_type": "stream",
     "text": [
      "Backend of the input object is read-only, will change that to an 'MsBackendMemory'\n",
      "\n"
     ]
    },
    {
     "name": "stdout",
     "output_type": "stream",
     "text": [
      "[1] \"M195T819\"\n"
     ]
    },
    {
     "name": "stderr",
     "output_type": "stream",
     "text": [
      "Backend of the input object is read-only, will change that to an 'MsBackendMemory'\n",
      "\n"
     ]
    },
    {
     "name": "stdout",
     "output_type": "stream",
     "text": [
      "[1] \"M233T838\"\n"
     ]
    },
    {
     "name": "stderr",
     "output_type": "stream",
     "text": [
      "Backend of the input object is read-only, will change that to an 'MsBackendMemory'\n",
      "\n"
     ]
    },
    {
     "name": "stdout",
     "output_type": "stream",
     "text": [
      "[1] \"M241T838\"\n"
     ]
    },
    {
     "name": "stderr",
     "output_type": "stream",
     "text": [
      "Backend of the input object is read-only, will change that to an 'MsBackendMemory'\n",
      "\n"
     ]
    },
    {
     "name": "stdout",
     "output_type": "stream",
     "text": [
      "[1] \"M261T845\"\n"
     ]
    },
    {
     "name": "stderr",
     "output_type": "stream",
     "text": [
      "Backend of the input object is read-only, will change that to an 'MsBackendMemory'\n",
      "\n"
     ]
    },
    {
     "name": "stdout",
     "output_type": "stream",
     "text": [
      "[1] \"M365T849\"\n"
     ]
    },
    {
     "name": "stderr",
     "output_type": "stream",
     "text": [
      "Backend of the input object is read-only, will change that to an 'MsBackendMemory'\n",
      "\n"
     ]
    },
    {
     "name": "stdout",
     "output_type": "stream",
     "text": [
      "[1] \"M255T859\"\n"
     ]
    },
    {
     "name": "stderr",
     "output_type": "stream",
     "text": [
      "Backend of the input object is read-only, will change that to an 'MsBackendMemory'\n",
      "\n",
      "Warning message:\n",
      "\"'combinePeaks' for lists of peak matrices is deprecated; please use 'combinePeaksData' instead.\"\n"
     ]
    },
    {
     "name": "stdout",
     "output_type": "stream",
     "text": [
      "[1] \"M307T860\"\n"
     ]
    },
    {
     "name": "stderr",
     "output_type": "stream",
     "text": [
      "Backend of the input object is read-only, will change that to an 'MsBackendMemory'\n",
      "\n"
     ]
    },
    {
     "name": "stdout",
     "output_type": "stream",
     "text": [
      "[1] \"M253T863\"\n"
     ]
    },
    {
     "name": "stderr",
     "output_type": "stream",
     "text": [
      "Backend of the input object is read-only, will change that to an 'MsBackendMemory'\n",
      "\n",
      "Warning message:\n",
      "\"'combinePeaks' for lists of peak matrices is deprecated; please use 'combinePeaksData' instead.\"\n"
     ]
    },
    {
     "name": "stdout",
     "output_type": "stream",
     "text": [
      "[1] \"M191T864\"\n"
     ]
    },
    {
     "name": "stderr",
     "output_type": "stream",
     "text": [
      "Backend of the input object is read-only, will change that to an 'MsBackendMemory'\n",
      "\n"
     ]
    },
    {
     "name": "stdout",
     "output_type": "stream",
     "text": [
      "[1] \"M267T866\"\n"
     ]
    },
    {
     "name": "stderr",
     "output_type": "stream",
     "text": [
      "Backend of the input object is read-only, will change that to an 'MsBackendMemory'\n",
      "\n"
     ]
    },
    {
     "name": "stdout",
     "output_type": "stream",
     "text": [
      "[1] \"M209T871\"\n"
     ]
    },
    {
     "name": "stderr",
     "output_type": "stream",
     "text": [
      "Backend of the input object is read-only, will change that to an 'MsBackendMemory'\n",
      "\n"
     ]
    },
    {
     "name": "stdout",
     "output_type": "stream",
     "text": [
      "[1] \"M312T872\"\n"
     ]
    },
    {
     "name": "stderr",
     "output_type": "stream",
     "text": [
      "Backend of the input object is read-only, will change that to an 'MsBackendMemory'\n",
      "\n"
     ]
    },
    {
     "name": "stdout",
     "output_type": "stream",
     "text": [
      "[1] \"M130T873\"\n"
     ]
    },
    {
     "name": "stderr",
     "output_type": "stream",
     "text": [
      "Backend of the input object is read-only, will change that to an 'MsBackendMemory'\n",
      "\n"
     ]
    },
    {
     "name": "stdout",
     "output_type": "stream",
     "text": [
      "[1] \"M330T873\"\n"
     ]
    },
    {
     "name": "stderr",
     "output_type": "stream",
     "text": [
      "Backend of the input object is read-only, will change that to an 'MsBackendMemory'\n",
      "\n"
     ]
    },
    {
     "name": "stdout",
     "output_type": "stream",
     "text": [
      "[1] \"M352T873\"\n"
     ]
    },
    {
     "name": "stderr",
     "output_type": "stream",
     "text": [
      "Backend of the input object is read-only, will change that to an 'MsBackendMemory'\n",
      "\n"
     ]
    },
    {
     "name": "stdout",
     "output_type": "stream",
     "text": [
      "[1] \"M277T875_2\"\n"
     ]
    },
    {
     "name": "stderr",
     "output_type": "stream",
     "text": [
      "Backend of the input object is read-only, will change that to an 'MsBackendMemory'\n",
      "\n"
     ]
    },
    {
     "name": "stdout",
     "output_type": "stream",
     "text": [
      "[1] \"M212T880\"\n"
     ]
    },
    {
     "name": "stderr",
     "output_type": "stream",
     "text": [
      "Backend of the input object is read-only, will change that to an 'MsBackendMemory'\n",
      "\n"
     ]
    },
    {
     "name": "stdout",
     "output_type": "stream",
     "text": [
      "[1] \"M348T884\"\n"
     ]
    },
    {
     "name": "stderr",
     "output_type": "stream",
     "text": [
      "Backend of the input object is read-only, will change that to an 'MsBackendMemory'\n",
      "\n",
      "Warning message:\n",
      "\"'combinePeaks' for lists of peak matrices is deprecated; please use 'combinePeaksData' instead.\"\n"
     ]
    },
    {
     "name": "stdout",
     "output_type": "stream",
     "text": [
      "[1] \"M349T884\"\n"
     ]
    },
    {
     "name": "stderr",
     "output_type": "stream",
     "text": [
      "Backend of the input object is read-only, will change that to an 'MsBackendMemory'\n",
      "\n"
     ]
    },
    {
     "name": "stdout",
     "output_type": "stream",
     "text": [
      "[1] \"M349T885\"\n"
     ]
    },
    {
     "name": "stderr",
     "output_type": "stream",
     "text": [
      "Backend of the input object is read-only, will change that to an 'MsBackendMemory'\n",
      "\n"
     ]
    },
    {
     "name": "stdout",
     "output_type": "stream",
     "text": [
      "[1] \"M438T887\"\n"
     ]
    },
    {
     "name": "stderr",
     "output_type": "stream",
     "text": [
      "Backend of the input object is read-only, will change that to an 'MsBackendMemory'\n",
      "\n"
     ]
    },
    {
     "name": "stdout",
     "output_type": "stream",
     "text": [
      "[1] \"M325T887\"\n"
     ]
    },
    {
     "name": "stderr",
     "output_type": "stream",
     "text": [
      "Backend of the input object is read-only, will change that to an 'MsBackendMemory'\n",
      "\n"
     ]
    },
    {
     "name": "stdout",
     "output_type": "stream",
     "text": [
      "[1] \"M299T906\"\n"
     ]
    },
    {
     "name": "stderr",
     "output_type": "stream",
     "text": [
      "Backend of the input object is read-only, will change that to an 'MsBackendMemory'\n",
      "\n"
     ]
    },
    {
     "name": "stdout",
     "output_type": "stream",
     "text": [
      "[1] \"M333T911\"\n"
     ]
    },
    {
     "name": "stderr",
     "output_type": "stream",
     "text": [
      "Backend of the input object is read-only, will change that to an 'MsBackendMemory'\n",
      "\n"
     ]
    },
    {
     "name": "stdout",
     "output_type": "stream",
     "text": [
      "[1] \"M123T913\"\n"
     ]
    },
    {
     "name": "stderr",
     "output_type": "stream",
     "text": [
      "Backend of the input object is read-only, will change that to an 'MsBackendMemory'\n",
      "\n"
     ]
    },
    {
     "name": "stdout",
     "output_type": "stream",
     "text": [
      "[1] \"M304T918\"\n"
     ]
    },
    {
     "name": "stderr",
     "output_type": "stream",
     "text": [
      "Backend of the input object is read-only, will change that to an 'MsBackendMemory'\n",
      "\n"
     ]
    },
    {
     "name": "stdout",
     "output_type": "stream",
     "text": [
      "[1] \"M307T921\"\n"
     ]
    },
    {
     "name": "stderr",
     "output_type": "stream",
     "text": [
      "Backend of the input object is read-only, will change that to an 'MsBackendMemory'\n",
      "\n"
     ]
    },
    {
     "name": "stdout",
     "output_type": "stream",
     "text": [
      "[1] \"M302T923\"\n"
     ]
    },
    {
     "name": "stderr",
     "output_type": "stream",
     "text": [
      "Backend of the input object is read-only, will change that to an 'MsBackendMemory'\n",
      "\n"
     ]
    },
    {
     "name": "stdout",
     "output_type": "stream",
     "text": [
      "[1] \"M351T930\"\n"
     ]
    },
    {
     "name": "stderr",
     "output_type": "stream",
     "text": [
      "Backend of the input object is read-only, will change that to an 'MsBackendMemory'\n",
      "\n",
      "Warning message:\n",
      "\"'combinePeaks' for lists of peak matrices is deprecated; please use 'combinePeaksData' instead.\"\n"
     ]
    },
    {
     "name": "stdout",
     "output_type": "stream",
     "text": [
      "[1] \"M331T932\"\n"
     ]
    },
    {
     "name": "stderr",
     "output_type": "stream",
     "text": [
      "Backend of the input object is read-only, will change that to an 'MsBackendMemory'\n",
      "\n"
     ]
    },
    {
     "name": "stdout",
     "output_type": "stream",
     "text": [
      "[1] \"M171T934\"\n"
     ]
    },
    {
     "name": "stderr",
     "output_type": "stream",
     "text": [
      "Backend of the input object is read-only, will change that to an 'MsBackendMemory'\n",
      "\n"
     ]
    },
    {
     "name": "stdout",
     "output_type": "stream",
     "text": [
      "[1] \"M294T949\"\n"
     ]
    },
    {
     "name": "stderr",
     "output_type": "stream",
     "text": [
      "Backend of the input object is read-only, will change that to an 'MsBackendMemory'\n",
      "\n"
     ]
    },
    {
     "name": "stdout",
     "output_type": "stream",
     "text": [
      "[1] \"M305T950\"\n"
     ]
    },
    {
     "name": "stderr",
     "output_type": "stream",
     "text": [
      "Backend of the input object is read-only, will change that to an 'MsBackendMemory'\n",
      "\n"
     ]
    },
    {
     "name": "stdout",
     "output_type": "stream",
     "text": [
      "[1] \"M313T950\"\n"
     ]
    },
    {
     "name": "stderr",
     "output_type": "stream",
     "text": [
      "Backend of the input object is read-only, will change that to an 'MsBackendMemory'\n",
      "\n"
     ]
    },
    {
     "name": "stdout",
     "output_type": "stream",
     "text": [
      "[1] \"M287T950\"\n"
     ]
    },
    {
     "name": "stderr",
     "output_type": "stream",
     "text": [
      "Backend of the input object is read-only, will change that to an 'MsBackendMemory'\n",
      "\n"
     ]
    },
    {
     "name": "stdout",
     "output_type": "stream",
     "text": [
      "[1] \"M291T952\"\n"
     ]
    },
    {
     "name": "stderr",
     "output_type": "stream",
     "text": [
      "Backend of the input object is read-only, will change that to an 'MsBackendMemory'\n",
      "\n"
     ]
    },
    {
     "name": "stdout",
     "output_type": "stream",
     "text": [
      "[1] \"M237T952\"\n"
     ]
    },
    {
     "name": "stderr",
     "output_type": "stream",
     "text": [
      "Backend of the input object is read-only, will change that to an 'MsBackendMemory'\n",
      "\n"
     ]
    },
    {
     "name": "stdout",
     "output_type": "stream",
     "text": [
      "[1] \"M288T955\"\n"
     ]
    },
    {
     "name": "stderr",
     "output_type": "stream",
     "text": [
      "Backend of the input object is read-only, will change that to an 'MsBackendMemory'\n",
      "\n"
     ]
    },
    {
     "name": "stdout",
     "output_type": "stream",
     "text": [
      "[1] \"M351T958_2\"\n"
     ]
    },
    {
     "name": "stderr",
     "output_type": "stream",
     "text": [
      "Backend of the input object is read-only, will change that to an 'MsBackendMemory'\n",
      "\n"
     ]
    },
    {
     "name": "stdout",
     "output_type": "stream",
     "text": [
      "[1] \"M295T963\"\n"
     ]
    },
    {
     "name": "stderr",
     "output_type": "stream",
     "text": [
      "Backend of the input object is read-only, will change that to an 'MsBackendMemory'\n",
      "\n"
     ]
    },
    {
     "name": "stdout",
     "output_type": "stream",
     "text": [
      "[1] \"M296T964\"\n"
     ]
    },
    {
     "name": "stderr",
     "output_type": "stream",
     "text": [
      "Backend of the input object is read-only, will change that to an 'MsBackendMemory'\n",
      "\n"
     ]
    },
    {
     "name": "stdout",
     "output_type": "stream",
     "text": [
      "[1] \"M337T965\"\n"
     ]
    },
    {
     "name": "stderr",
     "output_type": "stream",
     "text": [
      "Backend of the input object is read-only, will change that to an 'MsBackendMemory'\n",
      "\n"
     ]
    },
    {
     "name": "stdout",
     "output_type": "stream",
     "text": [
      "[1] \"M430T966\"\n"
     ]
    },
    {
     "name": "stderr",
     "output_type": "stream",
     "text": [
      "Backend of the input object is read-only, will change that to an 'MsBackendMemory'\n",
      "\n"
     ]
    },
    {
     "name": "stdout",
     "output_type": "stream",
     "text": [
      "[1] \"M109T966\"\n"
     ]
    },
    {
     "name": "stderr",
     "output_type": "stream",
     "text": [
      "Backend of the input object is read-only, will change that to an 'MsBackendMemory'\n",
      "\n"
     ]
    },
    {
     "name": "stdout",
     "output_type": "stream",
     "text": [
      "[1] \"M312T967\"\n"
     ]
    },
    {
     "name": "stderr",
     "output_type": "stream",
     "text": [
      "Backend of the input object is read-only, will change that to an 'MsBackendMemory'\n",
      "\n"
     ]
    },
    {
     "name": "stdout",
     "output_type": "stream",
     "text": [
      "[1] \"M312T977\"\n"
     ]
    },
    {
     "name": "stderr",
     "output_type": "stream",
     "text": [
      "Backend of the input object is read-only, will change that to an 'MsBackendMemory'\n",
      "\n"
     ]
    },
    {
     "name": "stdout",
     "output_type": "stream",
     "text": [
      "[1] \"M370T981_1\"\n"
     ]
    },
    {
     "name": "stderr",
     "output_type": "stream",
     "text": [
      "Backend of the input object is read-only, will change that to an 'MsBackendMemory'\n",
      "\n"
     ]
    },
    {
     "name": "stdout",
     "output_type": "stream",
     "text": [
      "[1] \"M370T981_2\"\n"
     ]
    },
    {
     "name": "stderr",
     "output_type": "stream",
     "text": [
      "Backend of the input object is read-only, will change that to an 'MsBackendMemory'\n",
      "\n"
     ]
    },
    {
     "name": "stdout",
     "output_type": "stream",
     "text": [
      "[1] \"M311T981\"\n"
     ]
    },
    {
     "name": "stderr",
     "output_type": "stream",
     "text": [
      "Backend of the input object is read-only, will change that to an 'MsBackendMemory'\n",
      "\n",
      "Warning message:\n",
      "\"'combinePeaks' for lists of peak matrices is deprecated; please use 'combinePeaksData' instead.\"\n"
     ]
    },
    {
     "name": "stdout",
     "output_type": "stream",
     "text": [
      "[1] \"M328T981\"\n"
     ]
    },
    {
     "name": "stderr",
     "output_type": "stream",
     "text": [
      "Backend of the input object is read-only, will change that to an 'MsBackendMemory'\n",
      "\n"
     ]
    },
    {
     "name": "stdout",
     "output_type": "stream",
     "text": [
      "[1] \"M333T982\"\n"
     ]
    },
    {
     "name": "stderr",
     "output_type": "stream",
     "text": [
      "Backend of the input object is read-only, will change that to an 'MsBackendMemory'\n",
      "\n",
      "Warning message:\n",
      "\"'combinePeaks' for lists of peak matrices is deprecated; please use 'combinePeaksData' instead.\"\n"
     ]
    },
    {
     "name": "stdout",
     "output_type": "stream",
     "text": [
      "[1] \"M312T982\"\n"
     ]
    },
    {
     "name": "stderr",
     "output_type": "stream",
     "text": [
      "Backend of the input object is read-only, will change that to an 'MsBackendMemory'\n",
      "\n"
     ]
    },
    {
     "name": "stdout",
     "output_type": "stream",
     "text": [
      "[1] \"M581T989_1\"\n"
     ]
    },
    {
     "name": "stderr",
     "output_type": "stream",
     "text": [
      "Backend of the input object is read-only, will change that to an 'MsBackendMemory'\n",
      "\n"
     ]
    },
    {
     "name": "stdout",
     "output_type": "stream",
     "text": [
      "[1] \"M179T989\"\n"
     ]
    },
    {
     "name": "stderr",
     "output_type": "stream",
     "text": [
      "Backend of the input object is read-only, will change that to an 'MsBackendMemory'\n",
      "\n"
     ]
    },
    {
     "name": "stdout",
     "output_type": "stream",
     "text": [
      "[1] \"M594T1041\"\n"
     ]
    },
    {
     "name": "stderr",
     "output_type": "stream",
     "text": [
      "Backend of the input object is read-only, will change that to an 'MsBackendMemory'\n",
      "\n",
      "Warning message:\n",
      "\"'combinePeaks' for lists of peak matrices is deprecated; please use 'combinePeaksData' instead.\"\n"
     ]
    },
    {
     "name": "stdout",
     "output_type": "stream",
     "text": [
      "[1] \"M689T1066\"\n"
     ]
    },
    {
     "name": "stderr",
     "output_type": "stream",
     "text": [
      "Backend of the input object is read-only, will change that to an 'MsBackendMemory'\n",
      "\n"
     ]
    },
    {
     "name": "stdout",
     "output_type": "stream",
     "text": [
      "[1] \"M688T1067\"\n"
     ]
    },
    {
     "name": "stderr",
     "output_type": "stream",
     "text": [
      "Backend of the input object is read-only, will change that to an 'MsBackendMemory'\n",
      "\n"
     ]
    },
    {
     "name": "stdout",
     "output_type": "stream",
     "text": [
      "[1] \"M700T1073\"\n"
     ]
    },
    {
     "name": "stderr",
     "output_type": "stream",
     "text": [
      "Backend of the input object is read-only, will change that to an 'MsBackendMemory'\n",
      "\n"
     ]
    },
    {
     "name": "stdout",
     "output_type": "stream",
     "text": [
      "[1] \"M660T1074\"\n"
     ]
    },
    {
     "name": "stderr",
     "output_type": "stream",
     "text": [
      "Backend of the input object is read-only, will change that to an 'MsBackendMemory'\n",
      "\n"
     ]
    },
    {
     "name": "stdout",
     "output_type": "stream",
     "text": [
      "[1] \"M694T1077\"\n"
     ]
    },
    {
     "name": "stderr",
     "output_type": "stream",
     "text": [
      "Backend of the input object is read-only, will change that to an 'MsBackendMemory'\n",
      "\n"
     ]
    },
    {
     "name": "stdout",
     "output_type": "stream",
     "text": [
      "[1] \"M829T1082\"\n"
     ]
    },
    {
     "name": "stderr",
     "output_type": "stream",
     "text": [
      "Backend of the input object is read-only, will change that to an 'MsBackendMemory'\n",
      "\n"
     ]
    },
    {
     "name": "stdout",
     "output_type": "stream",
     "text": [
      "[1] \"M238T362\"\n"
     ]
    },
    {
     "name": "stderr",
     "output_type": "stream",
     "text": [
      "Backend of the input object is read-only, will change that to an 'MsBackendMemory'\n",
      "\n"
     ]
    },
    {
     "name": "stdout",
     "output_type": "stream",
     "text": [
      "[1] \"M148T598\"\n"
     ]
    },
    {
     "name": "stderr",
     "output_type": "stream",
     "text": [
      "Backend of the input object is read-only, will change that to an 'MsBackendMemory'\n",
      "\n",
      "Warning message:\n",
      "\"'combinePeaks' for lists of peak matrices is deprecated; please use 'combinePeaksData' instead.\"\n"
     ]
    },
    {
     "name": "stdout",
     "output_type": "stream",
     "text": [
      "[1] \"M213T690\"\n"
     ]
    },
    {
     "name": "stderr",
     "output_type": "stream",
     "text": [
      "Backend of the input object is read-only, will change that to an 'MsBackendMemory'\n",
      "\n"
     ]
    },
    {
     "name": "stdout",
     "output_type": "stream",
     "text": [
      "[1] \"M240T759\"\n"
     ]
    },
    {
     "name": "stderr",
     "output_type": "stream",
     "text": [
      "Backend of the input object is read-only, will change that to an 'MsBackendMemory'\n",
      "\n"
     ]
    },
    {
     "name": "stdout",
     "output_type": "stream",
     "text": [
      "[1] \"M566T836\"\n"
     ]
    },
    {
     "name": "stderr",
     "output_type": "stream",
     "text": [
      "Backend of the input object is read-only, will change that to an 'MsBackendMemory'\n",
      "\n",
      "Warning message:\n",
      "\"'combinePeaks' for lists of peak matrices is deprecated; please use 'combinePeaksData' instead.\"\n"
     ]
    },
    {
     "name": "stdout",
     "output_type": "stream",
     "text": [
      "[1] \"M223T859\"\n"
     ]
    },
    {
     "name": "stderr",
     "output_type": "stream",
     "text": [
      "Backend of the input object is read-only, will change that to an 'MsBackendMemory'\n",
      "\n"
     ]
    },
    {
     "name": "stdout",
     "output_type": "stream",
     "text": [
      "[1] \"M294T862\"\n"
     ]
    },
    {
     "name": "stderr",
     "output_type": "stream",
     "text": [
      "Backend of the input object is read-only, will change that to an 'MsBackendMemory'\n",
      "\n"
     ]
    },
    {
     "name": "stdout",
     "output_type": "stream",
     "text": [
      "[1] \"M679T878\"\n"
     ]
    },
    {
     "name": "stderr",
     "output_type": "stream",
     "text": [
      "Backend of the input object is read-only, will change that to an 'MsBackendMemory'\n",
      "\n"
     ]
    },
    {
     "name": "stdout",
     "output_type": "stream",
     "text": [
      "[1] \"M303T887\"\n"
     ]
    },
    {
     "name": "stderr",
     "output_type": "stream",
     "text": [
      "Backend of the input object is read-only, will change that to an 'MsBackendMemory'\n",
      "\n"
     ]
    },
    {
     "name": "stdout",
     "output_type": "stream",
     "text": [
      "[1] \"M302T905\"\n"
     ]
    },
    {
     "name": "stderr",
     "output_type": "stream",
     "text": [
      "Backend of the input object is read-only, will change that to an 'MsBackendMemory'\n",
      "\n"
     ]
    },
    {
     "name": "stdout",
     "output_type": "stream",
     "text": [
      "[1] \"M314T926\"\n"
     ]
    },
    {
     "name": "stderr",
     "output_type": "stream",
     "text": [
      "Backend of the input object is read-only, will change that to an 'MsBackendMemory'\n",
      "\n"
     ]
    },
    {
     "name": "stdout",
     "output_type": "stream",
     "text": [
      "[1] \"M309T935\"\n"
     ]
    },
    {
     "name": "stderr",
     "output_type": "stream",
     "text": [
      "Backend of the input object is read-only, will change that to an 'MsBackendMemory'\n",
      "\n"
     ]
    },
    {
     "name": "stdout",
     "output_type": "stream",
     "text": [
      "[1] \"M648T961\"\n"
     ]
    },
    {
     "name": "stderr",
     "output_type": "stream",
     "text": [
      "Backend of the input object is read-only, will change that to an 'MsBackendMemory'\n",
      "\n"
     ]
    },
    {
     "name": "stdout",
     "output_type": "stream",
     "text": [
      "[1] \"M311T964\"\n"
     ]
    },
    {
     "name": "stderr",
     "output_type": "stream",
     "text": [
      "Backend of the input object is read-only, will change that to an 'MsBackendMemory'\n",
      "\n",
      "Warning message:\n",
      "\"'combinePeaks' for lists of peak matrices is deprecated; please use 'combinePeaksData' instead.\"\n"
     ]
    },
    {
     "name": "stdout",
     "output_type": "stream",
     "text": [
      "[1] \"M155T965\"\n"
     ]
    },
    {
     "name": "stderr",
     "output_type": "stream",
     "text": [
      "Backend of the input object is read-only, will change that to an 'MsBackendMemory'\n",
      "\n"
     ]
    },
    {
     "name": "stdout",
     "output_type": "stream",
     "text": [
      "[1] \"M288T974\"\n"
     ]
    },
    {
     "name": "stderr",
     "output_type": "stream",
     "text": [
      "Backend of the input object is read-only, will change that to an 'MsBackendMemory'\n",
      "\n"
     ]
    },
    {
     "name": "stdout",
     "output_type": "stream",
     "text": [
      "[1] \"M269T980\"\n"
     ]
    },
    {
     "name": "stderr",
     "output_type": "stream",
     "text": [
      "Backend of the input object is read-only, will change that to an 'MsBackendMemory'\n",
      "\n"
     ]
    },
    {
     "name": "stdout",
     "output_type": "stream",
     "text": [
      "[1] \"M291T981\"\n"
     ]
    },
    {
     "name": "stderr",
     "output_type": "stream",
     "text": [
      "Backend of the input object is read-only, will change that to an 'MsBackendMemory'\n",
      "\n"
     ]
    },
    {
     "name": "stdout",
     "output_type": "stream",
     "text": [
      "[1] \"M367T982\"\n"
     ]
    },
    {
     "name": "stderr",
     "output_type": "stream",
     "text": [
      "Backend of the input object is read-only, will change that to an 'MsBackendMemory'\n",
      "\n"
     ]
    },
    {
     "name": "stdout",
     "output_type": "stream",
     "text": [
      "[1] \"M403T983\"\n"
     ]
    },
    {
     "name": "stderr",
     "output_type": "stream",
     "text": [
      "Backend of the input object is read-only, will change that to an 'MsBackendMemory'\n",
      "\n"
     ]
    },
    {
     "name": "stdout",
     "output_type": "stream",
     "text": [
      "[1] \"M595T1041\"\n"
     ]
    },
    {
     "name": "stderr",
     "output_type": "stream",
     "text": [
      "Backend of the input object is read-only, will change that to an 'MsBackendMemory'\n",
      "\n"
     ]
    },
    {
     "name": "stdout",
     "output_type": "stream",
     "text": [
      "[1] \"M652T1048\"\n"
     ]
    },
    {
     "name": "stderr",
     "output_type": "stream",
     "text": [
      "Backend of the input object is read-only, will change that to an 'MsBackendMemory'\n",
      "\n"
     ]
    },
    {
     "name": "stdout",
     "output_type": "stream",
     "text": [
      "[1] \"M653T1048\"\n"
     ]
    },
    {
     "name": "stderr",
     "output_type": "stream",
     "text": [
      "Backend of the input object is read-only, will change that to an 'MsBackendMemory'\n",
      "\n"
     ]
    },
    {
     "name": "stdout",
     "output_type": "stream",
     "text": [
      "[1] \"M622T1049\"\n"
     ]
    },
    {
     "name": "stderr",
     "output_type": "stream",
     "text": [
      "Backend of the input object is read-only, will change that to an 'MsBackendMemory'\n",
      "\n"
     ]
    },
    {
     "name": "stdout",
     "output_type": "stream",
     "text": [
      "[1] \"M623T1049\"\n"
     ]
    },
    {
     "name": "stderr",
     "output_type": "stream",
     "text": [
      "Backend of the input object is read-only, will change that to an 'MsBackendMemory'\n",
      "\n"
     ]
    },
    {
     "name": "stdout",
     "output_type": "stream",
     "text": [
      "[1] \"M638T1051\"\n"
     ]
    },
    {
     "name": "stderr",
     "output_type": "stream",
     "text": [
      "Backend of the input object is read-only, will change that to an 'MsBackendMemory'\n",
      "\n"
     ]
    },
    {
     "name": "stdout",
     "output_type": "stream",
     "text": [
      "[1] \"M637T1052\"\n"
     ]
    },
    {
     "name": "stderr",
     "output_type": "stream",
     "text": [
      "Backend of the input object is read-only, will change that to an 'MsBackendMemory'\n",
      "\n"
     ]
    },
    {
     "name": "stdout",
     "output_type": "stream",
     "text": [
      "[1] \"M636T1052\"\n"
     ]
    },
    {
     "name": "stderr",
     "output_type": "stream",
     "text": [
      "Backend of the input object is read-only, will change that to an 'MsBackendMemory'\n",
      "\n"
     ]
    },
    {
     "name": "stdout",
     "output_type": "stream",
     "text": [
      "[1] \"M666T1052\"\n"
     ]
    },
    {
     "name": "stderr",
     "output_type": "stream",
     "text": [
      "Backend of the input object is read-only, will change that to an 'MsBackendMemory'\n",
      "\n"
     ]
    },
    {
     "name": "stdout",
     "output_type": "stream",
     "text": [
      "[1] \"M667T1052\"\n"
     ]
    },
    {
     "name": "stderr",
     "output_type": "stream",
     "text": [
      "Backend of the input object is read-only, will change that to an 'MsBackendMemory'\n",
      "\n"
     ]
    },
    {
     "name": "stdout",
     "output_type": "stream",
     "text": [
      "[1] \"M695T1076\"\n"
     ]
    },
    {
     "name": "stderr",
     "output_type": "stream",
     "text": [
      "Backend of the input object is read-only, will change that to an 'MsBackendMemory'\n",
      "\n"
     ]
    },
    {
     "name": "stdout",
     "output_type": "stream",
     "text": [
      "[1] \"M174T364\"\n"
     ]
    },
    {
     "name": "stderr",
     "output_type": "stream",
     "text": [
      "Backend of the input object is read-only, will change that to an 'MsBackendMemory'\n",
      "\n"
     ]
    },
    {
     "name": "stdout",
     "output_type": "stream",
     "text": [
      "[1] \"M372T381\"\n"
     ]
    },
    {
     "name": "stderr",
     "output_type": "stream",
     "text": [
      "Backend of the input object is read-only, will change that to an 'MsBackendMemory'\n",
      "\n"
     ]
    },
    {
     "name": "stdout",
     "output_type": "stream",
     "text": [
      "[1] \"M169T417\"\n"
     ]
    },
    {
     "name": "stderr",
     "output_type": "stream",
     "text": [
      "Backend of the input object is read-only, will change that to an 'MsBackendMemory'\n",
      "\n"
     ]
    },
    {
     "name": "stdout",
     "output_type": "stream",
     "text": [
      "[1] \"M310T441\"\n"
     ]
    },
    {
     "name": "stderr",
     "output_type": "stream",
     "text": [
      "Backend of the input object is read-only, will change that to an 'MsBackendMemory'\n",
      "\n"
     ]
    },
    {
     "name": "stdout",
     "output_type": "stream",
     "text": [
      "[1] \"M266T464\"\n"
     ]
    },
    {
     "name": "stderr",
     "output_type": "stream",
     "text": [
      "Backend of the input object is read-only, will change that to an 'MsBackendMemory'\n",
      "\n"
     ]
    },
    {
     "name": "stdout",
     "output_type": "stream",
     "text": [
      "[1] \"M333T477\"\n"
     ]
    },
    {
     "name": "stderr",
     "output_type": "stream",
     "text": [
      "Backend of the input object is read-only, will change that to an 'MsBackendMemory'\n",
      "\n",
      "Warning message:\n",
      "\"'combinePeaks' for lists of peak matrices is deprecated; please use 'combinePeaksData' instead.\"\n"
     ]
    },
    {
     "name": "stdout",
     "output_type": "stream",
     "text": [
      "[1] \"M303T489\"\n"
     ]
    },
    {
     "name": "stderr",
     "output_type": "stream",
     "text": [
      "Backend of the input object is read-only, will change that to an 'MsBackendMemory'\n",
      "\n"
     ]
    },
    {
     "name": "stdout",
     "output_type": "stream",
     "text": [
      "[1] \"M310T491\"\n"
     ]
    },
    {
     "name": "stderr",
     "output_type": "stream",
     "text": [
      "Backend of the input object is read-only, will change that to an 'MsBackendMemory'\n",
      "\n"
     ]
    },
    {
     "name": "stdout",
     "output_type": "stream",
     "text": [
      "[1] \"M153T506\"\n"
     ]
    },
    {
     "name": "stderr",
     "output_type": "stream",
     "text": [
      "Backend of the input object is read-only, will change that to an 'MsBackendMemory'\n",
      "\n"
     ]
    },
    {
     "name": "stdout",
     "output_type": "stream",
     "text": [
      "[1] \"M216T514\"\n"
     ]
    },
    {
     "name": "stderr",
     "output_type": "stream",
     "text": [
      "Backend of the input object is read-only, will change that to an 'MsBackendMemory'\n",
      "\n"
     ]
    },
    {
     "name": "stdout",
     "output_type": "stream",
     "text": [
      "[1] \"M216T535\"\n"
     ]
    },
    {
     "name": "stderr",
     "output_type": "stream",
     "text": [
      "Backend of the input object is read-only, will change that to an 'MsBackendMemory'\n",
      "\n",
      "Warning message:\n",
      "\"'combinePeaks' for lists of peak matrices is deprecated; please use 'combinePeaksData' instead.\"\n"
     ]
    },
    {
     "name": "stdout",
     "output_type": "stream",
     "text": [
      "[1] \"M146T542\"\n"
     ]
    },
    {
     "name": "stderr",
     "output_type": "stream",
     "text": [
      "Backend of the input object is read-only, will change that to an 'MsBackendMemory'\n",
      "\n"
     ]
    },
    {
     "name": "stdout",
     "output_type": "stream",
     "text": [
      "[1] \"M273T548\"\n"
     ]
    },
    {
     "name": "stderr",
     "output_type": "stream",
     "text": [
      "Backend of the input object is read-only, will change that to an 'MsBackendMemory'\n",
      "\n"
     ]
    },
    {
     "name": "stdout",
     "output_type": "stream",
     "text": [
      "[1] \"M313T551\"\n"
     ]
    },
    {
     "name": "stderr",
     "output_type": "stream",
     "text": [
      "Backend of the input object is read-only, will change that to an 'MsBackendMemory'\n",
      "\n"
     ]
    },
    {
     "name": "stdout",
     "output_type": "stream",
     "text": [
      "[1] \"M301T559\"\n"
     ]
    },
    {
     "name": "stderr",
     "output_type": "stream",
     "text": [
      "Backend of the input object is read-only, will change that to an 'MsBackendMemory'\n",
      "\n"
     ]
    },
    {
     "name": "stdout",
     "output_type": "stream",
     "text": [
      "[1] \"M414T582\"\n"
     ]
    },
    {
     "name": "stderr",
     "output_type": "stream",
     "text": [
      "Backend of the input object is read-only, will change that to an 'MsBackendMemory'\n",
      "\n"
     ]
    },
    {
     "name": "stdout",
     "output_type": "stream",
     "text": [
      "[1] \"M398T584\"\n"
     ]
    },
    {
     "name": "stderr",
     "output_type": "stream",
     "text": [
      "Backend of the input object is read-only, will change that to an 'MsBackendMemory'\n",
      "\n",
      "Warning message:\n",
      "\"'combinePeaks' for lists of peak matrices is deprecated; please use 'combinePeaksData' instead.\"\n"
     ]
    },
    {
     "name": "stdout",
     "output_type": "stream",
     "text": [
      "[1] \"M250T591\"\n"
     ]
    },
    {
     "name": "stderr",
     "output_type": "stream",
     "text": [
      "Backend of the input object is read-only, will change that to an 'MsBackendMemory'\n",
      "\n",
      "Warning message:\n",
      "\"'combinePeaks' for lists of peak matrices is deprecated; please use 'combinePeaksData' instead.\"\n"
     ]
    },
    {
     "name": "stdout",
     "output_type": "stream",
     "text": [
      "[1] \"M202T633\"\n"
     ]
    },
    {
     "name": "stderr",
     "output_type": "stream",
     "text": [
      "Backend of the input object is read-only, will change that to an 'MsBackendMemory'\n",
      "\n",
      "Warning message:\n",
      "\"'combinePeaks' for lists of peak matrices is deprecated; please use 'combinePeaksData' instead.\"\n"
     ]
    },
    {
     "name": "stdout",
     "output_type": "stream",
     "text": [
      "[1] \"M232T634\"\n"
     ]
    },
    {
     "name": "stderr",
     "output_type": "stream",
     "text": [
      "Backend of the input object is read-only, will change that to an 'MsBackendMemory'\n",
      "\n"
     ]
    },
    {
     "name": "stdout",
     "output_type": "stream",
     "text": [
      "[1] \"M273T634\"\n"
     ]
    },
    {
     "name": "stderr",
     "output_type": "stream",
     "text": [
      "Backend of the input object is read-only, will change that to an 'MsBackendMemory'\n",
      "\n",
      "Warning message:\n",
      "\"'combinePeaks' for lists of peak matrices is deprecated; please use 'combinePeaksData' instead.\"\n"
     ]
    },
    {
     "name": "stdout",
     "output_type": "stream",
     "text": [
      "[1] \"M429T651\"\n"
     ]
    },
    {
     "name": "stderr",
     "output_type": "stream",
     "text": [
      "Backend of the input object is read-only, will change that to an 'MsBackendMemory'\n",
      "\n"
     ]
    },
    {
     "name": "stdout",
     "output_type": "stream",
     "text": [
      "[1] \"M246T651\"\n"
     ]
    },
    {
     "name": "stderr",
     "output_type": "stream",
     "text": [
      "Backend of the input object is read-only, will change that to an 'MsBackendMemory'\n",
      "\n"
     ]
    },
    {
     "name": "stdout",
     "output_type": "stream",
     "text": [
      "[1] \"M216T651\"\n"
     ]
    },
    {
     "name": "stderr",
     "output_type": "stream",
     "text": [
      "Backend of the input object is read-only, will change that to an 'MsBackendMemory'\n",
      "\n"
     ]
    },
    {
     "name": "stdout",
     "output_type": "stream",
     "text": [
      "[1] \"M413T655\"\n"
     ]
    },
    {
     "name": "stderr",
     "output_type": "stream",
     "text": [
      "Backend of the input object is read-only, will change that to an 'MsBackendMemory'\n",
      "\n"
     ]
    },
    {
     "name": "stdout",
     "output_type": "stream",
     "text": [
      "[1] \"M412T655\"\n"
     ]
    },
    {
     "name": "stderr",
     "output_type": "stream",
     "text": [
      "Backend of the input object is read-only, will change that to an 'MsBackendMemory'\n",
      "\n",
      "Warning message:\n",
      "\"'combinePeaks' for lists of peak matrices is deprecated; please use 'combinePeaksData' instead.\"\n"
     ]
    },
    {
     "name": "stdout",
     "output_type": "stream",
     "text": [
      "[1] \"M244T661\"\n"
     ]
    },
    {
     "name": "stderr",
     "output_type": "stream",
     "text": [
      "Backend of the input object is read-only, will change that to an 'MsBackendMemory'\n",
      "\n"
     ]
    },
    {
     "name": "stdout",
     "output_type": "stream",
     "text": [
      "[1] \"M171T674\"\n"
     ]
    },
    {
     "name": "stderr",
     "output_type": "stream",
     "text": [
      "Backend of the input object is read-only, will change that to an 'MsBackendMemory'\n",
      "\n"
     ]
    },
    {
     "name": "stdout",
     "output_type": "stream",
     "text": [
      "[1] \"M193T675\"\n"
     ]
    },
    {
     "name": "stderr",
     "output_type": "stream",
     "text": [
      "Backend of the input object is read-only, will change that to an 'MsBackendMemory'\n",
      "\n"
     ]
    },
    {
     "name": "stdout",
     "output_type": "stream",
     "text": [
      "[1] \"M259T677\"\n"
     ]
    },
    {
     "name": "stderr",
     "output_type": "stream",
     "text": [
      "Backend of the input object is read-only, will change that to an 'MsBackendMemory'\n",
      "\n"
     ]
    },
    {
     "name": "stdout",
     "output_type": "stream",
     "text": [
      "[1] \"M220T677\"\n"
     ]
    },
    {
     "name": "stderr",
     "output_type": "stream",
     "text": [
      "Backend of the input object is read-only, will change that to an 'MsBackendMemory'\n",
      "\n",
      "Warning message:\n",
      "\"'combinePeaks' for lists of peak matrices is deprecated; please use 'combinePeaksData' instead.\"\n"
     ]
    },
    {
     "name": "stdout",
     "output_type": "stream",
     "text": [
      "[1] \"M372T682\"\n"
     ]
    },
    {
     "name": "stderr",
     "output_type": "stream",
     "text": [
      "Backend of the input object is read-only, will change that to an 'MsBackendMemory'\n",
      "\n"
     ]
    },
    {
     "name": "stdout",
     "output_type": "stream",
     "text": [
      "[1] \"M447T688\"\n"
     ]
    },
    {
     "name": "stderr",
     "output_type": "stream",
     "text": [
      "Backend of the input object is read-only, will change that to an 'MsBackendMemory'\n",
      "\n"
     ]
    },
    {
     "name": "stdout",
     "output_type": "stream",
     "text": [
      "[1] \"M276T696\"\n"
     ]
    },
    {
     "name": "stderr",
     "output_type": "stream",
     "text": [
      "Backend of the input object is read-only, will change that to an 'MsBackendMemory'\n",
      "\n"
     ]
    },
    {
     "name": "stdout",
     "output_type": "stream",
     "text": [
      "[1] \"M308T698\"\n"
     ]
    },
    {
     "name": "stderr",
     "output_type": "stream",
     "text": [
      "Backend of the input object is read-only, will change that to an 'MsBackendMemory'\n",
      "\n"
     ]
    },
    {
     "name": "stdout",
     "output_type": "stream",
     "text": [
      "[1] \"M386T711\"\n"
     ]
    },
    {
     "name": "stderr",
     "output_type": "stream",
     "text": [
      "Backend of the input object is read-only, will change that to an 'MsBackendMemory'\n",
      "\n"
     ]
    },
    {
     "name": "stdout",
     "output_type": "stream",
     "text": [
      "[1] \"M244T711\"\n"
     ]
    },
    {
     "name": "stderr",
     "output_type": "stream",
     "text": [
      "Backend of the input object is read-only, will change that to an 'MsBackendMemory'\n",
      "\n",
      "Warning message:\n",
      "\"'combinePeaks' for lists of peak matrices is deprecated; please use 'combinePeaksData' instead.\"\n"
     ]
    },
    {
     "name": "stdout",
     "output_type": "stream",
     "text": [
      "[1] \"M375T720\"\n"
     ]
    },
    {
     "name": "stderr",
     "output_type": "stream",
     "text": [
      "Backend of the input object is read-only, will change that to an 'MsBackendMemory'\n",
      "\n",
      "Warning message:\n",
      "\"'combinePeaks' for lists of peak matrices is deprecated; please use 'combinePeaksData' instead.\"\n"
     ]
    },
    {
     "name": "stdout",
     "output_type": "stream",
     "text": [
      "[1] \"M376T720\"\n"
     ]
    },
    {
     "name": "stderr",
     "output_type": "stream",
     "text": [
      "Backend of the input object is read-only, will change that to an 'MsBackendMemory'\n",
      "\n"
     ]
    },
    {
     "name": "stdout",
     "output_type": "stream",
     "text": [
      "[1] \"M213T731\"\n"
     ]
    },
    {
     "name": "stderr",
     "output_type": "stream",
     "text": [
      "Backend of the input object is read-only, will change that to an 'MsBackendMemory'\n",
      "\n"
     ]
    },
    {
     "name": "stdout",
     "output_type": "stream",
     "text": [
      "[1] \"M204T734_1\"\n"
     ]
    },
    {
     "name": "stderr",
     "output_type": "stream",
     "text": [
      "Backend of the input object is read-only, will change that to an 'MsBackendMemory'\n",
      "\n",
      "Warning message:\n",
      "\"'combinePeaks' for lists of peak matrices is deprecated; please use 'combinePeaksData' instead.\"\n"
     ]
    },
    {
     "name": "stdout",
     "output_type": "stream",
     "text": [
      "[1] \"M258T756\"\n"
     ]
    },
    {
     "name": "stderr",
     "output_type": "stream",
     "text": [
      "Backend of the input object is read-only, will change that to an 'MsBackendMemory'\n",
      "\n"
     ]
    },
    {
     "name": "stdout",
     "output_type": "stream",
     "text": [
      "[1] \"M295T757\"\n"
     ]
    },
    {
     "name": "stderr",
     "output_type": "stream",
     "text": [
      "Backend of the input object is read-only, will change that to an 'MsBackendMemory'\n",
      "\n"
     ]
    },
    {
     "name": "stdout",
     "output_type": "stream",
     "text": [
      "[1] \"M349T776\"\n"
     ]
    },
    {
     "name": "stderr",
     "output_type": "stream",
     "text": [
      "Backend of the input object is read-only, will change that to an 'MsBackendMemory'\n",
      "\n"
     ]
    },
    {
     "name": "stdout",
     "output_type": "stream",
     "text": [
      "[1] \"M139T778\"\n"
     ]
    },
    {
     "name": "stderr",
     "output_type": "stream",
     "text": [
      "Backend of the input object is read-only, will change that to an 'MsBackendMemory'\n",
      "\n"
     ]
    },
    {
     "name": "stdout",
     "output_type": "stream",
     "text": [
      "[1] \"M458T778\"\n"
     ]
    },
    {
     "name": "stderr",
     "output_type": "stream",
     "text": [
      "Backend of the input object is read-only, will change that to an 'MsBackendMemory'\n",
      "\n"
     ]
    },
    {
     "name": "stdout",
     "output_type": "stream",
     "text": [
      "[1] \"M457T778\"\n"
     ]
    },
    {
     "name": "stderr",
     "output_type": "stream",
     "text": [
      "Backend of the input object is read-only, will change that to an 'MsBackendMemory'\n",
      "\n"
     ]
    },
    {
     "name": "stdout",
     "output_type": "stream",
     "text": [
      "[1] \"M153T790\"\n"
     ]
    },
    {
     "name": "stderr",
     "output_type": "stream",
     "text": [
      "Backend of the input object is read-only, will change that to an 'MsBackendMemory'\n",
      "\n"
     ]
    },
    {
     "name": "stdout",
     "output_type": "stream",
     "text": [
      "[1] \"M292T797\"\n"
     ]
    },
    {
     "name": "stderr",
     "output_type": "stream",
     "text": [
      "Backend of the input object is read-only, will change that to an 'MsBackendMemory'\n",
      "\n"
     ]
    },
    {
     "name": "stdout",
     "output_type": "stream",
     "text": [
      "[1] \"M570T799\"\n"
     ]
    },
    {
     "name": "stderr",
     "output_type": "stream",
     "text": [
      "Backend of the input object is read-only, will change that to an 'MsBackendMemory'\n",
      "\n",
      "Warning message:\n",
      "\"'combinePeaks' for lists of peak matrices is deprecated; please use 'combinePeaksData' instead.\"\n"
     ]
    },
    {
     "name": "stdout",
     "output_type": "stream",
     "text": [
      "[1] \"M571T799\"\n"
     ]
    },
    {
     "name": "stderr",
     "output_type": "stream",
     "text": [
      "Backend of the input object is read-only, will change that to an 'MsBackendMemory'\n",
      "\n"
     ]
    },
    {
     "name": "stdout",
     "output_type": "stream",
     "text": [
      "[1] \"M372T800\"\n"
     ]
    },
    {
     "name": "stderr",
     "output_type": "stream",
     "text": [
      "Backend of the input object is read-only, will change that to an 'MsBackendMemory'\n",
      "\n"
     ]
    },
    {
     "name": "stdout",
     "output_type": "stream",
     "text": [
      "[1] \"M117T802\"\n"
     ]
    },
    {
     "name": "stderr",
     "output_type": "stream",
     "text": [
      "Backend of the input object is read-only, will change that to an 'MsBackendMemory'\n",
      "\n"
     ]
    },
    {
     "name": "stdout",
     "output_type": "stream",
     "text": [
      "[1] \"M590T808\"\n"
     ]
    },
    {
     "name": "stderr",
     "output_type": "stream",
     "text": [
      "Backend of the input object is read-only, will change that to an 'MsBackendMemory'\n",
      "\n"
     ]
    },
    {
     "name": "stdout",
     "output_type": "stream",
     "text": [
      "[1] \"M334T812\"\n"
     ]
    },
    {
     "name": "stderr",
     "output_type": "stream",
     "text": [
      "Backend of the input object is read-only, will change that to an 'MsBackendMemory'\n",
      "\n"
     ]
    },
    {
     "name": "stdout",
     "output_type": "stream",
     "text": [
      "[1] \"M297T813\"\n"
     ]
    },
    {
     "name": "stderr",
     "output_type": "stream",
     "text": [
      "Backend of the input object is read-only, will change that to an 'MsBackendMemory'\n",
      "\n"
     ]
    },
    {
     "name": "stdout",
     "output_type": "stream",
     "text": [
      "[1] \"M305T813\"\n"
     ]
    },
    {
     "name": "stderr",
     "output_type": "stream",
     "text": [
      "Backend of the input object is read-only, will change that to an 'MsBackendMemory'\n",
      "\n",
      "Warning message:\n",
      "\"'combinePeaks' for lists of peak matrices is deprecated; please use 'combinePeaksData' instead.\"\n"
     ]
    },
    {
     "name": "stdout",
     "output_type": "stream",
     "text": [
      "[1] \"M280T813_1\"\n"
     ]
    },
    {
     "name": "stderr",
     "output_type": "stream",
     "text": [
      "Backend of the input object is read-only, will change that to an 'MsBackendMemory'\n",
      "\n"
     ]
    },
    {
     "name": "stdout",
     "output_type": "stream",
     "text": [
      "[1] \"M593T816\"\n"
     ]
    },
    {
     "name": "stderr",
     "output_type": "stream",
     "text": [
      "Backend of the input object is read-only, will change that to an 'MsBackendMemory'\n",
      "\n"
     ]
    },
    {
     "name": "stdout",
     "output_type": "stream",
     "text": [
      "[1] \"M572T816\"\n"
     ]
    },
    {
     "name": "stderr",
     "output_type": "stream",
     "text": [
      "Backend of the input object is read-only, will change that to an 'MsBackendMemory'\n",
      "\n"
     ]
    },
    {
     "name": "stdout",
     "output_type": "stream",
     "text": [
      "[1] \"M571T817\"\n"
     ]
    },
    {
     "name": "stderr",
     "output_type": "stream",
     "text": [
      "Backend of the input object is read-only, will change that to an 'MsBackendMemory'\n",
      "\n"
     ]
    },
    {
     "name": "stdout",
     "output_type": "stream",
     "text": [
      "[1] \"M573T817\"\n"
     ]
    },
    {
     "name": "stderr",
     "output_type": "stream",
     "text": [
      "Backend of the input object is read-only, will change that to an 'MsBackendMemory'\n",
      "\n"
     ]
    },
    {
     "name": "stdout",
     "output_type": "stream",
     "text": [
      "[1] \"M251T821\"\n"
     ]
    },
    {
     "name": "stderr",
     "output_type": "stream",
     "text": [
      "Backend of the input object is read-only, will change that to an 'MsBackendMemory'\n",
      "\n"
     ]
    },
    {
     "name": "stdout",
     "output_type": "stream",
     "text": [
      "[1] \"M177T823\"\n"
     ]
    },
    {
     "name": "stderr",
     "output_type": "stream",
     "text": [
      "Backend of the input object is read-only, will change that to an 'MsBackendMemory'\n",
      "\n"
     ]
    },
    {
     "name": "stdout",
     "output_type": "stream",
     "text": [
      "[1] \"M564T824\"\n"
     ]
    },
    {
     "name": "stderr",
     "output_type": "stream",
     "text": [
      "Backend of the input object is read-only, will change that to an 'MsBackendMemory'\n",
      "\n"
     ]
    },
    {
     "name": "stdout",
     "output_type": "stream",
     "text": [
      "[1] \"M195T837\"\n"
     ]
    },
    {
     "name": "stderr",
     "output_type": "stream",
     "text": [
      "Backend of the input object is read-only, will change that to an 'MsBackendMemory'\n",
      "\n",
      "Warning message:\n",
      "\"'combinePeaks' for lists of peak matrices is deprecated; please use 'combinePeaksData' instead.\"\n"
     ]
    },
    {
     "name": "stdout",
     "output_type": "stream",
     "text": [
      "[1] \"M375T838\"\n"
     ]
    },
    {
     "name": "stderr",
     "output_type": "stream",
     "text": [
      "Backend of the input object is read-only, will change that to an 'MsBackendMemory'\n",
      "\n"
     ]
    },
    {
     "name": "stdout",
     "output_type": "stream",
     "text": [
      "[1] \"M253T844\"\n"
     ]
    },
    {
     "name": "stderr",
     "output_type": "stream",
     "text": [
      "Backend of the input object is read-only, will change that to an 'MsBackendMemory'\n",
      "\n"
     ]
    },
    {
     "name": "stdout",
     "output_type": "stream",
     "text": [
      "[1] \"M457T845\"\n"
     ]
    },
    {
     "name": "stderr",
     "output_type": "stream",
     "text": [
      "Backend of the input object is read-only, will change that to an 'MsBackendMemory'\n",
      "\n"
     ]
    },
    {
     "name": "stdout",
     "output_type": "stream",
     "text": [
      "[1] \"M440T851\"\n"
     ]
    },
    {
     "name": "stderr",
     "output_type": "stream",
     "text": [
      "Backend of the input object is read-only, will change that to an 'MsBackendMemory'\n",
      "\n"
     ]
    },
    {
     "name": "stdout",
     "output_type": "stream",
     "text": [
      "[1] \"M205T853\"\n"
     ]
    },
    {
     "name": "stderr",
     "output_type": "stream",
     "text": [
      "Backend of the input object is read-only, will change that to an 'MsBackendMemory'\n",
      "\n"
     ]
    },
    {
     "name": "stdout",
     "output_type": "stream",
     "text": [
      "[1] \"M450T855\"\n"
     ]
    },
    {
     "name": "stderr",
     "output_type": "stream",
     "text": [
      "Backend of the input object is read-only, will change that to an 'MsBackendMemory'\n",
      "\n"
     ]
    },
    {
     "name": "stdout",
     "output_type": "stream",
     "text": [
      "[1] \"M612T864\"\n"
     ]
    },
    {
     "name": "stderr",
     "output_type": "stream",
     "text": [
      "Backend of the input object is read-only, will change that to an 'MsBackendMemory'\n",
      "\n"
     ]
    },
    {
     "name": "stdout",
     "output_type": "stream",
     "text": [
      "[1] \"M550T868\"\n"
     ]
    },
    {
     "name": "stderr",
     "output_type": "stream",
     "text": [
      "Backend of the input object is read-only, will change that to an 'MsBackendMemory'\n",
      "\n"
     ]
    },
    {
     "name": "stdout",
     "output_type": "stream",
     "text": [
      "[1] \"M548T872\"\n"
     ]
    },
    {
     "name": "stderr",
     "output_type": "stream",
     "text": [
      "Backend of the input object is read-only, will change that to an 'MsBackendMemory'\n",
      "\n"
     ]
    },
    {
     "name": "stdout",
     "output_type": "stream",
     "text": [
      "[1] \"M552T872_2\"\n"
     ]
    },
    {
     "name": "stderr",
     "output_type": "stream",
     "text": [
      "Backend of the input object is read-only, will change that to an 'MsBackendMemory'\n",
      "\n"
     ]
    },
    {
     "name": "stdout",
     "output_type": "stream",
     "text": [
      "[1] \"M416T872\"\n"
     ]
    },
    {
     "name": "stderr",
     "output_type": "stream",
     "text": [
      "Backend of the input object is read-only, will change that to an 'MsBackendMemory'\n",
      "\n"
     ]
    },
    {
     "name": "stdout",
     "output_type": "stream",
     "text": [
      "[1] \"M553T872\"\n"
     ]
    },
    {
     "name": "stderr",
     "output_type": "stream",
     "text": [
      "Backend of the input object is read-only, will change that to an 'MsBackendMemory'\n",
      "\n"
     ]
    },
    {
     "name": "stdout",
     "output_type": "stream",
     "text": [
      "[1] \"M305T873_1\"\n"
     ]
    },
    {
     "name": "stderr",
     "output_type": "stream",
     "text": [
      "Backend of the input object is read-only, will change that to an 'MsBackendMemory'\n",
      "\n"
     ]
    },
    {
     "name": "stdout",
     "output_type": "stream",
     "text": [
      "[1] \"M268T874\"\n"
     ]
    },
    {
     "name": "stderr",
     "output_type": "stream",
     "text": [
      "Backend of the input object is read-only, will change that to an 'MsBackendMemory'\n",
      "\n"
     ]
    },
    {
     "name": "stdout",
     "output_type": "stream",
     "text": [
      "[1] \"M344T888\"\n"
     ]
    },
    {
     "name": "stderr",
     "output_type": "stream",
     "text": [
      "Backend of the input object is read-only, will change that to an 'MsBackendMemory'\n",
      "\n"
     ]
    },
    {
     "name": "stdout",
     "output_type": "stream",
     "text": [
      "[1] \"M366T891\"\n"
     ]
    },
    {
     "name": "stderr",
     "output_type": "stream",
     "text": [
      "Backend of the input object is read-only, will change that to an 'MsBackendMemory'\n",
      "\n"
     ]
    },
    {
     "name": "stdout",
     "output_type": "stream",
     "text": [
      "[1] \"M296T892\"\n"
     ]
    },
    {
     "name": "stderr",
     "output_type": "stream",
     "text": [
      "Backend of the input object is read-only, will change that to an 'MsBackendMemory'\n",
      "\n"
     ]
    },
    {
     "name": "stdout",
     "output_type": "stream",
     "text": [
      "[1] \"M552T896\"\n"
     ]
    },
    {
     "name": "stderr",
     "output_type": "stream",
     "text": [
      "Backend of the input object is read-only, will change that to an 'MsBackendMemory'\n",
      "\n",
      "Warning message:\n",
      "\"'combinePeaks' for lists of peak matrices is deprecated; please use 'combinePeaksData' instead.\"\n"
     ]
    },
    {
     "name": "stdout",
     "output_type": "stream",
     "text": [
      "[1] \"M296T900\"\n"
     ]
    },
    {
     "name": "stderr",
     "output_type": "stream",
     "text": [
      "Backend of the input object is read-only, will change that to an 'MsBackendMemory'\n",
      "\n"
     ]
    },
    {
     "name": "stdout",
     "output_type": "stream",
     "text": [
      "[1] \"M573T905\"\n"
     ]
    },
    {
     "name": "stderr",
     "output_type": "stream",
     "text": [
      "Backend of the input object is read-only, will change that to an 'MsBackendMemory'\n",
      "\n"
     ]
    },
    {
     "name": "stdout",
     "output_type": "stream",
     "text": [
      "[1] \"M268T905\"\n"
     ]
    },
    {
     "name": "stderr",
     "output_type": "stream",
     "text": [
      "Backend of the input object is read-only, will change that to an 'MsBackendMemory'\n",
      "\n"
     ]
    },
    {
     "name": "stdout",
     "output_type": "stream",
     "text": [
      "[1] \"M313T906\"\n"
     ]
    },
    {
     "name": "stderr",
     "output_type": "stream",
     "text": [
      "Backend of the input object is read-only, will change that to an 'MsBackendMemory'\n",
      "\n"
     ]
    },
    {
     "name": "stdout",
     "output_type": "stream",
     "text": [
      "[1] \"M304T906\"\n"
     ]
    },
    {
     "name": "stderr",
     "output_type": "stream",
     "text": [
      "Backend of the input object is read-only, will change that to an 'MsBackendMemory'\n",
      "\n"
     ]
    },
    {
     "name": "stdout",
     "output_type": "stream",
     "text": [
      "[1] \"M305T907\"\n"
     ]
    },
    {
     "name": "stderr",
     "output_type": "stream",
     "text": [
      "Backend of the input object is read-only, will change that to an 'MsBackendMemory'\n",
      "\n",
      "Warning message:\n",
      "\"'combinePeaks' for lists of peak matrices is deprecated; please use 'combinePeaksData' instead.\"\n"
     ]
    },
    {
     "name": "stdout",
     "output_type": "stream",
     "text": [
      "[1] \"M296T907_2\"\n"
     ]
    },
    {
     "name": "stderr",
     "output_type": "stream",
     "text": [
      "Backend of the input object is read-only, will change that to an 'MsBackendMemory'\n",
      "\n"
     ]
    },
    {
     "name": "stdout",
     "output_type": "stream",
     "text": [
      "[1] \"M580T907\"\n"
     ]
    },
    {
     "name": "stderr",
     "output_type": "stream",
     "text": [
      "Backend of the input object is read-only, will change that to an 'MsBackendMemory'\n",
      "\n"
     ]
    },
    {
     "name": "stdout",
     "output_type": "stream",
     "text": [
      "[1] \"M288T907\"\n"
     ]
    },
    {
     "name": "stderr",
     "output_type": "stream",
     "text": [
      "Backend of the input object is read-only, will change that to an 'MsBackendMemory'\n",
      "\n"
     ]
    },
    {
     "name": "stdout",
     "output_type": "stream",
     "text": [
      "[1] \"M570T908\"\n"
     ]
    },
    {
     "name": "stderr",
     "output_type": "stream",
     "text": [
      "Backend of the input object is read-only, will change that to an 'MsBackendMemory'\n",
      "\n"
     ]
    },
    {
     "name": "stdout",
     "output_type": "stream",
     "text": [
      "[1] \"M554T908\"\n"
     ]
    },
    {
     "name": "stderr",
     "output_type": "stream",
     "text": [
      "Backend of the input object is read-only, will change that to an 'MsBackendMemory'\n",
      "\n"
     ]
    },
    {
     "name": "stdout",
     "output_type": "stream",
     "text": [
      "[1] \"M575T908\"\n"
     ]
    },
    {
     "name": "stderr",
     "output_type": "stream",
     "text": [
      "Backend of the input object is read-only, will change that to an 'MsBackendMemory'\n",
      "\n"
     ]
    },
    {
     "name": "stdout",
     "output_type": "stream",
     "text": [
      "[1] \"M574T908\"\n"
     ]
    },
    {
     "name": "stderr",
     "output_type": "stream",
     "text": [
      "Backend of the input object is read-only, will change that to an 'MsBackendMemory'\n",
      "\n",
      "Warning message:\n",
      "\"'combinePeaks' for lists of peak matrices is deprecated; please use 'combinePeaksData' instead.\"\n"
     ]
    },
    {
     "name": "stdout",
     "output_type": "stream",
     "text": [
      "[1] \"M306T908\"\n"
     ]
    },
    {
     "name": "stderr",
     "output_type": "stream",
     "text": [
      "Backend of the input object is read-only, will change that to an 'MsBackendMemory'\n",
      "\n"
     ]
    },
    {
     "name": "stdout",
     "output_type": "stream",
     "text": [
      "[1] \"M508T920\"\n"
     ]
    },
    {
     "name": "stderr",
     "output_type": "stream",
     "text": [
      "Backend of the input object is read-only, will change that to an 'MsBackendMemory'\n",
      "\n"
     ]
    },
    {
     "name": "stdout",
     "output_type": "stream",
     "text": [
      "[1] \"M287T920\"\n"
     ]
    },
    {
     "name": "stderr",
     "output_type": "stream",
     "text": [
      "Backend of the input object is read-only, will change that to an 'MsBackendMemory'\n",
      "\n"
     ]
    },
    {
     "name": "stdout",
     "output_type": "stream",
     "text": [
      "[1] \"M287T921\"\n"
     ]
    },
    {
     "name": "stderr",
     "output_type": "stream",
     "text": [
      "Backend of the input object is read-only, will change that to an 'MsBackendMemory'\n",
      "\n"
     ]
    },
    {
     "name": "stdout",
     "output_type": "stream",
     "text": [
      "[1] \"M305T921\"\n"
     ]
    },
    {
     "name": "stderr",
     "output_type": "stream",
     "text": [
      "Backend of the input object is read-only, will change that to an 'MsBackendMemory'\n",
      "\n",
      "Warning message:\n",
      "\"'combinePeaks' for lists of peak matrices is deprecated; please use 'combinePeaksData' instead.\"\n"
     ]
    },
    {
     "name": "stdout",
     "output_type": "stream",
     "text": [
      "[1] \"M573T922\"\n"
     ]
    },
    {
     "name": "stderr",
     "output_type": "stream",
     "text": [
      "Backend of the input object is read-only, will change that to an 'MsBackendMemory'\n",
      "\n"
     ]
    },
    {
     "name": "stdout",
     "output_type": "stream",
     "text": [
      "[1] \"M295T922\"\n"
     ]
    },
    {
     "name": "stderr",
     "output_type": "stream",
     "text": [
      "Backend of the input object is read-only, will change that to an 'MsBackendMemory'\n",
      "\n"
     ]
    },
    {
     "name": "stdout",
     "output_type": "stream",
     "text": [
      "[1] \"M572T922\"\n"
     ]
    },
    {
     "name": "stderr",
     "output_type": "stream",
     "text": [
      "Backend of the input object is read-only, will change that to an 'MsBackendMemory'\n",
      "\n",
      "Warning message:\n",
      "\"'combinePeaks' for lists of peak matrices is deprecated; please use 'combinePeaksData' instead.\"\n"
     ]
    },
    {
     "name": "stdout",
     "output_type": "stream",
     "text": [
      "[1] \"M551T922\"\n"
     ]
    },
    {
     "name": "stderr",
     "output_type": "stream",
     "text": [
      "Backend of the input object is read-only, will change that to an 'MsBackendMemory'\n",
      "\n"
     ]
    },
    {
     "name": "stdout",
     "output_type": "stream",
     "text": [
      "[1] \"M550T922\"\n"
     ]
    },
    {
     "name": "stderr",
     "output_type": "stream",
     "text": [
      "Backend of the input object is read-only, will change that to an 'MsBackendMemory'\n",
      "\n",
      "Warning message:\n",
      "\"'combinePeaks' for lists of peak matrices is deprecated; please use 'combinePeaksData' instead.\"\n"
     ]
    },
    {
     "name": "stdout",
     "output_type": "stream",
     "text": [
      "[1] \"M304T922\"\n"
     ]
    },
    {
     "name": "stderr",
     "output_type": "stream",
     "text": [
      "Backend of the input object is read-only, will change that to an 'MsBackendMemory'\n",
      "\n"
     ]
    },
    {
     "name": "stdout",
     "output_type": "stream",
     "text": [
      "[1] \"M359T928\"\n"
     ]
    },
    {
     "name": "stderr",
     "output_type": "stream",
     "text": [
      "Backend of the input object is read-only, will change that to an 'MsBackendMemory'\n",
      "\n"
     ]
    },
    {
     "name": "stdout",
     "output_type": "stream",
     "text": [
      "[1] \"M548T929\"\n"
     ]
    },
    {
     "name": "stderr",
     "output_type": "stream",
     "text": [
      "Backend of the input object is read-only, will change that to an 'MsBackendMemory'\n",
      "\n"
     ]
    },
    {
     "name": "stdout",
     "output_type": "stream",
     "text": [
      "[1] \"M269T929\"\n"
     ]
    },
    {
     "name": "stderr",
     "output_type": "stream",
     "text": [
      "Backend of the input object is read-only, will change that to an 'MsBackendMemory'\n",
      "\n"
     ]
    },
    {
     "name": "stdout",
     "output_type": "stream",
     "text": [
      "[1] \"M331T936\"\n"
     ]
    },
    {
     "name": "stderr",
     "output_type": "stream",
     "text": [
      "Backend of the input object is read-only, will change that to an 'MsBackendMemory'\n",
      "\n"
     ]
    },
    {
     "name": "stdout",
     "output_type": "stream",
     "text": [
      "[1] \"M392T944\"\n"
     ]
    },
    {
     "name": "stderr",
     "output_type": "stream",
     "text": [
      "Backend of the input object is read-only, will change that to an 'MsBackendMemory'\n",
      "\n"
     ]
    },
    {
     "name": "stdout",
     "output_type": "stream",
     "text": [
      "[1] \"M299T946_1\"\n"
     ]
    },
    {
     "name": "stderr",
     "output_type": "stream",
     "text": [
      "Backend of the input object is read-only, will change that to an 'MsBackendMemory'\n",
      "\n"
     ]
    },
    {
     "name": "stdout",
     "output_type": "stream",
     "text": [
      "[1] \"M296T950_1\"\n"
     ]
    },
    {
     "name": "stderr",
     "output_type": "stream",
     "text": [
      "Backend of the input object is read-only, will change that to an 'MsBackendMemory'\n",
      "\n"
     ]
    },
    {
     "name": "stdout",
     "output_type": "stream",
     "text": [
      "[1] \"M297T955\"\n"
     ]
    },
    {
     "name": "stderr",
     "output_type": "stream",
     "text": [
      "Backend of the input object is read-only, will change that to an 'MsBackendMemory'\n",
      "\n"
     ]
    },
    {
     "name": "stdout",
     "output_type": "stream",
     "text": [
      "[1] \"M667T955\"\n"
     ]
    },
    {
     "name": "stderr",
     "output_type": "stream",
     "text": [
      "Backend of the input object is read-only, will change that to an 'MsBackendMemory'\n",
      "\n"
     ]
    },
    {
     "name": "stdout",
     "output_type": "stream",
     "text": [
      "[1] \"M510T960\"\n"
     ]
    },
    {
     "name": "stderr",
     "output_type": "stream",
     "text": [
      "Backend of the input object is read-only, will change that to an 'MsBackendMemory'\n",
      "\n"
     ]
    },
    {
     "name": "stdout",
     "output_type": "stream",
     "text": [
      "[1] \"M403T960_1\"\n"
     ]
    },
    {
     "name": "stderr",
     "output_type": "stream",
     "text": [
      "Backend of the input object is read-only, will change that to an 'MsBackendMemory'\n",
      "\n"
     ]
    },
    {
     "name": "stdout",
     "output_type": "stream",
     "text": [
      "[1] \"M397T966_1\"\n"
     ]
    },
    {
     "name": "stderr",
     "output_type": "stream",
     "text": [
      "Backend of the input object is read-only, will change that to an 'MsBackendMemory'\n",
      "\n"
     ]
    },
    {
     "name": "stdout",
     "output_type": "stream",
     "text": [
      "[1] \"M558T973\"\n"
     ]
    },
    {
     "name": "stderr",
     "output_type": "stream",
     "text": [
      "Backend of the input object is read-only, will change that to an 'MsBackendMemory'\n",
      "\n",
      "Warning message:\n",
      "\"'combinePeaks' for lists of peak matrices is deprecated; please use 'combinePeaksData' instead.\"\n"
     ]
    },
    {
     "name": "stdout",
     "output_type": "stream",
     "text": [
      "[1] \"M887T977\"\n"
     ]
    },
    {
     "name": "stderr",
     "output_type": "stream",
     "text": [
      "Backend of the input object is read-only, will change that to an 'MsBackendMemory'\n",
      "\n"
     ]
    },
    {
     "name": "stdout",
     "output_type": "stream",
     "text": [
      "[1] \"M865T978\"\n"
     ]
    },
    {
     "name": "stderr",
     "output_type": "stream",
     "text": [
      "Backend of the input object is read-only, will change that to an 'MsBackendMemory'\n",
      "\n"
     ]
    },
    {
     "name": "stdout",
     "output_type": "stream",
     "text": [
      "[1] \"M863T980\"\n"
     ]
    },
    {
     "name": "stderr",
     "output_type": "stream",
     "text": [
      "Backend of the input object is read-only, will change that to an 'MsBackendMemory'\n",
      "\n"
     ]
    },
    {
     "name": "stdout",
     "output_type": "stream",
     "text": [
      "[1] \"M251T983\"\n"
     ]
    },
    {
     "name": "stderr",
     "output_type": "stream",
     "text": [
      "Backend of the input object is read-only, will change that to an 'MsBackendMemory'\n",
      "\n"
     ]
    },
    {
     "name": "stdout",
     "output_type": "stream",
     "text": [
      "[1] \"M510T983\"\n"
     ]
    },
    {
     "name": "stderr",
     "output_type": "stream",
     "text": [
      "Backend of the input object is read-only, will change that to an 'MsBackendMemory'\n",
      "\n"
     ]
    },
    {
     "name": "stdout",
     "output_type": "stream",
     "text": [
      "[1] \"M538T998_1\"\n"
     ]
    },
    {
     "name": "stderr",
     "output_type": "stream",
     "text": [
      "Backend of the input object is read-only, will change that to an 'MsBackendMemory'\n",
      "\n"
     ]
    },
    {
     "name": "stdout",
     "output_type": "stream",
     "text": [
      "[1] \"M793T1002\"\n"
     ]
    },
    {
     "name": "stderr",
     "output_type": "stream",
     "text": [
      "Backend of the input object is read-only, will change that to an 'MsBackendMemory'\n",
      "\n"
     ]
    },
    {
     "name": "stdout",
     "output_type": "stream",
     "text": [
      "[1] \"M845T1019\"\n"
     ]
    },
    {
     "name": "stderr",
     "output_type": "stream",
     "text": [
      "Backend of the input object is read-only, will change that to an 'MsBackendMemory'\n",
      "\n"
     ]
    },
    {
     "name": "stdout",
     "output_type": "stream",
     "text": [
      "[1] \"M843T1022\"\n"
     ]
    },
    {
     "name": "stderr",
     "output_type": "stream",
     "text": [
      "Backend of the input object is read-only, will change that to an 'MsBackendMemory'\n",
      "\n"
     ]
    },
    {
     "name": "stdout",
     "output_type": "stream",
     "text": [
      "[1] \"M653T1036\"\n"
     ]
    },
    {
     "name": "stderr",
     "output_type": "stream",
     "text": [
      "Backend of the input object is read-only, will change that to an 'MsBackendMemory'\n",
      "\n"
     ]
    },
    {
     "name": "stdout",
     "output_type": "stream",
     "text": [
      "[1] \"M624T1036\"\n"
     ]
    },
    {
     "name": "stderr",
     "output_type": "stream",
     "text": [
      "Backend of the input object is read-only, will change that to an 'MsBackendMemory'\n",
      "\n"
     ]
    },
    {
     "name": "stdout",
     "output_type": "stream",
     "text": [
      "[1] \"M596T1038\"\n"
     ]
    },
    {
     "name": "stderr",
     "output_type": "stream",
     "text": [
      "Backend of the input object is read-only, will change that to an 'MsBackendMemory'\n",
      "\n",
      "Warning message:\n",
      "\"'combinePeaks' for lists of peak matrices is deprecated; please use 'combinePeaksData' instead.\"\n"
     ]
    },
    {
     "name": "stdout",
     "output_type": "stream",
     "text": [
      "[1] \"M597T1038\"\n"
     ]
    },
    {
     "name": "stderr",
     "output_type": "stream",
     "text": [
      "Backend of the input object is read-only, will change that to an 'MsBackendMemory'\n",
      "\n"
     ]
    },
    {
     "name": "stdout",
     "output_type": "stream",
     "text": [
      "[1] \"M622T1038_2\"\n"
     ]
    },
    {
     "name": "stderr",
     "output_type": "stream",
     "text": [
      "Backend of the input object is read-only, will change that to an 'MsBackendMemory'\n",
      "\n"
     ]
    },
    {
     "name": "stdout",
     "output_type": "stream",
     "text": [
      "[1] \"M789T1076_1\"\n"
     ]
    },
    {
     "name": "stderr",
     "output_type": "stream",
     "text": [
      "Backend of the input object is read-only, will change that to an 'MsBackendMemory'\n",
      "\n"
     ]
    },
    {
     "name": "stdout",
     "output_type": "stream",
     "text": [
      "[1] \"M790T1077\"\n"
     ]
    },
    {
     "name": "stderr",
     "output_type": "stream",
     "text": [
      "Backend of the input object is read-only, will change that to an 'MsBackendMemory'\n",
      "\n"
     ]
    },
    {
     "name": "stdout",
     "output_type": "stream",
     "text": [
      "[1] \"M823T1078\"\n"
     ]
    },
    {
     "name": "stderr",
     "output_type": "stream",
     "text": [
      "Backend of the input object is read-only, will change that to an 'MsBackendMemory'\n",
      "\n"
     ]
    },
    {
     "name": "stdout",
     "output_type": "stream",
     "text": [
      "[1] \"M831T1082\"\n"
     ]
    },
    {
     "name": "stderr",
     "output_type": "stream",
     "text": [
      "Backend of the input object is read-only, will change that to an 'MsBackendMemory'\n",
      "\n"
     ]
    },
    {
     "name": "stdout",
     "output_type": "stream",
     "text": [
      "[1] \"M815T1083_1\"\n"
     ]
    },
    {
     "name": "stderr",
     "output_type": "stream",
     "text": [
      "Backend of the input object is read-only, will change that to an 'MsBackendMemory'\n",
      "\n"
     ]
    },
    {
     "name": "stdout",
     "output_type": "stream",
     "text": [
      "[1] \"M221T292\"\n"
     ]
    },
    {
     "name": "stderr",
     "output_type": "stream",
     "text": [
      "Backend of the input object is read-only, will change that to an 'MsBackendMemory'\n",
      "\n",
      "Warning message:\n",
      "\"'combinePeaks' for lists of peak matrices is deprecated; please use 'combinePeaksData' instead.\"\n"
     ]
    },
    {
     "name": "stdout",
     "output_type": "stream",
     "text": [
      "[1] \"M383T327\"\n"
     ]
    },
    {
     "name": "stderr",
     "output_type": "stream",
     "text": [
      "Backend of the input object is read-only, will change that to an 'MsBackendMemory'\n",
      "\n"
     ]
    },
    {
     "name": "stdout",
     "output_type": "stream",
     "text": [
      "[1] \"M319T401\"\n"
     ]
    },
    {
     "name": "stderr",
     "output_type": "stream",
     "text": [
      "Backend of the input object is read-only, will change that to an 'MsBackendMemory'\n",
      "\n"
     ]
    },
    {
     "name": "stdout",
     "output_type": "stream",
     "text": [
      "[1] \"M237T434\"\n"
     ]
    },
    {
     "name": "stderr",
     "output_type": "stream",
     "text": [
      "Backend of the input object is read-only, will change that to an 'MsBackendMemory'\n",
      "\n",
      "Warning message:\n",
      "\"'combinePeaks' for lists of peak matrices is deprecated; please use 'combinePeaksData' instead.\"\n"
     ]
    },
    {
     "name": "stdout",
     "output_type": "stream",
     "text": [
      "[1] \"M333T453\"\n"
     ]
    },
    {
     "name": "stderr",
     "output_type": "stream",
     "text": [
      "Backend of the input object is read-only, will change that to an 'MsBackendMemory'\n",
      "\n"
     ]
    },
    {
     "name": "stdout",
     "output_type": "stream",
     "text": [
      "[1] \"M354T467\"\n"
     ]
    },
    {
     "name": "stderr",
     "output_type": "stream",
     "text": [
      "Backend of the input object is read-only, will change that to an 'MsBackendMemory'\n",
      "\n"
     ]
    },
    {
     "name": "stdout",
     "output_type": "stream",
     "text": [
      "[1] \"M285T546\"\n"
     ]
    },
    {
     "name": "stderr",
     "output_type": "stream",
     "text": [
      "Backend of the input object is read-only, will change that to an 'MsBackendMemory'\n",
      "\n"
     ]
    },
    {
     "name": "stdout",
     "output_type": "stream",
     "text": [
      "[1] \"M166T549\"\n"
     ]
    },
    {
     "name": "stderr",
     "output_type": "stream",
     "text": [
      "Backend of the input object is read-only, will change that to an 'MsBackendMemory'\n",
      "\n"
     ]
    },
    {
     "name": "stdout",
     "output_type": "stream",
     "text": [
      "[1] \"M452T580\"\n"
     ]
    },
    {
     "name": "stderr",
     "output_type": "stream",
     "text": [
      "Backend of the input object is read-only, will change that to an 'MsBackendMemory'\n",
      "\n"
     ]
    },
    {
     "name": "stdout",
     "output_type": "stream",
     "text": [
      "[1] \"M400T594\"\n"
     ]
    },
    {
     "name": "stderr",
     "output_type": "stream",
     "text": [
      "Backend of the input object is read-only, will change that to an 'MsBackendMemory'\n",
      "\n"
     ]
    },
    {
     "name": "stdout",
     "output_type": "stream",
     "text": [
      "[1] \"M347T601\"\n"
     ]
    },
    {
     "name": "stderr",
     "output_type": "stream",
     "text": [
      "Backend of the input object is read-only, will change that to an 'MsBackendMemory'\n",
      "\n"
     ]
    },
    {
     "name": "stdout",
     "output_type": "stream",
     "text": [
      "[1] \"M412T633\"\n"
     ]
    },
    {
     "name": "stderr",
     "output_type": "stream",
     "text": [
      "Backend of the input object is read-only, will change that to an 'MsBackendMemory'\n",
      "\n"
     ]
    },
    {
     "name": "stdout",
     "output_type": "stream",
     "text": [
      "[1] \"M468T671\"\n"
     ]
    },
    {
     "name": "stderr",
     "output_type": "stream",
     "text": [
      "Backend of the input object is read-only, will change that to an 'MsBackendMemory'\n",
      "\n"
     ]
    },
    {
     "name": "stdout",
     "output_type": "stream",
     "text": [
      "[1] \"M350T672\"\n"
     ]
    },
    {
     "name": "stderr",
     "output_type": "stream",
     "text": [
      "Backend of the input object is read-only, will change that to an 'MsBackendMemory'\n",
      "\n"
     ]
    },
    {
     "name": "stdout",
     "output_type": "stream",
     "text": [
      "[1] \"M424T675\"\n"
     ]
    },
    {
     "name": "stderr",
     "output_type": "stream",
     "text": [
      "Backend of the input object is read-only, will change that to an 'MsBackendMemory'\n",
      "\n"
     ]
    },
    {
     "name": "stdout",
     "output_type": "stream",
     "text": [
      "[1] \"M375T693\"\n"
     ]
    },
    {
     "name": "stderr",
     "output_type": "stream",
     "text": [
      "Backend of the input object is read-only, will change that to an 'MsBackendMemory'\n",
      "\n",
      "Warning message:\n",
      "\"'combinePeaks' for lists of peak matrices is deprecated; please use 'combinePeaksData' instead.\"\n"
     ]
    },
    {
     "name": "stdout",
     "output_type": "stream",
     "text": [
      "[1] \"M376T693\"\n"
     ]
    },
    {
     "name": "stderr",
     "output_type": "stream",
     "text": [
      "Backend of the input object is read-only, will change that to an 'MsBackendMemory'\n",
      "\n"
     ]
    },
    {
     "name": "stdout",
     "output_type": "stream",
     "text": [
      "[1] \"M347T698\"\n"
     ]
    },
    {
     "name": "stderr",
     "output_type": "stream",
     "text": [
      "Backend of the input object is read-only, will change that to an 'MsBackendMemory'\n",
      "\n"
     ]
    },
    {
     "name": "stdout",
     "output_type": "stream",
     "text": [
      "[1] \"M440T745\"\n"
     ]
    },
    {
     "name": "stderr",
     "output_type": "stream",
     "text": [
      "Backend of the input object is read-only, will change that to an 'MsBackendMemory'\n",
      "\n"
     ]
    },
    {
     "name": "stdout",
     "output_type": "stream",
     "text": [
      "[1] \"M197T750\"\n"
     ]
    },
    {
     "name": "stderr",
     "output_type": "stream",
     "text": [
      "Backend of the input object is read-only, will change that to an 'MsBackendMemory'\n",
      "\n",
      "Warning message:\n",
      "\"'combinePeaks' for lists of peak matrices is deprecated; please use 'combinePeaksData' instead.\"\n"
     ]
    },
    {
     "name": "stdout",
     "output_type": "stream",
     "text": [
      "[1] \"M265T751\"\n"
     ]
    },
    {
     "name": "stderr",
     "output_type": "stream",
     "text": [
      "Backend of the input object is read-only, will change that to an 'MsBackendMemory'\n",
      "\n"
     ]
    },
    {
     "name": "stdout",
     "output_type": "stream",
     "text": [
      "[1] \"M450T757\"\n"
     ]
    },
    {
     "name": "stderr",
     "output_type": "stream",
     "text": [
      "Backend of the input object is read-only, will change that to an 'MsBackendMemory'\n",
      "\n"
     ]
    },
    {
     "name": "stdout",
     "output_type": "stream",
     "text": [
      "[1] \"M251T775\"\n"
     ]
    },
    {
     "name": "stderr",
     "output_type": "stream",
     "text": [
      "Backend of the input object is read-only, will change that to an 'MsBackendMemory'\n",
      "\n"
     ]
    },
    {
     "name": "stdout",
     "output_type": "stream",
     "text": [
      "[1] \"M193T790\"\n"
     ]
    },
    {
     "name": "stderr",
     "output_type": "stream",
     "text": [
      "Backend of the input object is read-only, will change that to an 'MsBackendMemory'\n",
      "\n",
      "Warning message:\n",
      "\"'combinePeaks' for lists of peak matrices is deprecated; please use 'combinePeaksData' instead.\"\n"
     ]
    },
    {
     "name": "stdout",
     "output_type": "stream",
     "text": [
      "[1] \"M193T792\"\n"
     ]
    },
    {
     "name": "stderr",
     "output_type": "stream",
     "text": [
      "Backend of the input object is read-only, will change that to an 'MsBackendMemory'\n",
      "\n"
     ]
    },
    {
     "name": "stdout",
     "output_type": "stream",
     "text": [
      "[1] \"M592T816\"\n"
     ]
    },
    {
     "name": "stderr",
     "output_type": "stream",
     "text": [
      "Backend of the input object is read-only, will change that to an 'MsBackendMemory'\n",
      "\n",
      "Warning message:\n",
      "\"'combinePeaks' for lists of peak matrices is deprecated; please use 'combinePeaksData' instead.\"\n"
     ]
    },
    {
     "name": "stdout",
     "output_type": "stream",
     "text": [
      "[1] \"M221T840\"\n"
     ]
    },
    {
     "name": "stderr",
     "output_type": "stream",
     "text": [
      "Backend of the input object is read-only, will change that to an 'MsBackendMemory'\n",
      "\n"
     ]
    },
    {
     "name": "stdout",
     "output_type": "stream",
     "text": [
      "[1] \"M209T849\"\n"
     ]
    },
    {
     "name": "stderr",
     "output_type": "stream",
     "text": [
      "Backend of the input object is read-only, will change that to an 'MsBackendMemory'\n",
      "\n"
     ]
    },
    {
     "name": "stdout",
     "output_type": "stream",
     "text": [
      "[1] \"M233T854\"\n"
     ]
    },
    {
     "name": "stderr",
     "output_type": "stream",
     "text": [
      "Backend of the input object is read-only, will change that to an 'MsBackendMemory'\n",
      "\n"
     ]
    },
    {
     "name": "stdout",
     "output_type": "stream",
     "text": [
      "[1] \"M256T864\"\n"
     ]
    },
    {
     "name": "stderr",
     "output_type": "stream",
     "text": [
      "Backend of the input object is read-only, will change that to an 'MsBackendMemory'\n",
      "\n"
     ]
    },
    {
     "name": "stdout",
     "output_type": "stream",
     "text": [
      "[1] \"M353T865\"\n"
     ]
    },
    {
     "name": "stderr",
     "output_type": "stream",
     "text": [
      "Backend of the input object is read-only, will change that to an 'MsBackendMemory'\n",
      "\n"
     ]
    },
    {
     "name": "stdout",
     "output_type": "stream",
     "text": [
      "[1] \"M225T871\"\n"
     ]
    },
    {
     "name": "stderr",
     "output_type": "stream",
     "text": [
      "Backend of the input object is read-only, will change that to an 'MsBackendMemory'\n",
      "\n"
     ]
    },
    {
     "name": "stdout",
     "output_type": "stream",
     "text": [
      "[1] \"M305T873_2\"\n"
     ]
    },
    {
     "name": "stderr",
     "output_type": "stream",
     "text": [
      "Backend of the input object is read-only, will change that to an 'MsBackendMemory'\n",
      "\n"
     ]
    },
    {
     "name": "stdout",
     "output_type": "stream",
     "text": [
      "[1] \"M333T896_1\"\n"
     ]
    },
    {
     "name": "stderr",
     "output_type": "stream",
     "text": [
      "Backend of the input object is read-only, will change that to an 'MsBackendMemory'\n",
      "\n"
     ]
    },
    {
     "name": "stdout",
     "output_type": "stream",
     "text": [
      "[1] \"M593T899\"\n"
     ]
    },
    {
     "name": "stderr",
     "output_type": "stream",
     "text": [
      "Backend of the input object is read-only, will change that to an 'MsBackendMemory'\n",
      "\n"
     ]
    },
    {
     "name": "stdout",
     "output_type": "stream",
     "text": [
      "[1] \"M233T900\"\n"
     ]
    },
    {
     "name": "stderr",
     "output_type": "stream",
     "text": [
      "Backend of the input object is read-only, will change that to an 'MsBackendMemory'\n",
      "\n"
     ]
    },
    {
     "name": "stdout",
     "output_type": "stream",
     "text": [
      "[1] \"M296T907_1\"\n"
     ]
    },
    {
     "name": "stderr",
     "output_type": "stream",
     "text": [
      "Backend of the input object is read-only, will change that to an 'MsBackendMemory'\n",
      "\n"
     ]
    },
    {
     "name": "stdout",
     "output_type": "stream",
     "text": [
      "[1] \"M553T908_2\"\n"
     ]
    },
    {
     "name": "stderr",
     "output_type": "stream",
     "text": [
      "Backend of the input object is read-only, will change that to an 'MsBackendMemory'\n",
      "\n"
     ]
    },
    {
     "name": "stdout",
     "output_type": "stream",
     "text": [
      "[1] \"M552T908\"\n"
     ]
    },
    {
     "name": "stderr",
     "output_type": "stream",
     "text": [
      "Backend of the input object is read-only, will change that to an 'MsBackendMemory'\n",
      "\n",
      "Warning message:\n",
      "\"'combinePeaks' for lists of peak matrices is deprecated; please use 'combinePeaksData' instead.\"\n"
     ]
    },
    {
     "name": "stdout",
     "output_type": "stream",
     "text": [
      "[1] \"M276T920\"\n"
     ]
    },
    {
     "name": "stderr",
     "output_type": "stream",
     "text": [
      "Backend of the input object is read-only, will change that to an 'MsBackendMemory'\n",
      "\n"
     ]
    },
    {
     "name": "stdout",
     "output_type": "stream",
     "text": [
      "[1] \"M511T932\"\n"
     ]
    },
    {
     "name": "stderr",
     "output_type": "stream",
     "text": [
      "Backend of the input object is read-only, will change that to an 'MsBackendMemory'\n",
      "\n"
     ]
    },
    {
     "name": "stdout",
     "output_type": "stream",
     "text": [
      "[1] \"M512T945\"\n"
     ]
    },
    {
     "name": "stderr",
     "output_type": "stream",
     "text": [
      "Backend of the input object is read-only, will change that to an 'MsBackendMemory'\n",
      "\n"
     ]
    },
    {
     "name": "stdout",
     "output_type": "stream",
     "text": [
      "[1] \"M511T947\"\n"
     ]
    },
    {
     "name": "stderr",
     "output_type": "stream",
     "text": [
      "Backend of the input object is read-only, will change that to an 'MsBackendMemory'\n",
      "\n"
     ]
    },
    {
     "name": "stdout",
     "output_type": "stream",
     "text": [
      "[1] \"M534T949\"\n"
     ]
    },
    {
     "name": "stderr",
     "output_type": "stream",
     "text": [
      "Backend of the input object is read-only, will change that to an 'MsBackendMemory'\n",
      "\n",
      "Warning message:\n",
      "\"'combinePeaks' for lists of peak matrices is deprecated; please use 'combinePeaksData' instead.\"\n"
     ]
    },
    {
     "name": "stdout",
     "output_type": "stream",
     "text": [
      "[1] \"M268T949_1\"\n"
     ]
    },
    {
     "name": "stderr",
     "output_type": "stream",
     "text": [
      "Backend of the input object is read-only, will change that to an 'MsBackendMemory'\n",
      "\n"
     ]
    },
    {
     "name": "stdout",
     "output_type": "stream",
     "text": [
      "[1] \"M535T949\"\n"
     ]
    },
    {
     "name": "stderr",
     "output_type": "stream",
     "text": [
      "Backend of the input object is read-only, will change that to an 'MsBackendMemory'\n",
      "\n"
     ]
    },
    {
     "name": "stdout",
     "output_type": "stream",
     "text": [
      "[1] \"M279T951\"\n"
     ]
    },
    {
     "name": "stderr",
     "output_type": "stream",
     "text": [
      "Backend of the input object is read-only, will change that to an 'MsBackendMemory'\n",
      "\n"
     ]
    },
    {
     "name": "stdout",
     "output_type": "stream",
     "text": [
      "[1] \"M309T959\"\n"
     ]
    },
    {
     "name": "stderr",
     "output_type": "stream",
     "text": [
      "Backend of the input object is read-only, will change that to an 'MsBackendMemory'\n",
      "\n"
     ]
    },
    {
     "name": "stdout",
     "output_type": "stream",
     "text": [
      "[1] \"M372T965\"\n"
     ]
    },
    {
     "name": "stderr",
     "output_type": "stream",
     "text": [
      "Backend of the input object is read-only, will change that to an 'MsBackendMemory'\n",
      "\n"
     ]
    },
    {
     "name": "stdout",
     "output_type": "stream",
     "text": [
      "[1] \"M297T976_1\"\n"
     ]
    },
    {
     "name": "stderr",
     "output_type": "stream",
     "text": [
      "Backend of the input object is read-only, will change that to an 'MsBackendMemory'\n",
      "\n"
     ]
    },
    {
     "name": "stdout",
     "output_type": "stream",
     "text": [
      "[1] \"M556T980\"\n"
     ]
    },
    {
     "name": "stderr",
     "output_type": "stream",
     "text": [
      "Backend of the input object is read-only, will change that to an 'MsBackendMemory'\n",
      "\n"
     ]
    },
    {
     "name": "stdout",
     "output_type": "stream",
     "text": [
      "[1] \"M342T981\"\n"
     ]
    },
    {
     "name": "stderr",
     "output_type": "stream",
     "text": [
      "Backend of the input object is read-only, will change that to an 'MsBackendMemory'\n",
      "\n"
     ]
    },
    {
     "name": "stdout",
     "output_type": "stream",
     "text": [
      "[1] \"M748T1029_2\"\n"
     ]
    },
    {
     "name": "stderr",
     "output_type": "stream",
     "text": [
      "Backend of the input object is read-only, will change that to an 'MsBackendMemory'\n",
      "\n"
     ]
    },
    {
     "name": "stdout",
     "output_type": "stream",
     "text": [
      "[1] \"M652T1037\"\n"
     ]
    },
    {
     "name": "stderr",
     "output_type": "stream",
     "text": [
      "Backend of the input object is read-only, will change that to an 'MsBackendMemory'\n",
      "\n"
     ]
    },
    {
     "name": "stdout",
     "output_type": "stream",
     "text": [
      "[1] \"M666T1037\"\n"
     ]
    },
    {
     "name": "stderr",
     "output_type": "stream",
     "text": [
      "Backend of the input object is read-only, will change that to an 'MsBackendMemory'\n",
      "\n"
     ]
    },
    {
     "name": "stdout",
     "output_type": "stream",
     "text": [
      "[1] \"M612T1038\"\n"
     ]
    },
    {
     "name": "stderr",
     "output_type": "stream",
     "text": [
      "Backend of the input object is read-only, will change that to an 'MsBackendMemory'\n",
      "\n"
     ]
    },
    {
     "name": "stdout",
     "output_type": "stream",
     "text": [
      "[1] \"M622T1038_1\"\n"
     ]
    },
    {
     "name": "stderr",
     "output_type": "stream",
     "text": [
      "Backend of the input object is read-only, will change that to an 'MsBackendMemory'\n",
      "\n"
     ]
    },
    {
     "name": "stdout",
     "output_type": "stream",
     "text": [
      "[1] \"M610T1038\"\n"
     ]
    },
    {
     "name": "stderr",
     "output_type": "stream",
     "text": [
      "Backend of the input object is read-only, will change that to an 'MsBackendMemory'\n",
      "\n",
      "Warning message:\n",
      "\"'combinePeaks' for lists of peak matrices is deprecated; please use 'combinePeaksData' instead.\"\n"
     ]
    },
    {
     "name": "stdout",
     "output_type": "stream",
     "text": [
      "[1] \"M611T1038\"\n"
     ]
    },
    {
     "name": "stderr",
     "output_type": "stream",
     "text": [
      "Backend of the input object is read-only, will change that to an 'MsBackendMemory'\n",
      "\n"
     ]
    },
    {
     "name": "stdout",
     "output_type": "stream",
     "text": [
      "[1] \"M639T1062\"\n"
     ]
    },
    {
     "name": "stderr",
     "output_type": "stream",
     "text": [
      "Backend of the input object is read-only, will change that to an 'MsBackendMemory'\n",
      "\n"
     ]
    },
    {
     "name": "stdout",
     "output_type": "stream",
     "text": [
      "[1] \"M236T515\"\n"
     ]
    },
    {
     "name": "stderr",
     "output_type": "stream",
     "text": [
      "Backend of the input object is read-only, will change that to an 'MsBackendMemory'\n",
      "\n"
     ]
    },
    {
     "name": "stdout",
     "output_type": "stream",
     "text": [
      "[1] \"M281T951\"\n"
     ]
    },
    {
     "name": "stderr",
     "output_type": "stream",
     "text": [
      "Backend of the input object is read-only, will change that to an 'MsBackendMemory'\n",
      "\n"
     ]
    },
    {
     "name": "stdout",
     "output_type": "stream",
     "text": [
      "[1] \"M792T1003\"\n"
     ]
    },
    {
     "name": "stderr",
     "output_type": "stream",
     "text": [
      "Backend of the input object is read-only, will change that to an 'MsBackendMemory'\n",
      "\n"
     ]
    },
    {
     "name": "stdout",
     "output_type": "stream",
     "text": [
      "[1] \"M791T1085\"\n"
     ]
    },
    {
     "name": "stderr",
     "output_type": "stream",
     "text": [
      "Backend of the input object is read-only, will change that to an 'MsBackendMemory'\n",
      "\n"
     ]
    },
    {
     "name": "stdout",
     "output_type": "stream",
     "text": [
      "[1] \"M701T107_2\"\n"
     ]
    },
    {
     "name": "stderr",
     "output_type": "stream",
     "text": [
      "Backend of the input object is read-only, will change that to an 'MsBackendMemory'\n",
      "\n"
     ]
    },
    {
     "name": "stdout",
     "output_type": "stream",
     "text": [
      "[1] \"M227T865\"\n"
     ]
    },
    {
     "name": "stderr",
     "output_type": "stream",
     "text": [
      "Backend of the input object is read-only, will change that to an 'MsBackendMemory'\n",
      "\n"
     ]
    },
    {
     "name": "stdout",
     "output_type": "stream",
     "text": [
      "[1] \"M283T872\"\n"
     ]
    },
    {
     "name": "stderr",
     "output_type": "stream",
     "text": [
      "Backend of the input object is read-only, will change that to an 'MsBackendMemory'\n",
      "\n"
     ]
    },
    {
     "name": "stdout",
     "output_type": "stream",
     "text": [
      "[1] \"M229T872\"\n"
     ]
    },
    {
     "name": "stderr",
     "output_type": "stream",
     "text": [
      "Backend of the input object is read-only, will change that to an 'MsBackendMemory'\n",
      "\n"
     ]
    },
    {
     "name": "stdout",
     "output_type": "stream",
     "text": [
      "[1] \"M228T872\"\n"
     ]
    },
    {
     "name": "stderr",
     "output_type": "stream",
     "text": [
      "Backend of the input object is read-only, will change that to an 'MsBackendMemory'\n",
      "\n",
      "Warning message:\n",
      "\"'combinePeaks' for lists of peak matrices is deprecated; please use 'combinePeaksData' instead.\"\n"
     ]
    },
    {
     "name": "stdout",
     "output_type": "stream",
     "text": [
      "[1] \"M282T872\"\n"
     ]
    },
    {
     "name": "stderr",
     "output_type": "stream",
     "text": [
      "Backend of the input object is read-only, will change that to an 'MsBackendMemory'\n",
      "\n",
      "Warning message:\n",
      "\"'combinePeaks' for lists of peak matrices is deprecated; please use 'combinePeaksData' instead.\"\n"
     ]
    },
    {
     "name": "stdout",
     "output_type": "stream",
     "text": [
      "[1] \"M250T872\"\n"
     ]
    },
    {
     "name": "stderr",
     "output_type": "stream",
     "text": [
      "Backend of the input object is read-only, will change that to an 'MsBackendMemory'\n",
      "\n"
     ]
    },
    {
     "name": "stdout",
     "output_type": "stream",
     "text": [
      "[1] \"M593T873\"\n"
     ]
    },
    {
     "name": "stderr",
     "output_type": "stream",
     "text": [
      "Backend of the input object is read-only, will change that to an 'MsBackendMemory'\n",
      "\n"
     ]
    },
    {
     "name": "stdout",
     "output_type": "stream",
     "text": [
      "[1] \"M268T875\"\n"
     ]
    },
    {
     "name": "stderr",
     "output_type": "stream",
     "text": [
      "Backend of the input object is read-only, will change that to an 'MsBackendMemory'\n",
      "\n"
     ]
    },
    {
     "name": "stdout",
     "output_type": "stream",
     "text": [
      "[1] \"M315T820\"\n"
     ]
    },
    {
     "name": "stderr",
     "output_type": "stream",
     "text": [
      "Backend of the input object is read-only, will change that to an 'MsBackendMemory'\n",
      "\n"
     ]
    },
    {
     "name": "stdout",
     "output_type": "stream",
     "text": [
      "[1] \"M315T842\"\n"
     ]
    },
    {
     "name": "stderr",
     "output_type": "stream",
     "text": [
      "Backend of the input object is read-only, will change that to an 'MsBackendMemory'\n",
      "\n",
      "Warning message:\n",
      "\"'combinePeaks' for lists of peak matrices is deprecated; please use 'combinePeaksData' instead.\"\n"
     ]
    },
    {
     "name": "stdout",
     "output_type": "stream",
     "text": [
      "[1] \"M363T849\"\n"
     ]
    },
    {
     "name": "stderr",
     "output_type": "stream",
     "text": [
      "Backend of the input object is read-only, will change that to an 'MsBackendMemory'\n",
      "\n",
      "Warning message:\n",
      "\"'combinePeaks' for lists of peak matrices is deprecated; please use 'combinePeaksData' instead.\"\n"
     ]
    },
    {
     "name": "stdout",
     "output_type": "stream",
     "text": [
      "[1] \"M275T850\"\n"
     ]
    },
    {
     "name": "stderr",
     "output_type": "stream",
     "text": [
      "Backend of the input object is read-only, will change that to an 'MsBackendMemory'\n",
      "\n"
     ]
    },
    {
     "name": "stdout",
     "output_type": "stream",
     "text": [
      "[1] \"M633T911\"\n"
     ]
    },
    {
     "name": "stderr",
     "output_type": "stream",
     "text": [
      "Backend of the input object is read-only, will change that to an 'MsBackendMemory'\n",
      "\n"
     ]
    },
    {
     "name": "stdout",
     "output_type": "stream",
     "text": [
      "[1] \"M345T946\"\n"
     ]
    },
    {
     "name": "stderr",
     "output_type": "stream",
     "text": [
      "Backend of the input object is read-only, will change that to an 'MsBackendMemory'\n",
      "\n"
     ]
    },
    {
     "name": "stdout",
     "output_type": "stream",
     "text": [
      "[1] \"M225T949\"\n"
     ]
    },
    {
     "name": "stderr",
     "output_type": "stream",
     "text": [
      "Backend of the input object is read-only, will change that to an 'MsBackendMemory'\n",
      "\n"
     ]
    },
    {
     "name": "stdout",
     "output_type": "stream",
     "text": [
      "[1] \"M170T232\"\n"
     ]
    },
    {
     "name": "stderr",
     "output_type": "stream",
     "text": [
      "Backend of the input object is read-only, will change that to an 'MsBackendMemory'\n",
      "\n"
     ]
    },
    {
     "name": "stdout",
     "output_type": "stream",
     "text": [
      "[1] \"M191T233\"\n"
     ]
    },
    {
     "name": "stderr",
     "output_type": "stream",
     "text": [
      "Backend of the input object is read-only, will change that to an 'MsBackendMemory'\n",
      "\n"
     ]
    },
    {
     "name": "stdout",
     "output_type": "stream",
     "text": [
      "[1] \"M169T233\"\n"
     ]
    },
    {
     "name": "stderr",
     "output_type": "stream",
     "text": [
      "Backend of the input object is read-only, will change that to an 'MsBackendMemory'\n",
      "\n",
      "Warning message:\n",
      "\"'combinePeaks' for lists of peak matrices is deprecated; please use 'combinePeaksData' instead.\"\n"
     ]
    },
    {
     "name": "stdout",
     "output_type": "stream",
     "text": [
      "[1] \"M153T308\"\n"
     ]
    },
    {
     "name": "stderr",
     "output_type": "stream",
     "text": [
      "Backend of the input object is read-only, will change that to an 'MsBackendMemory'\n",
      "\n",
      "Warning message:\n",
      "\"'combinePeaks' for lists of peak matrices is deprecated; please use 'combinePeaksData' instead.\"\n"
     ]
    },
    {
     "name": "stdout",
     "output_type": "stream",
     "text": [
      "[1] \"M202T566\"\n"
     ]
    },
    {
     "name": "stderr",
     "output_type": "stream",
     "text": [
      "Backend of the input object is read-only, will change that to an 'MsBackendMemory'\n",
      "\n"
     ]
    },
    {
     "name": "stdout",
     "output_type": "stream",
     "text": [
      "[1] \"M220T717\"\n"
     ]
    },
    {
     "name": "stderr",
     "output_type": "stream",
     "text": [
      "Backend of the input object is read-only, will change that to an 'MsBackendMemory'\n",
      "\n"
     ]
    },
    {
     "name": "stdout",
     "output_type": "stream",
     "text": [
      "[1] \"M248T811\"\n"
     ]
    },
    {
     "name": "stderr",
     "output_type": "stream",
     "text": [
      "Backend of the input object is read-only, will change that to an 'MsBackendMemory'\n",
      "\n"
     ]
    },
    {
     "name": "stdout",
     "output_type": "stream",
     "text": [
      "[1] \"M422T940\"\n"
     ]
    },
    {
     "name": "stderr",
     "output_type": "stream",
     "text": [
      "Backend of the input object is read-only, will change that to an 'MsBackendMemory'\n",
      "\n"
     ]
    },
    {
     "name": "stdout",
     "output_type": "stream",
     "text": [
      "[1] \"M448T955_2\"\n"
     ]
    },
    {
     "name": "stderr",
     "output_type": "stream",
     "text": [
      "Backend of the input object is read-only, will change that to an 'MsBackendMemory'\n",
      "\n"
     ]
    },
    {
     "name": "stdout",
     "output_type": "stream",
     "text": [
      "[1] \"M449T955\"\n"
     ]
    },
    {
     "name": "stderr",
     "output_type": "stream",
     "text": [
      "Backend of the input object is read-only, will change that to an 'MsBackendMemory'\n",
      "\n"
     ]
    },
    {
     "name": "stdout",
     "output_type": "stream",
     "text": [
      "[1] \"M527T1025\"\n"
     ]
    },
    {
     "name": "stderr",
     "output_type": "stream",
     "text": [
      "Backend of the input object is read-only, will change that to an 'MsBackendMemory'\n",
      "\n"
     ]
    },
    {
     "name": "stdout",
     "output_type": "stream",
     "text": [
      "[1] \"M527T1029_2\"\n"
     ]
    },
    {
     "name": "stderr",
     "output_type": "stream",
     "text": [
      "Backend of the input object is read-only, will change that to an 'MsBackendMemory'\n",
      "\n"
     ]
    },
    {
     "name": "stdout",
     "output_type": "stream",
     "text": [
      "[1] \"M329T1072\"\n"
     ]
    },
    {
     "name": "stderr",
     "output_type": "stream",
     "text": [
      "Backend of the input object is read-only, will change that to an 'MsBackendMemory'\n",
      "\n"
     ]
    },
    {
     "name": "stdout",
     "output_type": "stream",
     "text": [
      "[1] \"M457T104\"\n"
     ]
    },
    {
     "name": "stderr",
     "output_type": "stream",
     "text": [
      "Backend of the input object is read-only, will change that to an 'MsBackendMemory'\n",
      "\n"
     ]
    },
    {
     "name": "stdout",
     "output_type": "stream",
     "text": [
      "[1] \"M614T389\"\n"
     ]
    },
    {
     "name": "stderr",
     "output_type": "stream",
     "text": [
      "Backend of the input object is read-only, will change that to an 'MsBackendMemory'\n",
      "\n"
     ]
    },
    {
     "name": "stdout",
     "output_type": "stream",
     "text": [
      "[1] \"M384T858\"\n"
     ]
    },
    {
     "name": "stderr",
     "output_type": "stream",
     "text": [
      "Backend of the input object is read-only, will change that to an 'MsBackendMemory'\n",
      "\n"
     ]
    },
    {
     "name": "stdout",
     "output_type": "stream",
     "text": [
      "[1] \"M272T875_2\"\n"
     ]
    },
    {
     "name": "stderr",
     "output_type": "stream",
     "text": [
      "Backend of the input object is read-only, will change that to an 'MsBackendMemory'\n",
      "\n"
     ]
    },
    {
     "name": "stdout",
     "output_type": "stream",
     "text": [
      "[1] \"M616T883\"\n"
     ]
    },
    {
     "name": "stderr",
     "output_type": "stream",
     "text": [
      "Backend of the input object is read-only, will change that to an 'MsBackendMemory'\n",
      "\n",
      "Warning message:\n",
      "\"'combinePeaks' for lists of peak matrices is deprecated; please use 'combinePeaksData' instead.\"\n"
     ]
    },
    {
     "name": "stdout",
     "output_type": "stream",
     "text": [
      "[1] \"M618T883\"\n"
     ]
    },
    {
     "name": "stderr",
     "output_type": "stream",
     "text": [
      "Backend of the input object is read-only, will change that to an 'MsBackendMemory'\n",
      "\n"
     ]
    },
    {
     "name": "stdout",
     "output_type": "stream",
     "text": [
      "[1] \"M615T883\"\n"
     ]
    },
    {
     "name": "stderr",
     "output_type": "stream",
     "text": [
      "Backend of the input object is read-only, will change that to an 'MsBackendMemory'\n",
      "\n"
     ]
    },
    {
     "name": "stdout",
     "output_type": "stream",
     "text": [
      "[1] \"M676T883_2\"\n"
     ]
    },
    {
     "name": "stderr",
     "output_type": "stream",
     "text": [
      "Backend of the input object is read-only, will change that to an 'MsBackendMemory'\n",
      "\n",
      "Warning message:\n",
      "\"'combinePeaks' for lists of peak matrices is deprecated; please use 'combinePeaksData' instead.\"\n"
     ]
    },
    {
     "name": "stdout",
     "output_type": "stream",
     "text": [
      "[1] \"M614T883\"\n"
     ]
    },
    {
     "name": "stderr",
     "output_type": "stream",
     "text": [
      "Backend of the input object is read-only, will change that to an 'MsBackendMemory'\n",
      "\n"
     ]
    },
    {
     "name": "stdout",
     "output_type": "stream",
     "text": [
      "[1] \"M617T883_3\"\n"
     ]
    },
    {
     "name": "stderr",
     "output_type": "stream",
     "text": [
      "Backend of the input object is read-only, will change that to an 'MsBackendMemory'\n",
      "\n"
     ]
    },
    {
     "name": "stdout",
     "output_type": "stream",
     "text": [
      "[1] \"M386T884\"\n"
     ]
    },
    {
     "name": "stderr",
     "output_type": "stream",
     "text": [
      "Backend of the input object is read-only, will change that to an 'MsBackendMemory'\n",
      "\n",
      "Warning message:\n",
      "\"'combinePeaks' for lists of peak matrices is deprecated; please use 'combinePeaksData' instead.\"\n"
     ]
    },
    {
     "name": "stdout",
     "output_type": "stream",
     "text": [
      "[1] \"M928T892\"\n"
     ]
    },
    {
     "name": "stderr",
     "output_type": "stream",
     "text": [
      "Backend of the input object is read-only, will change that to an 'MsBackendMemory'\n",
      "\n"
     ]
    },
    {
     "name": "stdout",
     "output_type": "stream",
     "text": [
      "[1] \"M255T896\"\n"
     ]
    },
    {
     "name": "stderr",
     "output_type": "stream",
     "text": [
      "Backend of the input object is read-only, will change that to an 'MsBackendMemory'\n",
      "\n"
     ]
    },
    {
     "name": "stdout",
     "output_type": "stream",
     "text": [
      "[1] \"M583T899\"\n"
     ]
    },
    {
     "name": "stderr",
     "output_type": "stream",
     "text": [
      "Backend of the input object is read-only, will change that to an 'MsBackendMemory'\n",
      "\n",
      "Warning message:\n",
      "\"'combinePeaks' for lists of peak matrices is deprecated; please use 'combinePeaksData' instead.\"\n"
     ]
    },
    {
     "name": "stdout",
     "output_type": "stream",
     "text": [
      "[1] \"M478T935\"\n"
     ]
    },
    {
     "name": "stderr",
     "output_type": "stream",
     "text": [
      "Backend of the input object is read-only, will change that to an 'MsBackendMemory'\n",
      "\n"
     ]
    },
    {
     "name": "stdout",
     "output_type": "stream",
     "text": [
      "[1] \"M221T940\"\n"
     ]
    },
    {
     "name": "stderr",
     "output_type": "stream",
     "text": [
      "Backend of the input object is read-only, will change that to an 'MsBackendMemory'\n",
      "\n"
     ]
    },
    {
     "name": "stdout",
     "output_type": "stream",
     "text": [
      "[1] \"M357T944\"\n"
     ]
    },
    {
     "name": "stderr",
     "output_type": "stream",
     "text": [
      "Backend of the input object is read-only, will change that to an 'MsBackendMemory'\n",
      "\n"
     ]
    },
    {
     "name": "stdout",
     "output_type": "stream",
     "text": [
      "[1] \"M288T944\"\n"
     ]
    },
    {
     "name": "stderr",
     "output_type": "stream",
     "text": [
      "Backend of the input object is read-only, will change that to an 'MsBackendMemory'\n",
      "\n"
     ]
    },
    {
     "name": "stdout",
     "output_type": "stream",
     "text": [
      "[1] \"M243T955\"\n"
     ]
    },
    {
     "name": "stderr",
     "output_type": "stream",
     "text": [
      "Backend of the input object is read-only, will change that to an 'MsBackendMemory'\n",
      "\n"
     ]
    },
    {
     "name": "stdout",
     "output_type": "stream",
     "text": [
      "[1] \"M314T977\"\n"
     ]
    },
    {
     "name": "stderr",
     "output_type": "stream",
     "text": [
      "Backend of the input object is read-only, will change that to an 'MsBackendMemory'\n",
      "\n"
     ]
    },
    {
     "name": "stdout",
     "output_type": "stream",
     "text": [
      "[1] \"M247T985\"\n"
     ]
    },
    {
     "name": "stderr",
     "output_type": "stream",
     "text": [
      "Backend of the input object is read-only, will change that to an 'MsBackendMemory'\n",
      "\n"
     ]
    },
    {
     "name": "stdout",
     "output_type": "stream",
     "text": [
      "[1] \"M379T986\"\n"
     ]
    },
    {
     "name": "stderr",
     "output_type": "stream",
     "text": [
      "Backend of the input object is read-only, will change that to an 'MsBackendMemory'\n",
      "\n"
     ]
    },
    {
     "name": "stdout",
     "output_type": "stream",
     "text": [
      "[1] \"M378T994_2\"\n"
     ]
    },
    {
     "name": "stderr",
     "output_type": "stream",
     "text": [
      "Backend of the input object is read-only, will change that to an 'MsBackendMemory'\n",
      "\n"
     ]
    },
    {
     "name": "stdout",
     "output_type": "stream",
     "text": [
      "[1] \"M476T1018\"\n"
     ]
    },
    {
     "name": "stderr",
     "output_type": "stream",
     "text": [
      "Backend of the input object is read-only, will change that to an 'MsBackendMemory'\n",
      "\n"
     ]
    },
    {
     "name": "stdout",
     "output_type": "stream",
     "text": [
      "[1] \"M478T1029_2\"\n"
     ]
    },
    {
     "name": "stderr",
     "output_type": "stream",
     "text": [
      "Backend of the input object is read-only, will change that to an 'MsBackendMemory'\n",
      "\n",
      "Warning message:\n",
      "\"'combinePeaks' for lists of peak matrices is deprecated; please use 'combinePeaksData' instead.\"\n"
     ]
    },
    {
     "name": "stdout",
     "output_type": "stream",
     "text": [
      "[1] \"M635T100\"\n"
     ]
    },
    {
     "name": "stderr",
     "output_type": "stream",
     "text": [
      "Backend of the input object is read-only, will change that to an 'MsBackendMemory'\n",
      "\n"
     ]
    },
    {
     "name": "stdout",
     "output_type": "stream",
     "text": [
      "[1] \"M186T504\"\n"
     ]
    },
    {
     "name": "stderr",
     "output_type": "stream",
     "text": [
      "Backend of the input object is read-only, will change that to an 'MsBackendMemory'\n",
      "\n"
     ]
    },
    {
     "name": "stdout",
     "output_type": "stream",
     "text": [
      "[1] \"M304T523\"\n"
     ]
    },
    {
     "name": "stderr",
     "output_type": "stream",
     "text": [
      "Backend of the input object is read-only, will change that to an 'MsBackendMemory'\n",
      "\n"
     ]
    },
    {
     "name": "stdout",
     "output_type": "stream",
     "text": [
      "[1] \"M304T527\"\n"
     ]
    },
    {
     "name": "stderr",
     "output_type": "stream",
     "text": [
      "Backend of the input object is read-only, will change that to an 'MsBackendMemory'\n",
      "\n"
     ]
    },
    {
     "name": "stdout",
     "output_type": "stream",
     "text": [
      "[1] \"M266T535\"\n"
     ]
    },
    {
     "name": "stderr",
     "output_type": "stream",
     "text": [
      "Backend of the input object is read-only, will change that to an 'MsBackendMemory'\n",
      "\n"
     ]
    },
    {
     "name": "stdout",
     "output_type": "stream",
     "text": [
      "[1] \"M276T874\"\n"
     ]
    },
    {
     "name": "stderr",
     "output_type": "stream",
     "text": [
      "Backend of the input object is read-only, will change that to an 'MsBackendMemory'\n",
      "\n"
     ]
    },
    {
     "name": "stdout",
     "output_type": "stream",
     "text": [
      "[1] \"M300T878\"\n"
     ]
    },
    {
     "name": "stderr",
     "output_type": "stream",
     "text": [
      "Backend of the input object is read-only, will change that to an 'MsBackendMemory'\n",
      "\n",
      "Warning message:\n",
      "\"'combinePeaks' for lists of peak matrices is deprecated; please use 'combinePeaksData' instead.\"\n"
     ]
    },
    {
     "name": "stdout",
     "output_type": "stream",
     "text": [
      "[1] \"M301T879\"\n"
     ]
    },
    {
     "name": "stderr",
     "output_type": "stream",
     "text": [
      "Backend of the input object is read-only, will change that to an 'MsBackendMemory'\n",
      "\n"
     ]
    },
    {
     "name": "stdout",
     "output_type": "stream",
     "text": [
      "[1] \"M302T879\"\n"
     ]
    },
    {
     "name": "stderr",
     "output_type": "stream",
     "text": [
      "Backend of the input object is read-only, will change that to an 'MsBackendMemory'\n",
      "\n"
     ]
    },
    {
     "name": "stdout",
     "output_type": "stream",
     "text": [
      "[1] \"M283T879\"\n"
     ]
    },
    {
     "name": "stderr",
     "output_type": "stream",
     "text": [
      "Backend of the input object is read-only, will change that to an 'MsBackendMemory'\n",
      "\n"
     ]
    },
    {
     "name": "stdout",
     "output_type": "stream",
     "text": [
      "[1] \"M318T892\"\n"
     ]
    },
    {
     "name": "stderr",
     "output_type": "stream",
     "text": [
      "Backend of the input object is read-only, will change that to an 'MsBackendMemory'\n",
      "\n"
     ]
    },
    {
     "name": "stdout",
     "output_type": "stream",
     "text": [
      "[1] \"M290T893\"\n"
     ]
    },
    {
     "name": "stderr",
     "output_type": "stream",
     "text": [
      "Backend of the input object is read-only, will change that to an 'MsBackendMemory'\n",
      "\n"
     ]
    },
    {
     "name": "stdout",
     "output_type": "stream",
     "text": [
      "[1] \"M268T893\"\n"
     ]
    },
    {
     "name": "stderr",
     "output_type": "stream",
     "text": [
      "Backend of the input object is read-only, will change that to an 'MsBackendMemory'\n",
      "\n"
     ]
    },
    {
     "name": "stdout",
     "output_type": "stream",
     "text": [
      "[1] \"M302T901\"\n"
     ]
    },
    {
     "name": "stderr",
     "output_type": "stream",
     "text": [
      "Backend of the input object is read-only, will change that to an 'MsBackendMemory'\n",
      "\n",
      "Warning message:\n",
      "\"'combinePeaks' for lists of peak matrices is deprecated; please use 'combinePeaksData' instead.\"\n"
     ]
    },
    {
     "name": "stdout",
     "output_type": "stream",
     "text": [
      "[1] \"M285T902\"\n"
     ]
    },
    {
     "name": "stderr",
     "output_type": "stream",
     "text": [
      "Backend of the input object is read-only, will change that to an 'MsBackendMemory'\n",
      "\n"
     ]
    },
    {
     "name": "stdout",
     "output_type": "stream",
     "text": [
      "[1] \"M304T902\"\n"
     ]
    },
    {
     "name": "stderr",
     "output_type": "stream",
     "text": [
      "Backend of the input object is read-only, will change that to an 'MsBackendMemory'\n",
      "\n"
     ]
    },
    {
     "name": "stdout",
     "output_type": "stream",
     "text": [
      "[1] \"M303T902\"\n"
     ]
    },
    {
     "name": "stderr",
     "output_type": "stream",
     "text": [
      "Backend of the input object is read-only, will change that to an 'MsBackendMemory'\n",
      "\n"
     ]
    },
    {
     "name": "stdout",
     "output_type": "stream",
     "text": [
      "[1] \"M242T919\"\n"
     ]
    },
    {
     "name": "stderr",
     "output_type": "stream",
     "text": [
      "Backend of the input object is read-only, will change that to an 'MsBackendMemory'\n",
      "\n"
     ]
    },
    {
     "name": "stdout",
     "output_type": "stream",
     "text": [
      "[1] \"M344T930\"\n"
     ]
    },
    {
     "name": "stderr",
     "output_type": "stream",
     "text": [
      "Backend of the input object is read-only, will change that to an 'MsBackendMemory'\n",
      "\n"
     ]
    },
    {
     "name": "stdout",
     "output_type": "stream",
     "text": [
      "[1] \"M330T932\"\n"
     ]
    },
    {
     "name": "stderr",
     "output_type": "stream",
     "text": [
      "Backend of the input object is read-only, will change that to an 'MsBackendMemory'\n",
      "\n"
     ]
    },
    {
     "name": "stdout",
     "output_type": "stream",
     "text": [
      "[1] \"M231T946\"\n"
     ]
    },
    {
     "name": "stderr",
     "output_type": "stream",
     "text": [
      "Backend of the input object is read-only, will change that to an 'MsBackendMemory'\n",
      "\n"
     ]
    },
    {
     "name": "stdout",
     "output_type": "stream",
     "text": [
      "[1] \"M209T946\"\n"
     ]
    },
    {
     "name": "stderr",
     "output_type": "stream",
     "text": [
      "Backend of the input object is read-only, will change that to an 'MsBackendMemory'\n",
      "\n"
     ]
    },
    {
     "name": "stdout",
     "output_type": "stream",
     "text": [
      "[1] \"M211T950\"\n"
     ]
    },
    {
     "name": "stderr",
     "output_type": "stream",
     "text": [
      "Backend of the input object is read-only, will change that to an 'MsBackendMemory'\n",
      "\n"
     ]
    },
    {
     "name": "stdout",
     "output_type": "stream",
     "text": [
      "[1] \"M233T950\"\n"
     ]
    },
    {
     "name": "stderr",
     "output_type": "stream",
     "text": [
      "Backend of the input object is read-only, will change that to an 'MsBackendMemory'\n",
      "\n"
     ]
    },
    {
     "name": "stdout",
     "output_type": "stream",
     "text": [
      "[1] \"M225T986_2\"\n"
     ]
    },
    {
     "name": "stderr",
     "output_type": "stream",
     "text": [
      "Backend of the input object is read-only, will change that to an 'MsBackendMemory'\n",
      "\n"
     ]
    },
    {
     "name": "stdout",
     "output_type": "stream",
     "text": [
      "[1] \"M225T986_1\"\n"
     ]
    },
    {
     "name": "stderr",
     "output_type": "stream",
     "text": [
      "Backend of the input object is read-only, will change that to an 'MsBackendMemory'\n",
      "\n"
     ]
    },
    {
     "name": "stdout",
     "output_type": "stream",
     "text": [
      "[1] \"M580T100_1\"\n"
     ]
    },
    {
     "name": "stderr",
     "output_type": "stream",
     "text": [
      "Backend of the input object is read-only, will change that to an 'MsBackendMemory'\n",
      "\n"
     ]
    },
    {
     "name": "stdout",
     "output_type": "stream",
     "text": [
      "[1] \"M577T100\"\n"
     ]
    },
    {
     "name": "stderr",
     "output_type": "stream",
     "text": [
      "Backend of the input object is read-only, will change that to an 'MsBackendMemory'\n",
      "\n"
     ]
    },
    {
     "name": "stdout",
     "output_type": "stream",
     "text": [
      "[1] \"M578T101_1\"\n"
     ]
    },
    {
     "name": "stderr",
     "output_type": "stream",
     "text": [
      "Backend of the input object is read-only, will change that to an 'MsBackendMemory'\n",
      "\n"
     ]
    },
    {
     "name": "stdout",
     "output_type": "stream",
     "text": [
      "[1] \"M557T102\"\n"
     ]
    },
    {
     "name": "stderr",
     "output_type": "stream",
     "text": [
      "Backend of the input object is read-only, will change that to an 'MsBackendMemory'\n",
      "\n"
     ]
    },
    {
     "name": "stdout",
     "output_type": "stream",
     "text": [
      "[1] \"M559T102\"\n"
     ]
    },
    {
     "name": "stderr",
     "output_type": "stream",
     "text": [
      "Backend of the input object is read-only, will change that to an 'MsBackendMemory'\n",
      "\n"
     ]
    },
    {
     "name": "stdout",
     "output_type": "stream",
     "text": [
      "[1] \"M83T111\"\n"
     ]
    },
    {
     "name": "stderr",
     "output_type": "stream",
     "text": [
      "Backend of the input object is read-only, will change that to an 'MsBackendMemory'\n",
      "\n"
     ]
    },
    {
     "name": "stdout",
     "output_type": "stream",
     "text": [
      "[1] \"M695T113\"\n"
     ]
    },
    {
     "name": "stderr",
     "output_type": "stream",
     "text": [
      "Backend of the input object is read-only, will change that to an 'MsBackendMemory'\n",
      "\n"
     ]
    },
    {
     "name": "stdout",
     "output_type": "stream",
     "text": [
      "[1] \"M136T413\"\n"
     ]
    },
    {
     "name": "stderr",
     "output_type": "stream",
     "text": [
      "Backend of the input object is read-only, will change that to an 'MsBackendMemory'\n",
      "\n"
     ]
    },
    {
     "name": "stdout",
     "output_type": "stream",
     "text": [
      "[1] \"M209T413\"\n"
     ]
    },
    {
     "name": "stderr",
     "output_type": "stream",
     "text": [
      "Backend of the input object is read-only, will change that to an 'MsBackendMemory'\n",
      "\n",
      "Warning message:\n",
      "\"'combinePeaks' for lists of peak matrices is deprecated; please use 'combinePeaksData' instead.\"\n"
     ]
    },
    {
     "name": "stdout",
     "output_type": "stream",
     "text": [
      "[1] \"M210T413\"\n"
     ]
    },
    {
     "name": "stderr",
     "output_type": "stream",
     "text": [
      "Backend of the input object is read-only, will change that to an 'MsBackendMemory'\n",
      "\n"
     ]
    },
    {
     "name": "stdout",
     "output_type": "stream",
     "text": [
      "[1] \"M192T413\"\n"
     ]
    },
    {
     "name": "stderr",
     "output_type": "stream",
     "text": [
      "Backend of the input object is read-only, will change that to an 'MsBackendMemory'\n",
      "\n",
      "Warning message:\n",
      "\"'combinePeaks' for lists of peak matrices is deprecated; please use 'combinePeaksData' instead.\"\n"
     ]
    },
    {
     "name": "stdout",
     "output_type": "stream",
     "text": [
      "[1] \"M120T413\"\n"
     ]
    },
    {
     "name": "stderr",
     "output_type": "stream",
     "text": [
      "Backend of the input object is read-only, will change that to an 'MsBackendMemory'\n",
      "\n"
     ]
    },
    {
     "name": "stdout",
     "output_type": "stream",
     "text": [
      "[1] \"M455T873\"\n"
     ]
    },
    {
     "name": "stderr",
     "output_type": "stream",
     "text": [
      "Backend of the input object is read-only, will change that to an 'MsBackendMemory'\n",
      "\n"
     ]
    },
    {
     "name": "stdout",
     "output_type": "stream",
     "text": [
      "[1] \"M260T874\"\n"
     ]
    },
    {
     "name": "stderr",
     "output_type": "stream",
     "text": [
      "Backend of the input object is read-only, will change that to an 'MsBackendMemory'\n",
      "\n"
     ]
    },
    {
     "name": "stdout",
     "output_type": "stream",
     "text": [
      "[1] \"M479T102_2\"\n"
     ]
    },
    {
     "name": "stderr",
     "output_type": "stream",
     "text": [
      "Backend of the input object is read-only, will change that to an 'MsBackendMemory'\n",
      "\n"
     ]
    },
    {
     "name": "stdout",
     "output_type": "stream",
     "text": [
      "[1] \"M480T102_1\"\n"
     ]
    },
    {
     "name": "stderr",
     "output_type": "stream",
     "text": [
      "Backend of the input object is read-only, will change that to an 'MsBackendMemory'\n",
      "\n"
     ]
    },
    {
     "name": "stdout",
     "output_type": "stream",
     "text": [
      "[1] \"M130T170\"\n"
     ]
    },
    {
     "name": "stderr",
     "output_type": "stream",
     "text": [
      "Backend of the input object is read-only, will change that to an 'MsBackendMemory'\n",
      "\n",
      "Warning message:\n",
      "\"'combinePeaks' for lists of peak matrices is deprecated; please use 'combinePeaksData' instead.\"\n"
     ]
    },
    {
     "name": "stdout",
     "output_type": "stream",
     "text": [
      "[1] \"M361T233\"\n"
     ]
    },
    {
     "name": "stderr",
     "output_type": "stream",
     "text": [
      "Backend of the input object is read-only, will change that to an 'MsBackendMemory'\n",
      "\n"
     ]
    },
    {
     "name": "stdout",
     "output_type": "stream",
     "text": [
      "[1] \"M240T350\"\n"
     ]
    },
    {
     "name": "stderr",
     "output_type": "stream",
     "text": [
      "Backend of the input object is read-only, will change that to an 'MsBackendMemory'\n",
      "\n"
     ]
    },
    {
     "name": "stdout",
     "output_type": "stream",
     "text": [
      "[1] \"M184T394\"\n"
     ]
    },
    {
     "name": "stderr",
     "output_type": "stream",
     "text": [
      "Backend of the input object is read-only, will change that to an 'MsBackendMemory'\n",
      "\n"
     ]
    },
    {
     "name": "stdout",
     "output_type": "stream",
     "text": [
      "[1] \"M258T506\"\n"
     ]
    },
    {
     "name": "stderr",
     "output_type": "stream",
     "text": [
      "Backend of the input object is read-only, will change that to an 'MsBackendMemory'\n",
      "\n"
     ]
    },
    {
     "name": "stdout",
     "output_type": "stream",
     "text": [
      "[1] \"M362T767\"\n"
     ]
    },
    {
     "name": "stderr",
     "output_type": "stream",
     "text": [
      "Backend of the input object is read-only, will change that to an 'MsBackendMemory'\n",
      "\n"
     ]
    },
    {
     "name": "stdout",
     "output_type": "stream",
     "text": [
      "[1] \"M347T831\"\n"
     ]
    },
    {
     "name": "stderr",
     "output_type": "stream",
     "text": [
      "Backend of the input object is read-only, will change that to an 'MsBackendMemory'\n",
      "\n"
     ]
    },
    {
     "name": "stdout",
     "output_type": "stream",
     "text": [
      "[1] \"M273T875\"\n"
     ]
    },
    {
     "name": "stderr",
     "output_type": "stream",
     "text": [
      "Backend of the input object is read-only, will change that to an 'MsBackendMemory'\n",
      "\n"
     ]
    },
    {
     "name": "stdout",
     "output_type": "stream",
     "text": [
      "[1] \"M369T892_2\"\n"
     ]
    },
    {
     "name": "stderr",
     "output_type": "stream",
     "text": [
      "Backend of the input object is read-only, will change that to an 'MsBackendMemory'\n",
      "\n"
     ]
    },
    {
     "name": "stdout",
     "output_type": "stream",
     "text": [
      "[1] \"M275T908\"\n"
     ]
    },
    {
     "name": "stderr",
     "output_type": "stream",
     "text": [
      "Backend of the input object is read-only, will change that to an 'MsBackendMemory'\n",
      "\n",
      "Warning message:\n",
      "\"'combinePeaks' for lists of peak matrices is deprecated; please use 'combinePeaksData' instead.\"\n"
     ]
    },
    {
     "name": "stdout",
     "output_type": "stream",
     "text": [
      "[1] \"M316T925\"\n"
     ]
    },
    {
     "name": "stderr",
     "output_type": "stream",
     "text": [
      "Backend of the input object is read-only, will change that to an 'MsBackendMemory'\n",
      "\n"
     ]
    },
    {
     "name": "stdout",
     "output_type": "stream",
     "text": [
      "[1] \"M447T941\"\n"
     ]
    },
    {
     "name": "stderr",
     "output_type": "stream",
     "text": [
      "Backend of the input object is read-only, will change that to an 'MsBackendMemory'\n",
      "\n"
     ]
    },
    {
     "name": "stdout",
     "output_type": "stream",
     "text": [
      "[1] \"M446T942\"\n"
     ]
    },
    {
     "name": "stderr",
     "output_type": "stream",
     "text": [
      "Backend of the input object is read-only, will change that to an 'MsBackendMemory'\n",
      "\n",
      "Warning message:\n",
      "\"'combinePeaks' for lists of peak matrices is deprecated; please use 'combinePeaksData' instead.\"\n"
     ]
    },
    {
     "name": "stdout",
     "output_type": "stream",
     "text": [
      "[1] \"M412T957\"\n"
     ]
    },
    {
     "name": "stderr",
     "output_type": "stream",
     "text": [
      "Backend of the input object is read-only, will change that to an 'MsBackendMemory'\n",
      "\n"
     ]
    },
    {
     "name": "stdout",
     "output_type": "stream",
     "text": [
      "[1] \"M450T962\"\n"
     ]
    },
    {
     "name": "stderr",
     "output_type": "stream",
     "text": [
      "Backend of the input object is read-only, will change that to an 'MsBackendMemory'\n",
      "\n"
     ]
    },
    {
     "name": "stdout",
     "output_type": "stream",
     "text": [
      "[1] \"M320T1004\"\n"
     ]
    },
    {
     "name": "stderr",
     "output_type": "stream",
     "text": [
      "Backend of the input object is read-only, will change that to an 'MsBackendMemory'\n",
      "\n"
     ]
    },
    {
     "name": "stdout",
     "output_type": "stream",
     "text": [
      "[1] \"M383T1124\"\n"
     ]
    },
    {
     "name": "stderr",
     "output_type": "stream",
     "text": [
      "Backend of the input object is read-only, will change that to an 'MsBackendMemory'\n",
      "\n"
     ]
    },
    {
     "name": "stdout",
     "output_type": "stream",
     "text": [
      "[1] \"M245T91\"\n"
     ]
    },
    {
     "name": "stderr",
     "output_type": "stream",
     "text": [
      "Backend of the input object is read-only, will change that to an 'MsBackendMemory'\n",
      "\n"
     ]
    },
    {
     "name": "stdout",
     "output_type": "stream",
     "text": [
      "[1] \"M534T99\"\n"
     ]
    },
    {
     "name": "stderr",
     "output_type": "stream",
     "text": [
      "Backend of the input object is read-only, will change that to an 'MsBackendMemory'\n",
      "\n"
     ]
    },
    {
     "name": "stdout",
     "output_type": "stream",
     "text": [
      "[1] \"M517T101_2\"\n"
     ]
    },
    {
     "name": "stderr",
     "output_type": "stream",
     "text": [
      "Backend of the input object is read-only, will change that to an 'MsBackendMemory'\n",
      "\n"
     ]
    },
    {
     "name": "stdout",
     "output_type": "stream",
     "text": [
      "[1] \"M466T101_1\"\n"
     ]
    },
    {
     "name": "stderr",
     "output_type": "stream",
     "text": [
      "Backend of the input object is read-only, will change that to an 'MsBackendMemory'\n",
      "\n"
     ]
    },
    {
     "name": "stdout",
     "output_type": "stream",
     "text": [
      "[1] \"M337T102\"\n"
     ]
    },
    {
     "name": "stderr",
     "output_type": "stream",
     "text": [
      "Backend of the input object is read-only, will change that to an 'MsBackendMemory'\n",
      "\n",
      "Warning message:\n",
      "\"'combinePeaks' for lists of peak matrices is deprecated; please use 'combinePeaksData' instead.\"\n"
     ]
    },
    {
     "name": "stdout",
     "output_type": "stream",
     "text": [
      "[1] \"M585T102\"\n"
     ]
    },
    {
     "name": "stderr",
     "output_type": "stream",
     "text": [
      "Backend of the input object is read-only, will change that to an 'MsBackendMemory'\n",
      "\n"
     ]
    },
    {
     "name": "stdout",
     "output_type": "stream",
     "text": [
      "[1] \"M400T103_1\"\n"
     ]
    },
    {
     "name": "stderr",
     "output_type": "stream",
     "text": [
      "Backend of the input object is read-only, will change that to an 'MsBackendMemory'\n",
      "\n"
     ]
    },
    {
     "name": "stdout",
     "output_type": "stream",
     "text": [
      "[1] \"M590T104_1\"\n"
     ]
    },
    {
     "name": "stderr",
     "output_type": "stream",
     "text": [
      "Backend of the input object is read-only, will change that to an 'MsBackendMemory'\n",
      "\n"
     ]
    },
    {
     "name": "stdout",
     "output_type": "stream",
     "text": [
      "[1] \"M589T104\"\n"
     ]
    },
    {
     "name": "stderr",
     "output_type": "stream",
     "text": [
      "Backend of the input object is read-only, will change that to an 'MsBackendMemory'\n",
      "\n"
     ]
    },
    {
     "name": "stdout",
     "output_type": "stream",
     "text": [
      "[1] \"M586T105_2\"\n"
     ]
    },
    {
     "name": "stderr",
     "output_type": "stream",
     "text": [
      "Backend of the input object is read-only, will change that to an 'MsBackendMemory'\n",
      "\n"
     ]
    },
    {
     "name": "stdout",
     "output_type": "stream",
     "text": [
      "[1] \"M768T105\"\n"
     ]
    },
    {
     "name": "stderr",
     "output_type": "stream",
     "text": [
      "Backend of the input object is read-only, will change that to an 'MsBackendMemory'\n",
      "\n"
     ]
    },
    {
     "name": "stdout",
     "output_type": "stream",
     "text": [
      "[1] \"M579T106_1\"\n"
     ]
    },
    {
     "name": "stderr",
     "output_type": "stream",
     "text": [
      "Backend of the input object is read-only, will change that to an 'MsBackendMemory'\n",
      "\n"
     ]
    },
    {
     "name": "stdout",
     "output_type": "stream",
     "text": [
      "[1] \"M761T107\"\n"
     ]
    },
    {
     "name": "stderr",
     "output_type": "stream",
     "text": [
      "Backend of the input object is read-only, will change that to an 'MsBackendMemory'\n",
      "\n"
     ]
    },
    {
     "name": "stdout",
     "output_type": "stream",
     "text": [
      "[1] \"M630T109_1\"\n"
     ]
    },
    {
     "name": "stderr",
     "output_type": "stream",
     "text": [
      "Backend of the input object is read-only, will change that to an 'MsBackendMemory'\n",
      "\n"
     ]
    },
    {
     "name": "stdout",
     "output_type": "stream",
     "text": [
      "[1] \"M707T112_1\"\n"
     ]
    },
    {
     "name": "stderr",
     "output_type": "stream",
     "text": [
      "Backend of the input object is read-only, will change that to an 'MsBackendMemory'\n",
      "\n"
     ]
    },
    {
     "name": "stdout",
     "output_type": "stream",
     "text": [
      "[1] \"M293T284\"\n"
     ]
    },
    {
     "name": "stderr",
     "output_type": "stream",
     "text": [
      "Backend of the input object is read-only, will change that to an 'MsBackendMemory'\n",
      "\n",
      "Warning message:\n",
      "\"'combinePeaks' for lists of peak matrices is deprecated; please use 'combinePeaksData' instead.\"\n"
     ]
    },
    {
     "name": "stdout",
     "output_type": "stream",
     "text": [
      "[1] \"M315T323\"\n"
     ]
    },
    {
     "name": "stderr",
     "output_type": "stream",
     "text": [
      "Backend of the input object is read-only, will change that to an 'MsBackendMemory'\n",
      "\n",
      "Warning message:\n",
      "\"'combinePeaks' for lists of peak matrices is deprecated; please use 'combinePeaksData' instead.\"\n"
     ]
    },
    {
     "name": "stdout",
     "output_type": "stream",
     "text": [
      "[1] \"M282T325\"\n"
     ]
    },
    {
     "name": "stderr",
     "output_type": "stream",
     "text": [
      "Backend of the input object is read-only, will change that to an 'MsBackendMemory'\n",
      "\n"
     ]
    },
    {
     "name": "stdout",
     "output_type": "stream",
     "text": [
      "[1] \"M245T340\"\n"
     ]
    },
    {
     "name": "stderr",
     "output_type": "stream",
     "text": [
      "Backend of the input object is read-only, will change that to an 'MsBackendMemory'\n",
      "\n"
     ]
    },
    {
     "name": "stdout",
     "output_type": "stream",
     "text": [
      "[1] \"M113T340\"\n"
     ]
    },
    {
     "name": "stderr",
     "output_type": "stream",
     "text": [
      "Backend of the input object is read-only, will change that to an 'MsBackendMemory'\n",
      "\n"
     ]
    },
    {
     "name": "stdout",
     "output_type": "stream",
     "text": [
      "[1] \"M246T418\"\n"
     ]
    },
    {
     "name": "stderr",
     "output_type": "stream",
     "text": [
      "Backend of the input object is read-only, will change that to an 'MsBackendMemory'\n",
      "\n"
     ]
    },
    {
     "name": "stdout",
     "output_type": "stream",
     "text": [
      "[1] \"M302T421\"\n"
     ]
    },
    {
     "name": "stderr",
     "output_type": "stream",
     "text": [
      "Backend of the input object is read-only, will change that to an 'MsBackendMemory'\n",
      "\n"
     ]
    },
    {
     "name": "stdout",
     "output_type": "stream",
     "text": [
      "[1] \"M246T421\"\n"
     ]
    },
    {
     "name": "stderr",
     "output_type": "stream",
     "text": [
      "Backend of the input object is read-only, will change that to an 'MsBackendMemory'\n",
      "\n"
     ]
    },
    {
     "name": "stdout",
     "output_type": "stream",
     "text": [
      "[1] \"M315T461\"\n"
     ]
    },
    {
     "name": "stderr",
     "output_type": "stream",
     "text": [
      "Backend of the input object is read-only, will change that to an 'MsBackendMemory'\n",
      "\n",
      "Warning message:\n",
      "\"'combinePeaks' for lists of peak matrices is deprecated; please use 'combinePeaksData' instead.\"\n"
     ]
    },
    {
     "name": "stdout",
     "output_type": "stream",
     "text": [
      "[1] \"M368T503\"\n"
     ]
    },
    {
     "name": "stderr",
     "output_type": "stream",
     "text": [
      "Backend of the input object is read-only, will change that to an 'MsBackendMemory'\n",
      "\n"
     ]
    },
    {
     "name": "stdout",
     "output_type": "stream",
     "text": [
      "[1] \"M167T651\"\n"
     ]
    },
    {
     "name": "stderr",
     "output_type": "stream",
     "text": [
      "Backend of the input object is read-only, will change that to an 'MsBackendMemory'\n",
      "\n"
     ]
    },
    {
     "name": "stdout",
     "output_type": "stream",
     "text": [
      "[1] \"M225T671\"\n"
     ]
    },
    {
     "name": "stderr",
     "output_type": "stream",
     "text": [
      "Backend of the input object is read-only, will change that to an 'MsBackendMemory'\n",
      "\n",
      "Warning message:\n",
      "\"'combinePeaks' for lists of peak matrices is deprecated; please use 'combinePeaksData' instead.\"\n"
     ]
    },
    {
     "name": "stdout",
     "output_type": "stream",
     "text": [
      "[1] \"M123T677\"\n"
     ]
    },
    {
     "name": "stderr",
     "output_type": "stream",
     "text": [
      "Backend of the input object is read-only, will change that to an 'MsBackendMemory'\n",
      "\n"
     ]
    },
    {
     "name": "stdout",
     "output_type": "stream",
     "text": [
      "[1] \"M197T797\"\n"
     ]
    },
    {
     "name": "stderr",
     "output_type": "stream",
     "text": [
      "Backend of the input object is read-only, will change that to an 'MsBackendMemory'\n",
      "\n"
     ]
    },
    {
     "name": "stdout",
     "output_type": "stream",
     "text": [
      "[1] \"M167T799_1\"\n"
     ]
    },
    {
     "name": "stderr",
     "output_type": "stream",
     "text": [
      "Backend of the input object is read-only, will change that to an 'MsBackendMemory'\n",
      "\n"
     ]
    },
    {
     "name": "stdout",
     "output_type": "stream",
     "text": [
      "[1] \"M253T816\"\n"
     ]
    },
    {
     "name": "stderr",
     "output_type": "stream",
     "text": [
      "Backend of the input object is read-only, will change that to an 'MsBackendMemory'\n",
      "\n"
     ]
    },
    {
     "name": "stdout",
     "output_type": "stream",
     "text": [
      "[1] \"M193T848\"\n"
     ]
    },
    {
     "name": "stderr",
     "output_type": "stream",
     "text": [
      "Backend of the input object is read-only, will change that to an 'MsBackendMemory'\n",
      "\n"
     ]
    },
    {
     "name": "stdout",
     "output_type": "stream",
     "text": [
      "[1] \"M445T851\"\n"
     ]
    },
    {
     "name": "stderr",
     "output_type": "stream",
     "text": [
      "Backend of the input object is read-only, will change that to an 'MsBackendMemory'\n",
      "\n",
      "Warning message:\n",
      "\"'combinePeaks' for lists of peak matrices is deprecated; please use 'combinePeaksData' instead.\"\n"
     ]
    },
    {
     "name": "stdout",
     "output_type": "stream",
     "text": [
      "[1] \"M317T858\"\n"
     ]
    },
    {
     "name": "stderr",
     "output_type": "stream",
     "text": [
      "Backend of the input object is read-only, will change that to an 'MsBackendMemory'\n",
      "\n"
     ]
    },
    {
     "name": "stdout",
     "output_type": "stream",
     "text": [
      "[1] \"M183T859\"\n"
     ]
    },
    {
     "name": "stderr",
     "output_type": "stream",
     "text": [
      "Backend of the input object is read-only, will change that to an 'MsBackendMemory'\n",
      "\n"
     ]
    },
    {
     "name": "stdout",
     "output_type": "stream",
     "text": [
      "[1] \"M342T868\"\n"
     ]
    },
    {
     "name": "stderr",
     "output_type": "stream",
     "text": [
      "Backend of the input object is read-only, will change that to an 'MsBackendMemory'\n",
      "\n"
     ]
    },
    {
     "name": "stdout",
     "output_type": "stream",
     "text": [
      "[1] \"M415T872\"\n"
     ]
    },
    {
     "name": "stderr",
     "output_type": "stream",
     "text": [
      "Backend of the input object is read-only, will change that to an 'MsBackendMemory'\n",
      "\n"
     ]
    },
    {
     "name": "stdout",
     "output_type": "stream",
     "text": [
      "[1] \"M325T873\"\n"
     ]
    },
    {
     "name": "stderr",
     "output_type": "stream",
     "text": [
      "Backend of the input object is read-only, will change that to an 'MsBackendMemory'\n",
      "\n"
     ]
    },
    {
     "name": "stdout",
     "output_type": "stream",
     "text": [
      "[1] \"M137T879\"\n"
     ]
    },
    {
     "name": "stderr",
     "output_type": "stream",
     "text": [
      "Backend of the input object is read-only, will change that to an 'MsBackendMemory'\n",
      "\n"
     ]
    },
    {
     "name": "stdout",
     "output_type": "stream",
     "text": [
      "[1] \"M739T882_1\"\n"
     ]
    },
    {
     "name": "stderr",
     "output_type": "stream",
     "text": [
      "Backend of the input object is read-only, will change that to an 'MsBackendMemory'\n",
      "\n"
     ]
    },
    {
     "name": "stdout",
     "output_type": "stream",
     "text": [
      "[1] \"M207T889\"\n"
     ]
    },
    {
     "name": "stderr",
     "output_type": "stream",
     "text": [
      "Backend of the input object is read-only, will change that to an 'MsBackendMemory'\n",
      "\n"
     ]
    },
    {
     "name": "stdout",
     "output_type": "stream",
     "text": [
      "[1] \"M391T893\"\n"
     ]
    },
    {
     "name": "stderr",
     "output_type": "stream",
     "text": [
      "Backend of the input object is read-only, will change that to an 'MsBackendMemory'\n",
      "\n"
     ]
    },
    {
     "name": "stdout",
     "output_type": "stream",
     "text": [
      "[1] \"M291T904\"\n"
     ]
    },
    {
     "name": "stderr",
     "output_type": "stream",
     "text": [
      "Backend of the input object is read-only, will change that to an 'MsBackendMemory'\n",
      "\n"
     ]
    },
    {
     "name": "stdout",
     "output_type": "stream",
     "text": [
      "[1] \"M233T916\"\n"
     ]
    },
    {
     "name": "stderr",
     "output_type": "stream",
     "text": [
      "Backend of the input object is read-only, will change that to an 'MsBackendMemory'\n",
      "\n"
     ]
    },
    {
     "name": "stdout",
     "output_type": "stream",
     "text": [
      "[1] \"M377T922\"\n"
     ]
    },
    {
     "name": "stderr",
     "output_type": "stream",
     "text": [
      "Backend of the input object is read-only, will change that to an 'MsBackendMemory'\n",
      "\n"
     ]
    },
    {
     "name": "stdout",
     "output_type": "stream",
     "text": [
      "[1] \"M253T938\"\n"
     ]
    },
    {
     "name": "stderr",
     "output_type": "stream",
     "text": [
      "Backend of the input object is read-only, will change that to an 'MsBackendMemory'\n",
      "\n"
     ]
    },
    {
     "name": "stdout",
     "output_type": "stream",
     "text": [
      "[1] \"M368T943\"\n"
     ]
    },
    {
     "name": "stderr",
     "output_type": "stream",
     "text": [
      "Backend of the input object is read-only, will change that to an 'MsBackendMemory'\n",
      "\n"
     ]
    },
    {
     "name": "stdout",
     "output_type": "stream",
     "text": [
      "[1] \"M317T961_1\"\n"
     ]
    },
    {
     "name": "stderr",
     "output_type": "stream",
     "text": [
      "Backend of the input object is read-only, will change that to an 'MsBackendMemory'\n",
      "\n"
     ]
    },
    {
     "name": "stdout",
     "output_type": "stream",
     "text": [
      "[1] \"M275T988\"\n"
     ]
    },
    {
     "name": "stderr",
     "output_type": "stream",
     "text": [
      "Backend of the input object is read-only, will change that to an 'MsBackendMemory'\n",
      "\n"
     ]
    },
    {
     "name": "stdout",
     "output_type": "stream",
     "text": [
      "[1] \"M580T1040\"\n"
     ]
    },
    {
     "name": "stderr",
     "output_type": "stream",
     "text": [
      "Backend of the input object is read-only, will change that to an 'MsBackendMemory'\n",
      "\n"
     ]
    },
    {
     "name": "stdout",
     "output_type": "stream",
     "text": [
      "[1] \"M608T1047\"\n"
     ]
    },
    {
     "name": "stderr",
     "output_type": "stream",
     "text": [
      "Backend of the input object is read-only, will change that to an 'MsBackendMemory'\n",
      "\n"
     ]
    },
    {
     "name": "stdout",
     "output_type": "stream",
     "text": [
      "[1] \"M346T1138\"\n"
     ]
    },
    {
     "name": "stderr",
     "output_type": "stream",
     "text": [
      "Backend of the input object is read-only, will change that to an 'MsBackendMemory'\n",
      "\n",
      "Warning message:\n",
      "\"'combinePeaks' for lists of peak matrices is deprecated; please use 'combinePeaksData' instead.\"\n"
     ]
    },
    {
     "name": "stdout",
     "output_type": "stream",
     "text": [
      "[1] \"M599T100_2\"\n"
     ]
    },
    {
     "name": "stderr",
     "output_type": "stream",
     "text": [
      "Backend of the input object is read-only, will change that to an 'MsBackendMemory'\n",
      "\n"
     ]
    },
    {
     "name": "stdout",
     "output_type": "stream",
     "text": [
      "[1] \"M563T100_2\"\n"
     ]
    },
    {
     "name": "stderr",
     "output_type": "stream",
     "text": [
      "Backend of the input object is read-only, will change that to an 'MsBackendMemory'\n",
      "\n"
     ]
    },
    {
     "name": "stdout",
     "output_type": "stream",
     "text": [
      "[1] \"M432T102_1\"\n"
     ]
    },
    {
     "name": "stderr",
     "output_type": "stream",
     "text": [
      "Backend of the input object is read-only, will change that to an 'MsBackendMemory'\n",
      "\n"
     ]
    },
    {
     "name": "stdout",
     "output_type": "stream",
     "text": [
      "[1] \"M667T103_1\"\n"
     ]
    },
    {
     "name": "stderr",
     "output_type": "stream",
     "text": [
      "Backend of the input object is read-only, will change that to an 'MsBackendMemory'\n",
      "\n"
     ]
    },
    {
     "name": "stdout",
     "output_type": "stream",
     "text": [
      "[1] \"M467T103\"\n"
     ]
    },
    {
     "name": "stderr",
     "output_type": "stream",
     "text": [
      "Backend of the input object is read-only, will change that to an 'MsBackendMemory'\n",
      "\n"
     ]
    },
    {
     "name": "stdout",
     "output_type": "stream",
     "text": [
      "[1] \"M571T105\"\n"
     ]
    },
    {
     "name": "stderr",
     "output_type": "stream",
     "text": [
      "Backend of the input object is read-only, will change that to an 'MsBackendMemory'\n",
      "\n"
     ]
    },
    {
     "name": "stdout",
     "output_type": "stream",
     "text": [
      "[1] \"M560T105\"\n"
     ]
    },
    {
     "name": "stderr",
     "output_type": "stream",
     "text": [
      "Backend of the input object is read-only, will change that to an 'MsBackendMemory'\n",
      "\n"
     ]
    },
    {
     "name": "stdout",
     "output_type": "stream",
     "text": [
      "[1] \"M579T106_2\"\n"
     ]
    },
    {
     "name": "stderr",
     "output_type": "stream",
     "text": [
      "Backend of the input object is read-only, will change that to an 'MsBackendMemory'\n",
      "\n"
     ]
    },
    {
     "name": "stdout",
     "output_type": "stream",
     "text": [
      "[1] \"M780T106_2\"\n"
     ]
    },
    {
     "name": "stderr",
     "output_type": "stream",
     "text": [
      "Backend of the input object is read-only, will change that to an 'MsBackendMemory'\n",
      "\n"
     ]
    },
    {
     "name": "stdout",
     "output_type": "stream",
     "text": [
      "[1] \"M650T110\"\n"
     ]
    },
    {
     "name": "stderr",
     "output_type": "stream",
     "text": [
      "Backend of the input object is read-only, will change that to an 'MsBackendMemory'\n",
      "\n"
     ]
    },
    {
     "name": "stdout",
     "output_type": "stream",
     "text": [
      "[1] \"M228T244\"\n"
     ]
    },
    {
     "name": "stderr",
     "output_type": "stream",
     "text": [
      "Backend of the input object is read-only, will change that to an 'MsBackendMemory'\n",
      "\n"
     ]
    },
    {
     "name": "stdout",
     "output_type": "stream",
     "text": [
      "[1] \"M138T250\"\n"
     ]
    },
    {
     "name": "stderr",
     "output_type": "stream",
     "text": [
      "Backend of the input object is read-only, will change that to an 'MsBackendMemory'\n",
      "\n"
     ]
    },
    {
     "name": "stdout",
     "output_type": "stream",
     "text": [
      "[1] \"M384T511\"\n"
     ]
    },
    {
     "name": "stderr",
     "output_type": "stream",
     "text": [
      "Backend of the input object is read-only, will change that to an 'MsBackendMemory'\n",
      "\n"
     ]
    },
    {
     "name": "stdout",
     "output_type": "stream",
     "text": [
      "[1] \"M199T610\"\n"
     ]
    },
    {
     "name": "stderr",
     "output_type": "stream",
     "text": [
      "Backend of the input object is read-only, will change that to an 'MsBackendMemory'\n",
      "\n"
     ]
    },
    {
     "name": "stdout",
     "output_type": "stream",
     "text": [
      "[1] \"M447T666\"\n"
     ]
    },
    {
     "name": "stderr",
     "output_type": "stream",
     "text": [
      "Backend of the input object is read-only, will change that to an 'MsBackendMemory'\n",
      "\n"
     ]
    },
    {
     "name": "stdout",
     "output_type": "stream",
     "text": [
      "[1] \"M167T671\"\n"
     ]
    },
    {
     "name": "stderr",
     "output_type": "stream",
     "text": [
      "Backend of the input object is read-only, will change that to an 'MsBackendMemory'\n",
      "\n"
     ]
    },
    {
     "name": "stdout",
     "output_type": "stream",
     "text": [
      "[1] \"M195T688\"\n"
     ]
    },
    {
     "name": "stderr",
     "output_type": "stream",
     "text": [
      "Backend of the input object is read-only, will change that to an 'MsBackendMemory'\n",
      "\n"
     ]
    },
    {
     "name": "stdout",
     "output_type": "stream",
     "text": [
      "[1] \"M270T730\"\n"
     ]
    },
    {
     "name": "stderr",
     "output_type": "stream",
     "text": [
      "Backend of the input object is read-only, will change that to an 'MsBackendMemory'\n",
      "\n"
     ]
    },
    {
     "name": "stdout",
     "output_type": "stream",
     "text": [
      "[1] \"M230T730\"\n"
     ]
    },
    {
     "name": "stderr",
     "output_type": "stream",
     "text": [
      "Backend of the input object is read-only, will change that to an 'MsBackendMemory'\n",
      "\n"
     ]
    },
    {
     "name": "stdout",
     "output_type": "stream",
     "text": [
      "[1] \"M257T738_2\"\n"
     ]
    },
    {
     "name": "stderr",
     "output_type": "stream",
     "text": [
      "Backend of the input object is read-only, will change that to an 'MsBackendMemory'\n",
      "\n"
     ]
    },
    {
     "name": "stdout",
     "output_type": "stream",
     "text": [
      "[1] \"M207T777\"\n"
     ]
    },
    {
     "name": "stderr",
     "output_type": "stream",
     "text": [
      "Backend of the input object is read-only, will change that to an 'MsBackendMemory'\n",
      "\n",
      "Warning message:\n",
      "\"'combinePeaks' for lists of peak matrices is deprecated; please use 'combinePeaksData' instead.\"\n"
     ]
    },
    {
     "name": "stdout",
     "output_type": "stream",
     "text": [
      "[1] \"M316T844\"\n"
     ]
    },
    {
     "name": "stderr",
     "output_type": "stream",
     "text": [
      "Backend of the input object is read-only, will change that to an 'MsBackendMemory'\n",
      "\n"
     ]
    },
    {
     "name": "stdout",
     "output_type": "stream",
     "text": [
      "[1] \"M456T846\"\n"
     ]
    },
    {
     "name": "stderr",
     "output_type": "stream",
     "text": [
      "Backend of the input object is read-only, will change that to an 'MsBackendMemory'\n",
      "\n"
     ]
    },
    {
     "name": "stdout",
     "output_type": "stream",
     "text": [
      "[1] \"M446T851\"\n"
     ]
    },
    {
     "name": "stderr",
     "output_type": "stream",
     "text": [
      "Backend of the input object is read-only, will change that to an 'MsBackendMemory'\n",
      "\n"
     ]
    },
    {
     "name": "stdout",
     "output_type": "stream",
     "text": [
      "[1] \"M351T857\"\n"
     ]
    },
    {
     "name": "stderr",
     "output_type": "stream",
     "text": [
      "Backend of the input object is read-only, will change that to an 'MsBackendMemory'\n",
      "\n"
     ]
    },
    {
     "name": "stdout",
     "output_type": "stream",
     "text": [
      "[1] \"M385T866\"\n"
     ]
    },
    {
     "name": "stderr",
     "output_type": "stream",
     "text": [
      "Backend of the input object is read-only, will change that to an 'MsBackendMemory'\n",
      "\n"
     ]
    },
    {
     "name": "stdout",
     "output_type": "stream",
     "text": [
      "[1] \"M371T866\"\n"
     ]
    },
    {
     "name": "stderr",
     "output_type": "stream",
     "text": [
      "Backend of the input object is read-only, will change that to an 'MsBackendMemory'\n",
      "\n"
     ]
    },
    {
     "name": "stdout",
     "output_type": "stream",
     "text": [
      "[1] \"M585T867\"\n"
     ]
    },
    {
     "name": "stderr",
     "output_type": "stream",
     "text": [
      "Backend of the input object is read-only, will change that to an 'MsBackendMemory'\n",
      "\n"
     ]
    },
    {
     "name": "stdout",
     "output_type": "stream",
     "text": [
      "[1] \"M274T871\"\n"
     ]
    },
    {
     "name": "stderr",
     "output_type": "stream",
     "text": [
      "Backend of the input object is read-only, will change that to an 'MsBackendMemory'\n",
      "\n",
      "Warning message:\n",
      "\"'combinePeaks' for lists of peak matrices is deprecated; please use 'combinePeaksData' instead.\"\n"
     ]
    },
    {
     "name": "stdout",
     "output_type": "stream",
     "text": [
      "[1] \"M552T872_1\"\n"
     ]
    },
    {
     "name": "stderr",
     "output_type": "stream",
     "text": [
      "Backend of the input object is read-only, will change that to an 'MsBackendMemory'\n",
      "\n",
      "Warning message:\n",
      "\"'combinePeaks' for lists of peak matrices is deprecated; please use 'combinePeaksData' instead.\"\n"
     ]
    },
    {
     "name": "stdout",
     "output_type": "stream",
     "text": [
      "[1] \"M307T874\"\n"
     ]
    },
    {
     "name": "stderr",
     "output_type": "stream",
     "text": [
      "Backend of the input object is read-only, will change that to an 'MsBackendMemory'\n",
      "\n"
     ]
    },
    {
     "name": "stdout",
     "output_type": "stream",
     "text": [
      "[1] \"M314T883\"\n"
     ]
    },
    {
     "name": "stderr",
     "output_type": "stream",
     "text": [
      "Backend of the input object is read-only, will change that to an 'MsBackendMemory'\n",
      "\n"
     ]
    },
    {
     "name": "stdout",
     "output_type": "stream",
     "text": [
      "[1] \"M313T883\"\n"
     ]
    },
    {
     "name": "stderr",
     "output_type": "stream",
     "text": [
      "Backend of the input object is read-only, will change that to an 'MsBackendMemory'\n",
      "\n"
     ]
    },
    {
     "name": "stdout",
     "output_type": "stream",
     "text": [
      "[1] \"M442T911_1\"\n"
     ]
    },
    {
     "name": "stderr",
     "output_type": "stream",
     "text": [
      "Backend of the input object is read-only, will change that to an 'MsBackendMemory'\n",
      "\n"
     ]
    },
    {
     "name": "stdout",
     "output_type": "stream",
     "text": [
      "[1] \"M443T911\"\n"
     ]
    },
    {
     "name": "stderr",
     "output_type": "stream",
     "text": [
      "Backend of the input object is read-only, will change that to an 'MsBackendMemory'\n",
      "\n"
     ]
    },
    {
     "name": "stdout",
     "output_type": "stream",
     "text": [
      "[1] \"M399T912\"\n"
     ]
    },
    {
     "name": "stderr",
     "output_type": "stream",
     "text": [
      "Backend of the input object is read-only, will change that to an 'MsBackendMemory'\n",
      "\n"
     ]
    },
    {
     "name": "stdout",
     "output_type": "stream",
     "text": [
      "[1] \"M359T916\"\n"
     ]
    },
    {
     "name": "stderr",
     "output_type": "stream",
     "text": [
      "Backend of the input object is read-only, will change that to an 'MsBackendMemory'\n",
      "\n"
     ]
    },
    {
     "name": "stdout",
     "output_type": "stream",
     "text": [
      "[1] \"M367T927\"\n"
     ]
    },
    {
     "name": "stderr",
     "output_type": "stream",
     "text": [
      "Backend of the input object is read-only, will change that to an 'MsBackendMemory'\n",
      "\n"
     ]
    },
    {
     "name": "stdout",
     "output_type": "stream",
     "text": [
      "[1] \"M373T928\"\n"
     ]
    },
    {
     "name": "stderr",
     "output_type": "stream",
     "text": [
      "Backend of the input object is read-only, will change that to an 'MsBackendMemory'\n",
      "\n"
     ]
    },
    {
     "name": "stdout",
     "output_type": "stream",
     "text": [
      "[1] \"M362T928\"\n"
     ]
    },
    {
     "name": "stderr",
     "output_type": "stream",
     "text": [
      "Backend of the input object is read-only, will change that to an 'MsBackendMemory'\n",
      "\n"
     ]
    },
    {
     "name": "stdout",
     "output_type": "stream",
     "text": [
      "[1] \"M333T930\"\n"
     ]
    },
    {
     "name": "stderr",
     "output_type": "stream",
     "text": [
      "Backend of the input object is read-only, will change that to an 'MsBackendMemory'\n",
      "\n"
     ]
    },
    {
     "name": "stdout",
     "output_type": "stream",
     "text": [
      "[1] \"M367T937\"\n"
     ]
    },
    {
     "name": "stderr",
     "output_type": "stream",
     "text": [
      "Backend of the input object is read-only, will change that to an 'MsBackendMemory'\n",
      "\n",
      "Warning message:\n",
      "\"'combinePeaks' for lists of peak matrices is deprecated; please use 'combinePeaksData' instead.\"\n"
     ]
    },
    {
     "name": "stdout",
     "output_type": "stream",
     "text": [
      "[1] \"M362T939\"\n"
     ]
    },
    {
     "name": "stderr",
     "output_type": "stream",
     "text": [
      "Backend of the input object is read-only, will change that to an 'MsBackendMemory'\n",
      "\n"
     ]
    },
    {
     "name": "stdout",
     "output_type": "stream",
     "text": [
      "[1] \"M351T942\"\n"
     ]
    },
    {
     "name": "stderr",
     "output_type": "stream",
     "text": [
      "Backend of the input object is read-only, will change that to an 'MsBackendMemory'\n",
      "\n"
     ]
    },
    {
     "name": "stdout",
     "output_type": "stream",
     "text": [
      "[1] \"M335T954\"\n"
     ]
    },
    {
     "name": "stderr",
     "output_type": "stream",
     "text": [
      "Backend of the input object is read-only, will change that to an 'MsBackendMemory'\n",
      "\n",
      "Warning message:\n",
      "\"'combinePeaks' for lists of peak matrices is deprecated; please use 'combinePeaksData' instead.\"\n"
     ]
    },
    {
     "name": "stdout",
     "output_type": "stream",
     "text": [
      "[1] \"M277T955\"\n"
     ]
    },
    {
     "name": "stderr",
     "output_type": "stream",
     "text": [
      "Backend of the input object is read-only, will change that to an 'MsBackendMemory'\n",
      "\n"
     ]
    },
    {
     "name": "stdout",
     "output_type": "stream",
     "text": [
      "[1] \"M171T957\"\n"
     ]
    },
    {
     "name": "stderr",
     "output_type": "stream",
     "text": [
      "Backend of the input object is read-only, will change that to an 'MsBackendMemory'\n",
      "\n"
     ]
    },
    {
     "name": "stdout",
     "output_type": "stream",
     "text": [
      "[1] \"M357T960\"\n"
     ]
    },
    {
     "name": "stderr",
     "output_type": "stream",
     "text": [
      "Backend of the input object is read-only, will change that to an 'MsBackendMemory'\n",
      "\n"
     ]
    },
    {
     "name": "stdout",
     "output_type": "stream",
     "text": [
      "[1] \"M312T961\"\n"
     ]
    },
    {
     "name": "stderr",
     "output_type": "stream",
     "text": [
      "Backend of the input object is read-only, will change that to an 'MsBackendMemory'\n",
      "\n"
     ]
    },
    {
     "name": "stdout",
     "output_type": "stream",
     "text": [
      "[1] \"M371T963\"\n"
     ]
    },
    {
     "name": "stderr",
     "output_type": "stream",
     "text": [
      "Backend of the input object is read-only, will change that to an 'MsBackendMemory'\n",
      "\n"
     ]
    },
    {
     "name": "stdout",
     "output_type": "stream",
     "text": [
      "[1] \"M330T964\"\n"
     ]
    },
    {
     "name": "stderr",
     "output_type": "stream",
     "text": [
      "Backend of the input object is read-only, will change that to an 'MsBackendMemory'\n",
      "\n"
     ]
    },
    {
     "name": "stdout",
     "output_type": "stream",
     "text": [
      "[1] \"M309T964\"\n"
     ]
    },
    {
     "name": "stderr",
     "output_type": "stream",
     "text": [
      "Backend of the input object is read-only, will change that to an 'MsBackendMemory'\n",
      "\n"
     ]
    },
    {
     "name": "stdout",
     "output_type": "stream",
     "text": [
      "[1] \"M293T964_1\"\n"
     ]
    },
    {
     "name": "stderr",
     "output_type": "stream",
     "text": [
      "Backend of the input object is read-only, will change that to an 'MsBackendMemory'\n",
      "\n",
      "Warning message:\n",
      "\"'combinePeaks' for lists of peak matrices is deprecated; please use 'combinePeaksData' instead.\"\n"
     ]
    },
    {
     "name": "stdout",
     "output_type": "stream",
     "text": [
      "[1] \"M336T965_2\"\n"
     ]
    },
    {
     "name": "stderr",
     "output_type": "stream",
     "text": [
      "Backend of the input object is read-only, will change that to an 'MsBackendMemory'\n",
      "\n"
     ]
    },
    {
     "name": "stdout",
     "output_type": "stream",
     "text": [
      "[1] \"M331T965\"\n"
     ]
    },
    {
     "name": "stderr",
     "output_type": "stream",
     "text": [
      "Backend of the input object is read-only, will change that to an 'MsBackendMemory'\n",
      "\n"
     ]
    },
    {
     "name": "stdout",
     "output_type": "stream",
     "text": [
      "[1] \"M444T965\"\n"
     ]
    },
    {
     "name": "stderr",
     "output_type": "stream",
     "text": [
      "Backend of the input object is read-only, will change that to an 'MsBackendMemory'\n",
      "\n"
     ]
    },
    {
     "name": "stdout",
     "output_type": "stream",
     "text": [
      "[1] \"M352T965\"\n"
     ]
    },
    {
     "name": "stderr",
     "output_type": "stream",
     "text": [
      "Backend of the input object is read-only, will change that to an 'MsBackendMemory'\n",
      "\n"
     ]
    },
    {
     "name": "stdout",
     "output_type": "stream",
     "text": [
      "[1] \"M452T965\"\n"
     ]
    },
    {
     "name": "stderr",
     "output_type": "stream",
     "text": [
      "Backend of the input object is read-only, will change that to an 'MsBackendMemory'\n",
      "\n"
     ]
    },
    {
     "name": "stdout",
     "output_type": "stream",
     "text": [
      "[1] \"M335T966\"\n"
     ]
    },
    {
     "name": "stderr",
     "output_type": "stream",
     "text": [
      "Backend of the input object is read-only, will change that to an 'MsBackendMemory'\n",
      "\n",
      "Warning message:\n",
      "\"'combinePeaks' for lists of peak matrices is deprecated; please use 'combinePeaksData' instead.\"\n"
     ]
    },
    {
     "name": "stdout",
     "output_type": "stream",
     "text": [
      "[1] \"M648T966\"\n"
     ]
    },
    {
     "name": "stderr",
     "output_type": "stream",
     "text": [
      "Backend of the input object is read-only, will change that to an 'MsBackendMemory'\n",
      "\n"
     ]
    },
    {
     "name": "stdout",
     "output_type": "stream",
     "text": [
      "[1] \"M277T966\"\n"
     ]
    },
    {
     "name": "stderr",
     "output_type": "stream",
     "text": [
      "Backend of the input object is read-only, will change that to an 'MsBackendMemory'\n",
      "\n"
     ]
    },
    {
     "name": "stdout",
     "output_type": "stream",
     "text": [
      "[1] \"M195T966\"\n"
     ]
    },
    {
     "name": "stderr",
     "output_type": "stream",
     "text": [
      "Backend of the input object is read-only, will change that to an 'MsBackendMemory'\n",
      "\n"
     ]
    },
    {
     "name": "stdout",
     "output_type": "stream",
     "text": [
      "[1] \"M177T966\"\n"
     ]
    },
    {
     "name": "stderr",
     "output_type": "stream",
     "text": [
      "Backend of the input object is read-only, will change that to an 'MsBackendMemory'\n",
      "\n"
     ]
    },
    {
     "name": "stdout",
     "output_type": "stream",
     "text": [
      "[1] \"M149T966\"\n"
     ]
    },
    {
     "name": "stderr",
     "output_type": "stream",
     "text": [
      "Backend of the input object is read-only, will change that to an 'MsBackendMemory'\n",
      "\n"
     ]
    },
    {
     "name": "stdout",
     "output_type": "stream",
     "text": [
      "[1] \"M213T966\"\n"
     ]
    },
    {
     "name": "stderr",
     "output_type": "stream",
     "text": [
      "Backend of the input object is read-only, will change that to an 'MsBackendMemory'\n",
      "\n"
     ]
    },
    {
     "name": "stdout",
     "output_type": "stream",
     "text": [
      "[1] \"M227T967\"\n"
     ]
    },
    {
     "name": "stderr",
     "output_type": "stream",
     "text": [
      "Backend of the input object is read-only, will change that to an 'MsBackendMemory'\n",
      "\n"
     ]
    },
    {
     "name": "stdout",
     "output_type": "stream",
     "text": [
      "[1] \"M649T967\"\n"
     ]
    },
    {
     "name": "stderr",
     "output_type": "stream",
     "text": [
      "Backend of the input object is read-only, will change that to an 'MsBackendMemory'\n",
      "\n"
     ]
    },
    {
     "name": "stdout",
     "output_type": "stream",
     "text": [
      "[1] \"M211T967\"\n"
     ]
    },
    {
     "name": "stderr",
     "output_type": "stream",
     "text": [
      "Backend of the input object is read-only, will change that to an 'MsBackendMemory'\n",
      "\n"
     ]
    },
    {
     "name": "stdout",
     "output_type": "stream",
     "text": [
      "[1] \"M559T972\"\n"
     ]
    },
    {
     "name": "stderr",
     "output_type": "stream",
     "text": [
      "Backend of the input object is read-only, will change that to an 'MsBackendMemory'\n",
      "\n"
     ]
    },
    {
     "name": "stdout",
     "output_type": "stream",
     "text": [
      "[1] \"M277T987\"\n"
     ]
    },
    {
     "name": "stderr",
     "output_type": "stream",
     "text": [
      "Backend of the input object is read-only, will change that to an 'MsBackendMemory'\n",
      "\n"
     ]
    },
    {
     "name": "stdout",
     "output_type": "stream",
     "text": [
      "[1] \"M638T1045\"\n"
     ]
    },
    {
     "name": "stderr",
     "output_type": "stream",
     "text": [
      "Backend of the input object is read-only, will change that to an 'MsBackendMemory'\n",
      "\n"
     ]
    },
    {
     "name": "stdout",
     "output_type": "stream",
     "text": [
      "[1] \"M520T1051\"\n"
     ]
    },
    {
     "name": "stderr",
     "output_type": "stream",
     "text": [
      "Backend of the input object is read-only, will change that to an 'MsBackendMemory'\n",
      "\n"
     ]
    },
    {
     "name": "stdout",
     "output_type": "stream",
     "text": [
      "[1] \"M404T102\"\n"
     ]
    },
    {
     "name": "stderr",
     "output_type": "stream",
     "text": [
      "Backend of the input object is read-only, will change that to an 'MsBackendMemory'\n",
      "\n"
     ]
    },
    {
     "name": "stdout",
     "output_type": "stream",
     "text": [
      "[1] \"M608T103_2\"\n"
     ]
    },
    {
     "name": "stderr",
     "output_type": "stream",
     "text": [
      "Backend of the input object is read-only, will change that to an 'MsBackendMemory'\n",
      "\n"
     ]
    },
    {
     "name": "stdout",
     "output_type": "stream",
     "text": [
      "[1] \"M353T104\"\n"
     ]
    },
    {
     "name": "stderr",
     "output_type": "stream",
     "text": [
      "Backend of the input object is read-only, will change that to an 'MsBackendMemory'\n",
      "\n"
     ]
    },
    {
     "name": "stdout",
     "output_type": "stream",
     "text": [
      "[1] \"M909T106\"\n"
     ]
    },
    {
     "name": "stderr",
     "output_type": "stream",
     "text": [
      "Backend of the input object is read-only, will change that to an 'MsBackendMemory'\n",
      "\n"
     ]
    },
    {
     "name": "stdout",
     "output_type": "stream",
     "text": [
      "[1] \"M558T106_1\"\n"
     ]
    },
    {
     "name": "stderr",
     "output_type": "stream",
     "text": [
      "Backend of the input object is read-only, will change that to an 'MsBackendMemory'\n",
      "\n"
     ]
    },
    {
     "name": "stdout",
     "output_type": "stream",
     "text": [
      "[1] \"M684T114\"\n"
     ]
    },
    {
     "name": "stderr",
     "output_type": "stream",
     "text": [
      "Backend of the input object is read-only, will change that to an 'MsBackendMemory'\n",
      "\n"
     ]
    },
    {
     "name": "stdout",
     "output_type": "stream",
     "text": [
      "[1] \"M226T232\"\n"
     ]
    },
    {
     "name": "stderr",
     "output_type": "stream",
     "text": [
      "Backend of the input object is read-only, will change that to an 'MsBackendMemory'\n",
      "\n"
     ]
    },
    {
     "name": "stdout",
     "output_type": "stream",
     "text": [
      "[1] \"M346T309\"\n"
     ]
    },
    {
     "name": "stderr",
     "output_type": "stream",
     "text": [
      "Backend of the input object is read-only, will change that to an 'MsBackendMemory'\n",
      "\n",
      "Warning message:\n",
      "\"'combinePeaks' for lists of peak matrices is deprecated; please use 'combinePeaksData' instead.\"\n"
     ]
    },
    {
     "name": "stdout",
     "output_type": "stream",
     "text": [
      "[1] \"M400T388\"\n"
     ]
    },
    {
     "name": "stderr",
     "output_type": "stream",
     "text": [
      "Backend of the input object is read-only, will change that to an 'MsBackendMemory'\n",
      "\n"
     ]
    },
    {
     "name": "stdout",
     "output_type": "stream",
     "text": [
      "[1] \"M539T388\"\n"
     ]
    },
    {
     "name": "stderr",
     "output_type": "stream",
     "text": [
      "Backend of the input object is read-only, will change that to an 'MsBackendMemory'\n",
      "\n"
     ]
    },
    {
     "name": "stdout",
     "output_type": "stream",
     "text": [
      "[1] \"M369T389\"\n"
     ]
    },
    {
     "name": "stderr",
     "output_type": "stream",
     "text": [
      "Backend of the input object is read-only, will change that to an 'MsBackendMemory'\n",
      "\n"
     ]
    },
    {
     "name": "stdout",
     "output_type": "stream",
     "text": [
      "[1] \"M538T389\"\n"
     ]
    },
    {
     "name": "stderr",
     "output_type": "stream",
     "text": [
      "Backend of the input object is read-only, will change that to an 'MsBackendMemory'\n",
      "\n"
     ]
    },
    {
     "name": "stdout",
     "output_type": "stream",
     "text": [
      "[1] \"M119T389\"\n"
     ]
    },
    {
     "name": "stderr",
     "output_type": "stream",
     "text": [
      "Backend of the input object is read-only, will change that to an 'MsBackendMemory'\n",
      "\n"
     ]
    },
    {
     "name": "stdout",
     "output_type": "stream",
     "text": [
      "[1] \"M138T389\"\n"
     ]
    },
    {
     "name": "stderr",
     "output_type": "stream",
     "text": [
      "Backend of the input object is read-only, will change that to an 'MsBackendMemory'\n",
      "\n"
     ]
    },
    {
     "name": "stdout",
     "output_type": "stream",
     "text": [
      "[1] \"M271T389\"\n"
     ]
    },
    {
     "name": "stderr",
     "output_type": "stream",
     "text": [
      "Backend of the input object is read-only, will change that to an 'MsBackendMemory'\n",
      "\n"
     ]
    },
    {
     "name": "stdout",
     "output_type": "stream",
     "text": [
      "[1] \"M540T389\"\n"
     ]
    },
    {
     "name": "stderr",
     "output_type": "stream",
     "text": [
      "Backend of the input object is read-only, will change that to an 'MsBackendMemory'\n",
      "\n"
     ]
    },
    {
     "name": "stdout",
     "output_type": "stream",
     "text": [
      "[1] \"M269T389_1\"\n"
     ]
    },
    {
     "name": "stderr",
     "output_type": "stream",
     "text": [
      "Backend of the input object is read-only, will change that to an 'MsBackendMemory'\n",
      "\n",
      "Warning message:\n",
      "\"'combinePeaks' for lists of peak matrices is deprecated; please use 'combinePeaksData' instead.\"\n"
     ]
    },
    {
     "name": "stdout",
     "output_type": "stream",
     "text": [
      "[1] \"M137T389_6\"\n"
     ]
    },
    {
     "name": "stderr",
     "output_type": "stream",
     "text": [
      "Backend of the input object is read-only, will change that to an 'MsBackendMemory'\n",
      "\n"
     ]
    },
    {
     "name": "stdout",
     "output_type": "stream",
     "text": [
      "[1] \"M537T389\"\n"
     ]
    },
    {
     "name": "stderr",
     "output_type": "stream",
     "text": [
      "Backend of the input object is read-only, will change that to an 'MsBackendMemory'\n",
      "\n",
      "Warning message:\n",
      "\"'combinePeaks' for lists of peak matrices is deprecated; please use 'combinePeaksData' instead.\"\n"
     ]
    },
    {
     "name": "stdout",
     "output_type": "stream",
     "text": [
      "[1] \"M385T389\"\n"
     ]
    },
    {
     "name": "stderr",
     "output_type": "stream",
     "text": [
      "Backend of the input object is read-only, will change that to an 'MsBackendMemory'\n",
      "\n"
     ]
    },
    {
     "name": "stdout",
     "output_type": "stream",
     "text": [
      "[1] \"M270T389\"\n"
     ]
    },
    {
     "name": "stderr",
     "output_type": "stream",
     "text": [
      "Backend of the input object is read-only, will change that to an 'MsBackendMemory'\n",
      "\n"
     ]
    },
    {
     "name": "stdout",
     "output_type": "stream",
     "text": [
      "[1] \"M110T389\"\n"
     ]
    },
    {
     "name": "stderr",
     "output_type": "stream",
     "text": [
      "Backend of the input object is read-only, will change that to an 'MsBackendMemory'\n",
      "\n"
     ]
    },
    {
     "name": "stdout",
     "output_type": "stream",
     "text": [
      "[1] \"M137T390\"\n"
     ]
    },
    {
     "name": "stderr",
     "output_type": "stream",
     "text": [
      "Backend of the input object is read-only, will change that to an 'MsBackendMemory'\n",
      "\n",
      "Warning message:\n",
      "\"'combinePeaks' for lists of peak matrices is deprecated; please use 'combinePeaksData' instead.\"\n"
     ]
    },
    {
     "name": "stdout",
     "output_type": "stream",
     "text": [
      "[1] \"M137T478\"\n"
     ]
    },
    {
     "name": "stderr",
     "output_type": "stream",
     "text": [
      "Backend of the input object is read-only, will change that to an 'MsBackendMemory'\n",
      "\n"
     ]
    },
    {
     "name": "stdout",
     "output_type": "stream",
     "text": [
      "[1] \"M394T524\"\n"
     ]
    },
    {
     "name": "stderr",
     "output_type": "stream",
     "text": [
      "Backend of the input object is read-only, will change that to an 'MsBackendMemory'\n",
      "\n"
     ]
    },
    {
     "name": "stdout",
     "output_type": "stream",
     "text": [
      "[1] \"M306T544\"\n"
     ]
    },
    {
     "name": "stderr",
     "output_type": "stream",
     "text": [
      "Backend of the input object is read-only, will change that to an 'MsBackendMemory'\n",
      "\n",
      "Warning message:\n",
      "\"'combinePeaks' for lists of peak matrices is deprecated; please use 'combinePeaksData' instead.\"\n"
     ]
    },
    {
     "name": "stdout",
     "output_type": "stream",
     "text": [
      "[1] \"M138T551\"\n"
     ]
    },
    {
     "name": "stderr",
     "output_type": "stream",
     "text": [
      "Backend of the input object is read-only, will change that to an 'MsBackendMemory'\n",
      "\n"
     ]
    },
    {
     "name": "stdout",
     "output_type": "stream",
     "text": [
      "[1] \"M188T573\"\n"
     ]
    },
    {
     "name": "stderr",
     "output_type": "stream",
     "text": [
      "Backend of the input object is read-only, will change that to an 'MsBackendMemory'\n",
      "\n",
      "Warning message:\n",
      "\"'combinePeaks' for lists of peak matrices is deprecated; please use 'combinePeaksData' instead.\"\n"
     ]
    },
    {
     "name": "stdout",
     "output_type": "stream",
     "text": [
      "[1] \"M206T574\"\n"
     ]
    },
    {
     "name": "stderr",
     "output_type": "stream",
     "text": [
      "Backend of the input object is read-only, will change that to an 'MsBackendMemory'\n",
      "\n",
      "Warning message:\n",
      "\"'combinePeaks' for lists of peak matrices is deprecated; please use 'combinePeaksData' instead.\"\n"
     ]
    },
    {
     "name": "stdout",
     "output_type": "stream",
     "text": [
      "[1] \"M220T574\"\n"
     ]
    },
    {
     "name": "stderr",
     "output_type": "stream",
     "text": [
      "Backend of the input object is read-only, will change that to an 'MsBackendMemory'\n",
      "\n"
     ]
    },
    {
     "name": "stdout",
     "output_type": "stream",
     "text": [
      "[1] \"M170T598\"\n"
     ]
    },
    {
     "name": "stderr",
     "output_type": "stream",
     "text": [
      "Backend of the input object is read-only, will change that to an 'MsBackendMemory'\n",
      "\n",
      "Warning message:\n",
      "\"'combinePeaks' for lists of peak matrices is deprecated; please use 'combinePeaksData' instead.\"\n"
     ]
    },
    {
     "name": "stdout",
     "output_type": "stream",
     "text": [
      "[1] \"M270T733\"\n"
     ]
    },
    {
     "name": "stderr",
     "output_type": "stream",
     "text": [
      "Backend of the input object is read-only, will change that to an 'MsBackendMemory'\n",
      "\n"
     ]
    },
    {
     "name": "stdout",
     "output_type": "stream",
     "text": [
      "[1] \"M263T733\"\n"
     ]
    },
    {
     "name": "stderr",
     "output_type": "stream",
     "text": [
      "Backend of the input object is read-only, will change that to an 'MsBackendMemory'\n",
      "\n"
     ]
    },
    {
     "name": "stdout",
     "output_type": "stream",
     "text": [
      "[1] \"M153T737\"\n"
     ]
    },
    {
     "name": "stderr",
     "output_type": "stream",
     "text": [
      "Backend of the input object is read-only, will change that to an 'MsBackendMemory'\n",
      "\n"
     ]
    },
    {
     "name": "stdout",
     "output_type": "stream",
     "text": [
      "[1] \"M228T758\"\n"
     ]
    },
    {
     "name": "stderr",
     "output_type": "stream",
     "text": [
      "Backend of the input object is read-only, will change that to an 'MsBackendMemory'\n",
      "\n"
     ]
    },
    {
     "name": "stdout",
     "output_type": "stream",
     "text": [
      "[1] \"M227T758_2\"\n"
     ]
    },
    {
     "name": "stderr",
     "output_type": "stream",
     "text": [
      "Backend of the input object is read-only, will change that to an 'MsBackendMemory'\n",
      "\n",
      "Warning message:\n",
      "\"'combinePeaks' for lists of peak matrices is deprecated; please use 'combinePeaksData' instead.\"\n"
     ]
    },
    {
     "name": "stdout",
     "output_type": "stream",
     "text": [
      "[1] \"M251T760\"\n"
     ]
    },
    {
     "name": "stderr",
     "output_type": "stream",
     "text": [
      "Backend of the input object is read-only, will change that to an 'MsBackendMemory'\n",
      "\n"
     ]
    },
    {
     "name": "stdout",
     "output_type": "stream",
     "text": [
      "[1] \"M283T764\"\n"
     ]
    },
    {
     "name": "stderr",
     "output_type": "stream",
     "text": [
      "Backend of the input object is read-only, will change that to an 'MsBackendMemory'\n",
      "\n"
     ]
    },
    {
     "name": "stdout",
     "output_type": "stream",
     "text": [
      "[1] \"M265T784\"\n"
     ]
    },
    {
     "name": "stderr",
     "output_type": "stream",
     "text": [
      "Backend of the input object is read-only, will change that to an 'MsBackendMemory'\n",
      "\n"
     ]
    },
    {
     "name": "stdout",
     "output_type": "stream",
     "text": [
      "[1] \"M263T836\"\n"
     ]
    },
    {
     "name": "stderr",
     "output_type": "stream",
     "text": [
      "Backend of the input object is read-only, will change that to an 'MsBackendMemory'\n",
      "\n"
     ]
    },
    {
     "name": "stdout",
     "output_type": "stream",
     "text": [
      "[1] \"M221T853\"\n"
     ]
    },
    {
     "name": "stderr",
     "output_type": "stream",
     "text": [
      "Backend of the input object is read-only, will change that to an 'MsBackendMemory'\n",
      "\n"
     ]
    },
    {
     "name": "stdout",
     "output_type": "stream",
     "text": [
      "[1] \"M351T853\"\n"
     ]
    },
    {
     "name": "stderr",
     "output_type": "stream",
     "text": [
      "Backend of the input object is read-only, will change that to an 'MsBackendMemory'\n",
      "\n"
     ]
    },
    {
     "name": "stdout",
     "output_type": "stream",
     "text": [
      "[1] \"M241T854_2\"\n"
     ]
    },
    {
     "name": "stderr",
     "output_type": "stream",
     "text": [
      "Backend of the input object is read-only, will change that to an 'MsBackendMemory'\n",
      "\n"
     ]
    },
    {
     "name": "stdout",
     "output_type": "stream",
     "text": [
      "[1] \"M263T854\"\n"
     ]
    },
    {
     "name": "stderr",
     "output_type": "stream",
     "text": [
      "Backend of the input object is read-only, will change that to an 'MsBackendMemory'\n",
      "\n"
     ]
    },
    {
     "name": "stdout",
     "output_type": "stream",
     "text": [
      "[1] \"M199T855\"\n"
     ]
    },
    {
     "name": "stderr",
     "output_type": "stream",
     "text": [
      "Backend of the input object is read-only, will change that to an 'MsBackendMemory'\n",
      "\n"
     ]
    },
    {
     "name": "stdout",
     "output_type": "stream",
     "text": [
      "[1] \"M221T855\"\n"
     ]
    },
    {
     "name": "stderr",
     "output_type": "stream",
     "text": [
      "Backend of the input object is read-only, will change that to an 'MsBackendMemory'\n",
      "\n",
      "Warning message:\n",
      "\"'combinePeaks' for lists of peak matrices is deprecated; please use 'combinePeaksData' instead.\"\n"
     ]
    },
    {
     "name": "stdout",
     "output_type": "stream",
     "text": [
      "[1] \"M277T856\"\n"
     ]
    },
    {
     "name": "stderr",
     "output_type": "stream",
     "text": [
      "Backend of the input object is read-only, will change that to an 'MsBackendMemory'\n",
      "\n"
     ]
    },
    {
     "name": "stdout",
     "output_type": "stream",
     "text": [
      "[1] \"M246T857\"\n"
     ]
    },
    {
     "name": "stderr",
     "output_type": "stream",
     "text": [
      "Backend of the input object is read-only, will change that to an 'MsBackendMemory'\n",
      "\n"
     ]
    },
    {
     "name": "stdout",
     "output_type": "stream",
     "text": [
      "[1] \"M213T864\"\n"
     ]
    },
    {
     "name": "stderr",
     "output_type": "stream",
     "text": [
      "Backend of the input object is read-only, will change that to an 'MsBackendMemory'\n",
      "\n",
      "Warning message:\n",
      "\"'combinePeaks' for lists of peak matrices is deprecated; please use 'combinePeaksData' instead.\"\n"
     ]
    },
    {
     "name": "stdout",
     "output_type": "stream",
     "text": [
      "[1] \"M266T865\"\n"
     ]
    },
    {
     "name": "stderr",
     "output_type": "stream",
     "text": [
      "Backend of the input object is read-only, will change that to an 'MsBackendMemory'\n",
      "\n"
     ]
    },
    {
     "name": "stdout",
     "output_type": "stream",
     "text": [
      "[1] \"M226T865\"\n"
     ]
    },
    {
     "name": "stderr",
     "output_type": "stream",
     "text": [
      "Backend of the input object is read-only, will change that to an 'MsBackendMemory'\n",
      "\n"
     ]
    },
    {
     "name": "stdout",
     "output_type": "stream",
     "text": [
      "[1] \"M244T865\"\n"
     ]
    },
    {
     "name": "stderr",
     "output_type": "stream",
     "text": [
      "Backend of the input object is read-only, will change that to an 'MsBackendMemory'\n",
      "\n"
     ]
    },
    {
     "name": "stdout",
     "output_type": "stream",
     "text": [
      "[1] \"M245T865\"\n"
     ]
    },
    {
     "name": "stderr",
     "output_type": "stream",
     "text": [
      "Backend of the input object is read-only, will change that to an 'MsBackendMemory'\n",
      "\n"
     ]
    },
    {
     "name": "stdout",
     "output_type": "stream",
     "text": [
      "[1] \"M272T866\"\n"
     ]
    },
    {
     "name": "stderr",
     "output_type": "stream",
     "text": [
      "Backend of the input object is read-only, will change that to an 'MsBackendMemory'\n",
      "\n"
     ]
    },
    {
     "name": "stdout",
     "output_type": "stream",
     "text": [
      "[1] \"M347T866\"\n"
     ]
    },
    {
     "name": "stderr",
     "output_type": "stream",
     "text": [
      "Backend of the input object is read-only, will change that to an 'MsBackendMemory'\n",
      "\n",
      "Warning message:\n",
      "\"'combinePeaks' for lists of peak matrices is deprecated; please use 'combinePeaksData' instead.\"\n"
     ]
    },
    {
     "name": "stdout",
     "output_type": "stream",
     "text": [
      "[1] \"M348T866\"\n"
     ]
    },
    {
     "name": "stderr",
     "output_type": "stream",
     "text": [
      "Backend of the input object is read-only, will change that to an 'MsBackendMemory'\n",
      "\n"
     ]
    },
    {
     "name": "stdout",
     "output_type": "stream",
     "text": [
      "[1] \"M370T867\"\n"
     ]
    },
    {
     "name": "stderr",
     "output_type": "stream",
     "text": [
      "Backend of the input object is read-only, will change that to an 'MsBackendMemory'\n",
      "\n"
     ]
    },
    {
     "name": "stdout",
     "output_type": "stream",
     "text": [
      "[1] \"M369T867\"\n"
     ]
    },
    {
     "name": "stderr",
     "output_type": "stream",
     "text": [
      "Backend of the input object is read-only, will change that to an 'MsBackendMemory'\n",
      "\n",
      "Warning message:\n",
      "\"'combinePeaks' for lists of peak matrices is deprecated; please use 'combinePeaksData' instead.\"\n"
     ]
    },
    {
     "name": "stdout",
     "output_type": "stream",
     "text": [
      "[1] \"M387T867\"\n"
     ]
    },
    {
     "name": "stderr",
     "output_type": "stream",
     "text": [
      "Backend of the input object is read-only, will change that to an 'MsBackendMemory'\n",
      "\n"
     ]
    },
    {
     "name": "stdout",
     "output_type": "stream",
     "text": [
      "[1] \"M289T874\"\n"
     ]
    },
    {
     "name": "stderr",
     "output_type": "stream",
     "text": [
      "Backend of the input object is read-only, will change that to an 'MsBackendMemory'\n",
      "\n"
     ]
    },
    {
     "name": "stdout",
     "output_type": "stream",
     "text": [
      "[1] \"M325T875\"\n"
     ]
    },
    {
     "name": "stderr",
     "output_type": "stream",
     "text": [
      "Backend of the input object is read-only, will change that to an 'MsBackendMemory'\n",
      "\n"
     ]
    },
    {
     "name": "stdout",
     "output_type": "stream",
     "text": [
      "[1] \"M554T875\"\n"
     ]
    },
    {
     "name": "stderr",
     "output_type": "stream",
     "text": [
      "Backend of the input object is read-only, will change that to an 'MsBackendMemory'\n",
      "\n"
     ]
    },
    {
     "name": "stdout",
     "output_type": "stream",
     "text": [
      "[1] \"M207T875\"\n"
     ]
    },
    {
     "name": "stderr",
     "output_type": "stream",
     "text": [
      "Backend of the input object is read-only, will change that to an 'MsBackendMemory'\n",
      "\n"
     ]
    },
    {
     "name": "stdout",
     "output_type": "stream",
     "text": [
      "[1] \"M237T877\"\n"
     ]
    },
    {
     "name": "stderr",
     "output_type": "stream",
     "text": [
      "Backend of the input object is read-only, will change that to an 'MsBackendMemory'\n",
      "\n"
     ]
    },
    {
     "name": "stdout",
     "output_type": "stream",
     "text": [
      "[1] \"M684T879\"\n"
     ]
    },
    {
     "name": "stderr",
     "output_type": "stream",
     "text": [
      "Backend of the input object is read-only, will change that to an 'MsBackendMemory'\n",
      "\n"
     ]
    },
    {
     "name": "stdout",
     "output_type": "stream",
     "text": [
      "[1] \"M149T880\"\n"
     ]
    },
    {
     "name": "stderr",
     "output_type": "stream",
     "text": [
      "Backend of the input object is read-only, will change that to an 'MsBackendMemory'\n",
      "\n"
     ]
    },
    {
     "name": "stdout",
     "output_type": "stream",
     "text": [
      "[1] \"M213T880\"\n"
     ]
    },
    {
     "name": "stderr",
     "output_type": "stream",
     "text": [
      "Backend of the input object is read-only, will change that to an 'MsBackendMemory'\n",
      "\n"
     ]
    },
    {
     "name": "stdout",
     "output_type": "stream",
     "text": [
      "[1] \"M739T882_2\"\n"
     ]
    },
    {
     "name": "stderr",
     "output_type": "stream",
     "text": [
      "Backend of the input object is read-only, will change that to an 'MsBackendMemory'\n",
      "\n"
     ]
    },
    {
     "name": "stdout",
     "output_type": "stream",
     "text": [
      "[1] \"M426T882_2\"\n"
     ]
    },
    {
     "name": "stderr",
     "output_type": "stream",
     "text": [
      "Backend of the input object is read-only, will change that to an 'MsBackendMemory'\n",
      "\n"
     ]
    },
    {
     "name": "stdout",
     "output_type": "stream",
     "text": [
      "[1] \"M277T884\"\n"
     ]
    },
    {
     "name": "stderr",
     "output_type": "stream",
     "text": [
      "Backend of the input object is read-only, will change that to an 'MsBackendMemory'\n",
      "\n"
     ]
    },
    {
     "name": "stdout",
     "output_type": "stream",
     "text": [
      "[1] \"M354T884\"\n"
     ]
    },
    {
     "name": "stderr",
     "output_type": "stream",
     "text": [
      "Backend of the input object is read-only, will change that to an 'MsBackendMemory'\n",
      "\n"
     ]
    },
    {
     "name": "stdout",
     "output_type": "stream",
     "text": [
      "[1] \"M681T884\"\n"
     ]
    },
    {
     "name": "stderr",
     "output_type": "stream",
     "text": [
      "Backend of the input object is read-only, will change that to an 'MsBackendMemory'\n",
      "\n"
     ]
    },
    {
     "name": "stdout",
     "output_type": "stream",
     "text": [
      "[1] \"M295T884\"\n"
     ]
    },
    {
     "name": "stderr",
     "output_type": "stream",
     "text": [
      "Backend of the input object is read-only, will change that to an 'MsBackendMemory'\n",
      "\n",
      "Warning message:\n",
      "\"'combinePeaks' for lists of peak matrices is deprecated; please use 'combinePeaksData' instead.\"\n"
     ]
    },
    {
     "name": "stdout",
     "output_type": "stream",
     "text": [
      "[1] \"M684T885\"\n"
     ]
    },
    {
     "name": "stderr",
     "output_type": "stream",
     "text": [
      "Backend of the input object is read-only, will change that to an 'MsBackendMemory'\n",
      "\n"
     ]
    },
    {
     "name": "stdout",
     "output_type": "stream",
     "text": [
      "[1] \"M177T885\"\n"
     ]
    },
    {
     "name": "stderr",
     "output_type": "stream",
     "text": [
      "Backend of the input object is read-only, will change that to an 'MsBackendMemory'\n",
      "\n"
     ]
    },
    {
     "name": "stdout",
     "output_type": "stream",
     "text": [
      "[1] \"M375T890_2\"\n"
     ]
    },
    {
     "name": "stderr",
     "output_type": "stream",
     "text": [
      "Backend of the input object is read-only, will change that to an 'MsBackendMemory'\n",
      "\n"
     ]
    },
    {
     "name": "stdout",
     "output_type": "stream",
     "text": [
      "[1] \"M325T891_2\"\n"
     ]
    },
    {
     "name": "stderr",
     "output_type": "stream",
     "text": [
      "Backend of the input object is read-only, will change that to an 'MsBackendMemory'\n",
      "\n"
     ]
    },
    {
     "name": "stdout",
     "output_type": "stream",
     "text": [
      "[1] \"M291T893\"\n"
     ]
    },
    {
     "name": "stderr",
     "output_type": "stream",
     "text": [
      "Backend of the input object is read-only, will change that to an 'MsBackendMemory'\n",
      "\n"
     ]
    },
    {
     "name": "stdout",
     "output_type": "stream",
     "text": [
      "[1] \"M592T901\"\n"
     ]
    },
    {
     "name": "stderr",
     "output_type": "stream",
     "text": [
      "Backend of the input object is read-only, will change that to an 'MsBackendMemory'\n",
      "\n"
     ]
    },
    {
     "name": "stdout",
     "output_type": "stream",
     "text": [
      "[1] \"M349T903\"\n"
     ]
    },
    {
     "name": "stderr",
     "output_type": "stream",
     "text": [
      "Backend of the input object is read-only, will change that to an 'MsBackendMemory'\n",
      "\n",
      "Warning message:\n",
      "\"'combinePeaks' for lists of peak matrices is deprecated; please use 'combinePeaksData' instead.\"\n"
     ]
    },
    {
     "name": "stdout",
     "output_type": "stream",
     "text": [
      "[1] \"M327T904\"\n"
     ]
    },
    {
     "name": "stderr",
     "output_type": "stream",
     "text": [
      "Backend of the input object is read-only, will change that to an 'MsBackendMemory'\n",
      "\n"
     ]
    },
    {
     "name": "stdout",
     "output_type": "stream",
     "text": [
      "[1] \"M331T915\"\n"
     ]
    },
    {
     "name": "stderr",
     "output_type": "stream",
     "text": [
      "Backend of the input object is read-only, will change that to an 'MsBackendMemory'\n",
      "\n"
     ]
    },
    {
     "name": "stdout",
     "output_type": "stream",
     "text": [
      "[1] \"M331T920\"\n"
     ]
    },
    {
     "name": "stderr",
     "output_type": "stream",
     "text": [
      "Backend of the input object is read-only, will change that to an 'MsBackendMemory'\n",
      "\n"
     ]
    },
    {
     "name": "stdout",
     "output_type": "stream",
     "text": [
      "[1] \"M401T929\"\n"
     ]
    },
    {
     "name": "stderr",
     "output_type": "stream",
     "text": [
      "Backend of the input object is read-only, will change that to an 'MsBackendMemory'\n",
      "\n"
     ]
    },
    {
     "name": "stdout",
     "output_type": "stream",
     "text": [
      "[1] \"M349T930\"\n"
     ]
    },
    {
     "name": "stderr",
     "output_type": "stream",
     "text": [
      "Backend of the input object is read-only, will change that to an 'MsBackendMemory'\n",
      "\n"
     ]
    },
    {
     "name": "stdout",
     "output_type": "stream",
     "text": [
      "[1] \"M399T930\"\n"
     ]
    },
    {
     "name": "stderr",
     "output_type": "stream",
     "text": [
      "Backend of the input object is read-only, will change that to an 'MsBackendMemory'\n",
      "\n"
     ]
    },
    {
     "name": "stdout",
     "output_type": "stream",
     "text": [
      "[1] \"M277T932\"\n"
     ]
    },
    {
     "name": "stderr",
     "output_type": "stream",
     "text": [
      "Backend of the input object is read-only, will change that to an 'MsBackendMemory'\n",
      "\n"
     ]
    },
    {
     "name": "stdout",
     "output_type": "stream",
     "text": [
      "[1] \"M295T933\"\n"
     ]
    },
    {
     "name": "stderr",
     "output_type": "stream",
     "text": [
      "Backend of the input object is read-only, will change that to an 'MsBackendMemory'\n",
      "\n",
      "Warning message:\n",
      "\"'combinePeaks' for lists of peak matrices is deprecated; please use 'combinePeaksData' instead.\"\n"
     ]
    },
    {
     "name": "stdout",
     "output_type": "stream",
     "text": [
      "[1] \"M335T933\"\n"
     ]
    },
    {
     "name": "stderr",
     "output_type": "stream",
     "text": [
      "Backend of the input object is read-only, will change that to an 'MsBackendMemory'\n",
      "\n",
      "Warning message:\n",
      "\"'combinePeaks' for lists of peak matrices is deprecated; please use 'combinePeaksData' instead.\"\n"
     ]
    },
    {
     "name": "stdout",
     "output_type": "stream",
     "text": [
      "[1] \"M330T934\"\n"
     ]
    },
    {
     "name": "stderr",
     "output_type": "stream",
     "text": [
      "Backend of the input object is read-only, will change that to an 'MsBackendMemory'\n",
      "\n",
      "Warning message:\n",
      "\"'combinePeaks' for lists of peak matrices is deprecated; please use 'combinePeaksData' instead.\"\n"
     ]
    },
    {
     "name": "stdout",
     "output_type": "stream",
     "text": [
      "[1] \"M331T934\"\n"
     ]
    },
    {
     "name": "stderr",
     "output_type": "stream",
     "text": [
      "Backend of the input object is read-only, will change that to an 'MsBackendMemory'\n",
      "\n"
     ]
    },
    {
     "name": "stdout",
     "output_type": "stream",
     "text": [
      "[1] \"M343T934\"\n"
     ]
    },
    {
     "name": "stderr",
     "output_type": "stream",
     "text": [
      "Backend of the input object is read-only, will change that to an 'MsBackendMemory'\n",
      "\n"
     ]
    },
    {
     "name": "stdout",
     "output_type": "stream",
     "text": [
      "[1] \"M369T935\"\n"
     ]
    },
    {
     "name": "stderr",
     "output_type": "stream",
     "text": [
      "Backend of the input object is read-only, will change that to an 'MsBackendMemory'\n",
      "\n"
     ]
    },
    {
     "name": "stdout",
     "output_type": "stream",
     "text": [
      "[1] \"M275T938\"\n"
     ]
    },
    {
     "name": "stderr",
     "output_type": "stream",
     "text": [
      "Backend of the input object is read-only, will change that to an 'MsBackendMemory'\n",
      "\n"
     ]
    },
    {
     "name": "stdout",
     "output_type": "stream",
     "text": [
      "[1] \"M377T940\"\n"
     ]
    },
    {
     "name": "stderr",
     "output_type": "stream",
     "text": [
      "Backend of the input object is read-only, will change that to an 'MsBackendMemory'\n",
      "\n"
     ]
    },
    {
     "name": "stdout",
     "output_type": "stream",
     "text": [
      "[1] \"M377T943\"\n"
     ]
    },
    {
     "name": "stderr",
     "output_type": "stream",
     "text": [
      "Backend of the input object is read-only, will change that to an 'MsBackendMemory'\n",
      "\n"
     ]
    },
    {
     "name": "stdout",
     "output_type": "stream",
     "text": [
      "[1] \"M331T944\"\n"
     ]
    },
    {
     "name": "stderr",
     "output_type": "stream",
     "text": [
      "Backend of the input object is read-only, will change that to an 'MsBackendMemory'\n",
      "\n"
     ]
    },
    {
     "name": "stdout",
     "output_type": "stream",
     "text": [
      "[1] \"M331T958\"\n"
     ]
    },
    {
     "name": "stderr",
     "output_type": "stream",
     "text": [
      "Backend of the input object is read-only, will change that to an 'MsBackendMemory'\n",
      "\n"
     ]
    },
    {
     "name": "stdout",
     "output_type": "stream",
     "text": [
      "[1] \"M328T959\"\n"
     ]
    },
    {
     "name": "stderr",
     "output_type": "stream",
     "text": [
      "Backend of the input object is read-only, will change that to an 'MsBackendMemory'\n",
      "\n"
     ]
    },
    {
     "name": "stdout",
     "output_type": "stream",
     "text": [
      "[1] \"M349T960\"\n"
     ]
    },
    {
     "name": "stderr",
     "output_type": "stream",
     "text": [
      "Backend of the input object is read-only, will change that to an 'MsBackendMemory'\n",
      "\n"
     ]
    },
    {
     "name": "stdout",
     "output_type": "stream",
     "text": [
      "[1] \"M650T962\"\n"
     ]
    },
    {
     "name": "stderr",
     "output_type": "stream",
     "text": [
      "Backend of the input object is read-only, will change that to an 'MsBackendMemory'\n",
      "\n"
     ]
    },
    {
     "name": "stdout",
     "output_type": "stream",
     "text": [
      "[1] \"M333T963\"\n"
     ]
    },
    {
     "name": "stderr",
     "output_type": "stream",
     "text": [
      "Backend of the input object is read-only, will change that to an 'MsBackendMemory'\n",
      "\n",
      "Warning message:\n",
      "\"'combinePeaks' for lists of peak matrices is deprecated; please use 'combinePeaksData' instead.\"\n"
     ]
    },
    {
     "name": "stdout",
     "output_type": "stream",
     "text": [
      "[1] \"M369T965\"\n"
     ]
    },
    {
     "name": "stderr",
     "output_type": "stream",
     "text": [
      "Backend of the input object is read-only, will change that to an 'MsBackendMemory'\n",
      "\n"
     ]
    },
    {
     "name": "stdout",
     "output_type": "stream",
     "text": [
      "[1] \"M275T965\"\n"
     ]
    },
    {
     "name": "stderr",
     "output_type": "stream",
     "text": [
      "Backend of the input object is read-only, will change that to an 'MsBackendMemory'\n",
      "\n"
     ]
    },
    {
     "name": "stdout",
     "output_type": "stream",
     "text": [
      "[1] \"M647T965\"\n"
     ]
    },
    {
     "name": "stderr",
     "output_type": "stream",
     "text": [
      "Backend of the input object is read-only, will change that to an 'MsBackendMemory'\n",
      "\n",
      "Warning message:\n",
      "\"'combinePeaks' for lists of peak matrices is deprecated; please use 'combinePeaksData' instead.\"\n"
     ]
    },
    {
     "name": "stdout",
     "output_type": "stream",
     "text": [
      "[1] \"M730T966\"\n"
     ]
    },
    {
     "name": "stderr",
     "output_type": "stream",
     "text": [
      "Backend of the input object is read-only, will change that to an 'MsBackendMemory'\n",
      "\n"
     ]
    },
    {
     "name": "stdout",
     "output_type": "stream",
     "text": [
      "[1] \"M681T966\"\n"
     ]
    },
    {
     "name": "stderr",
     "output_type": "stream",
     "text": [
      "Backend of the input object is read-only, will change that to an 'MsBackendMemory'\n",
      "\n"
     ]
    },
    {
     "name": "stdout",
     "output_type": "stream",
     "text": [
      "[1] \"M334T966\"\n"
     ]
    },
    {
     "name": "stderr",
     "output_type": "stream",
     "text": [
      "Backend of the input object is read-only, will change that to an 'MsBackendMemory'\n",
      "\n"
     ]
    },
    {
     "name": "stdout",
     "output_type": "stream",
     "text": [
      "[1] \"M196T966\"\n"
     ]
    },
    {
     "name": "stderr",
     "output_type": "stream",
     "text": [
      "Backend of the input object is read-only, will change that to an 'MsBackendMemory'\n",
      "\n"
     ]
    },
    {
     "name": "stdout",
     "output_type": "stream",
     "text": [
      "[1] \"M646T966\"\n"
     ]
    },
    {
     "name": "stderr",
     "output_type": "stream",
     "text": [
      "Backend of the input object is read-only, will change that to an 'MsBackendMemory'\n",
      "\n"
     ]
    },
    {
     "name": "stdout",
     "output_type": "stream",
     "text": [
      "[1] \"M679T966\"\n"
     ]
    },
    {
     "name": "stderr",
     "output_type": "stream",
     "text": [
      "Backend of the input object is read-only, will change that to an 'MsBackendMemory'\n",
      "\n"
     ]
    },
    {
     "name": "stdout",
     "output_type": "stream",
     "text": [
      "[1] \"M643T966\"\n"
     ]
    },
    {
     "name": "stderr",
     "output_type": "stream",
     "text": [
      "Backend of the input object is read-only, will change that to an 'MsBackendMemory'\n",
      "\n"
     ]
    },
    {
     "name": "stdout",
     "output_type": "stream",
     "text": [
      "[1] \"M663T966\"\n"
     ]
    },
    {
     "name": "stderr",
     "output_type": "stream",
     "text": [
      "Backend of the input object is read-only, will change that to an 'MsBackendMemory'\n",
      "\n"
     ]
    },
    {
     "name": "stdout",
     "output_type": "stream",
     "text": [
      "[1] \"M645T966\"\n"
     ]
    },
    {
     "name": "stderr",
     "output_type": "stream",
     "text": [
      "Backend of the input object is read-only, will change that to an 'MsBackendMemory'\n",
      "\n",
      "Warning message:\n",
      "\"'combinePeaks' for lists of peak matrices is deprecated; please use 'combinePeaksData' instead.\"\n"
     ]
    },
    {
     "name": "stdout",
     "output_type": "stream",
     "text": [
      "[1] \"M351T967\"\n"
     ]
    },
    {
     "name": "stderr",
     "output_type": "stream",
     "text": [
      "Backend of the input object is read-only, will change that to an 'MsBackendMemory'\n",
      "\n"
     ]
    },
    {
     "name": "stdout",
     "output_type": "stream",
     "text": [
      "[1] \"M644T967\"\n"
     ]
    },
    {
     "name": "stderr",
     "output_type": "stream",
     "text": [
      "Backend of the input object is read-only, will change that to an 'MsBackendMemory'\n",
      "\n"
     ]
    },
    {
     "name": "stdout",
     "output_type": "stream",
     "text": [
      "[1] \"M301T975\"\n"
     ]
    },
    {
     "name": "stderr",
     "output_type": "stream",
     "text": [
      "Backend of the input object is read-only, will change that to an 'MsBackendMemory'\n",
      "\n"
     ]
    },
    {
     "name": "stdout",
     "output_type": "stream",
     "text": [
      "[1] \"M383T979\"\n"
     ]
    },
    {
     "name": "stderr",
     "output_type": "stream",
     "text": [
      "Backend of the input object is read-only, will change that to an 'MsBackendMemory'\n",
      "\n"
     ]
    },
    {
     "name": "stdout",
     "output_type": "stream",
     "text": [
      "[1] \"M384T980\"\n"
     ]
    },
    {
     "name": "stderr",
     "output_type": "stream",
     "text": [
      "Backend of the input object is read-only, will change that to an 'MsBackendMemory'\n",
      "\n"
     ]
    },
    {
     "name": "stdout",
     "output_type": "stream",
     "text": [
      "[1] \"M155T981\"\n"
     ]
    },
    {
     "name": "stderr",
     "output_type": "stream",
     "text": [
      "Backend of the input object is read-only, will change that to an 'MsBackendMemory'\n",
      "\n"
     ]
    },
    {
     "name": "stdout",
     "output_type": "stream",
     "text": [
      "[1] \"M293T981\"\n"
     ]
    },
    {
     "name": "stderr",
     "output_type": "stream",
     "text": [
      "Backend of the input object is read-only, will change that to an 'MsBackendMemory'\n",
      "\n",
      "Warning message:\n",
      "\"'combinePeaks' for lists of peak matrices is deprecated; please use 'combinePeaksData' instead.\"\n"
     ]
    },
    {
     "name": "stdout",
     "output_type": "stream",
     "text": [
      "[1] \"M391T982\"\n"
     ]
    },
    {
     "name": "stderr",
     "output_type": "stream",
     "text": [
      "Backend of the input object is read-only, will change that to an 'MsBackendMemory'\n",
      "\n"
     ]
    },
    {
     "name": "stdout",
     "output_type": "stream",
     "text": [
      "[1] \"M628T984\"\n"
     ]
    },
    {
     "name": "stderr",
     "output_type": "stream",
     "text": [
      "Backend of the input object is read-only, will change that to an 'MsBackendMemory'\n",
      "\n"
     ]
    },
    {
     "name": "stdout",
     "output_type": "stream",
     "text": [
      "[1] \"M585T984\"\n"
     ]
    },
    {
     "name": "stderr",
     "output_type": "stream",
     "text": [
      "Backend of the input object is read-only, will change that to an 'MsBackendMemory'\n",
      "\n"
     ]
    },
    {
     "name": "stdout",
     "output_type": "stream",
     "text": [
      "[1] \"M315T990\"\n"
     ]
    },
    {
     "name": "stderr",
     "output_type": "stream",
     "text": [
      "Backend of the input object is read-only, will change that to an 'MsBackendMemory'\n",
      "\n"
     ]
    },
    {
     "name": "stdout",
     "output_type": "stream",
     "text": [
      "[1] \"M279T993\"\n"
     ]
    },
    {
     "name": "stderr",
     "output_type": "stream",
     "text": [
      "Backend of the input object is read-only, will change that to an 'MsBackendMemory'\n",
      "\n",
      "Warning message:\n",
      "\"'combinePeaks' for lists of peak matrices is deprecated; please use 'combinePeaksData' instead.\"\n"
     ]
    },
    {
     "name": "stdout",
     "output_type": "stream",
     "text": [
      "[1] \"M277T993\"\n"
     ]
    },
    {
     "name": "stderr",
     "output_type": "stream",
     "text": [
      "Backend of the input object is read-only, will change that to an 'MsBackendMemory'\n",
      "\n"
     ]
    },
    {
     "name": "stdout",
     "output_type": "stream",
     "text": [
      "[1] \"M539T998\"\n"
     ]
    },
    {
     "name": "stderr",
     "output_type": "stream",
     "text": [
      "Backend of the input object is read-only, will change that to an 'MsBackendMemory'\n",
      "\n"
     ]
    },
    {
     "name": "stdout",
     "output_type": "stream",
     "text": [
      "[1] \"M280T1004\"\n"
     ]
    },
    {
     "name": "stderr",
     "output_type": "stream",
     "text": [
      "Backend of the input object is read-only, will change that to an 'MsBackendMemory'\n",
      "\n"
     ]
    },
    {
     "name": "stdout",
     "output_type": "stream",
     "text": [
      "[1] \"M279T1004\"\n"
     ]
    },
    {
     "name": "stderr",
     "output_type": "stream",
     "text": [
      "Backend of the input object is read-only, will change that to an 'MsBackendMemory'\n",
      "\n",
      "Warning message:\n",
      "\"'combinePeaks' for lists of peak matrices is deprecated; please use 'combinePeaksData' instead.\"\n"
     ]
    },
    {
     "name": "stdout",
     "output_type": "stream",
     "text": [
      "[1] \"M179T1005\"\n"
     ]
    },
    {
     "name": "stderr",
     "output_type": "stream",
     "text": [
      "Backend of the input object is read-only, will change that to an 'MsBackendMemory'\n",
      "\n"
     ]
    },
    {
     "name": "stdout",
     "output_type": "stream",
     "text": [
      "[1] \"M295T1007\"\n"
     ]
    },
    {
     "name": "stderr",
     "output_type": "stream",
     "text": [
      "Backend of the input object is read-only, will change that to an 'MsBackendMemory'\n",
      "\n",
      "Warning message:\n",
      "\"'combinePeaks' for lists of peak matrices is deprecated; please use 'combinePeaksData' instead.\"\n"
     ]
    },
    {
     "name": "stdout",
     "output_type": "stream",
     "text": [
      "[1] \"M296T1007\"\n"
     ]
    },
    {
     "name": "stderr",
     "output_type": "stream",
     "text": [
      "Backend of the input object is read-only, will change that to an 'MsBackendMemory'\n",
      "\n"
     ]
    },
    {
     "name": "stdout",
     "output_type": "stream",
     "text": [
      "[1] \"M278T1007\"\n"
     ]
    },
    {
     "name": "stderr",
     "output_type": "stream",
     "text": [
      "Backend of the input object is read-only, will change that to an 'MsBackendMemory'\n",
      "\n"
     ]
    },
    {
     "name": "stdout",
     "output_type": "stream",
     "text": [
      "[1] \"M277T1007\"\n"
     ]
    },
    {
     "name": "stderr",
     "output_type": "stream",
     "text": [
      "Backend of the input object is read-only, will change that to an 'MsBackendMemory'\n",
      "\n",
      "Warning message:\n",
      "\"'combinePeaks' for lists of peak matrices is deprecated; please use 'combinePeaksData' instead.\"\n"
     ]
    },
    {
     "name": "stdout",
     "output_type": "stream",
     "text": [
      "[1] \"M279T1022\"\n"
     ]
    },
    {
     "name": "stderr",
     "output_type": "stream",
     "text": [
      "Backend of the input object is read-only, will change that to an 'MsBackendMemory'\n",
      "\n"
     ]
    },
    {
     "name": "stdout",
     "output_type": "stream",
     "text": [
      "[1] \"M675T1077\"\n"
     ]
    },
    {
     "name": "stderr",
     "output_type": "stream",
     "text": [
      "Backend of the input object is read-only, will change that to an 'MsBackendMemory'\n",
      "\n"
     ]
    },
    {
     "name": "stdout",
     "output_type": "stream",
     "text": [
      "[1] \"M674T1077\"\n"
     ]
    },
    {
     "name": "stderr",
     "output_type": "stream",
     "text": [
      "Backend of the input object is read-only, will change that to an 'MsBackendMemory'\n",
      "\n"
     ]
    },
    {
     "name": "stdout",
     "output_type": "stream",
     "text": [
      "[1] \"M676T1077\"\n"
     ]
    },
    {
     "name": "stderr",
     "output_type": "stream",
     "text": [
      "Backend of the input object is read-only, will change that to an 'MsBackendMemory'\n",
      "\n"
     ]
    },
    {
     "name": "stdout",
     "output_type": "stream",
     "text": [
      "[1] \"M736T111\"\n"
     ]
    },
    {
     "name": "stderr",
     "output_type": "stream",
     "text": [
      "Backend of the input object is read-only, will change that to an 'MsBackendMemory'\n",
      "\n"
     ]
    },
    {
     "name": "stdout",
     "output_type": "stream",
     "text": [
      "[1] \"M86T384\"\n"
     ]
    },
    {
     "name": "stderr",
     "output_type": "stream",
     "text": [
      "Backend of the input object is read-only, will change that to an 'MsBackendMemory'\n",
      "\n"
     ]
    },
    {
     "name": "stdout",
     "output_type": "stream",
     "text": [
      "[1] \"M169T584\"\n"
     ]
    },
    {
     "name": "stderr",
     "output_type": "stream",
     "text": [
      "Backend of the input object is read-only, will change that to an 'MsBackendMemory'\n",
      "\n",
      "Warning message:\n",
      "\"'combinePeaks' for lists of peak matrices is deprecated; please use 'combinePeaksData' instead.\"\n"
     ]
    },
    {
     "name": "stdout",
     "output_type": "stream",
     "text": [
      "[1] \"M462T755\"\n"
     ]
    },
    {
     "name": "stderr",
     "output_type": "stream",
     "text": [
      "Backend of the input object is read-only, will change that to an 'MsBackendMemory'\n",
      "\n"
     ]
    },
    {
     "name": "stdout",
     "output_type": "stream",
     "text": [
      "[1] \"M217T811\"\n"
     ]
    },
    {
     "name": "stderr",
     "output_type": "stream",
     "text": [
      "Backend of the input object is read-only, will change that to an 'MsBackendMemory'\n",
      "\n"
     ]
    },
    {
     "name": "stdout",
     "output_type": "stream",
     "text": [
      "[1] \"M237T811\"\n"
     ]
    },
    {
     "name": "stderr",
     "output_type": "stream",
     "text": [
      "Backend of the input object is read-only, will change that to an 'MsBackendMemory'\n",
      "\n",
      "Warning message:\n",
      "\"'combinePeaks' for lists of peak matrices is deprecated; please use 'combinePeaksData' instead.\"\n"
     ]
    },
    {
     "name": "stdout",
     "output_type": "stream",
     "text": [
      "[1] \"M229T846\"\n"
     ]
    },
    {
     "name": "stderr",
     "output_type": "stream",
     "text": [
      "Backend of the input object is read-only, will change that to an 'MsBackendMemory'\n",
      "\n"
     ]
    },
    {
     "name": "stdout",
     "output_type": "stream",
     "text": [
      "[1] \"M679T855\"\n"
     ]
    },
    {
     "name": "stderr",
     "output_type": "stream",
     "text": [
      "Backend of the input object is read-only, will change that to an 'MsBackendMemory'\n",
      "\n"
     ]
    },
    {
     "name": "stdout",
     "output_type": "stream",
     "text": [
      "[1] \"M155T881\"\n"
     ]
    },
    {
     "name": "stderr",
     "output_type": "stream",
     "text": [
      "Backend of the input object is read-only, will change that to an 'MsBackendMemory'\n",
      "\n"
     ]
    },
    {
     "name": "stdout",
     "output_type": "stream",
     "text": [
      "[1] \"M550T903\"\n"
     ]
    },
    {
     "name": "stderr",
     "output_type": "stream",
     "text": [
      "Backend of the input object is read-only, will change that to an 'MsBackendMemory'\n",
      "\n",
      "Warning message:\n",
      "\"'combinePeaks' for lists of peak matrices is deprecated; please use 'combinePeaksData' instead.\"\n"
     ]
    },
    {
     "name": "stdout",
     "output_type": "stream",
     "text": [
      "[1] \"M551T903\"\n"
     ]
    },
    {
     "name": "stderr",
     "output_type": "stream",
     "text": [
      "Backend of the input object is read-only, will change that to an 'MsBackendMemory'\n",
      "\n"
     ]
    },
    {
     "name": "stdout",
     "output_type": "stream",
     "text": [
      "[1] \"M572T903\"\n"
     ]
    },
    {
     "name": "stderr",
     "output_type": "stream",
     "text": [
      "Backend of the input object is read-only, will change that to an 'MsBackendMemory'\n",
      "\n"
     ]
    },
    {
     "name": "stdout",
     "output_type": "stream",
     "text": [
      "[1] \"M295T904\"\n"
     ]
    },
    {
     "name": "stderr",
     "output_type": "stream",
     "text": [
      "Backend of the input object is read-only, will change that to an 'MsBackendMemory'\n",
      "\n"
     ]
    },
    {
     "name": "stdout",
     "output_type": "stream",
     "text": [
      "[1] \"M333T945\"\n"
     ]
    },
    {
     "name": "stderr",
     "output_type": "stream",
     "text": [
      "Backend of the input object is read-only, will change that to an 'MsBackendMemory'\n",
      "\n"
     ]
    },
    {
     "name": "stdout",
     "output_type": "stream",
     "text": [
      "[1] \"M277T946\"\n"
     ]
    },
    {
     "name": "stderr",
     "output_type": "stream",
     "text": [
      "Backend of the input object is read-only, will change that to an 'MsBackendMemory'\n",
      "\n"
     ]
    },
    {
     "name": "stdout",
     "output_type": "stream",
     "text": [
      "[1] \"M576T948\"\n"
     ]
    },
    {
     "name": "stderr",
     "output_type": "stream",
     "text": [
      "Backend of the input object is read-only, will change that to an 'MsBackendMemory'\n",
      "\n"
     ]
    },
    {
     "name": "stdout",
     "output_type": "stream",
     "text": [
      "[1] \"M275T949\"\n"
     ]
    },
    {
     "name": "stderr",
     "output_type": "stream",
     "text": [
      "Backend of the input object is read-only, will change that to an 'MsBackendMemory'\n",
      "\n"
     ]
    },
    {
     "name": "stdout",
     "output_type": "stream",
     "text": [
      "[1] \"M297T951\"\n"
     ]
    },
    {
     "name": "stderr",
     "output_type": "stream",
     "text": [
      "Backend of the input object is read-only, will change that to an 'MsBackendMemory'\n",
      "\n"
     ]
    },
    {
     "name": "stdout",
     "output_type": "stream",
     "text": [
      "[1] \"M646T955\"\n"
     ]
    },
    {
     "name": "stderr",
     "output_type": "stream",
     "text": [
      "Backend of the input object is read-only, will change that to an 'MsBackendMemory'\n",
      "\n"
     ]
    },
    {
     "name": "stdout",
     "output_type": "stream",
     "text": [
      "[1] \"M559T956\"\n"
     ]
    },
    {
     "name": "stderr",
     "output_type": "stream",
     "text": [
      "Backend of the input object is read-only, will change that to an 'MsBackendMemory'\n",
      "\n"
     ]
    },
    {
     "name": "stdout",
     "output_type": "stream",
     "text": [
      "[1] \"M351T960\"\n"
     ]
    },
    {
     "name": "stderr",
     "output_type": "stream",
     "text": [
      "Backend of the input object is read-only, will change that to an 'MsBackendMemory'\n",
      "\n"
     ]
    },
    {
     "name": "stdout",
     "output_type": "stream",
     "text": [
      "[1] \"M819T1123\"\n"
     ]
    },
    {
     "name": "stderr",
     "output_type": "stream",
     "text": [
      "Backend of the input object is read-only, will change that to an 'MsBackendMemory'\n",
      "\n"
     ]
    },
    {
     "name": "stdout",
     "output_type": "stream",
     "text": [
      "[1] \"M482T107\"\n"
     ]
    },
    {
     "name": "stderr",
     "output_type": "stream",
     "text": [
      "Backend of the input object is read-only, will change that to an 'MsBackendMemory'\n",
      "\n"
     ]
    },
    {
     "name": "stdout",
     "output_type": "stream",
     "text": [
      "[1] \"M690T107\"\n"
     ]
    },
    {
     "name": "stderr",
     "output_type": "stream",
     "text": [
      "Backend of the input object is read-only, will change that to an 'MsBackendMemory'\n",
      "\n"
     ]
    },
    {
     "name": "stdout",
     "output_type": "stream",
     "text": [
      "[1] \"M691T108\"\n"
     ]
    },
    {
     "name": "stderr",
     "output_type": "stream",
     "text": [
      "Backend of the input object is read-only, will change that to an 'MsBackendMemory'\n",
      "\n"
     ]
    },
    {
     "name": "stdout",
     "output_type": "stream",
     "text": [
      "[1] \"M651T109_2\"\n"
     ]
    },
    {
     "name": "stderr",
     "output_type": "stream",
     "text": [
      "Backend of the input object is read-only, will change that to an 'MsBackendMemory'\n",
      "\n"
     ]
    },
    {
     "name": "stdout",
     "output_type": "stream",
     "text": [
      "[1] \"M629T109\"\n"
     ]
    },
    {
     "name": "stderr",
     "output_type": "stream",
     "text": [
      "Backend of the input object is read-only, will change that to an 'MsBackendMemory'\n",
      "\n"
     ]
    },
    {
     "name": "stdout",
     "output_type": "stream",
     "text": [
      "[1] \"M739T110\"\n"
     ]
    },
    {
     "name": "stderr",
     "output_type": "stream",
     "text": [
      "Backend of the input object is read-only, will change that to an 'MsBackendMemory'\n",
      "\n"
     ]
    },
    {
     "name": "stdout",
     "output_type": "stream",
     "text": [
      "[1] \"M132T137\"\n"
     ]
    },
    {
     "name": "stderr",
     "output_type": "stream",
     "text": [
      "Backend of the input object is read-only, will change that to an 'MsBackendMemory'\n",
      "\n",
      "Warning message:\n",
      "\"'combinePeaks' for lists of peak matrices is deprecated; please use 'combinePeaksData' instead.\"\n"
     ]
    },
    {
     "name": "stdout",
     "output_type": "stream",
     "text": [
      "[1] \"M229T159\"\n"
     ]
    },
    {
     "name": "stderr",
     "output_type": "stream",
     "text": [
      "Backend of the input object is read-only, will change that to an 'MsBackendMemory'\n",
      "\n"
     ]
    },
    {
     "name": "stdout",
     "output_type": "stream",
     "text": [
      "[1] \"M280T476\"\n"
     ]
    },
    {
     "name": "stderr",
     "output_type": "stream",
     "text": [
      "Backend of the input object is read-only, will change that to an 'MsBackendMemory'\n",
      "\n"
     ]
    },
    {
     "name": "stdout",
     "output_type": "stream",
     "text": [
      "[1] \"M279T476\"\n"
     ]
    },
    {
     "name": "stderr",
     "output_type": "stream",
     "text": [
      "Backend of the input object is read-only, will change that to an 'MsBackendMemory'\n",
      "\n",
      "Warning message:\n",
      "\"'combinePeaks' for lists of peak matrices is deprecated; please use 'combinePeaksData' instead.\"\n"
     ]
    },
    {
     "name": "stdout",
     "output_type": "stream",
     "text": [
      "[1] \"M202T779\"\n"
     ]
    },
    {
     "name": "stderr",
     "output_type": "stream",
     "text": [
      "Backend of the input object is read-only, will change that to an 'MsBackendMemory'\n",
      "\n"
     ]
    },
    {
     "name": "stdout",
     "output_type": "stream",
     "text": [
      "[1] \"M225T846\"\n"
     ]
    },
    {
     "name": "stderr",
     "output_type": "stream",
     "text": [
      "Backend of the input object is read-only, will change that to an 'MsBackendMemory'\n",
      "\n"
     ]
    },
    {
     "name": "stdout",
     "output_type": "stream",
     "text": [
      "[1] \"M179T852\"\n"
     ]
    },
    {
     "name": "stderr",
     "output_type": "stream",
     "text": [
      "Backend of the input object is read-only, will change that to an 'MsBackendMemory'\n",
      "\n"
     ]
    },
    {
     "name": "stdout",
     "output_type": "stream",
     "text": [
      "[1] \"M368T859\"\n"
     ]
    },
    {
     "name": "stderr",
     "output_type": "stream",
     "text": [
      "Backend of the input object is read-only, will change that to an 'MsBackendMemory'\n",
      "\n"
     ]
    },
    {
     "name": "stdout",
     "output_type": "stream",
     "text": [
      "[1] \"M618T862\"\n"
     ]
    },
    {
     "name": "stderr",
     "output_type": "stream",
     "text": [
      "Backend of the input object is read-only, will change that to an 'MsBackendMemory'\n",
      "\n"
     ]
    },
    {
     "name": "stdout",
     "output_type": "stream",
     "text": [
      "[1] \"M214T863\"\n"
     ]
    },
    {
     "name": "stderr",
     "output_type": "stream",
     "text": [
      "Backend of the input object is read-only, will change that to an 'MsBackendMemory'\n",
      "\n"
     ]
    },
    {
     "name": "stdout",
     "output_type": "stream",
     "text": [
      "[1] \"M219T871\"\n"
     ]
    },
    {
     "name": "stderr",
     "output_type": "stream",
     "text": [
      "Backend of the input object is read-only, will change that to an 'MsBackendMemory'\n",
      "\n"
     ]
    },
    {
     "name": "stdout",
     "output_type": "stream",
     "text": [
      "[1] \"M263T885\"\n"
     ]
    },
    {
     "name": "stderr",
     "output_type": "stream",
     "text": [
      "Backend of the input object is read-only, will change that to an 'MsBackendMemory'\n",
      "\n"
     ]
    },
    {
     "name": "stdout",
     "output_type": "stream",
     "text": [
      "[1] \"M510T934\"\n"
     ]
    },
    {
     "name": "stderr",
     "output_type": "stream",
     "text": [
      "Backend of the input object is read-only, will change that to an 'MsBackendMemory'\n",
      "\n"
     ]
    },
    {
     "name": "stdout",
     "output_type": "stream",
     "text": [
      "[1] \"M584T963\"\n"
     ]
    },
    {
     "name": "stderr",
     "output_type": "stream",
     "text": [
      "Backend of the input object is read-only, will change that to an 'MsBackendMemory'\n",
      "\n"
     ]
    },
    {
     "name": "stdout",
     "output_type": "stream",
     "text": [
      "[1] \"M319T981\"\n"
     ]
    },
    {
     "name": "stderr",
     "output_type": "stream",
     "text": [
      "Backend of the input object is read-only, will change that to an 'MsBackendMemory'\n",
      "\n"
     ]
    },
    {
     "name": "stdout",
     "output_type": "stream",
     "text": [
      "[1] \"M207T1018\"\n"
     ]
    },
    {
     "name": "stderr",
     "output_type": "stream",
     "text": [
      "Backend of the input object is read-only, will change that to an 'MsBackendMemory'\n",
      "\n"
     ]
    },
    {
     "name": "stdout",
     "output_type": "stream",
     "text": [
      "[1] \"M647T1054\"\n"
     ]
    },
    {
     "name": "stderr",
     "output_type": "stream",
     "text": [
      "Backend of the input object is read-only, will change that to an 'MsBackendMemory'\n",
      "\n"
     ]
    },
    {
     "name": "stdout",
     "output_type": "stream",
     "text": [
      "[1] \"M245T420\"\n"
     ]
    },
    {
     "name": "stderr",
     "output_type": "stream",
     "text": [
      "Backend of the input object is read-only, will change that to an 'MsBackendMemory'\n",
      "\n",
      "Warning message:\n",
      "\"'combinePeaks' for lists of peak matrices is deprecated; please use 'combinePeaksData' instead.\"\n"
     ]
    },
    {
     "name": "stdout",
     "output_type": "stream",
     "text": [
      "[1] \"M359T461\"\n"
     ]
    },
    {
     "name": "stderr",
     "output_type": "stream",
     "text": [
      "Backend of the input object is read-only, will change that to an 'MsBackendMemory'\n",
      "\n"
     ]
    },
    {
     "name": "stdout",
     "output_type": "stream",
     "text": [
      "[1] \"M179T781\"\n"
     ]
    },
    {
     "name": "stderr",
     "output_type": "stream",
     "text": [
      "Backend of the input object is read-only, will change that to an 'MsBackendMemory'\n",
      "\n"
     ]
    },
    {
     "name": "stdout",
     "output_type": "stream",
     "text": [
      "[1] \"M267T782\"\n"
     ]
    },
    {
     "name": "stderr",
     "output_type": "stream",
     "text": [
      "Backend of the input object is read-only, will change that to an 'MsBackendMemory'\n",
      "\n"
     ]
    },
    {
     "name": "stdout",
     "output_type": "stream",
     "text": [
      "[1] \"M202T832\"\n"
     ]
    },
    {
     "name": "stderr",
     "output_type": "stream",
     "text": [
      "Backend of the input object is read-only, will change that to an 'MsBackendMemory'\n",
      "\n"
     ]
    },
    {
     "name": "stdout",
     "output_type": "stream",
     "text": [
      "[1] \"M335T983\"\n"
     ]
    },
    {
     "name": "stderr",
     "output_type": "stream",
     "text": [
      "Backend of the input object is read-only, will change that to an 'MsBackendMemory'\n",
      "\n",
      "Warning message:\n",
      "\"'combinePeaks' for lists of peak matrices is deprecated; please use 'combinePeaksData' instead.\"\n"
     ]
    },
    {
     "name": "stdout",
     "output_type": "stream",
     "text": [
      "[1] \"M233T426\"\n"
     ]
    },
    {
     "name": "stderr",
     "output_type": "stream",
     "text": [
      "Backend of the input object is read-only, will change that to an 'MsBackendMemory'\n",
      "\n"
     ]
    },
    {
     "name": "stdout",
     "output_type": "stream",
     "text": [
      "[1] \"M216T708\"\n"
     ]
    },
    {
     "name": "stderr",
     "output_type": "stream",
     "text": [
      "Backend of the input object is read-only, will change that to an 'MsBackendMemory'\n",
      "\n"
     ]
    },
    {
     "name": "stdout",
     "output_type": "stream",
     "text": [
      "[1] \"M203T816\"\n"
     ]
    },
    {
     "name": "stderr",
     "output_type": "stream",
     "text": [
      "Backend of the input object is read-only, will change that to an 'MsBackendMemory'\n",
      "\n"
     ]
    },
    {
     "name": "stdout",
     "output_type": "stream",
     "text": [
      "[1] \"M202T816_2\"\n"
     ]
    },
    {
     "name": "stderr",
     "output_type": "stream",
     "text": [
      "Backend of the input object is read-only, will change that to an 'MsBackendMemory'\n",
      "\n",
      "Warning message:\n",
      "\"'combinePeaks' for lists of peak matrices is deprecated; please use 'combinePeaksData' instead.\"\n"
     ]
    },
    {
     "name": "stdout",
     "output_type": "stream",
     "text": [
      "[1] \"M275T871\"\n"
     ]
    },
    {
     "name": "stderr",
     "output_type": "stream",
     "text": [
      "Backend of the input object is read-only, will change that to an 'MsBackendMemory'\n",
      "\n"
     ]
    },
    {
     "name": "stdout",
     "output_type": "stream",
     "text": [
      "[1] \"M290T880\"\n"
     ]
    },
    {
     "name": "stderr",
     "output_type": "stream",
     "text": [
      "Backend of the input object is read-only, will change that to an 'MsBackendMemory'\n",
      "\n",
      "Warning message:\n",
      "\"'combinePeaks' for lists of peak matrices is deprecated; please use 'combinePeaksData' instead.\"\n"
     ]
    },
    {
     "name": "stdout",
     "output_type": "stream",
     "text": [
      "[1] \"M230T880\"\n"
     ]
    },
    {
     "name": "stderr",
     "output_type": "stream",
     "text": [
      "Backend of the input object is read-only, will change that to an 'MsBackendMemory'\n",
      "\n",
      "Warning message:\n",
      "\"'combinePeaks' for lists of peak matrices is deprecated; please use 'combinePeaksData' instead.\"\n"
     ]
    },
    {
     "name": "stdout",
     "output_type": "stream",
     "text": [
      "[1] \"M288T882\"\n"
     ]
    },
    {
     "name": "stderr",
     "output_type": "stream",
     "text": [
      "Backend of the input object is read-only, will change that to an 'MsBackendMemory'\n",
      "\n",
      "Warning message:\n",
      "\"'combinePeaks' for lists of peak matrices is deprecated; please use 'combinePeaksData' instead.\"\n"
     ]
    },
    {
     "name": "stdout",
     "output_type": "stream",
     "text": [
      "[1] \"M244T893\"\n"
     ]
    },
    {
     "name": "stderr",
     "output_type": "stream",
     "text": [
      "Backend of the input object is read-only, will change that to an 'MsBackendMemory'\n",
      "\n"
     ]
    },
    {
     "name": "stdout",
     "output_type": "stream",
     "text": [
      "[1] \"M301T946\"\n"
     ]
    },
    {
     "name": "stderr",
     "output_type": "stream",
     "text": [
      "Backend of the input object is read-only, will change that to an 'MsBackendMemory'\n",
      "\n"
     ]
    },
    {
     "name": "stdout",
     "output_type": "stream",
     "text": [
      "[1] \"M648T1054\"\n"
     ]
    },
    {
     "name": "stderr",
     "output_type": "stream",
     "text": [
      "Backend of the input object is read-only, will change that to an 'MsBackendMemory'\n",
      "\n"
     ]
    },
    {
     "name": "stdout",
     "output_type": "stream",
     "text": [
      "[1] \"M646T1054\"\n"
     ]
    },
    {
     "name": "stderr",
     "output_type": "stream",
     "text": [
      "Backend of the input object is read-only, will change that to an 'MsBackendMemory'\n",
      "\n"
     ]
    },
    {
     "name": "stdout",
     "output_type": "stream",
     "text": [
      "[1] \"M232T383\"\n"
     ]
    },
    {
     "name": "stderr",
     "output_type": "stream",
     "text": [
      "Backend of the input object is read-only, will change that to an 'MsBackendMemory'\n",
      "\n"
     ]
    },
    {
     "name": "stdout",
     "output_type": "stream",
     "text": [
      "[1] \"M291T880\"\n"
     ]
    },
    {
     "name": "stderr",
     "output_type": "stream",
     "text": [
      "Backend of the input object is read-only, will change that to an 'MsBackendMemory'\n",
      "\n"
     ]
    },
    {
     "name": "stdout",
     "output_type": "stream",
     "text": [
      "[1] \"M173T402\"\n"
     ]
    },
    {
     "name": "stderr",
     "output_type": "stream",
     "text": [
      "Backend of the input object is read-only, will change that to an 'MsBackendMemory'\n",
      "\n",
      "Warning message:\n",
      "\"'combinePeaks' for lists of peak matrices is deprecated; please use 'combinePeaksData' instead.\"\n"
     ]
    },
    {
     "name": "stdout",
     "output_type": "stream",
     "text": [
      "[1] \"M127T416\"\n"
     ]
    },
    {
     "name": "stderr",
     "output_type": "stream",
     "text": [
      "Backend of the input object is read-only, will change that to an 'MsBackendMemory'\n",
      "\n",
      "Warning message:\n",
      "\"'combinePeaks' for lists of peak matrices is deprecated; please use 'combinePeaksData' instead.\"\n"
     ]
    },
    {
     "name": "stdout",
     "output_type": "stream",
     "text": [
      "[1] \"M149T612\"\n"
     ]
    },
    {
     "name": "stderr",
     "output_type": "stream",
     "text": [
      "Backend of the input object is read-only, will change that to an 'MsBackendMemory'\n",
      "\n"
     ]
    },
    {
     "name": "stdout",
     "output_type": "stream",
     "text": [
      "[1] \"M171T613\"\n"
     ]
    },
    {
     "name": "stderr",
     "output_type": "stream",
     "text": [
      "Backend of the input object is read-only, will change that to an 'MsBackendMemory'\n",
      "\n",
      "Warning message:\n",
      "\"'combinePeaks' for lists of peak matrices is deprecated; please use 'combinePeaksData' instead.\"\n"
     ]
    },
    {
     "name": "stdout",
     "output_type": "stream",
     "text": [
      "[1] \"M215T618\"\n"
     ]
    },
    {
     "name": "stderr",
     "output_type": "stream",
     "text": [
      "Backend of the input object is read-only, will change that to an 'MsBackendMemory'\n",
      "\n",
      "Warning message:\n",
      "\"'combinePeaks' for lists of peak matrices is deprecated; please use 'combinePeaksData' instead.\"\n"
     ]
    },
    {
     "name": "stdout",
     "output_type": "stream",
     "text": [
      "[1] \"M169T682\"\n"
     ]
    },
    {
     "name": "stderr",
     "output_type": "stream",
     "text": [
      "Backend of the input object is read-only, will change that to an 'MsBackendMemory'\n",
      "\n",
      "Warning message:\n",
      "\"'combinePeaks' for lists of peak matrices is deprecated; please use 'combinePeaksData' instead.\"\n"
     ]
    },
    {
     "name": "stdout",
     "output_type": "stream",
     "text": [
      "[1] \"M111T683\"\n"
     ]
    },
    {
     "name": "stderr",
     "output_type": "stream",
     "text": [
      "Backend of the input object is read-only, will change that to an 'MsBackendMemory'\n",
      "\n"
     ]
    },
    {
     "name": "stdout",
     "output_type": "stream",
     "text": [
      "[1] \"M230T765\"\n"
     ]
    },
    {
     "name": "stderr",
     "output_type": "stream",
     "text": [
      "Backend of the input object is read-only, will change that to an 'MsBackendMemory'\n",
      "\n"
     ]
    },
    {
     "name": "stdout",
     "output_type": "stream",
     "text": [
      "[1] \"M213T776\"\n"
     ]
    },
    {
     "name": "stderr",
     "output_type": "stream",
     "text": [
      "Backend of the input object is read-only, will change that to an 'MsBackendMemory'\n",
      "\n"
     ]
    },
    {
     "name": "stdout",
     "output_type": "stream",
     "text": [
      "[1] \"M231T879\"\n"
     ]
    },
    {
     "name": "stderr",
     "output_type": "stream",
     "text": [
      "Backend of the input object is read-only, will change that to an 'MsBackendMemory'\n",
      "\n"
     ]
    },
    {
     "name": "stdout",
     "output_type": "stream",
     "text": [
      "[1] \"M227T802\"\n"
     ]
    },
    {
     "name": "stderr",
     "output_type": "stream",
     "text": [
      "Backend of the input object is read-only, will change that to an 'MsBackendMemory'\n",
      "\n"
     ]
    },
    {
     "name": "stdout",
     "output_type": "stream",
     "text": [
      "[1] \"M317T582\"\n"
     ]
    },
    {
     "name": "stderr",
     "output_type": "stream",
     "text": [
      "Backend of the input object is read-only, will change that to an 'MsBackendMemory'\n",
      "\n"
     ]
    },
    {
     "name": "stdout",
     "output_type": "stream",
     "text": [
      "[1] \"M229T765\"\n"
     ]
    },
    {
     "name": "stderr",
     "output_type": "stream",
     "text": [
      "Backend of the input object is read-only, will change that to an 'MsBackendMemory'\n",
      "\n",
      "Warning message:\n",
      "\"'combinePeaks' for lists of peak matrices is deprecated; please use 'combinePeaksData' instead.\"\n"
     ]
    },
    {
     "name": "stdout",
     "output_type": "stream",
     "text": [
      "[1] \"M207T765\"\n"
     ]
    },
    {
     "name": "stderr",
     "output_type": "stream",
     "text": [
      "Backend of the input object is read-only, will change that to an 'MsBackendMemory'\n",
      "\n"
     ]
    },
    {
     "name": "stdout",
     "output_type": "stream",
     "text": [
      "[1] \"M929T875\"\n"
     ]
    },
    {
     "name": "stderr",
     "output_type": "stream",
     "text": [
      "Backend of the input object is read-only, will change that to an 'MsBackendMemory'\n",
      "\n"
     ]
    },
    {
     "name": "stdout",
     "output_type": "stream",
     "text": [
      "[1] \"M209T95\"\n"
     ]
    },
    {
     "name": "stderr",
     "output_type": "stream",
     "text": [
      "Backend of the input object is read-only, will change that to an 'MsBackendMemory'\n",
      "\n",
      "Warning message:\n",
      "\"'combinePeaks' for lists of peak matrices is deprecated; please use 'combinePeaksData' instead.\"\n"
     ]
    },
    {
     "name": "stdout",
     "output_type": "stream",
     "text": [
      "[1] \"M165T110_2\"\n"
     ]
    },
    {
     "name": "stderr",
     "output_type": "stream",
     "text": [
      "Backend of the input object is read-only, will change that to an 'MsBackendMemory'\n",
      "\n"
     ]
    },
    {
     "name": "stdout",
     "output_type": "stream",
     "text": [
      "[1] \"M265T111\"\n"
     ]
    },
    {
     "name": "stderr",
     "output_type": "stream",
     "text": [
      "Backend of the input object is read-only, will change that to an 'MsBackendMemory'\n",
      "\n"
     ]
    },
    {
     "name": "stdout",
     "output_type": "stream",
     "text": [
      "[1] \"M124T228\"\n"
     ]
    },
    {
     "name": "stderr",
     "output_type": "stream",
     "text": [
      "Backend of the input object is read-only, will change that to an 'MsBackendMemory'\n",
      "\n"
     ]
    },
    {
     "name": "stdout",
     "output_type": "stream",
     "text": [
      "[1] \"M123T228\"\n"
     ]
    },
    {
     "name": "stderr",
     "output_type": "stream",
     "text": [
      "Backend of the input object is read-only, will change that to an 'MsBackendMemory'\n",
      "\n",
      "Warning message:\n",
      "\"'combinePeaks' for lists of peak matrices is deprecated; please use 'combinePeaksData' instead.\"\n"
     ]
    },
    {
     "name": "stdout",
     "output_type": "stream",
     "text": [
      "[1] \"M202T453\"\n"
     ]
    },
    {
     "name": "stderr",
     "output_type": "stream",
     "text": [
      "Backend of the input object is read-only, will change that to an 'MsBackendMemory'\n",
      "\n",
      "Warning message:\n",
      "\"'combinePeaks' for lists of peak matrices is deprecated; please use 'combinePeaksData' instead.\"\n"
     ]
    },
    {
     "name": "stdout",
     "output_type": "stream",
     "text": [
      "[1] \"M100T494\"\n"
     ]
    },
    {
     "name": "stderr",
     "output_type": "stream",
     "text": [
      "Backend of the input object is read-only, will change that to an 'MsBackendMemory'\n",
      "\n"
     ]
    },
    {
     "name": "stdout",
     "output_type": "stream",
     "text": [
      "[1] \"M116T550\"\n"
     ]
    },
    {
     "name": "stderr",
     "output_type": "stream",
     "text": [
      "Backend of the input object is read-only, will change that to an 'MsBackendMemory'\n",
      "\n"
     ]
    },
    {
     "name": "stdout",
     "output_type": "stream",
     "text": [
      "[1] \"M97T550\"\n"
     ]
    },
    {
     "name": "stderr",
     "output_type": "stream",
     "text": [
      "Backend of the input object is read-only, will change that to an 'MsBackendMemory'\n",
      "\n",
      "Warning message in max(x[, \"intensity\"], na.rm = TRUE):\n",
      "\"no non-missing arguments to max; returning -Inf\"\n",
      "Warning message:\n",
      "\"'combinePeaks' for lists of peak matrices is deprecated; please use 'combinePeaksData' instead.\"\n"
     ]
    },
    {
     "name": "stdout",
     "output_type": "stream",
     "text": [
      "[1] \"M115T551\"\n"
     ]
    },
    {
     "name": "stderr",
     "output_type": "stream",
     "text": [
      "Backend of the input object is read-only, will change that to an 'MsBackendMemory'\n",
      "\n",
      "Warning message:\n",
      "\"'combinePeaks' for lists of peak matrices is deprecated; please use 'combinePeaksData' instead.\"\n"
     ]
    },
    {
     "name": "stdout",
     "output_type": "stream",
     "text": [
      "[1] \"M69T551\"\n"
     ]
    },
    {
     "name": "stderr",
     "output_type": "stream",
     "text": [
      "Backend of the input object is read-only, will change that to an 'MsBackendMemory'\n",
      "\n"
     ]
    },
    {
     "name": "stdout",
     "output_type": "stream",
     "text": [
      "[1] \"M275T555\"\n"
     ]
    },
    {
     "name": "stderr",
     "output_type": "stream",
     "text": [
      "Backend of the input object is read-only, will change that to an 'MsBackendMemory'\n",
      "\n"
     ]
    },
    {
     "name": "stdout",
     "output_type": "stream",
     "text": [
      "[1] \"M480T668_1\"\n"
     ]
    },
    {
     "name": "stderr",
     "output_type": "stream",
     "text": [
      "Backend of the input object is read-only, will change that to an 'MsBackendMemory'\n",
      "\n"
     ]
    },
    {
     "name": "stdout",
     "output_type": "stream",
     "text": [
      "[1] \"M175T718\"\n"
     ]
    },
    {
     "name": "stderr",
     "output_type": "stream",
     "text": [
      "Backend of the input object is read-only, will change that to an 'MsBackendMemory'\n",
      "\n"
     ]
    },
    {
     "name": "stdout",
     "output_type": "stream",
     "text": [
      "[1] \"M167T727\"\n"
     ]
    },
    {
     "name": "stderr",
     "output_type": "stream",
     "text": [
      "Backend of the input object is read-only, will change that to an 'MsBackendMemory'\n",
      "\n",
      "Warning message:\n",
      "\"'combinePeaks' for lists of peak matrices is deprecated; please use 'combinePeaksData' instead.\"\n"
     ]
    },
    {
     "name": "stdout",
     "output_type": "stream",
     "text": [
      "[1] \"M109T729\"\n"
     ]
    },
    {
     "name": "stderr",
     "output_type": "stream",
     "text": [
      "Backend of the input object is read-only, will change that to an 'MsBackendMemory'\n",
      "\n",
      "Warning message:\n",
      "\"'combinePeaks' for lists of peak matrices is deprecated; please use 'combinePeaksData' instead.\"\n"
     ]
    },
    {
     "name": "stdout",
     "output_type": "stream",
     "text": [
      "[1] \"M127T729\"\n"
     ]
    },
    {
     "name": "stderr",
     "output_type": "stream",
     "text": [
      "Backend of the input object is read-only, will change that to an 'MsBackendMemory'\n",
      "\n",
      "Warning message:\n",
      "\"'combinePeaks' for lists of peak matrices is deprecated; please use 'combinePeaksData' instead.\"\n"
     ]
    },
    {
     "name": "stdout",
     "output_type": "stream",
     "text": [
      "[1] \"M110T729\"\n"
     ]
    },
    {
     "name": "stderr",
     "output_type": "stream",
     "text": [
      "Backend of the input object is read-only, will change that to an 'MsBackendMemory'\n",
      "\n"
     ]
    },
    {
     "name": "stdout",
     "output_type": "stream",
     "text": [
      "[1] \"M168T729\"\n"
     ]
    },
    {
     "name": "stderr",
     "output_type": "stream",
     "text": [
      "Backend of the input object is read-only, will change that to an 'MsBackendMemory'\n",
      "\n"
     ]
    },
    {
     "name": "stdout",
     "output_type": "stream",
     "text": [
      "[1] \"M145T729\"\n"
     ]
    },
    {
     "name": "stderr",
     "output_type": "stream",
     "text": [
      "Backend of the input object is read-only, will change that to an 'MsBackendMemory'\n",
      "\n",
      "Warning message:\n",
      "\"'combinePeaks' for lists of peak matrices is deprecated; please use 'combinePeaksData' instead.\"\n"
     ]
    },
    {
     "name": "stdout",
     "output_type": "stream",
     "text": [
      "[1] \"M223T857\"\n"
     ]
    },
    {
     "name": "stderr",
     "output_type": "stream",
     "text": [
      "Backend of the input object is read-only, will change that to an 'MsBackendMemory'\n",
      "\n"
     ]
    },
    {
     "name": "stdout",
     "output_type": "stream",
     "text": [
      "[1] \"M302T916\"\n"
     ]
    },
    {
     "name": "stderr",
     "output_type": "stream",
     "text": [
      "Backend of the input object is read-only, will change that to an 'MsBackendMemory'\n",
      "\n",
      "Warning message:\n",
      "\"'combinePeaks' for lists of peak matrices is deprecated; please use 'combinePeaksData' instead.\"\n"
     ]
    },
    {
     "name": "stdout",
     "output_type": "stream",
     "text": [
      "[1] \"M359T943\"\n"
     ]
    },
    {
     "name": "stderr",
     "output_type": "stream",
     "text": [
      "Backend of the input object is read-only, will change that to an 'MsBackendMemory'\n",
      "\n"
     ]
    },
    {
     "name": "stdout",
     "output_type": "stream",
     "text": [
      "[1] \"M726T1079\"\n"
     ]
    },
    {
     "name": "stderr",
     "output_type": "stream",
     "text": [
      "Backend of the input object is read-only, will change that to an 'MsBackendMemory'\n",
      "\n"
     ]
    },
    {
     "name": "stdout",
     "output_type": "stream",
     "text": [
      "[1] \"M202T448\"\n"
     ]
    },
    {
     "name": "stderr",
     "output_type": "stream",
     "text": [
      "Backend of the input object is read-only, will change that to an 'MsBackendMemory'\n",
      "\n"
     ]
    },
    {
     "name": "stdout",
     "output_type": "stream",
     "text": [
      "[1] \"M158T513\"\n"
     ]
    },
    {
     "name": "stderr",
     "output_type": "stream",
     "text": [
      "Backend of the input object is read-only, will change that to an 'MsBackendMemory'\n",
      "\n"
     ]
    },
    {
     "name": "stdout",
     "output_type": "stream",
     "text": [
      "[1] \"M258T635\"\n"
     ]
    },
    {
     "name": "stderr",
     "output_type": "stream",
     "text": [
      "Backend of the input object is read-only, will change that to an 'MsBackendMemory'\n",
      "\n"
     ]
    },
    {
     "name": "stdout",
     "output_type": "stream",
     "text": [
      "[1] \"M245T857\"\n"
     ]
    },
    {
     "name": "stderr",
     "output_type": "stream",
     "text": [
      "Backend of the input object is read-only, will change that to an 'MsBackendMemory'\n",
      "\n",
      "Warning message:\n",
      "\"'combinePeaks' for lists of peak matrices is deprecated; please use 'combinePeaksData' instead.\"\n"
     ]
    },
    {
     "name": "stdout",
     "output_type": "stream",
     "text": [
      "[1] \"M177T857\"\n"
     ]
    },
    {
     "name": "stderr",
     "output_type": "stream",
     "text": [
      "Backend of the input object is read-only, will change that to an 'MsBackendMemory'\n",
      "\n"
     ]
    },
    {
     "name": "stdout",
     "output_type": "stream",
     "text": [
      "[1] \"M191T861\"\n"
     ]
    },
    {
     "name": "stderr",
     "output_type": "stream",
     "text": [
      "Backend of the input object is read-only, will change that to an 'MsBackendMemory'\n",
      "\n"
     ]
    },
    {
     "name": "stdout",
     "output_type": "stream",
     "text": [
      "[1] \"M308T927\"\n"
     ]
    },
    {
     "name": "stderr",
     "output_type": "stream",
     "text": [
      "Backend of the input object is read-only, will change that to an 'MsBackendMemory'\n",
      "\n"
     ]
    },
    {
     "name": "stdout",
     "output_type": "stream",
     "text": [
      "[1] \"M577T953\"\n"
     ]
    },
    {
     "name": "stderr",
     "output_type": "stream",
     "text": [
      "Backend of the input object is read-only, will change that to an 'MsBackendMemory'\n",
      "\n"
     ]
    },
    {
     "name": "stdout",
     "output_type": "stream",
     "text": [
      "[1] \"M598T954\"\n"
     ]
    },
    {
     "name": "stderr",
     "output_type": "stream",
     "text": [
      "Backend of the input object is read-only, will change that to an 'MsBackendMemory'\n",
      "\n"
     ]
    },
    {
     "name": "stdout",
     "output_type": "stream",
     "text": [
      "[1] \"M718T1039\"\n"
     ]
    },
    {
     "name": "stderr",
     "output_type": "stream",
     "text": [
      "Backend of the input object is read-only, will change that to an 'MsBackendMemory'\n",
      "\n"
     ]
    },
    {
     "name": "stdout",
     "output_type": "stream",
     "text": [
      "[1] \"M690T1047\"\n"
     ]
    },
    {
     "name": "stderr",
     "output_type": "stream",
     "text": [
      "Backend of the input object is read-only, will change that to an 'MsBackendMemory'\n",
      "\n"
     ]
    },
    {
     "name": "stdout",
     "output_type": "stream",
     "text": [
      "[1] \"M632T1049\"\n"
     ]
    },
    {
     "name": "stderr",
     "output_type": "stream",
     "text": [
      "Backend of the input object is read-only, will change that to an 'MsBackendMemory'\n",
      "\n"
     ]
    },
    {
     "name": "stdout",
     "output_type": "stream",
     "text": [
      "[1] \"M279T92_1\"\n"
     ]
    },
    {
     "name": "stderr",
     "output_type": "stream",
     "text": [
      "Backend of the input object is read-only, will change that to an 'MsBackendMemory'\n",
      "\n"
     ]
    },
    {
     "name": "stdout",
     "output_type": "stream",
     "text": [
      "[1] \"M465T94\"\n"
     ]
    },
    {
     "name": "stderr",
     "output_type": "stream",
     "text": [
      "Backend of the input object is read-only, will change that to an 'MsBackendMemory'\n",
      "\n"
     ]
    },
    {
     "name": "stdout",
     "output_type": "stream",
     "text": [
      "[1] \"M527T99\"\n"
     ]
    },
    {
     "name": "stderr",
     "output_type": "stream",
     "text": [
      "Backend of the input object is read-only, will change that to an 'MsBackendMemory'\n",
      "\n"
     ]
    },
    {
     "name": "stdout",
     "output_type": "stream",
     "text": [
      "[1] \"M85T106\"\n"
     ]
    },
    {
     "name": "stderr",
     "output_type": "stream",
     "text": [
      "Backend of the input object is read-only, will change that to an 'MsBackendMemory'\n",
      "\n"
     ]
    },
    {
     "name": "stdout",
     "output_type": "stream",
     "text": [
      "[1] \"M401T108\"\n"
     ]
    },
    {
     "name": "stderr",
     "output_type": "stream",
     "text": [
      "Backend of the input object is read-only, will change that to an 'MsBackendMemory'\n",
      "\n"
     ]
    },
    {
     "name": "stdout",
     "output_type": "stream",
     "text": [
      "[1] \"M207T108\"\n"
     ]
    },
    {
     "name": "stderr",
     "output_type": "stream",
     "text": [
      "Backend of the input object is read-only, will change that to an 'MsBackendMemory'\n",
      "\n"
     ]
    },
    {
     "name": "stdout",
     "output_type": "stream",
     "text": [
      "[1] \"M209T108\"\n"
     ]
    },
    {
     "name": "stderr",
     "output_type": "stream",
     "text": [
      "Backend of the input object is read-only, will change that to an 'MsBackendMemory'\n",
      "\n"
     ]
    },
    {
     "name": "stdout",
     "output_type": "stream",
     "text": [
      "[1] \"M333T109\"\n"
     ]
    },
    {
     "name": "stderr",
     "output_type": "stream",
     "text": [
      "Backend of the input object is read-only, will change that to an 'MsBackendMemory'\n",
      "\n"
     ]
    },
    {
     "name": "stdout",
     "output_type": "stream",
     "text": [
      "[1] \"M309T121\"\n"
     ]
    },
    {
     "name": "stderr",
     "output_type": "stream",
     "text": [
      "Backend of the input object is read-only, will change that to an 'MsBackendMemory'\n",
      "\n"
     ]
    },
    {
     "name": "stdout",
     "output_type": "stream",
     "text": [
      "[1] \"M205T326\"\n"
     ]
    },
    {
     "name": "stderr",
     "output_type": "stream",
     "text": [
      "Backend of the input object is read-only, will change that to an 'MsBackendMemory'\n",
      "\n"
     ]
    },
    {
     "name": "stdout",
     "output_type": "stream",
     "text": [
      "[1] \"M241T843\"\n"
     ]
    },
    {
     "name": "stderr",
     "output_type": "stream",
     "text": [
      "Backend of the input object is read-only, will change that to an 'MsBackendMemory'\n",
      "\n"
     ]
    },
    {
     "name": "stdout",
     "output_type": "stream",
     "text": [
      "[1] \"M357T976\"\n"
     ]
    },
    {
     "name": "stderr",
     "output_type": "stream",
     "text": [
      "Backend of the input object is read-only, will change that to an 'MsBackendMemory'\n",
      "\n"
     ]
    },
    {
     "name": "stdout",
     "output_type": "stream",
     "text": [
      "[1] \"M205T993\"\n"
     ]
    },
    {
     "name": "stderr",
     "output_type": "stream",
     "text": [
      "Backend of the input object is read-only, will change that to an 'MsBackendMemory'\n",
      "\n"
     ]
    },
    {
     "name": "stdout",
     "output_type": "stream",
     "text": [
      "[1] \"M660T1058\"\n"
     ]
    },
    {
     "name": "stderr",
     "output_type": "stream",
     "text": [
      "Backend of the input object is read-only, will change that to an 'MsBackendMemory'\n",
      "\n"
     ]
    },
    {
     "name": "stdout",
     "output_type": "stream",
     "text": [
      "[1] \"M348T96\"\n"
     ]
    },
    {
     "name": "stderr",
     "output_type": "stream",
     "text": [
      "Backend of the input object is read-only, will change that to an 'MsBackendMemory'\n",
      "\n"
     ]
    },
    {
     "name": "stdout",
     "output_type": "stream",
     "text": [
      "[1] \"M415T96_2\"\n"
     ]
    },
    {
     "name": "stderr",
     "output_type": "stream",
     "text": [
      "Backend of the input object is read-only, will change that to an 'MsBackendMemory'\n",
      "\n"
     ]
    },
    {
     "name": "stdout",
     "output_type": "stream",
     "text": [
      "[1] \"M347T97\"\n"
     ]
    },
    {
     "name": "stderr",
     "output_type": "stream",
     "text": [
      "Backend of the input object is read-only, will change that to an 'MsBackendMemory'\n",
      "\n"
     ]
    },
    {
     "name": "stdout",
     "output_type": "stream",
     "text": [
      "[1] \"M211T178\"\n"
     ]
    },
    {
     "name": "stderr",
     "output_type": "stream",
     "text": [
      "Backend of the input object is read-only, will change that to an 'MsBackendMemory'\n",
      "\n"
     ]
    },
    {
     "name": "stdout",
     "output_type": "stream",
     "text": [
      "[1] \"M175T293\"\n"
     ]
    },
    {
     "name": "stderr",
     "output_type": "stream",
     "text": [
      "Backend of the input object is read-only, will change that to an 'MsBackendMemory'\n",
      "\n"
     ]
    },
    {
     "name": "stdout",
     "output_type": "stream",
     "text": [
      "[1] \"M237T337\"\n"
     ]
    },
    {
     "name": "stderr",
     "output_type": "stream",
     "text": [
      "Backend of the input object is read-only, will change that to an 'MsBackendMemory'\n",
      "\n"
     ]
    },
    {
     "name": "stdout",
     "output_type": "stream",
     "text": [
      "[1] \"M291T372\"\n"
     ]
    },
    {
     "name": "stderr",
     "output_type": "stream",
     "text": [
      "Backend of the input object is read-only, will change that to an 'MsBackendMemory'\n",
      "\n"
     ]
    },
    {
     "name": "stdout",
     "output_type": "stream",
     "text": [
      "[1] \"M238T380\"\n"
     ]
    },
    {
     "name": "stderr",
     "output_type": "stream",
     "text": [
      "Backend of the input object is read-only, will change that to an 'MsBackendMemory'\n",
      "\n"
     ]
    },
    {
     "name": "stdout",
     "output_type": "stream",
     "text": [
      "[1] \"M237T380\"\n"
     ]
    },
    {
     "name": "stderr",
     "output_type": "stream",
     "text": [
      "Backend of the input object is read-only, will change that to an 'MsBackendMemory'\n",
      "\n",
      "Warning message:\n",
      "\"'combinePeaks' for lists of peak matrices is deprecated; please use 'combinePeaksData' instead.\"\n"
     ]
    },
    {
     "name": "stdout",
     "output_type": "stream",
     "text": [
      "[1] \"M203T384\"\n"
     ]
    },
    {
     "name": "stderr",
     "output_type": "stream",
     "text": [
      "Backend of the input object is read-only, will change that to an 'MsBackendMemory'\n",
      "\n"
     ]
    },
    {
     "name": "stdout",
     "output_type": "stream",
     "text": [
      "[1] \"M221T384\"\n"
     ]
    },
    {
     "name": "stderr",
     "output_type": "stream",
     "text": [
      "Backend of the input object is read-only, will change that to an 'MsBackendMemory'\n",
      "\n",
      "Warning message:\n",
      "\"'combinePeaks' for lists of peak matrices is deprecated; please use 'combinePeaksData' instead.\"\n"
     ]
    },
    {
     "name": "stdout",
     "output_type": "stream",
     "text": [
      "[1] \"M175T385\"\n"
     ]
    },
    {
     "name": "stderr",
     "output_type": "stream",
     "text": [
      "Backend of the input object is read-only, will change that to an 'MsBackendMemory'\n",
      "\n"
     ]
    },
    {
     "name": "stdout",
     "output_type": "stream",
     "text": [
      "[1] \"M259T391\"\n"
     ]
    },
    {
     "name": "stderr",
     "output_type": "stream",
     "text": [
      "Backend of the input object is read-only, will change that to an 'MsBackendMemory'\n",
      "\n"
     ]
    },
    {
     "name": "stdout",
     "output_type": "stream",
     "text": [
      "[1] \"M258T392\"\n"
     ]
    },
    {
     "name": "stderr",
     "output_type": "stream",
     "text": [
      "Backend of the input object is read-only, will change that to an 'MsBackendMemory'\n",
      "\n",
      "Warning message:\n",
      "\"'combinePeaks' for lists of peak matrices is deprecated; please use 'combinePeaksData' instead.\"\n"
     ]
    },
    {
     "name": "stdout",
     "output_type": "stream",
     "text": [
      "[1] \"M272T414\"\n"
     ]
    },
    {
     "name": "stderr",
     "output_type": "stream",
     "text": [
      "Backend of the input object is read-only, will change that to an 'MsBackendMemory'\n",
      "\n",
      "Warning message:\n",
      "\"'combinePeaks' for lists of peak matrices is deprecated; please use 'combinePeaksData' instead.\"\n"
     ]
    },
    {
     "name": "stdout",
     "output_type": "stream",
     "text": [
      "[1] \"M273T414\"\n"
     ]
    },
    {
     "name": "stderr",
     "output_type": "stream",
     "text": [
      "Backend of the input object is read-only, will change that to an 'MsBackendMemory'\n",
      "\n"
     ]
    },
    {
     "name": "stdout",
     "output_type": "stream",
     "text": [
      "[1] \"M202T428\"\n"
     ]
    },
    {
     "name": "stderr",
     "output_type": "stream",
     "text": [
      "Backend of the input object is read-only, will change that to an 'MsBackendMemory'\n",
      "\n",
      "Warning message:\n",
      "\"'combinePeaks' for lists of peak matrices is deprecated; please use 'combinePeaksData' instead.\"\n"
     ]
    },
    {
     "name": "stdout",
     "output_type": "stream",
     "text": [
      "[1] \"M306T486\"\n"
     ]
    },
    {
     "name": "stderr",
     "output_type": "stream",
     "text": [
      "Backend of the input object is read-only, will change that to an 'MsBackendMemory'\n",
      "\n"
     ]
    },
    {
     "name": "stdout",
     "output_type": "stream",
     "text": [
      "[1] \"M272T502\"\n"
     ]
    },
    {
     "name": "stderr",
     "output_type": "stream",
     "text": [
      "Backend of the input object is read-only, will change that to an 'MsBackendMemory'\n",
      "\n"
     ]
    },
    {
     "name": "stdout",
     "output_type": "stream",
     "text": [
      "[1] \"M272T517\"\n"
     ]
    },
    {
     "name": "stderr",
     "output_type": "stream",
     "text": [
      "Backend of the input object is read-only, will change that to an 'MsBackendMemory'\n",
      "\n",
      "Warning message:\n",
      "\"'combinePeaks' for lists of peak matrices is deprecated; please use 'combinePeaksData' instead.\"\n"
     ]
    },
    {
     "name": "stdout",
     "output_type": "stream",
     "text": [
      "[1] \"M176T600_1\"\n"
     ]
    },
    {
     "name": "stderr",
     "output_type": "stream",
     "text": [
      "Backend of the input object is read-only, will change that to an 'MsBackendMemory'\n",
      "\n"
     ]
    },
    {
     "name": "stdout",
     "output_type": "stream",
     "text": [
      "[1] \"M224T600\"\n"
     ]
    },
    {
     "name": "stderr",
     "output_type": "stream",
     "text": [
      "Backend of the input object is read-only, will change that to an 'MsBackendMemory'\n",
      "\n"
     ]
    },
    {
     "name": "stdout",
     "output_type": "stream",
     "text": [
      "[1] \"M246T600\"\n"
     ]
    },
    {
     "name": "stderr",
     "output_type": "stream",
     "text": [
      "Backend of the input object is read-only, will change that to an 'MsBackendMemory'\n",
      "\n"
     ]
    },
    {
     "name": "stdout",
     "output_type": "stream",
     "text": [
      "[1] \"M422T627\"\n"
     ]
    },
    {
     "name": "stderr",
     "output_type": "stream",
     "text": [
      "Backend of the input object is read-only, will change that to an 'MsBackendMemory'\n",
      "\n"
     ]
    },
    {
     "name": "stdout",
     "output_type": "stream",
     "text": [
      "[1] \"M258T768\"\n"
     ]
    },
    {
     "name": "stderr",
     "output_type": "stream",
     "text": [
      "Backend of the input object is read-only, will change that to an 'MsBackendMemory'\n",
      "\n"
     ]
    },
    {
     "name": "stdout",
     "output_type": "stream",
     "text": [
      "[1] \"M181T828\"\n"
     ]
    },
    {
     "name": "stderr",
     "output_type": "stream",
     "text": [
      "Backend of the input object is read-only, will change that to an 'MsBackendMemory'\n",
      "\n"
     ]
    },
    {
     "name": "stdout",
     "output_type": "stream",
     "text": [
      "[1] \"M436T849\"\n"
     ]
    },
    {
     "name": "stderr",
     "output_type": "stream",
     "text": [
      "Backend of the input object is read-only, will change that to an 'MsBackendMemory'\n",
      "\n"
     ]
    },
    {
     "name": "stdout",
     "output_type": "stream",
     "text": [
      "[1] \"M594T849\"\n"
     ]
    },
    {
     "name": "stderr",
     "output_type": "stream",
     "text": [
      "Backend of the input object is read-only, will change that to an 'MsBackendMemory'\n",
      "\n",
      "Warning message:\n",
      "\"'combinePeaks' for lists of peak matrices is deprecated; please use 'combinePeaksData' instead.\"\n"
     ]
    },
    {
     "name": "stdout",
     "output_type": "stream",
     "text": [
      "[1] \"M391T852\"\n"
     ]
    },
    {
     "name": "stderr",
     "output_type": "stream",
     "text": [
      "Backend of the input object is read-only, will change that to an 'MsBackendMemory'\n",
      "\n"
     ]
    },
    {
     "name": "stdout",
     "output_type": "stream",
     "text": [
      "[1] \"M246T854\"\n"
     ]
    },
    {
     "name": "stderr",
     "output_type": "stream",
     "text": [
      "Backend of the input object is read-only, will change that to an 'MsBackendMemory'\n",
      "\n"
     ]
    },
    {
     "name": "stdout",
     "output_type": "stream",
     "text": [
      "[1] \"M299T866\"\n"
     ]
    },
    {
     "name": "stderr",
     "output_type": "stream",
     "text": [
      "Backend of the input object is read-only, will change that to an 'MsBackendMemory'\n",
      "\n"
     ]
    },
    {
     "name": "stdout",
     "output_type": "stream",
     "text": [
      "[1] \"M429T869\"\n"
     ]
    },
    {
     "name": "stderr",
     "output_type": "stream",
     "text": [
      "Backend of the input object is read-only, will change that to an 'MsBackendMemory'\n",
      "\n"
     ]
    },
    {
     "name": "stdout",
     "output_type": "stream",
     "text": [
      "[1] \"M596T869\"\n"
     ]
    },
    {
     "name": "stderr",
     "output_type": "stream",
     "text": [
      "Backend of the input object is read-only, will change that to an 'MsBackendMemory'\n",
      "\n"
     ]
    },
    {
     "name": "stdout",
     "output_type": "stream",
     "text": [
      "[1] \"M386T876\"\n"
     ]
    },
    {
     "name": "stderr",
     "output_type": "stream",
     "text": [
      "Backend of the input object is read-only, will change that to an 'MsBackendMemory'\n",
      "\n"
     ]
    },
    {
     "name": "stdout",
     "output_type": "stream",
     "text": [
      "[1] \"M195T880\"\n"
     ]
    },
    {
     "name": "stderr",
     "output_type": "stream",
     "text": [
      "Backend of the input object is read-only, will change that to an 'MsBackendMemory'\n",
      "\n"
     ]
    },
    {
     "name": "stdout",
     "output_type": "stream",
     "text": [
      "[1] \"M582T886\"\n"
     ]
    },
    {
     "name": "stderr",
     "output_type": "stream",
     "text": [
      "Backend of the input object is read-only, will change that to an 'MsBackendMemory'\n",
      "\n"
     ]
    },
    {
     "name": "stdout",
     "output_type": "stream",
     "text": [
      "[1] \"M189T899\"\n"
     ]
    },
    {
     "name": "stderr",
     "output_type": "stream",
     "text": [
      "Backend of the input object is read-only, will change that to an 'MsBackendMemory'\n",
      "\n"
     ]
    },
    {
     "name": "stdout",
     "output_type": "stream",
     "text": [
      "[1] \"M576T925\"\n"
     ]
    },
    {
     "name": "stderr",
     "output_type": "stream",
     "text": [
      "Backend of the input object is read-only, will change that to an 'MsBackendMemory'\n",
      "\n"
     ]
    },
    {
     "name": "stdout",
     "output_type": "stream",
     "text": [
      "[1] \"M577T928\"\n"
     ]
    },
    {
     "name": "stderr",
     "output_type": "stream",
     "text": [
      "Backend of the input object is read-only, will change that to an 'MsBackendMemory'\n",
      "\n"
     ]
    },
    {
     "name": "stdout",
     "output_type": "stream",
     "text": [
      "[1] \"M165T931\"\n"
     ]
    },
    {
     "name": "stderr",
     "output_type": "stream",
     "text": [
      "Backend of the input object is read-only, will change that to an 'MsBackendMemory'\n",
      "\n"
     ]
    },
    {
     "name": "stdout",
     "output_type": "stream",
     "text": [
      "[1] \"M357T934\"\n"
     ]
    },
    {
     "name": "stderr",
     "output_type": "stream",
     "text": [
      "Backend of the input object is read-only, will change that to an 'MsBackendMemory'\n",
      "\n"
     ]
    },
    {
     "name": "stdout",
     "output_type": "stream",
     "text": [
      "[1] \"M375T936\"\n"
     ]
    },
    {
     "name": "stderr",
     "output_type": "stream",
     "text": [
      "Backend of the input object is read-only, will change that to an 'MsBackendMemory'\n",
      "\n"
     ]
    },
    {
     "name": "stdout",
     "output_type": "stream",
     "text": [
      "[1] \"M579T939\"\n"
     ]
    },
    {
     "name": "stderr",
     "output_type": "stream",
     "text": [
      "Backend of the input object is read-only, will change that to an 'MsBackendMemory'\n",
      "\n"
     ]
    },
    {
     "name": "stdout",
     "output_type": "stream",
     "text": [
      "[1] \"M319T940\"\n"
     ]
    },
    {
     "name": "stderr",
     "output_type": "stream",
     "text": [
      "Backend of the input object is read-only, will change that to an 'MsBackendMemory'\n",
      "\n"
     ]
    },
    {
     "name": "stdout",
     "output_type": "stream",
     "text": [
      "[1] \"M538T955\"\n"
     ]
    },
    {
     "name": "stderr",
     "output_type": "stream",
     "text": [
      "Backend of the input object is read-only, will change that to an 'MsBackendMemory'\n",
      "\n"
     ]
    },
    {
     "name": "stdout",
     "output_type": "stream",
     "text": [
      "[1] \"M518T955\"\n"
     ]
    },
    {
     "name": "stderr",
     "output_type": "stream",
     "text": [
      "Backend of the input object is read-only, will change that to an 'MsBackendMemory'\n",
      "\n"
     ]
    },
    {
     "name": "stdout",
     "output_type": "stream",
     "text": [
      "[1] \"M289T955\"\n"
     ]
    },
    {
     "name": "stderr",
     "output_type": "stream",
     "text": [
      "Backend of the input object is read-only, will change that to an 'MsBackendMemory'\n",
      "\n"
     ]
    },
    {
     "name": "stdout",
     "output_type": "stream",
     "text": [
      "[1] \"M288T956_1\"\n"
     ]
    },
    {
     "name": "stderr",
     "output_type": "stream",
     "text": [
      "Backend of the input object is read-only, will change that to an 'MsBackendMemory'\n",
      "\n"
     ]
    },
    {
     "name": "stdout",
     "output_type": "stream",
     "text": [
      "[1] \"M519T956\"\n"
     ]
    },
    {
     "name": "stderr",
     "output_type": "stream",
     "text": [
      "Backend of the input object is read-only, will change that to an 'MsBackendMemory'\n",
      "\n"
     ]
    },
    {
     "name": "stdout",
     "output_type": "stream",
     "text": [
      "[1] \"M560T964\"\n"
     ]
    },
    {
     "name": "stderr",
     "output_type": "stream",
     "text": [
      "Backend of the input object is read-only, will change that to an 'MsBackendMemory'\n",
      "\n"
     ]
    },
    {
     "name": "stdout",
     "output_type": "stream",
     "text": [
      "[1] \"M167T964\"\n"
     ]
    },
    {
     "name": "stderr",
     "output_type": "stream",
     "text": [
      "Backend of the input object is read-only, will change that to an 'MsBackendMemory'\n",
      "\n"
     ]
    },
    {
     "name": "stdout",
     "output_type": "stream",
     "text": [
      "[1] \"M561T969\"\n"
     ]
    },
    {
     "name": "stderr",
     "output_type": "stream",
     "text": [
      "Backend of the input object is read-only, will change that to an 'MsBackendMemory'\n",
      "\n"
     ]
    },
    {
     "name": "stdout",
     "output_type": "stream",
     "text": [
      "[1] \"M479T975\"\n"
     ]
    },
    {
     "name": "stderr",
     "output_type": "stream",
     "text": [
      "Backend of the input object is read-only, will change that to an 'MsBackendMemory'\n",
      "\n"
     ]
    },
    {
     "name": "stdout",
     "output_type": "stream",
     "text": [
      "[1] \"M376T975\"\n"
     ]
    },
    {
     "name": "stderr",
     "output_type": "stream",
     "text": [
      "Backend of the input object is read-only, will change that to an 'MsBackendMemory'\n",
      "\n"
     ]
    },
    {
     "name": "stdout",
     "output_type": "stream",
     "text": [
      "[1] \"M381T977\"\n"
     ]
    },
    {
     "name": "stderr",
     "output_type": "stream",
     "text": [
      "Backend of the input object is read-only, will change that to an 'MsBackendMemory'\n",
      "\n"
     ]
    },
    {
     "name": "stdout",
     "output_type": "stream",
     "text": [
      "[1] \"M622T1065\"\n"
     ]
    },
    {
     "name": "stderr",
     "output_type": "stream",
     "text": [
      "Backend of the input object is read-only, will change that to an 'MsBackendMemory'\n",
      "\n"
     ]
    },
    {
     "name": "stdout",
     "output_type": "stream",
     "text": [
      "[1] \"M792T1085\"\n"
     ]
    },
    {
     "name": "stderr",
     "output_type": "stream",
     "text": [
      "Backend of the input object is read-only, will change that to an 'MsBackendMemory'\n",
      "\n"
     ]
    },
    {
     "name": "stdout",
     "output_type": "stream",
     "text": [
      "[1] \"M817T1122\"\n"
     ]
    },
    {
     "name": "stderr",
     "output_type": "stream",
     "text": [
      "Backend of the input object is read-only, will change that to an 'MsBackendMemory'\n",
      "\n"
     ]
    },
    {
     "name": "stdout",
     "output_type": "stream",
     "text": [
      "[1] \"M249T153\"\n"
     ]
    },
    {
     "name": "stderr",
     "output_type": "stream",
     "text": [
      "Backend of the input object is read-only, will change that to an 'MsBackendMemory'\n",
      "\n"
     ]
    },
    {
     "name": "stdout",
     "output_type": "stream",
     "text": [
      "[1] \"M323T704\"\n"
     ]
    },
    {
     "name": "stderr",
     "output_type": "stream",
     "text": [
      "Backend of the input object is read-only, will change that to an 'MsBackendMemory'\n",
      "\n"
     ]
    },
    {
     "name": "stdout",
     "output_type": "stream",
     "text": [
      "[1] \"M149T857\"\n"
     ]
    },
    {
     "name": "stderr",
     "output_type": "stream",
     "text": [
      "Backend of the input object is read-only, will change that to an 'MsBackendMemory'\n",
      "\n"
     ]
    },
    {
     "name": "stdout",
     "output_type": "stream",
     "text": [
      "[1] \"M424T869\"\n"
     ]
    },
    {
     "name": "stderr",
     "output_type": "stream",
     "text": [
      "Backend of the input object is read-only, will change that to an 'MsBackendMemory'\n",
      "\n"
     ]
    },
    {
     "name": "stdout",
     "output_type": "stream",
     "text": [
      "[1] \"M291T942\"\n"
     ]
    },
    {
     "name": "stderr",
     "output_type": "stream",
     "text": [
      "Backend of the input object is read-only, will change that to an 'MsBackendMemory'\n",
      "\n"
     ]
    },
    {
     "name": "stdout",
     "output_type": "stream",
     "text": [
      "[1] \"M514T233\"\n"
     ]
    },
    {
     "name": "stderr",
     "output_type": "stream",
     "text": [
      "Backend of the input object is read-only, will change that to an 'MsBackendMemory'\n",
      "\n"
     ]
    },
    {
     "name": "stdout",
     "output_type": "stream",
     "text": [
      "[1] \"M284T390\"\n"
     ]
    },
    {
     "name": "stderr",
     "output_type": "stream",
     "text": [
      "Backend of the input object is read-only, will change that to an 'MsBackendMemory'\n",
      "\n",
      "Warning message:\n",
      "\"'combinePeaks' for lists of peak matrices is deprecated; please use 'combinePeaksData' instead.\"\n"
     ]
    },
    {
     "name": "stdout",
     "output_type": "stream",
     "text": [
      "[1] \"M152T390\"\n"
     ]
    },
    {
     "name": "stderr",
     "output_type": "stream",
     "text": [
      "Backend of the input object is read-only, will change that to an 'MsBackendMemory'\n",
      "\n"
     ]
    },
    {
     "name": "stdout",
     "output_type": "stream",
     "text": [
      "[1] \"M105T460\"\n"
     ]
    },
    {
     "name": "stderr",
     "output_type": "stream",
     "text": [
      "Backend of the input object is read-only, will change that to an 'MsBackendMemory'\n",
      "\n"
     ]
    },
    {
     "name": "stdout",
     "output_type": "stream",
     "text": [
      "[1] \"M474T721\"\n"
     ]
    },
    {
     "name": "stderr",
     "output_type": "stream",
     "text": [
      "Backend of the input object is read-only, will change that to an 'MsBackendMemory'\n",
      "\n",
      "Warning message:\n",
      "\"'combinePeaks' for lists of peak matrices is deprecated; please use 'combinePeaksData' instead.\"\n"
     ]
    },
    {
     "name": "stdout",
     "output_type": "stream",
     "text": [
      "[1] \"M614T727\"\n"
     ]
    },
    {
     "name": "stderr",
     "output_type": "stream",
     "text": [
      "Backend of the input object is read-only, will change that to an 'MsBackendMemory'\n",
      "\n"
     ]
    },
    {
     "name": "stdout",
     "output_type": "stream",
     "text": [
      "[1] \"M495T92_1\"\n"
     ]
    },
    {
     "name": "stderr",
     "output_type": "stream",
     "text": [
      "Backend of the input object is read-only, will change that to an 'MsBackendMemory'\n",
      "\n"
     ]
    },
    {
     "name": "stdout",
     "output_type": "stream",
     "text": [
      "[1] \"M137T251\"\n"
     ]
    },
    {
     "name": "stderr",
     "output_type": "stream",
     "text": [
      "Backend of the input object is read-only, will change that to an 'MsBackendMemory'\n",
      "\n",
      "Warning message:\n",
      "\"'combinePeaks' for lists of peak matrices is deprecated; please use 'combinePeaksData' instead.\"\n"
     ]
    },
    {
     "name": "stdout",
     "output_type": "stream",
     "text": [
      "[1] \"M482T252\"\n"
     ]
    },
    {
     "name": "stderr",
     "output_type": "stream",
     "text": [
      "Backend of the input object is read-only, will change that to an 'MsBackendMemory'\n",
      "\n"
     ]
    },
    {
     "name": "stdout",
     "output_type": "stream",
     "text": [
      "[1] \"M271T403\"\n"
     ]
    },
    {
     "name": "stderr",
     "output_type": "stream",
     "text": [
      "Backend of the input object is read-only, will change that to an 'MsBackendMemory'\n",
      "\n"
     ]
    },
    {
     "name": "stdout",
     "output_type": "stream",
     "text": [
      "[1] \"M307T417\"\n"
     ]
    },
    {
     "name": "stderr",
     "output_type": "stream",
     "text": [
      "Backend of the input object is read-only, will change that to an 'MsBackendMemory'\n",
      "\n"
     ]
    },
    {
     "name": "stdout",
     "output_type": "stream",
     "text": [
      "[1] \"M500T1017\"\n"
     ]
    },
    {
     "name": "stderr",
     "output_type": "stream",
     "text": [
      "Backend of the input object is read-only, will change that to an 'MsBackendMemory'\n",
      "\n"
     ]
    },
    {
     "name": "stdout",
     "output_type": "stream",
     "text": [
      "[1] \"M501T1017\"\n"
     ]
    },
    {
     "name": "stderr",
     "output_type": "stream",
     "text": [
      "Backend of the input object is read-only, will change that to an 'MsBackendMemory'\n",
      "\n"
     ]
    },
    {
     "name": "stdout",
     "output_type": "stream",
     "text": [
      "[1] \"M570T1029\"\n"
     ]
    },
    {
     "name": "stderr",
     "output_type": "stream",
     "text": [
      "Backend of the input object is read-only, will change that to an 'MsBackendMemory'\n",
      "\n"
     ]
    },
    {
     "name": "stdout",
     "output_type": "stream",
     "text": [
      "[1] \"M568T1029_2\"\n"
     ]
    },
    {
     "name": "stderr",
     "output_type": "stream",
     "text": [
      "Backend of the input object is read-only, will change that to an 'MsBackendMemory'\n",
      "\n",
      "Warning message:\n",
      "\"'combinePeaks' for lists of peak matrices is deprecated; please use 'combinePeaksData' instead.\"\n"
     ]
    },
    {
     "name": "stdout",
     "output_type": "stream",
     "text": [
      "[1] \"M569T1029_4\"\n"
     ]
    },
    {
     "name": "stderr",
     "output_type": "stream",
     "text": [
      "Backend of the input object is read-only, will change that to an 'MsBackendMemory'\n",
      "\n"
     ]
    },
    {
     "name": "stdout",
     "output_type": "stream",
     "text": [
      "[1] \"M571T1030_3\"\n"
     ]
    },
    {
     "name": "stderr",
     "output_type": "stream",
     "text": [
      "Backend of the input object is read-only, will change that to an 'MsBackendMemory'\n",
      "\n"
     ]
    },
    {
     "name": "stdout",
     "output_type": "stream",
     "text": [
      "[1] \"M503T1032\"\n"
     ]
    },
    {
     "name": "stderr",
     "output_type": "stream",
     "text": [
      "Backend of the input object is read-only, will change that to an 'MsBackendMemory'\n",
      "\n"
     ]
    },
    {
     "name": "stdout",
     "output_type": "stream",
     "text": [
      "[1] \"M502T1032\"\n"
     ]
    },
    {
     "name": "stderr",
     "output_type": "stream",
     "text": [
      "Backend of the input object is read-only, will change that to an 'MsBackendMemory'\n",
      "\n",
      "Warning message:\n",
      "\"'combinePeaks' for lists of peak matrices is deprecated; please use 'combinePeaksData' instead.\"\n"
     ]
    },
    {
     "name": "stdout",
     "output_type": "stream",
     "text": [
      "[1] \"M452T602\"\n"
     ]
    },
    {
     "name": "stderr",
     "output_type": "stream",
     "text": [
      "Backend of the input object is read-only, will change that to an 'MsBackendMemory'\n",
      "\n"
     ]
    },
    {
     "name": "stdout",
     "output_type": "stream",
     "text": [
      "[1] \"M448T731\"\n"
     ]
    },
    {
     "name": "stderr",
     "output_type": "stream",
     "text": [
      "Backend of the input object is read-only, will change that to an 'MsBackendMemory'\n",
      "\n"
     ]
    },
    {
     "name": "stdout",
     "output_type": "stream",
     "text": [
      "[1] \"M247T813\"\n"
     ]
    },
    {
     "name": "stderr",
     "output_type": "stream",
     "text": [
      "Backend of the input object is read-only, will change that to an 'MsBackendMemory'\n",
      "\n"
     ]
    },
    {
     "name": "stdout",
     "output_type": "stream",
     "text": [
      "[1] \"M591T864\"\n"
     ]
    },
    {
     "name": "stderr",
     "output_type": "stream",
     "text": [
      "Backend of the input object is read-only, will change that to an 'MsBackendMemory'\n",
      "\n"
     ]
    },
    {
     "name": "stdout",
     "output_type": "stream",
     "text": [
      "[1] \"M614T864\"\n"
     ]
    },
    {
     "name": "stderr",
     "output_type": "stream",
     "text": [
      "Backend of the input object is read-only, will change that to an 'MsBackendMemory'\n",
      "\n"
     ]
    },
    {
     "name": "stdout",
     "output_type": "stream",
     "text": [
      "[1] \"M514T870\"\n"
     ]
    },
    {
     "name": "stderr",
     "output_type": "stream",
     "text": [
      "Backend of the input object is read-only, will change that to an 'MsBackendMemory'\n",
      "\n"
     ]
    },
    {
     "name": "stdout",
     "output_type": "stream",
     "text": [
      "[1] \"M247T886\"\n"
     ]
    },
    {
     "name": "stderr",
     "output_type": "stream",
     "text": [
      "Backend of the input object is read-only, will change that to an 'MsBackendMemory'\n",
      "\n"
     ]
    },
    {
     "name": "stdout",
     "output_type": "stream",
     "text": [
      "[1] \"M594T901\"\n"
     ]
    },
    {
     "name": "stderr",
     "output_type": "stream",
     "text": [
      "Backend of the input object is read-only, will change that to an 'MsBackendMemory'\n",
      "\n"
     ]
    },
    {
     "name": "stdout",
     "output_type": "stream",
     "text": [
      "[1] \"M618T927\"\n"
     ]
    },
    {
     "name": "stderr",
     "output_type": "stream",
     "text": [
      "Backend of the input object is read-only, will change that to an 'MsBackendMemory'\n",
      "\n"
     ]
    },
    {
     "name": "stdout",
     "output_type": "stream",
     "text": [
      "[1] \"M600T929\"\n"
     ]
    },
    {
     "name": "stderr",
     "output_type": "stream",
     "text": [
      "Backend of the input object is read-only, will change that to an 'MsBackendMemory'\n",
      "\n",
      "Warning message:\n",
      "\"'combinePeaks' for lists of peak matrices is deprecated; please use 'combinePeaksData' instead.\"\n"
     ]
    },
    {
     "name": "stdout",
     "output_type": "stream",
     "text": [
      "[1] \"M580T956\"\n"
     ]
    },
    {
     "name": "stderr",
     "output_type": "stream",
     "text": [
      "Backend of the input object is read-only, will change that to an 'MsBackendMemory'\n",
      "\n"
     ]
    },
    {
     "name": "stdout",
     "output_type": "stream",
     "text": [
      "[1] \"M582T959\"\n"
     ]
    },
    {
     "name": "stderr",
     "output_type": "stream",
     "text": [
      "Backend of the input object is read-only, will change that to an 'MsBackendMemory'\n",
      "\n"
     ]
    },
    {
     "name": "stdout",
     "output_type": "stream",
     "text": [
      "[1] \"M601T961\"\n"
     ]
    },
    {
     "name": "stderr",
     "output_type": "stream",
     "text": [
      "Backend of the input object is read-only, will change that to an 'MsBackendMemory'\n",
      "\n"
     ]
    },
    {
     "name": "stdout",
     "output_type": "stream",
     "text": [
      "[1] \"M600T961\"\n"
     ]
    },
    {
     "name": "stderr",
     "output_type": "stream",
     "text": [
      "Backend of the input object is read-only, will change that to an 'MsBackendMemory'\n",
      "\n"
     ]
    },
    {
     "name": "stdout",
     "output_type": "stream",
     "text": [
      "[1] \"M560T986\"\n"
     ]
    },
    {
     "name": "stderr",
     "output_type": "stream",
     "text": [
      "Backend of the input object is read-only, will change that to an 'MsBackendMemory'\n",
      "\n"
     ]
    },
    {
     "name": "stdout",
     "output_type": "stream",
     "text": [
      "[1] \"M559T989\"\n"
     ]
    },
    {
     "name": "stderr",
     "output_type": "stream",
     "text": [
      "Backend of the input object is read-only, will change that to an 'MsBackendMemory'\n",
      "\n"
     ]
    },
    {
     "name": "stdout",
     "output_type": "stream",
     "text": [
      "[1] \"M703T99\"\n"
     ]
    },
    {
     "name": "stderr",
     "output_type": "stream",
     "text": [
      "Backend of the input object is read-only, will change that to an 'MsBackendMemory'\n",
      "\n"
     ]
    },
    {
     "name": "stdout",
     "output_type": "stream",
     "text": [
      "[1] \"M280T109\"\n"
     ]
    },
    {
     "name": "stderr",
     "output_type": "stream",
     "text": [
      "Backend of the input object is read-only, will change that to an 'MsBackendMemory'\n",
      "\n"
     ]
    },
    {
     "name": "stdout",
     "output_type": "stream",
     "text": [
      "[1] \"M292T389\"\n"
     ]
    },
    {
     "name": "stderr",
     "output_type": "stream",
     "text": [
      "Backend of the input object is read-only, will change that to an 'MsBackendMemory'\n",
      "\n"
     ]
    },
    {
     "name": "stdout",
     "output_type": "stream",
     "text": [
      "[1] \"M227T513\"\n"
     ]
    },
    {
     "name": "stderr",
     "output_type": "stream",
     "text": [
      "Backend of the input object is read-only, will change that to an 'MsBackendMemory'\n",
      "\n"
     ]
    },
    {
     "name": "stdout",
     "output_type": "stream",
     "text": [
      "[1] \"M503T1035\"\n"
     ]
    },
    {
     "name": "stderr",
     "output_type": "stream",
     "text": [
      "Backend of the input object is read-only, will change that to an 'MsBackendMemory'\n",
      "\n"
     ]
    },
    {
     "name": "stdout",
     "output_type": "stream",
     "text": [
      "[1] \"M146T126\"\n"
     ]
    },
    {
     "name": "stderr",
     "output_type": "stream",
     "text": [
      "Backend of the input object is read-only, will change that to an 'MsBackendMemory'\n",
      "\n"
     ]
    },
    {
     "name": "stdout",
     "output_type": "stream",
     "text": [
      "[1] \"M158T180\"\n"
     ]
    },
    {
     "name": "stderr",
     "output_type": "stream",
     "text": [
      "Backend of the input object is read-only, will change that to an 'MsBackendMemory'\n",
      "\n"
     ]
    },
    {
     "name": "stdout",
     "output_type": "stream",
     "text": [
      "[1] \"M314T227\"\n"
     ]
    },
    {
     "name": "stderr",
     "output_type": "stream",
     "text": [
      "Backend of the input object is read-only, will change that to an 'MsBackendMemory'\n",
      "\n"
     ]
    },
    {
     "name": "stdout",
     "output_type": "stream",
     "text": [
      "[1] \"M160T512_2\"\n"
     ]
    },
    {
     "name": "stderr",
     "output_type": "stream",
     "text": [
      "Backend of the input object is read-only, will change that to an 'MsBackendMemory'\n",
      "\n"
     ]
    },
    {
     "name": "stdout",
     "output_type": "stream",
     "text": [
      "[1] \"M409T512\"\n"
     ]
    },
    {
     "name": "stderr",
     "output_type": "stream",
     "text": [
      "Backend of the input object is read-only, will change that to an 'MsBackendMemory'\n",
      "\n",
      "Warning message:\n",
      "\"'combinePeaks' for lists of peak matrices is deprecated; please use 'combinePeaksData' instead.\"\n"
     ]
    },
    {
     "name": "stdout",
     "output_type": "stream",
     "text": [
      "[1] \"M144T512_2\"\n"
     ]
    },
    {
     "name": "stderr",
     "output_type": "stream",
     "text": [
      "Backend of the input object is read-only, will change that to an 'MsBackendMemory'\n",
      "\n"
     ]
    },
    {
     "name": "stdout",
     "output_type": "stream",
     "text": [
      "[1] \"M410T512\"\n"
     ]
    },
    {
     "name": "stderr",
     "output_type": "stream",
     "text": [
      "Backend of the input object is read-only, will change that to an 'MsBackendMemory'\n",
      "\n"
     ]
    },
    {
     "name": "stdout",
     "output_type": "stream",
     "text": [
      "[1] \"M189T512\"\n"
     ]
    },
    {
     "name": "stderr",
     "output_type": "stream",
     "text": [
      "Backend of the input object is read-only, will change that to an 'MsBackendMemory'\n",
      "\n"
     ]
    },
    {
     "name": "stdout",
     "output_type": "stream",
     "text": [
      "[1] \"M146T512_1\"\n"
     ]
    },
    {
     "name": "stderr",
     "output_type": "stream",
     "text": [
      "Backend of the input object is read-only, will change that to an 'MsBackendMemory'\n",
      "\n",
      "Warning message:\n",
      "\"'combinePeaks' for lists of peak matrices is deprecated; please use 'combinePeaksData' instead.\"\n"
     ]
    },
    {
     "name": "stdout",
     "output_type": "stream",
     "text": [
      "[1] \"M170T512\"\n"
     ]
    },
    {
     "name": "stderr",
     "output_type": "stream",
     "text": [
      "Backend of the input object is read-only, will change that to an 'MsBackendMemory'\n",
      "\n"
     ]
    },
    {
     "name": "stdout",
     "output_type": "stream",
     "text": [
      "[1] \"M132T513\"\n"
     ]
    },
    {
     "name": "stderr",
     "output_type": "stream",
     "text": [
      "Backend of the input object is read-only, will change that to an 'MsBackendMemory'\n",
      "\n",
      "Warning message:\n",
      "\"'combinePeaks' for lists of peak matrices is deprecated; please use 'combinePeaksData' instead.\"\n"
     ]
    },
    {
     "name": "stdout",
     "output_type": "stream",
     "text": [
      "[1] \"M477T578_1\"\n"
     ]
    },
    {
     "name": "stderr",
     "output_type": "stream",
     "text": [
      "Backend of the input object is read-only, will change that to an 'MsBackendMemory'\n",
      "\n"
     ]
    },
    {
     "name": "stdout",
     "output_type": "stream",
     "text": [
      "[1] \"M318T579\"\n"
     ]
    },
    {
     "name": "stderr",
     "output_type": "stream",
     "text": [
      "Backend of the input object is read-only, will change that to an 'MsBackendMemory'\n",
      "\n",
      "Warning message:\n",
      "\"'combinePeaks' for lists of peak matrices is deprecated; please use 'combinePeaksData' instead.\"\n"
     ]
    },
    {
     "name": "stdout",
     "output_type": "stream",
     "text": [
      "[1] \"M420T624_1\"\n"
     ]
    },
    {
     "name": "stderr",
     "output_type": "stream",
     "text": [
      "Backend of the input object is read-only, will change that to an 'MsBackendMemory'\n",
      "\n",
      "Warning message:\n",
      "\"'combinePeaks' for lists of peak matrices is deprecated; please use 'combinePeaksData' instead.\"\n"
     ]
    },
    {
     "name": "stdout",
     "output_type": "stream",
     "text": [
      "[1] \"M420T624_2\"\n"
     ]
    },
    {
     "name": "stderr",
     "output_type": "stream",
     "text": [
      "Backend of the input object is read-only, will change that to an 'MsBackendMemory'\n",
      "\n"
     ]
    },
    {
     "name": "stdout",
     "output_type": "stream",
     "text": [
      "[1] \"M386T649_1\"\n"
     ]
    },
    {
     "name": "stderr",
     "output_type": "stream",
     "text": [
      "Backend of the input object is read-only, will change that to an 'MsBackendMemory'\n",
      "\n"
     ]
    },
    {
     "name": "stdout",
     "output_type": "stream",
     "text": [
      "[1] \"M475T721_2\"\n"
     ]
    },
    {
     "name": "stderr",
     "output_type": "stream",
     "text": [
      "Backend of the input object is read-only, will change that to an 'MsBackendMemory'\n",
      "\n"
     ]
    },
    {
     "name": "stdout",
     "output_type": "stream",
     "text": [
      "[1] \"M475T721_1\"\n"
     ]
    },
    {
     "name": "stderr",
     "output_type": "stream",
     "text": [
      "Backend of the input object is read-only, will change that to an 'MsBackendMemory'\n",
      "\n"
     ]
    },
    {
     "name": "stdout",
     "output_type": "stream",
     "text": [
      "[1] \"M319T748\"\n"
     ]
    },
    {
     "name": "stderr",
     "output_type": "stream",
     "text": [
      "Backend of the input object is read-only, will change that to an 'MsBackendMemory'\n",
      "\n"
     ]
    },
    {
     "name": "stdout",
     "output_type": "stream",
     "text": [
      "[1] \"M232T765\"\n"
     ]
    },
    {
     "name": "stderr",
     "output_type": "stream",
     "text": [
      "Backend of the input object is read-only, will change that to an 'MsBackendMemory'\n",
      "\n"
     ]
    },
    {
     "name": "stdout",
     "output_type": "stream",
     "text": [
      "[1] \"M233T765\"\n"
     ]
    },
    {
     "name": "stderr",
     "output_type": "stream",
     "text": [
      "Backend of the input object is read-only, will change that to an 'MsBackendMemory'\n",
      "\n"
     ]
    },
    {
     "name": "stdout",
     "output_type": "stream",
     "text": [
      "[1] \"M531T766_1\"\n"
     ]
    },
    {
     "name": "stderr",
     "output_type": "stream",
     "text": [
      "Backend of the input object is read-only, will change that to an 'MsBackendMemory'\n",
      "\n",
      "Warning message:\n",
      "\"'combinePeaks' for lists of peak matrices is deprecated; please use 'combinePeaksData' instead.\"\n"
     ]
    },
    {
     "name": "stdout",
     "output_type": "stream",
     "text": [
      "[1] \"M531T766_2\"\n"
     ]
    },
    {
     "name": "stderr",
     "output_type": "stream",
     "text": [
      "Backend of the input object is read-only, will change that to an 'MsBackendMemory'\n",
      "\n"
     ]
    },
    {
     "name": "stdout",
     "output_type": "stream",
     "text": [
      "[1] \"M532T766_1\"\n"
     ]
    },
    {
     "name": "stderr",
     "output_type": "stream",
     "text": [
      "Backend of the input object is read-only, will change that to an 'MsBackendMemory'\n",
      "\n"
     ]
    },
    {
     "name": "stdout",
     "output_type": "stream",
     "text": [
      "[1] \"M234T802\"\n"
     ]
    },
    {
     "name": "stderr",
     "output_type": "stream",
     "text": [
      "Backend of the input object is read-only, will change that to an 'MsBackendMemory'\n",
      "\n"
     ]
    },
    {
     "name": "stdout",
     "output_type": "stream",
     "text": [
      "[1] \"M185T846\"\n"
     ]
    },
    {
     "name": "stderr",
     "output_type": "stream",
     "text": [
      "Backend of the input object is read-only, will change that to an 'MsBackendMemory'\n",
      "\n"
     ]
    },
    {
     "name": "stdout",
     "output_type": "stream",
     "text": [
      "[1] \"M240T1003\"\n"
     ]
    },
    {
     "name": "stderr",
     "output_type": "stream",
     "text": [
      "Backend of the input object is read-only, will change that to an 'MsBackendMemory'\n",
      "\n"
     ]
    },
    {
     "name": "stdout",
     "output_type": "stream",
     "text": [
      "[1] \"M239T1003\"\n"
     ]
    },
    {
     "name": "stderr",
     "output_type": "stream",
     "text": [
      "Backend of the input object is read-only, will change that to an 'MsBackendMemory'\n",
      "\n",
      "Warning message:\n",
      "\"'combinePeaks' for lists of peak matrices is deprecated; please use 'combinePeaksData' instead.\"\n"
     ]
    },
    {
     "name": "stdout",
     "output_type": "stream",
     "text": [
      "[1] \"M664T1061\"\n"
     ]
    },
    {
     "name": "stderr",
     "output_type": "stream",
     "text": [
      "Backend of the input object is read-only, will change that to an 'MsBackendMemory'\n",
      "\n"
     ]
    },
    {
     "name": "stdout",
     "output_type": "stream",
     "text": [
      "[1] \"M550T1073\"\n"
     ]
    },
    {
     "name": "stderr",
     "output_type": "stream",
     "text": [
      "Backend of the input object is read-only, will change that to an 'MsBackendMemory'\n",
      "\n",
      "Warning message:\n",
      "\"'combinePeaks' for lists of peak matrices is deprecated; please use 'combinePeaksData' instead.\"\n"
     ]
    },
    {
     "name": "stdout",
     "output_type": "stream",
     "text": [
      "[1] \"M551T1074\"\n"
     ]
    },
    {
     "name": "stderr",
     "output_type": "stream",
     "text": [
      "Backend of the input object is read-only, will change that to an 'MsBackendMemory'\n",
      "\n"
     ]
    },
    {
     "name": "stdout",
     "output_type": "stream",
     "text": [
      "[1] \"M137T550\"\n"
     ]
    },
    {
     "name": "stderr",
     "output_type": "stream",
     "text": [
      "Backend of the input object is read-only, will change that to an 'MsBackendMemory'\n",
      "\n",
      "Warning message:\n",
      "\"'combinePeaks' for lists of peak matrices is deprecated; please use 'combinePeaksData' instead.\"\n"
     ]
    },
    {
     "name": "stdout",
     "output_type": "stream",
     "text": [
      "[1] \"M434T686\"\n"
     ]
    },
    {
     "name": "stderr",
     "output_type": "stream",
     "text": [
      "Backend of the input object is read-only, will change that to an 'MsBackendMemory'\n",
      "\n"
     ]
    },
    {
     "name": "stdout",
     "output_type": "stream",
     "text": [
      "[1] \"M311T729\"\n"
     ]
    },
    {
     "name": "stderr",
     "output_type": "stream",
     "text": [
      "Backend of the input object is read-only, will change that to an 'MsBackendMemory'\n",
      "\n"
     ]
    },
    {
     "name": "stdout",
     "output_type": "stream",
     "text": [
      "[1] \"M209T775\"\n"
     ]
    },
    {
     "name": "stderr",
     "output_type": "stream",
     "text": [
      "Backend of the input object is read-only, will change that to an 'MsBackendMemory'\n",
      "\n"
     ]
    },
    {
     "name": "stdout",
     "output_type": "stream",
     "text": [
      "[1] \"M352T866\"\n"
     ]
    },
    {
     "name": "stderr",
     "output_type": "stream",
     "text": [
      "Backend of the input object is read-only, will change that to an 'MsBackendMemory'\n",
      "\n",
      "Warning message:\n",
      "\"'combinePeaks' for lists of peak matrices is deprecated; please use 'combinePeaksData' instead.\"\n"
     ]
    },
    {
     "name": "stdout",
     "output_type": "stream",
     "text": [
      "[1] \"M584T978\"\n"
     ]
    },
    {
     "name": "stderr",
     "output_type": "stream",
     "text": [
      "Backend of the input object is read-only, will change that to an 'MsBackendMemory'\n",
      "\n"
     ]
    },
    {
     "name": "stdout",
     "output_type": "stream",
     "text": [
      "[1] \"M558T989_1\"\n"
     ]
    },
    {
     "name": "stderr",
     "output_type": "stream",
     "text": [
      "Backend of the input object is read-only, will change that to an 'MsBackendMemory'\n",
      "\n"
     ]
    },
    {
     "name": "stdout",
     "output_type": "stream",
     "text": [
      "[1] \"M638T1062\"\n"
     ]
    },
    {
     "name": "stderr",
     "output_type": "stream",
     "text": [
      "Backend of the input object is read-only, will change that to an 'MsBackendMemory'\n",
      "\n"
     ]
    },
    {
     "name": "stdout",
     "output_type": "stream",
     "text": [
      "[1] \"M623T1065_1\"\n"
     ]
    },
    {
     "name": "stderr",
     "output_type": "stream",
     "text": [
      "Backend of the input object is read-only, will change that to an 'MsBackendMemory'\n",
      "\n"
     ]
    },
    {
     "name": "stdout",
     "output_type": "stream",
     "text": [
      "[1] \"M855T1075\"\n"
     ]
    },
    {
     "name": "stderr",
     "output_type": "stream",
     "text": [
      "Backend of the input object is read-only, will change that to an 'MsBackendMemory'\n",
      "\n"
     ]
    },
    {
     "name": "stdout",
     "output_type": "stream",
     "text": [
      "[1] \"M330T392\"\n"
     ]
    },
    {
     "name": "stderr",
     "output_type": "stream",
     "text": [
      "Backend of the input object is read-only, will change that to an 'MsBackendMemory'\n",
      "\n"
     ]
    },
    {
     "name": "stdout",
     "output_type": "stream",
     "text": [
      "[1] \"M252T401\"\n"
     ]
    },
    {
     "name": "stderr",
     "output_type": "stream",
     "text": [
      "Backend of the input object is read-only, will change that to an 'MsBackendMemory'\n",
      "\n"
     ]
    },
    {
     "name": "stdout",
     "output_type": "stream",
     "text": [
      "[1] \"M279T427\"\n"
     ]
    },
    {
     "name": "stderr",
     "output_type": "stream",
     "text": [
      "Backend of the input object is read-only, will change that to an 'MsBackendMemory'\n",
      "\n",
      "Warning message:\n",
      "\"'combinePeaks' for lists of peak matrices is deprecated; please use 'combinePeaksData' instead.\"\n"
     ]
    },
    {
     "name": "stdout",
     "output_type": "stream",
     "text": [
      "[1] \"M280T427\"\n"
     ]
    },
    {
     "name": "stderr",
     "output_type": "stream",
     "text": [
      "Backend of the input object is read-only, will change that to an 'MsBackendMemory'\n",
      "\n"
     ]
    },
    {
     "name": "stdout",
     "output_type": "stream",
     "text": [
      "[1] \"M188T512_1\"\n"
     ]
    },
    {
     "name": "stderr",
     "output_type": "stream",
     "text": [
      "Backend of the input object is read-only, will change that to an 'MsBackendMemory'\n",
      "\n",
      "Warning message:\n",
      "\"'combinePeaks' for lists of peak matrices is deprecated; please use 'combinePeaksData' instead.\"\n"
     ]
    },
    {
     "name": "stdout",
     "output_type": "stream",
     "text": [
      "[1] \"M205T512_1\"\n"
     ]
    },
    {
     "name": "stderr",
     "output_type": "stream",
     "text": [
      "Backend of the input object is read-only, will change that to an 'MsBackendMemory'\n",
      "\n",
      "Warning message:\n",
      "\"'combinePeaks' for lists of peak matrices is deprecated; please use 'combinePeaksData' instead.\"\n"
     ]
    },
    {
     "name": "stdout",
     "output_type": "stream",
     "text": [
      "[1] \"M142T512\"\n"
     ]
    },
    {
     "name": "stderr",
     "output_type": "stream",
     "text": [
      "Backend of the input object is read-only, will change that to an 'MsBackendMemory'\n",
      "\n"
     ]
    },
    {
     "name": "stdout",
     "output_type": "stream",
     "text": [
      "[1] \"M456T1082\"\n"
     ]
    },
    {
     "name": "stderr",
     "output_type": "stream",
     "text": [
      "Backend of the input object is read-only, will change that to an 'MsBackendMemory'\n",
      "\n"
     ]
    },
    {
     "name": "stdout",
     "output_type": "stream",
     "text": [
      "[1] \"M688T1082\"\n"
     ]
    },
    {
     "name": "stderr",
     "output_type": "stream",
     "text": [
      "Backend of the input object is read-only, will change that to an 'MsBackendMemory'\n",
      "\n"
     ]
    },
    {
     "name": "stdout",
     "output_type": "stream",
     "text": [
      "[1] \"M74T323\"\n"
     ]
    },
    {
     "name": "stderr",
     "output_type": "stream",
     "text": [
      "Backend of the input object is read-only, will change that to an 'MsBackendMemory'\n",
      "\n"
     ]
    },
    {
     "name": "stdout",
     "output_type": "stream",
     "text": [
      "[1] \"M115T466\"\n"
     ]
    },
    {
     "name": "stderr",
     "output_type": "stream",
     "text": [
      "Backend of the input object is read-only, will change that to an 'MsBackendMemory'\n",
      "\n"
     ]
    },
    {
     "name": "stdout",
     "output_type": "stream",
     "text": [
      "[1] \"M370T488\"\n"
     ]
    },
    {
     "name": "stderr",
     "output_type": "stream",
     "text": [
      "Backend of the input object is read-only, will change that to an 'MsBackendMemory'\n",
      "\n"
     ]
    },
    {
     "name": "stdout",
     "output_type": "stream",
     "text": [
      "[1] \"M190T604\"\n"
     ]
    },
    {
     "name": "stderr",
     "output_type": "stream",
     "text": [
      "Backend of the input object is read-only, will change that to an 'MsBackendMemory'\n",
      "\n"
     ]
    },
    {
     "name": "stdout",
     "output_type": "stream",
     "text": [
      "[1] \"M330T948\"\n"
     ]
    },
    {
     "name": "stderr",
     "output_type": "stream",
     "text": [
      "Backend of the input object is read-only, will change that to an 'MsBackendMemory'\n",
      "\n"
     ]
    },
    {
     "name": "stdout",
     "output_type": "stream",
     "text": [
      "[1] \"M331T948\"\n"
     ]
    },
    {
     "name": "stderr",
     "output_type": "stream",
     "text": [
      "Backend of the input object is read-only, will change that to an 'MsBackendMemory'\n",
      "\n"
     ]
    },
    {
     "name": "stdout",
     "output_type": "stream",
     "text": [
      "[1] \"M356T957\"\n"
     ]
    },
    {
     "name": "stderr",
     "output_type": "stream",
     "text": [
      "Backend of the input object is read-only, will change that to an 'MsBackendMemory'\n",
      "\n",
      "Warning message:\n",
      "\"'combinePeaks' for lists of peak matrices is deprecated; please use 'combinePeaksData' instead.\"\n"
     ]
    },
    {
     "name": "stdout",
     "output_type": "stream",
     "text": [
      "[1] \"M689T1082\"\n"
     ]
    },
    {
     "name": "stderr",
     "output_type": "stream",
     "text": [
      "Backend of the input object is read-only, will change that to an 'MsBackendMemory'\n",
      "\n"
     ]
    },
    {
     "name": "stdout",
     "output_type": "stream",
     "text": [
      "[1] \"M318T655\"\n"
     ]
    },
    {
     "name": "stderr",
     "output_type": "stream",
     "text": [
      "Backend of the input object is read-only, will change that to an 'MsBackendMemory'\n",
      "\n"
     ]
    },
    {
     "name": "stdout",
     "output_type": "stream",
     "text": [
      "[1] \"M177T880\"\n"
     ]
    },
    {
     "name": "stderr",
     "output_type": "stream",
     "text": [
      "Backend of the input object is read-only, will change that to an 'MsBackendMemory'\n",
      "\n"
     ]
    },
    {
     "name": "stdout",
     "output_type": "stream",
     "text": [
      "[1] \"M544T1028\"\n"
     ]
    },
    {
     "name": "stderr",
     "output_type": "stream",
     "text": [
      "Backend of the input object is read-only, will change that to an 'MsBackendMemory'\n",
      "\n",
      "Warning message:\n",
      "\"'combinePeaks' for lists of peak matrices is deprecated; please use 'combinePeaksData' instead.\"\n"
     ]
    },
    {
     "name": "stdout",
     "output_type": "stream",
     "text": [
      "[1] \"M545T1030_2\"\n"
     ]
    },
    {
     "name": "stderr",
     "output_type": "stream",
     "text": [
      "Backend of the input object is read-only, will change that to an 'MsBackendMemory'\n",
      "\n"
     ]
    },
    {
     "name": "stdout",
     "output_type": "stream",
     "text": [
      "[1] \"M546T1031_2\"\n"
     ]
    },
    {
     "name": "stderr",
     "output_type": "stream",
     "text": [
      "Backend of the input object is read-only, will change that to an 'MsBackendMemory'\n",
      "\n"
     ]
    },
    {
     "name": "stdout",
     "output_type": "stream",
     "text": [
      "[1] \"M495T101_1\"\n"
     ]
    },
    {
     "name": "stderr",
     "output_type": "stream",
     "text": [
      "Backend of the input object is read-only, will change that to an 'MsBackendMemory'\n",
      "\n"
     ]
    },
    {
     "name": "stdout",
     "output_type": "stream",
     "text": [
      "[1] \"M639T110\"\n"
     ]
    },
    {
     "name": "stderr",
     "output_type": "stream",
     "text": [
      "Backend of the input object is read-only, will change that to an 'MsBackendMemory'\n",
      "\n"
     ]
    },
    {
     "name": "stdout",
     "output_type": "stream",
     "text": [
      "[1] \"M1056T127\"\n"
     ]
    },
    {
     "name": "stderr",
     "output_type": "stream",
     "text": [
      "Backend of the input object is read-only, will change that to an 'MsBackendMemory'\n",
      "\n"
     ]
    },
    {
     "name": "stdout",
     "output_type": "stream",
     "text": [
      "[1] \"M134T127\"\n"
     ]
    },
    {
     "name": "stderr",
     "output_type": "stream",
     "text": [
      "Backend of the input object is read-only, will change that to an 'MsBackendMemory'\n",
      "\n"
     ]
    },
    {
     "name": "stdout",
     "output_type": "stream",
     "text": [
      "[1] \"M213T346\"\n"
     ]
    },
    {
     "name": "stderr",
     "output_type": "stream",
     "text": [
      "Backend of the input object is read-only, will change that to an 'MsBackendMemory'\n",
      "\n"
     ]
    },
    {
     "name": "stdout",
     "output_type": "stream",
     "text": [
      "[1] \"M220T428\"\n"
     ]
    },
    {
     "name": "stderr",
     "output_type": "stream",
     "text": [
      "Backend of the input object is read-only, will change that to an 'MsBackendMemory'\n",
      "\n"
     ]
    },
    {
     "name": "stdout",
     "output_type": "stream",
     "text": [
      "[1] \"M129T430\"\n"
     ]
    },
    {
     "name": "stderr",
     "output_type": "stream",
     "text": [
      "Backend of the input object is read-only, will change that to an 'MsBackendMemory'\n",
      "\n"
     ]
    },
    {
     "name": "stdout",
     "output_type": "stream",
     "text": [
      "[1] \"M176T488\"\n"
     ]
    },
    {
     "name": "stderr",
     "output_type": "stream",
     "text": [
      "Backend of the input object is read-only, will change that to an 'MsBackendMemory'\n",
      "\n"
     ]
    },
    {
     "name": "stdout",
     "output_type": "stream",
     "text": [
      "[1] \"M176T516\"\n"
     ]
    },
    {
     "name": "stderr",
     "output_type": "stream",
     "text": [
      "Backend of the input object is read-only, will change that to an 'MsBackendMemory'\n",
      "\n"
     ]
    },
    {
     "name": "stdout",
     "output_type": "stream",
     "text": [
      "[1] \"M224T772\"\n"
     ]
    },
    {
     "name": "stderr",
     "output_type": "stream",
     "text": [
      "Backend of the input object is read-only, will change that to an 'MsBackendMemory'\n",
      "\n"
     ]
    },
    {
     "name": "stdout",
     "output_type": "stream",
     "text": [
      "[1] \"M106T782\"\n"
     ]
    },
    {
     "name": "stderr",
     "output_type": "stream",
     "text": [
      "Backend of the input object is read-only, will change that to an 'MsBackendMemory'\n",
      "\n"
     ]
    },
    {
     "name": "stdout",
     "output_type": "stream",
     "text": [
      "[1] \"M568T901\"\n"
     ]
    },
    {
     "name": "stderr",
     "output_type": "stream",
     "text": [
      "Backend of the input object is read-only, will change that to an 'MsBackendMemory'\n",
      "\n"
     ]
    },
    {
     "name": "stdout",
     "output_type": "stream",
     "text": [
      "[1] \"M219T168\"\n"
     ]
    },
    {
     "name": "stderr",
     "output_type": "stream",
     "text": [
      "Backend of the input object is read-only, will change that to an 'MsBackendMemory'\n",
      "\n"
     ]
    },
    {
     "name": "stdout",
     "output_type": "stream",
     "text": [
      "[1] \"M245T407\"\n"
     ]
    },
    {
     "name": "stderr",
     "output_type": "stream",
     "text": [
      "Backend of the input object is read-only, will change that to an 'MsBackendMemory'\n",
      "\n"
     ]
    },
    {
     "name": "stdout",
     "output_type": "stream",
     "text": [
      "[1] \"M137T466\"\n"
     ]
    },
    {
     "name": "stderr",
     "output_type": "stream",
     "text": [
      "Backend of the input object is read-only, will change that to an 'MsBackendMemory'\n",
      "\n"
     ]
    },
    {
     "name": "stdout",
     "output_type": "stream",
     "text": [
      "[1] \"M319T484\"\n"
     ]
    },
    {
     "name": "stderr",
     "output_type": "stream",
     "text": [
      "Backend of the input object is read-only, will change that to an 'MsBackendMemory'\n",
      "\n",
      "Warning message:\n",
      "\"'combinePeaks' for lists of peak matrices is deprecated; please use 'combinePeaksData' instead.\"\n"
     ]
    },
    {
     "name": "stdout",
     "output_type": "stream",
     "text": [
      "[1] \"M137T724\"\n"
     ]
    },
    {
     "name": "stderr",
     "output_type": "stream",
     "text": [
      "Backend of the input object is read-only, will change that to an 'MsBackendMemory'\n",
      "\n"
     ]
    },
    {
     "name": "stdout",
     "output_type": "stream",
     "text": [
      "[1] \"M155T743\"\n"
     ]
    },
    {
     "name": "stderr",
     "output_type": "stream",
     "text": [
      "Backend of the input object is read-only, will change that to an 'MsBackendMemory'\n",
      "\n",
      "Warning message:\n",
      "\"'combinePeaks' for lists of peak matrices is deprecated; please use 'combinePeaksData' instead.\"\n"
     ]
    },
    {
     "name": "stdout",
     "output_type": "stream",
     "text": [
      "[1] \"M165T775\"\n"
     ]
    },
    {
     "name": "stderr",
     "output_type": "stream",
     "text": [
      "Backend of the input object is read-only, will change that to an 'MsBackendMemory'\n",
      "\n"
     ]
    },
    {
     "name": "stdout",
     "output_type": "stream",
     "text": [
      "[1] \"M225T806\"\n"
     ]
    },
    {
     "name": "stderr",
     "output_type": "stream",
     "text": [
      "Backend of the input object is read-only, will change that to an 'MsBackendMemory'\n",
      "\n",
      "Warning message:\n",
      "\"'combinePeaks' for lists of peak matrices is deprecated; please use 'combinePeaksData' instead.\"\n"
     ]
    }
   ],
   "source": [
    "ms2list2 <- list()\n",
    "for (row in 1:nrow(Features)){\n",
    "    feature <- Features[row, \"sample\"]\n",
    "    mz <- Features[row, \"mzmed\"]\n",
    "    rt <- Features[row, \"rtmed\"]\n",
    "    sample <- Features[row, \"sample_max\"]\n",
    "    sample_file <- paste0(sample, \".mzML\")\n",
    "    print(feature)\n",
    "    for (fl in mzml_files){\n",
    "        if (sample_file == basename(fl)){\n",
    "            sample_sps <- Spectra(fl)\n",
    "            sample_sps <- filterMsLevel(sample_sps, msLevel = 2L)\n",
    "            sample_sps <- filterRt(sample_sps,rt=c((rt-10), (rt+10)))\n",
    "            sample_sps <- filterPrecursorMzRange(sample_sps, mz=c((mz-0.01), (mz+0.01)))\n",
    "            sample_sps <- addProcessing(sample_sps, norm_int)\n",
    "            sample_sps <- filterIntensity(sample_sps, intensity = low_int)\n",
    "            # combine Spectra ???\n",
    "            sample_sps <- combineSpectra(sample_sps, FUN = combinePeaks, ppm =10,\n",
    "                                            peaks = \"intersect\", minProp = 0.8,\n",
    "                                            intensityFun = median, mzFun = median)\n",
    "\n",
    "\n",
    "            if (length(sample_sps) > 0){\n",
    "                sample_sps$Feature_ID <- feature\n",
    "                ms2list2<-c(ms2list2, sample_sps)\n",
    "            }\n",
    "        }\n",
    "    }                \n",
    "}"
   ]
  },
  {
   "cell_type": "code",
   "execution_count": 8,
   "metadata": {
    "vscode": {
     "languageId": "r"
    }
   },
   "outputs": [
    {
     "data": {
      "text/html": [
       "'M274T635'"
      ],
      "text/latex": [
       "'M274T635'"
      ],
      "text/markdown": [
       "'M274T635'"
      ],
      "text/plain": [
       "[1] \"M274T635\""
      ]
     },
     "metadata": {},
     "output_type": "display_data"
    }
   ],
   "source": [
    "ms2list2[[1]]$Feature_ID"
   ]
  },
  {
   "cell_type": "code",
   "execution_count": 9,
   "metadata": {
    "vscode": {
     "languageId": "r"
    }
   },
   "outputs": [
    {
     "data": {
      "text/plain": [
       "MSn data (Spectra) with 1 spectra in a MsBackendMemory backend:\n",
       "    msLevel     rtime scanIndex\n",
       "  <integer> <numeric> <integer>\n",
       "1         2   629.064      1904\n",
       " ... 34 more variables/columns.\n",
       "Processing:\n",
       " Filter: select MS level(s) 2 [Tue Oct  3 14:57:50 2023]\n",
       " Filter: select retention time [625.223..645.223] on MS level(s) 2 [Tue Oct  3 14:57:50 2023]\n",
       " Filter: select spectra with a precursor m/z within [274.1613198, 274.1813198] [Tue Oct  3 14:57:50 2023]\n",
       " ...2 more processings. Use 'processingLog' to list all. "
      ]
     },
     "metadata": {},
     "output_type": "display_data"
    }
   ],
   "source": [
    "ms2list2[[1]]"
   ]
  },
  {
   "cell_type": "code",
   "execution_count": 21,
   "metadata": {
    "vscode": {
     "languageId": "r"
    }
   },
   "outputs": [
    {
     "data": {
      "text/html": [
       "<table class=\"dataframe\">\n",
       "<caption>A matrix: 10 × 2 of type dbl</caption>\n",
       "<thead>\n",
       "\t<tr><th scope=col>mz</th><th scope=col>intensity</th></tr>\n",
       "</thead>\n",
       "<tbody>\n",
       "\t<tr><td> 68.04813</td><td> 11.504181</td></tr>\n",
       "\t<tr><td> 84.04280</td><td> 32.712071</td></tr>\n",
       "\t<tr><td> 90.05328</td><td> 58.598912</td></tr>\n",
       "\t<tr><td>113.06882</td><td>  7.060570</td></tr>\n",
       "\t<tr><td>114.05277</td><td> 50.791460</td></tr>\n",
       "\t<tr><td>130.04750</td><td> 42.456368</td></tr>\n",
       "\t<tr><td>132.07430</td><td>100.000000</td></tr>\n",
       "\t<tr><td>133.07675</td><td>  5.914092</td></tr>\n",
       "\t<tr><td>142.04701</td><td> 26.364791</td></tr>\n",
       "\t<tr><td>142.11981</td><td>  9.098141</td></tr>\n",
       "</tbody>\n",
       "</table>\n"
      ],
      "text/latex": [
       "A matrix: 10 × 2 of type dbl\n",
       "\\begin{tabular}{ll}\n",
       " mz & intensity\\\\\n",
       "\\hline\n",
       "\t  68.04813 &  11.504181\\\\\n",
       "\t  84.04280 &  32.712071\\\\\n",
       "\t  90.05328 &  58.598912\\\\\n",
       "\t 113.06882 &   7.060570\\\\\n",
       "\t 114.05277 &  50.791460\\\\\n",
       "\t 130.04750 &  42.456368\\\\\n",
       "\t 132.07430 & 100.000000\\\\\n",
       "\t 133.07675 &   5.914092\\\\\n",
       "\t 142.04701 &  26.364791\\\\\n",
       "\t 142.11981 &   9.098141\\\\\n",
       "\\end{tabular}\n"
      ],
      "text/markdown": [
       "\n",
       "A matrix: 10 × 2 of type dbl\n",
       "\n",
       "| mz | intensity |\n",
       "|---|---|\n",
       "|  68.04813 |  11.504181 |\n",
       "|  84.04280 |  32.712071 |\n",
       "|  90.05328 |  58.598912 |\n",
       "| 113.06882 |   7.060570 |\n",
       "| 114.05277 |  50.791460 |\n",
       "| 130.04750 |  42.456368 |\n",
       "| 132.07430 | 100.000000 |\n",
       "| 133.07675 |   5.914092 |\n",
       "| 142.04701 |  26.364791 |\n",
       "| 142.11981 |   9.098141 |\n",
       "\n"
      ],
      "text/plain": [
       "      mz        intensity \n",
       " [1,]  68.04813  11.504181\n",
       " [2,]  84.04280  32.712071\n",
       " [3,]  90.05328  58.598912\n",
       " [4,] 113.06882   7.060570\n",
       " [5,] 114.05277  50.791460\n",
       " [6,] 130.04750  42.456368\n",
       " [7,] 132.07430 100.000000\n",
       " [8,] 133.07675   5.914092\n",
       " [9,] 142.04701  26.364791\n",
       "[10,] 142.11981   9.098141"
      ]
     },
     "metadata": {},
     "output_type": "display_data"
    }
   ],
   "source": [
    "# get mz list\n",
    "sps_f1 <- ms2list2[[1]]\n",
    "peaksData(sps_f1)[[1L]]"
   ]
  },
  {
   "cell_type": "code",
   "execution_count": 14,
   "metadata": {
    "vscode": {
     "languageId": "r"
    }
   },
   "outputs": [
    {
     "data": {
      "text/html": [
       "274.171081542969"
      ],
      "text/latex": [
       "274.171081542969"
      ],
      "text/markdown": [
       "274.171081542969"
      ],
      "text/plain": [
       "[1] 274.1711"
      ]
     },
     "metadata": {},
     "output_type": "display_data"
    }
   ],
   "source": [
    "ms2list2[[1]]$precursorMz"
   ]
  },
  {
   "cell_type": "code",
   "execution_count": 10,
   "metadata": {
    "vscode": {
     "languageId": "r"
    }
   },
   "outputs": [
    {
     "data": {
      "text/html": [
       "161"
      ],
      "text/latex": [
       "161"
      ],
      "text/markdown": [
       "161"
      ],
      "text/plain": [
       "[1] 161"
      ]
     },
     "metadata": {},
     "output_type": "display_data"
    }
   ],
   "source": [
    "length(ms2list2)"
   ]
  },
  {
   "cell_type": "code",
   "execution_count": 11,
   "metadata": {
    "vscode": {
     "languageId": "r"
    }
   },
   "outputs": [],
   "source": [
    "# creat a dataframe from ms2list including Feature_ID, precursorMz, rt\n",
    "# fill the columns with values from ms2list\n",
    "ms2_df <- data.frame(matrix(ncol = 3, nrow = length(ms2list2)))\n",
    "#create conf_full variable\n",
    "colnames(ms2_df) <- c(\"Feature_ID\", \"mz\", \"rtime\")\n",
    "for (i in 1:length(ms2list2)){\n",
    "    ms2_df[i, \"Feature_ID\"] <- ms2list2[[i]]$Feature_ID[1]\n",
    "    ms2_df[i, \"mz\"] <- ms2list2[[i]]$precursorMz[1]\n",
    "    ms2_df[i, \"rtime\"] <- ms2list2[[i]]$rtime[1]\n",
    "}\n"
   ]
  },
  {
   "cell_type": "code",
   "execution_count": 12,
   "metadata": {
    "vscode": {
     "languageId": "r"
    }
   },
   "outputs": [
    {
     "data": {
      "text/html": [
       "<table class=\"dataframe\">\n",
       "<caption>A data.frame: 161 × 3</caption>\n",
       "<thead>\n",
       "\t<tr><th scope=col>Feature_ID</th><th scope=col>mz</th><th scope=col>rtime</th></tr>\n",
       "\t<tr><th scope=col>&lt;chr&gt;</th><th scope=col>&lt;dbl&gt;</th><th scope=col>&lt;dbl&gt;</th></tr>\n",
       "</thead>\n",
       "<tbody>\n",
       "\t<tr><td>M274T635  </td><td>274.1711</td><td> 629.064</td></tr>\n",
       "\t<tr><td>M242T649  </td><td>242.1705</td><td> 643.448</td></tr>\n",
       "\t<tr><td>M109T758  </td><td>109.0993</td><td> 758.123</td></tr>\n",
       "\t<tr><td>M255T859  </td><td>255.1525</td><td> 856.303</td></tr>\n",
       "\t<tr><td>M253T863  </td><td>253.1363</td><td> 859.489</td></tr>\n",
       "\t<tr><td>M348T884  </td><td>348.2678</td><td> 876.736</td></tr>\n",
       "\t<tr><td>M351T930  </td><td>351.2084</td><td> 925.783</td></tr>\n",
       "\t<tr><td>M311T981  </td><td>311.2157</td><td> 978.225</td></tr>\n",
       "\t<tr><td>M333T982  </td><td>333.1975</td><td> 975.320</td></tr>\n",
       "\t<tr><td>M594T1041 </td><td>594.3649</td><td>1043.479</td></tr>\n",
       "\t<tr><td>M148T598  </td><td>148.0364</td><td> 594.927</td></tr>\n",
       "\t<tr><td>M566T836  </td><td>566.2971</td><td> 833.203</td></tr>\n",
       "\t<tr><td>M311T964  </td><td>311.2151</td><td> 961.375</td></tr>\n",
       "\t<tr><td>M333T477  </td><td>333.1378</td><td> 475.119</td></tr>\n",
       "\t<tr><td>M216T535  </td><td>216.1556</td><td> 535.810</td></tr>\n",
       "\t<tr><td>M398T584  </td><td>398.1861</td><td> 585.819</td></tr>\n",
       "\t<tr><td>M250T591  </td><td>250.1391</td><td> 592.499</td></tr>\n",
       "\t<tr><td>M202T633  </td><td>202.1396</td><td> 634.814</td></tr>\n",
       "\t<tr><td>M273T634  </td><td>273.1756</td><td> 633.366</td></tr>\n",
       "\t<tr><td>M412T655  </td><td>412.2007</td><td> 658.401</td></tr>\n",
       "\t<tr><td>M220T677  </td><td>220.0925</td><td> 679.633</td></tr>\n",
       "\t<tr><td>M244T711  </td><td>244.1860</td><td> 714.816</td></tr>\n",
       "\t<tr><td>M375T720  </td><td>375.1839</td><td> 721.067</td></tr>\n",
       "\t<tr><td>M204T734_1</td><td>204.1009</td><td> 737.189</td></tr>\n",
       "\t<tr><td>M570T799  </td><td>570.3286</td><td> 805.880</td></tr>\n",
       "\t<tr><td>M305T813  </td><td>304.6414</td><td> 816.886</td></tr>\n",
       "\t<tr><td>M195T837  </td><td>195.0956</td><td> 840.366</td></tr>\n",
       "\t<tr><td>M552T896  </td><td>552.3184</td><td> 886.845</td></tr>\n",
       "\t<tr><td>M305T907  </td><td>304.6218</td><td> 913.423</td></tr>\n",
       "\t<tr><td>M574T908  </td><td>574.2997</td><td> 900.877</td></tr>\n",
       "\t<tr><td>⋮</td><td>⋮</td><td>⋮</td></tr>\n",
       "\t<tr><td>M221T384   </td><td>221.0875</td><td> 393.571</td></tr>\n",
       "\t<tr><td>M258T392   </td><td>258.1144</td><td> 400.826</td></tr>\n",
       "\t<tr><td>M272T414   </td><td>272.1295</td><td> 420.989</td></tr>\n",
       "\t<tr><td>M202T428   </td><td>202.1396</td><td> 438.133</td></tr>\n",
       "\t<tr><td>M272T517   </td><td>272.1298</td><td> 512.331</td></tr>\n",
       "\t<tr><td>M594T849   </td><td>594.3269</td><td> 857.093</td></tr>\n",
       "\t<tr><td>M284T390   </td><td>284.0935</td><td> 385.175</td></tr>\n",
       "\t<tr><td>M474T721   </td><td>474.2767</td><td> 719.326</td></tr>\n",
       "\t<tr><td>M137T251   </td><td>137.0431</td><td> 247.759</td></tr>\n",
       "\t<tr><td>M568T1029_2</td><td>568.3277</td><td>1030.897</td></tr>\n",
       "\t<tr><td>M502T1032  </td><td>502.2831</td><td>1040.637</td></tr>\n",
       "\t<tr><td>M600T929   </td><td>600.3173</td><td> 931.930</td></tr>\n",
       "\t<tr><td>M409T512   </td><td>409.1793</td><td> 507.798</td></tr>\n",
       "\t<tr><td>M146T512_1 </td><td>146.0573</td><td> 506.809</td></tr>\n",
       "\t<tr><td>M132T513   </td><td>132.0782</td><td> 510.647</td></tr>\n",
       "\t<tr><td>M318T579   </td><td>318.1612</td><td> 577.378</td></tr>\n",
       "\t<tr><td>M420T624_1 </td><td>419.7200</td><td> 620.015</td></tr>\n",
       "\t<tr><td>M531T766_1 </td><td>530.8182</td><td> 760.669</td></tr>\n",
       "\t<tr><td>M239T1003  </td><td>239.1596</td><td>1002.725</td></tr>\n",
       "\t<tr><td>M550T1073  </td><td>550.3755</td><td>1070.743</td></tr>\n",
       "\t<tr><td>M137T550   </td><td>137.0547</td><td> 559.792</td></tr>\n",
       "\t<tr><td>M352T866   </td><td>352.2386</td><td> 856.185</td></tr>\n",
       "\t<tr><td>M279T427   </td><td>279.0948</td><td> 433.953</td></tr>\n",
       "\t<tr><td>M188T512_1 </td><td>188.0669</td><td> 520.774</td></tr>\n",
       "\t<tr><td>M205T512_1 </td><td>205.0930</td><td> 520.496</td></tr>\n",
       "\t<tr><td>M356T957   </td><td>356.3448</td><td> 964.436</td></tr>\n",
       "\t<tr><td>M544T1028  </td><td>544.3287</td><td>1027.585</td></tr>\n",
       "\t<tr><td>M319T484   </td><td>319.1298</td><td> 491.525</td></tr>\n",
       "\t<tr><td>M155T743   </td><td>155.1035</td><td> 735.213</td></tr>\n",
       "\t<tr><td>M225T806   </td><td>225.1054</td><td> 804.047</td></tr>\n",
       "</tbody>\n",
       "</table>\n"
      ],
      "text/latex": [
       "A data.frame: 161 × 3\n",
       "\\begin{tabular}{lll}\n",
       " Feature\\_ID & mz & rtime\\\\\n",
       " <chr> & <dbl> & <dbl>\\\\\n",
       "\\hline\n",
       "\t M274T635   & 274.1711 &  629.064\\\\\n",
       "\t M242T649   & 242.1705 &  643.448\\\\\n",
       "\t M109T758   & 109.0993 &  758.123\\\\\n",
       "\t M255T859   & 255.1525 &  856.303\\\\\n",
       "\t M253T863   & 253.1363 &  859.489\\\\\n",
       "\t M348T884   & 348.2678 &  876.736\\\\\n",
       "\t M351T930   & 351.2084 &  925.783\\\\\n",
       "\t M311T981   & 311.2157 &  978.225\\\\\n",
       "\t M333T982   & 333.1975 &  975.320\\\\\n",
       "\t M594T1041  & 594.3649 & 1043.479\\\\\n",
       "\t M148T598   & 148.0364 &  594.927\\\\\n",
       "\t M566T836   & 566.2971 &  833.203\\\\\n",
       "\t M311T964   & 311.2151 &  961.375\\\\\n",
       "\t M333T477   & 333.1378 &  475.119\\\\\n",
       "\t M216T535   & 216.1556 &  535.810\\\\\n",
       "\t M398T584   & 398.1861 &  585.819\\\\\n",
       "\t M250T591   & 250.1391 &  592.499\\\\\n",
       "\t M202T633   & 202.1396 &  634.814\\\\\n",
       "\t M273T634   & 273.1756 &  633.366\\\\\n",
       "\t M412T655   & 412.2007 &  658.401\\\\\n",
       "\t M220T677   & 220.0925 &  679.633\\\\\n",
       "\t M244T711   & 244.1860 &  714.816\\\\\n",
       "\t M375T720   & 375.1839 &  721.067\\\\\n",
       "\t M204T734\\_1 & 204.1009 &  737.189\\\\\n",
       "\t M570T799   & 570.3286 &  805.880\\\\\n",
       "\t M305T813   & 304.6414 &  816.886\\\\\n",
       "\t M195T837   & 195.0956 &  840.366\\\\\n",
       "\t M552T896   & 552.3184 &  886.845\\\\\n",
       "\t M305T907   & 304.6218 &  913.423\\\\\n",
       "\t M574T908   & 574.2997 &  900.877\\\\\n",
       "\t ⋮ & ⋮ & ⋮\\\\\n",
       "\t M221T384    & 221.0875 &  393.571\\\\\n",
       "\t M258T392    & 258.1144 &  400.826\\\\\n",
       "\t M272T414    & 272.1295 &  420.989\\\\\n",
       "\t M202T428    & 202.1396 &  438.133\\\\\n",
       "\t M272T517    & 272.1298 &  512.331\\\\\n",
       "\t M594T849    & 594.3269 &  857.093\\\\\n",
       "\t M284T390    & 284.0935 &  385.175\\\\\n",
       "\t M474T721    & 474.2767 &  719.326\\\\\n",
       "\t M137T251    & 137.0431 &  247.759\\\\\n",
       "\t M568T1029\\_2 & 568.3277 & 1030.897\\\\\n",
       "\t M502T1032   & 502.2831 & 1040.637\\\\\n",
       "\t M600T929    & 600.3173 &  931.930\\\\\n",
       "\t M409T512    & 409.1793 &  507.798\\\\\n",
       "\t M146T512\\_1  & 146.0573 &  506.809\\\\\n",
       "\t M132T513    & 132.0782 &  510.647\\\\\n",
       "\t M318T579    & 318.1612 &  577.378\\\\\n",
       "\t M420T624\\_1  & 419.7200 &  620.015\\\\\n",
       "\t M531T766\\_1  & 530.8182 &  760.669\\\\\n",
       "\t M239T1003   & 239.1596 & 1002.725\\\\\n",
       "\t M550T1073   & 550.3755 & 1070.743\\\\\n",
       "\t M137T550    & 137.0547 &  559.792\\\\\n",
       "\t M352T866    & 352.2386 &  856.185\\\\\n",
       "\t M279T427    & 279.0948 &  433.953\\\\\n",
       "\t M188T512\\_1  & 188.0669 &  520.774\\\\\n",
       "\t M205T512\\_1  & 205.0930 &  520.496\\\\\n",
       "\t M356T957    & 356.3448 &  964.436\\\\\n",
       "\t M544T1028   & 544.3287 & 1027.585\\\\\n",
       "\t M319T484    & 319.1298 &  491.525\\\\\n",
       "\t M155T743    & 155.1035 &  735.213\\\\\n",
       "\t M225T806    & 225.1054 &  804.047\\\\\n",
       "\\end{tabular}\n"
      ],
      "text/markdown": [
       "\n",
       "A data.frame: 161 × 3\n",
       "\n",
       "| Feature_ID &lt;chr&gt; | mz &lt;dbl&gt; | rtime &lt;dbl&gt; |\n",
       "|---|---|---|\n",
       "| M274T635   | 274.1711 |  629.064 |\n",
       "| M242T649   | 242.1705 |  643.448 |\n",
       "| M109T758   | 109.0993 |  758.123 |\n",
       "| M255T859   | 255.1525 |  856.303 |\n",
       "| M253T863   | 253.1363 |  859.489 |\n",
       "| M348T884   | 348.2678 |  876.736 |\n",
       "| M351T930   | 351.2084 |  925.783 |\n",
       "| M311T981   | 311.2157 |  978.225 |\n",
       "| M333T982   | 333.1975 |  975.320 |\n",
       "| M594T1041  | 594.3649 | 1043.479 |\n",
       "| M148T598   | 148.0364 |  594.927 |\n",
       "| M566T836   | 566.2971 |  833.203 |\n",
       "| M311T964   | 311.2151 |  961.375 |\n",
       "| M333T477   | 333.1378 |  475.119 |\n",
       "| M216T535   | 216.1556 |  535.810 |\n",
       "| M398T584   | 398.1861 |  585.819 |\n",
       "| M250T591   | 250.1391 |  592.499 |\n",
       "| M202T633   | 202.1396 |  634.814 |\n",
       "| M273T634   | 273.1756 |  633.366 |\n",
       "| M412T655   | 412.2007 |  658.401 |\n",
       "| M220T677   | 220.0925 |  679.633 |\n",
       "| M244T711   | 244.1860 |  714.816 |\n",
       "| M375T720   | 375.1839 |  721.067 |\n",
       "| M204T734_1 | 204.1009 |  737.189 |\n",
       "| M570T799   | 570.3286 |  805.880 |\n",
       "| M305T813   | 304.6414 |  816.886 |\n",
       "| M195T837   | 195.0956 |  840.366 |\n",
       "| M552T896   | 552.3184 |  886.845 |\n",
       "| M305T907   | 304.6218 |  913.423 |\n",
       "| M574T908   | 574.2997 |  900.877 |\n",
       "| ⋮ | ⋮ | ⋮ |\n",
       "| M221T384    | 221.0875 |  393.571 |\n",
       "| M258T392    | 258.1144 |  400.826 |\n",
       "| M272T414    | 272.1295 |  420.989 |\n",
       "| M202T428    | 202.1396 |  438.133 |\n",
       "| M272T517    | 272.1298 |  512.331 |\n",
       "| M594T849    | 594.3269 |  857.093 |\n",
       "| M284T390    | 284.0935 |  385.175 |\n",
       "| M474T721    | 474.2767 |  719.326 |\n",
       "| M137T251    | 137.0431 |  247.759 |\n",
       "| M568T1029_2 | 568.3277 | 1030.897 |\n",
       "| M502T1032   | 502.2831 | 1040.637 |\n",
       "| M600T929    | 600.3173 |  931.930 |\n",
       "| M409T512    | 409.1793 |  507.798 |\n",
       "| M146T512_1  | 146.0573 |  506.809 |\n",
       "| M132T513    | 132.0782 |  510.647 |\n",
       "| M318T579    | 318.1612 |  577.378 |\n",
       "| M420T624_1  | 419.7200 |  620.015 |\n",
       "| M531T766_1  | 530.8182 |  760.669 |\n",
       "| M239T1003   | 239.1596 | 1002.725 |\n",
       "| M550T1073   | 550.3755 | 1070.743 |\n",
       "| M137T550    | 137.0547 |  559.792 |\n",
       "| M352T866    | 352.2386 |  856.185 |\n",
       "| M279T427    | 279.0948 |  433.953 |\n",
       "| M188T512_1  | 188.0669 |  520.774 |\n",
       "| M205T512_1  | 205.0930 |  520.496 |\n",
       "| M356T957    | 356.3448 |  964.436 |\n",
       "| M544T1028   | 544.3287 | 1027.585 |\n",
       "| M319T484    | 319.1298 |  491.525 |\n",
       "| M155T743    | 155.1035 |  735.213 |\n",
       "| M225T806    | 225.1054 |  804.047 |\n",
       "\n"
      ],
      "text/plain": [
       "    Feature_ID  mz       rtime   \n",
       "1   M274T635    274.1711  629.064\n",
       "2   M242T649    242.1705  643.448\n",
       "3   M109T758    109.0993  758.123\n",
       "4   M255T859    255.1525  856.303\n",
       "5   M253T863    253.1363  859.489\n",
       "6   M348T884    348.2678  876.736\n",
       "7   M351T930    351.2084  925.783\n",
       "8   M311T981    311.2157  978.225\n",
       "9   M333T982    333.1975  975.320\n",
       "10  M594T1041   594.3649 1043.479\n",
       "11  M148T598    148.0364  594.927\n",
       "12  M566T836    566.2971  833.203\n",
       "13  M311T964    311.2151  961.375\n",
       "14  M333T477    333.1378  475.119\n",
       "15  M216T535    216.1556  535.810\n",
       "16  M398T584    398.1861  585.819\n",
       "17  M250T591    250.1391  592.499\n",
       "18  M202T633    202.1396  634.814\n",
       "19  M273T634    273.1756  633.366\n",
       "20  M412T655    412.2007  658.401\n",
       "21  M220T677    220.0925  679.633\n",
       "22  M244T711    244.1860  714.816\n",
       "23  M375T720    375.1839  721.067\n",
       "24  M204T734_1  204.1009  737.189\n",
       "25  M570T799    570.3286  805.880\n",
       "26  M305T813    304.6414  816.886\n",
       "27  M195T837    195.0956  840.366\n",
       "28  M552T896    552.3184  886.845\n",
       "29  M305T907    304.6218  913.423\n",
       "30  M574T908    574.2997  900.877\n",
       "⋮   ⋮           ⋮        ⋮       \n",
       "132 M221T384    221.0875  393.571\n",
       "133 M258T392    258.1144  400.826\n",
       "134 M272T414    272.1295  420.989\n",
       "135 M202T428    202.1396  438.133\n",
       "136 M272T517    272.1298  512.331\n",
       "137 M594T849    594.3269  857.093\n",
       "138 M284T390    284.0935  385.175\n",
       "139 M474T721    474.2767  719.326\n",
       "140 M137T251    137.0431  247.759\n",
       "141 M568T1029_2 568.3277 1030.897\n",
       "142 M502T1032   502.2831 1040.637\n",
       "143 M600T929    600.3173  931.930\n",
       "144 M409T512    409.1793  507.798\n",
       "145 M146T512_1  146.0573  506.809\n",
       "146 M132T513    132.0782  510.647\n",
       "147 M318T579    318.1612  577.378\n",
       "148 M420T624_1  419.7200  620.015\n",
       "149 M531T766_1  530.8182  760.669\n",
       "150 M239T1003   239.1596 1002.725\n",
       "151 M550T1073   550.3755 1070.743\n",
       "152 M137T550    137.0547  559.792\n",
       "153 M352T866    352.2386  856.185\n",
       "154 M279T427    279.0948  433.953\n",
       "155 M188T512_1  188.0669  520.774\n",
       "156 M205T512_1  205.0930  520.496\n",
       "157 M356T957    356.3448  964.436\n",
       "158 M544T1028   544.3287 1027.585\n",
       "159 M319T484    319.1298  491.525\n",
       "160 M155T743    155.1035  735.213\n",
       "161 M225T806    225.1054  804.047"
      ]
     },
     "metadata": {},
     "output_type": "display_data"
    }
   ],
   "source": [
    "ms2_df"
   ]
  },
  {
   "cell_type": "code",
   "execution_count": 13,
   "metadata": {
    "vscode": {
     "languageId": "r"
    }
   },
   "outputs": [],
   "source": [
    "# save the dataframe as csv file\n",
    "write.csv(ms2_df, \"important_feature_hasMS2.csv\", row.names = FALSE)"
   ]
  },
  {
   "cell_type": "code",
   "execution_count": 14,
   "metadata": {
    "vscode": {
     "languageId": "r"
    }
   },
   "outputs": [
    {
     "name": "stderr",
     "output_type": "stream",
     "text": [
      "Loading required package: AnnotationFilter\n",
      "\n"
     ]
    }
   ],
   "source": [
    "library(CompoundDb)\n",
    "library(MetaboAnnotation)"
   ]
  },
  {
   "cell_type": "code",
   "execution_count": 15,
   "metadata": {
    "vscode": {
     "languageId": "r"
    }
   },
   "outputs": [
    {
     "data": {
      "text/plain": [
       "MSn data (Spectra) with 79 spectra in a MsBackendCompDb backend:\n",
       "      msLevel precursorMz  polarity\n",
       "    <integer>   <numeric> <integer>\n",
       "1           2     89.1072         1\n",
       "2           2    282.1202         1\n",
       "3           2    104.0707         1\n",
       "4           2    252.1099         1\n",
       "5           2    228.0977         1\n",
       "...       ...         ...       ...\n",
       "75          2    161.1073         1\n",
       "76          2    187.1694         1\n",
       "77          2     61.0394         1\n",
       "78          2    153.0405         1\n",
       "79          2    285.0832         1\n",
       " ... 34 more variables/columns.\n",
       " Use  'spectraVariables' to list all of them.\n",
       " data source: All_Library_07092023 \n",
       " version: 1.0 \n",
       " organism: NA \n",
       "Lazy evaluation queue: 2 processing step(s)\n",
       "Processing:\n",
       " Remove peaks based on their intensities and a user-provided function in spectra of MS level(s) 2. [Tue Oct  3 16:43:28 2023] "
      ]
     },
     "metadata": {},
     "output_type": "display_data"
    }
   ],
   "source": [
    "cdb <- CompDb(\"All_Library_07092023.sqlite\")\n",
    "myLib <- Spectra(cdb)\n",
    "myLib <- addProcessing(myLib,norm_int)\n",
    "myLib <- filterIntensity(myLib, intensity = low_int)\n",
    "myLib"
   ]
  },
  {
   "cell_type": "code",
   "execution_count": 16,
   "metadata": {
    "vscode": {
     "languageId": "r"
    }
   },
   "outputs": [],
   "source": [
    "prm_mylib <- CompareSpectraParam(ppm = 10, requirePrecursor = TRUE, THRESHFUN = function(x) which(x >= 0.6))"
   ]
  },
  {
   "cell_type": "code",
   "execution_count": 19,
   "metadata": {
    "vscode": {
     "languageId": "r"
    }
   },
   "outputs": [],
   "source": [
    "match_feature <- function(sample_sps, MS2DB){\n",
    "    # match the spectra\n",
    "    mz <- sample_sps$precursorMz\n",
    "    #has_mz <- containsMz(MS2DB, mz = mz, tolerance = 0.2)\n",
    "    #MS2DB_sub <- MS2DB[has_mz]\n",
    "    results <- compareSpectra(MS2DB,sample_sps, parm = prm_mylib)\n",
    "    best_match <- which(results == max(results), arr.ind = TRUE)\n",
    "    #return(list(lib = MS2DB_sub, sample = sample_sps,results=results,best_match=best_match))\n",
    "    return(list(sample = sample_sps,results=results,best_match=best_match))\n",
    "}"
   ]
  },
  {
   "cell_type": "code",
   "execution_count": 20,
   "metadata": {
    "vscode": {
     "languageId": "r"
    }
   },
   "outputs": [
    {
     "name": "stderr",
     "output_type": "stream",
     "text": [
      "'MsBackendCompDb' does not support parallel processing. Switching to serial processing.\n",
      "\n"
     ]
    },
    {
     "name": "stderr",
     "output_type": "stream",
     "text": [
      "'MsBackendCompDb' does not support parallel processing. Switching to serial processing.\n",
      "\n",
      "'MsBackendCompDb' does not support parallel processing. Switching to serial processing.\n",
      "\n",
      "'MsBackendCompDb' does not support parallel processing. Switching to serial processing.\n",
      "\n",
      "'MsBackendCompDb' does not support parallel processing. Switching to serial processing.\n",
      "\n",
      "'MsBackendCompDb' does not support parallel processing. Switching to serial processing.\n",
      "\n",
      "'MsBackendCompDb' does not support parallel processing. Switching to serial processing.\n",
      "\n",
      "'MsBackendCompDb' does not support parallel processing. Switching to serial processing.\n",
      "\n",
      "'MsBackendCompDb' does not support parallel processing. Switching to serial processing.\n",
      "\n",
      "'MsBackendCompDb' does not support parallel processing. Switching to serial processing.\n",
      "\n",
      "'MsBackendCompDb' does not support parallel processing. Switching to serial processing.\n",
      "\n",
      "'MsBackendCompDb' does not support parallel processing. Switching to serial processing.\n",
      "\n",
      "'MsBackendCompDb' does not support parallel processing. Switching to serial processing.\n",
      "\n",
      "'MsBackendCompDb' does not support parallel processing. Switching to serial processing.\n",
      "\n",
      "'MsBackendCompDb' does not support parallel processing. Switching to serial processing.\n",
      "\n",
      "'MsBackendCompDb' does not support parallel processing. Switching to serial processing.\n",
      "\n",
      "'MsBackendCompDb' does not support parallel processing. Switching to serial processing.\n",
      "\n",
      "'MsBackendCompDb' does not support parallel processing. Switching to serial processing.\n",
      "\n",
      "'MsBackendCompDb' does not support parallel processing. Switching to serial processing.\n",
      "\n",
      "'MsBackendCompDb' does not support parallel processing. Switching to serial processing.\n",
      "\n",
      "'MsBackendCompDb' does not support parallel processing. Switching to serial processing.\n",
      "\n",
      "'MsBackendCompDb' does not support parallel processing. Switching to serial processing.\n",
      "\n",
      "'MsBackendCompDb' does not support parallel processing. Switching to serial processing.\n",
      "\n",
      "'MsBackendCompDb' does not support parallel processing. Switching to serial processing.\n",
      "\n",
      "'MsBackendCompDb' does not support parallel processing. Switching to serial processing.\n",
      "\n",
      "'MsBackendCompDb' does not support parallel processing. Switching to serial processing.\n",
      "\n",
      "'MsBackendCompDb' does not support parallel processing. Switching to serial processing.\n",
      "\n",
      "'MsBackendCompDb' does not support parallel processing. Switching to serial processing.\n",
      "\n",
      "'MsBackendCompDb' does not support parallel processing. Switching to serial processing.\n",
      "\n",
      "'MsBackendCompDb' does not support parallel processing. Switching to serial processing.\n",
      "\n",
      "'MsBackendCompDb' does not support parallel processing. Switching to serial processing.\n",
      "\n",
      "'MsBackendCompDb' does not support parallel processing. Switching to serial processing.\n",
      "\n",
      "'MsBackendCompDb' does not support parallel processing. Switching to serial processing.\n",
      "\n",
      "'MsBackendCompDb' does not support parallel processing. Switching to serial processing.\n",
      "\n",
      "'MsBackendCompDb' does not support parallel processing. Switching to serial processing.\n",
      "\n",
      "'MsBackendCompDb' does not support parallel processing. Switching to serial processing.\n",
      "\n",
      "'MsBackendCompDb' does not support parallel processing. Switching to serial processing.\n",
      "\n",
      "'MsBackendCompDb' does not support parallel processing. Switching to serial processing.\n",
      "\n",
      "'MsBackendCompDb' does not support parallel processing. Switching to serial processing.\n",
      "\n",
      "'MsBackendCompDb' does not support parallel processing. Switching to serial processing.\n",
      "\n",
      "'MsBackendCompDb' does not support parallel processing. Switching to serial processing.\n",
      "\n",
      "'MsBackendCompDb' does not support parallel processing. Switching to serial processing.\n",
      "\n",
      "'MsBackendCompDb' does not support parallel processing. Switching to serial processing.\n",
      "\n",
      "'MsBackendCompDb' does not support parallel processing. Switching to serial processing.\n",
      "\n",
      "'MsBackendCompDb' does not support parallel processing. Switching to serial processing.\n",
      "\n",
      "'MsBackendCompDb' does not support parallel processing. Switching to serial processing.\n",
      "\n",
      "'MsBackendCompDb' does not support parallel processing. Switching to serial processing.\n",
      "\n",
      "'MsBackendCompDb' does not support parallel processing. Switching to serial processing.\n",
      "\n",
      "'MsBackendCompDb' does not support parallel processing. Switching to serial processing.\n",
      "\n",
      "'MsBackendCompDb' does not support parallel processing. Switching to serial processing.\n",
      "\n",
      "'MsBackendCompDb' does not support parallel processing. Switching to serial processing.\n",
      "\n",
      "'MsBackendCompDb' does not support parallel processing. Switching to serial processing.\n",
      "\n",
      "'MsBackendCompDb' does not support parallel processing. Switching to serial processing.\n",
      "\n",
      "'MsBackendCompDb' does not support parallel processing. Switching to serial processing.\n",
      "\n",
      "'MsBackendCompDb' does not support parallel processing. Switching to serial processing.\n",
      "\n",
      "'MsBackendCompDb' does not support parallel processing. Switching to serial processing.\n",
      "\n",
      "'MsBackendCompDb' does not support parallel processing. Switching to serial processing.\n",
      "\n",
      "'MsBackendCompDb' does not support parallel processing. Switching to serial processing.\n",
      "\n",
      "'MsBackendCompDb' does not support parallel processing. Switching to serial processing.\n",
      "\n",
      "'MsBackendCompDb' does not support parallel processing. Switching to serial processing.\n",
      "\n",
      "'MsBackendCompDb' does not support parallel processing. Switching to serial processing.\n",
      "\n",
      "'MsBackendCompDb' does not support parallel processing. Switching to serial processing.\n",
      "\n",
      "'MsBackendCompDb' does not support parallel processing. Switching to serial processing.\n",
      "\n",
      "'MsBackendCompDb' does not support parallel processing. Switching to serial processing.\n",
      "\n",
      "'MsBackendCompDb' does not support parallel processing. Switching to serial processing.\n",
      "\n",
      "'MsBackendCompDb' does not support parallel processing. Switching to serial processing.\n",
      "\n",
      "'MsBackendCompDb' does not support parallel processing. Switching to serial processing.\n",
      "\n",
      "'MsBackendCompDb' does not support parallel processing. Switching to serial processing.\n",
      "\n",
      "'MsBackendCompDb' does not support parallel processing. Switching to serial processing.\n",
      "\n",
      "'MsBackendCompDb' does not support parallel processing. Switching to serial processing.\n",
      "\n",
      "'MsBackendCompDb' does not support parallel processing. Switching to serial processing.\n",
      "\n",
      "'MsBackendCompDb' does not support parallel processing. Switching to serial processing.\n",
      "\n",
      "'MsBackendCompDb' does not support parallel processing. Switching to serial processing.\n",
      "\n",
      "'MsBackendCompDb' does not support parallel processing. Switching to serial processing.\n",
      "\n",
      "'MsBackendCompDb' does not support parallel processing. Switching to serial processing.\n",
      "\n",
      "'MsBackendCompDb' does not support parallel processing. Switching to serial processing.\n",
      "\n",
      "'MsBackendCompDb' does not support parallel processing. Switching to serial processing.\n",
      "\n",
      "'MsBackendCompDb' does not support parallel processing. Switching to serial processing.\n",
      "\n",
      "'MsBackendCompDb' does not support parallel processing. Switching to serial processing.\n",
      "\n",
      "'MsBackendCompDb' does not support parallel processing. Switching to serial processing.\n",
      "\n",
      "'MsBackendCompDb' does not support parallel processing. Switching to serial processing.\n",
      "\n",
      "'MsBackendCompDb' does not support parallel processing. Switching to serial processing.\n",
      "\n",
      "'MsBackendCompDb' does not support parallel processing. Switching to serial processing.\n",
      "\n",
      "'MsBackendCompDb' does not support parallel processing. Switching to serial processing.\n",
      "\n",
      "'MsBackendCompDb' does not support parallel processing. Switching to serial processing.\n",
      "\n",
      "'MsBackendCompDb' does not support parallel processing. Switching to serial processing.\n",
      "\n",
      "'MsBackendCompDb' does not support parallel processing. Switching to serial processing.\n",
      "\n",
      "'MsBackendCompDb' does not support parallel processing. Switching to serial processing.\n",
      "\n",
      "'MsBackendCompDb' does not support parallel processing. Switching to serial processing.\n",
      "\n",
      "'MsBackendCompDb' does not support parallel processing. Switching to serial processing.\n",
      "\n",
      "'MsBackendCompDb' does not support parallel processing. Switching to serial processing.\n",
      "\n",
      "'MsBackendCompDb' does not support parallel processing. Switching to serial processing.\n",
      "\n",
      "'MsBackendCompDb' does not support parallel processing. Switching to serial processing.\n",
      "\n",
      "'MsBackendCompDb' does not support parallel processing. Switching to serial processing.\n",
      "\n",
      "'MsBackendCompDb' does not support parallel processing. Switching to serial processing.\n",
      "\n",
      "'MsBackendCompDb' does not support parallel processing. Switching to serial processing.\n",
      "\n",
      "'MsBackendCompDb' does not support parallel processing. Switching to serial processing.\n",
      "\n",
      "'MsBackendCompDb' does not support parallel processing. Switching to serial processing.\n",
      "\n",
      "'MsBackendCompDb' does not support parallel processing. Switching to serial processing.\n",
      "\n",
      "'MsBackendCompDb' does not support parallel processing. Switching to serial processing.\n",
      "\n",
      "'MsBackendCompDb' does not support parallel processing. Switching to serial processing.\n",
      "\n",
      "'MsBackendCompDb' does not support parallel processing. Switching to serial processing.\n",
      "\n",
      "'MsBackendCompDb' does not support parallel processing. Switching to serial processing.\n",
      "\n",
      "'MsBackendCompDb' does not support parallel processing. Switching to serial processing.\n",
      "\n",
      "'MsBackendCompDb' does not support parallel processing. Switching to serial processing.\n",
      "\n",
      "'MsBackendCompDb' does not support parallel processing. Switching to serial processing.\n",
      "\n",
      "'MsBackendCompDb' does not support parallel processing. Switching to serial processing.\n",
      "\n",
      "'MsBackendCompDb' does not support parallel processing. Switching to serial processing.\n",
      "\n",
      "'MsBackendCompDb' does not support parallel processing. Switching to serial processing.\n",
      "\n",
      "'MsBackendCompDb' does not support parallel processing. Switching to serial processing.\n",
      "\n",
      "'MsBackendCompDb' does not support parallel processing. Switching to serial processing.\n",
      "\n",
      "'MsBackendCompDb' does not support parallel processing. Switching to serial processing.\n",
      "\n",
      "'MsBackendCompDb' does not support parallel processing. Switching to serial processing.\n",
      "\n",
      "'MsBackendCompDb' does not support parallel processing. Switching to serial processing.\n",
      "\n",
      "'MsBackendCompDb' does not support parallel processing. Switching to serial processing.\n",
      "\n",
      "'MsBackendCompDb' does not support parallel processing. Switching to serial processing.\n",
      "\n",
      "'MsBackendCompDb' does not support parallel processing. Switching to serial processing.\n",
      "\n",
      "'MsBackendCompDb' does not support parallel processing. Switching to serial processing.\n",
      "\n",
      "'MsBackendCompDb' does not support parallel processing. Switching to serial processing.\n",
      "\n",
      "'MsBackendCompDb' does not support parallel processing. Switching to serial processing.\n",
      "\n",
      "'MsBackendCompDb' does not support parallel processing. Switching to serial processing.\n",
      "\n",
      "'MsBackendCompDb' does not support parallel processing. Switching to serial processing.\n",
      "\n",
      "'MsBackendCompDb' does not support parallel processing. Switching to serial processing.\n",
      "\n",
      "'MsBackendCompDb' does not support parallel processing. Switching to serial processing.\n",
      "\n",
      "'MsBackendCompDb' does not support parallel processing. Switching to serial processing.\n",
      "\n",
      "'MsBackendCompDb' does not support parallel processing. Switching to serial processing.\n",
      "\n",
      "'MsBackendCompDb' does not support parallel processing. Switching to serial processing.\n",
      "\n",
      "'MsBackendCompDb' does not support parallel processing. Switching to serial processing.\n",
      "\n",
      "'MsBackendCompDb' does not support parallel processing. Switching to serial processing.\n",
      "\n",
      "'MsBackendCompDb' does not support parallel processing. Switching to serial processing.\n",
      "\n",
      "'MsBackendCompDb' does not support parallel processing. Switching to serial processing.\n",
      "\n",
      "'MsBackendCompDb' does not support parallel processing. Switching to serial processing.\n",
      "\n",
      "'MsBackendCompDb' does not support parallel processing. Switching to serial processing.\n",
      "\n",
      "'MsBackendCompDb' does not support parallel processing. Switching to serial processing.\n",
      "\n",
      "'MsBackendCompDb' does not support parallel processing. Switching to serial processing.\n",
      "\n",
      "'MsBackendCompDb' does not support parallel processing. Switching to serial processing.\n",
      "\n",
      "'MsBackendCompDb' does not support parallel processing. Switching to serial processing.\n",
      "\n",
      "'MsBackendCompDb' does not support parallel processing. Switching to serial processing.\n",
      "\n",
      "'MsBackendCompDb' does not support parallel processing. Switching to serial processing.\n",
      "\n",
      "'MsBackendCompDb' does not support parallel processing. Switching to serial processing.\n",
      "\n",
      "'MsBackendCompDb' does not support parallel processing. Switching to serial processing.\n",
      "\n",
      "'MsBackendCompDb' does not support parallel processing. Switching to serial processing.\n",
      "\n",
      "'MsBackendCompDb' does not support parallel processing. Switching to serial processing.\n",
      "\n",
      "'MsBackendCompDb' does not support parallel processing. Switching to serial processing.\n",
      "\n",
      "'MsBackendCompDb' does not support parallel processing. Switching to serial processing.\n",
      "\n",
      "'MsBackendCompDb' does not support parallel processing. Switching to serial processing.\n",
      "\n",
      "'MsBackendCompDb' does not support parallel processing. Switching to serial processing.\n",
      "\n",
      "'MsBackendCompDb' does not support parallel processing. Switching to serial processing.\n",
      "\n",
      "'MsBackendCompDb' does not support parallel processing. Switching to serial processing.\n",
      "\n",
      "'MsBackendCompDb' does not support parallel processing. Switching to serial processing.\n",
      "\n",
      "'MsBackendCompDb' does not support parallel processing. Switching to serial processing.\n",
      "\n",
      "'MsBackendCompDb' does not support parallel processing. Switching to serial processing.\n",
      "\n",
      "'MsBackendCompDb' does not support parallel processing. Switching to serial processing.\n",
      "\n",
      "'MsBackendCompDb' does not support parallel processing. Switching to serial processing.\n",
      "\n",
      "'MsBackendCompDb' does not support parallel processing. Switching to serial processing.\n",
      "\n",
      "'MsBackendCompDb' does not support parallel processing. Switching to serial processing.\n",
      "\n",
      "'MsBackendCompDb' does not support parallel processing. Switching to serial processing.\n",
      "\n",
      "'MsBackendCompDb' does not support parallel processing. Switching to serial processing.\n",
      "\n",
      "'MsBackendCompDb' does not support parallel processing. Switching to serial processing.\n",
      "\n",
      "'MsBackendCompDb' does not support parallel processing. Switching to serial processing.\n",
      "\n",
      "'MsBackendCompDb' does not support parallel processing. Switching to serial processing.\n",
      "\n"
     ]
    }
   ],
   "source": [
    "all_result_mylib <-lapply(ms2list2,match_feature,myLib)"
   ]
  },
  {
   "cell_type": "code",
   "execution_count": 25,
   "metadata": {
    "vscode": {
     "languageId": "r"
    }
   },
   "outputs": [
    {
     "data": {
      "text/html": [
       "22"
      ],
      "text/latex": [
       "22"
      ],
      "text/markdown": [
       "22"
      ],
      "text/plain": [
       "[1] 22"
      ]
     },
     "metadata": {},
     "output_type": "display_data"
    }
   ],
   "source": [
    "all_result_mylib[[1]]$best_match"
   ]
  },
  {
   "cell_type": "markdown",
   "metadata": {},
   "source": [
    "### return matched spectra"
   ]
  },
  {
   "cell_type": "code",
   "execution_count": 26,
   "metadata": {
    "vscode": {
     "languageId": "r"
    }
   },
   "outputs": [],
   "source": [
    "read_match_feature <- function(all_result,MS2DB, threshold_score = 0.5){\n",
    "    results_list <- list()\n",
    "    for (i in 1:length(all_result)) {\n",
    "        #lib <- all_result[[i]]$lib\n",
    "        sample<- all_result[[i]]$sample\n",
    "        best_match <- all_result[[i]]$best_match\n",
    "        lib_sps <- MS2DB[best_match]\n",
    "        #lib_sps <- lib[best_match]\n",
    "        results <- all_result[[i]]$results\n",
    "        score <- results[best_match[1]]\n",
    "        # if score is nan, skip\n",
    "        if (isTRUE(score >= threshold_score)==TRUE){\n",
    "            results_list[[i]] <- list(\n",
    "                #\"compound_id\" = standard$compound_id,\n",
    "                \"target_compound_id\" = lib_sps$compound_id,\n",
    "                \"target_spectrum\" = lib_sps$spectrum_id,\n",
    "                #\"target_name\" = lib_sps$name,\n",
    "                \"target_collisionEnergy\" = lib_sps$collisionEnergy,\n",
    "                #\"name\" = standard$name,\n",
    "                \"score\" = score,\n",
    "                \"precursor_mz\" = sample$precursorMz,\n",
    "                \"Feature\" = sample$Feature_ID\n",
    "            )\n",
    "        }\n",
    "    }\n",
    "    results_df <- do.call(rbind,  results_list)\n",
    "    return(results_df)\n",
    "}"
   ]
  },
  {
   "cell_type": "code",
   "execution_count": 29,
   "metadata": {
    "vscode": {
     "languageId": "r"
    }
   },
   "outputs": [
    {
     "data": {
      "text/html": [
       "<table class=\"dataframe\">\n",
       "<caption>A matrix: 7 × 6</caption>\n",
       "<thead>\n",
       "\t<tr><th scope=col>target_compound_id</th><th scope=col>target_spectrum</th><th scope=col>target_collisionEnergy</th><th scope=col>score</th><th scope=col>precursor_mz</th><th scope=col>Feature</th></tr>\n",
       "\t<tr><th scope=col>&lt;chr&gt;</th><th scope=col>&lt;chr&gt;</th><th scope=col>&lt;chr&gt;</th><th scope=col>&lt;chr&gt;</th><th scope=col>&lt;chr&gt;</th><th scope=col>&lt;chr&gt;</th><th scope=col>&lt;chr&gt;</th><th scope=col>&lt;int&gt;</th><th scope=col>&lt;int&gt;</th><th scope=col>&lt;int&gt;</th><th scope=col>⋯</th><th scope=col>&lt;dbl&gt;</th><th scope=col>&lt;dbl&gt;</th><th scope=col>&lt;dbl&gt;</th><th scope=col>&lt;chr&gt;</th><th scope=col>&lt;chr&gt;</th><th scope=col>&lt;chr&gt;</th><th scope=col>&lt;chr&gt;</th><th scope=col>&lt;chr&gt;</th><th scope=col>&lt;chr&gt;</th><th scope=col>&lt;chr&gt;</th></tr>\n",
       "</thead>\n",
       "<tbody>\n",
       "\t<tr><td>MetaSci0043</td><td>43</td><td>NA</td><td>0.612696....</td><td>244.1859....</td><td>  M244T711</td></tr>\n",
       "\t<tr><td>MetaSci0078</td><td>78</td><td>NA</td><td>0.589455....</td><td>153.0377....</td><td>  M153T308</td></tr>\n",
       "\t<tr><td>MetaSci0043</td><td>43</td><td>NA</td><td>0.742098....</td><td>130.0837....</td><td>  M130T170</td></tr>\n",
       "\t<tr><td>MetaSci0041</td><td>41</td><td>NA</td><td>0.997834....</td><td>269.0826....</td><td>M269T389_1</td></tr>\n",
       "\t<tr><td>MetaSci0041</td><td>41</td><td>NA</td><td>0.850406....</td><td>537.1571....</td><td>  M537T389</td></tr>\n",
       "\t<tr><td>MetaSci0038</td><td>38</td><td>NA</td><td>0.872298....</td><td>284.0935....</td><td>  M284T390</td></tr>\n",
       "\t<tr><td>MetaSci0021</td><td>21</td><td>NA</td><td>0.658605....</td><td>319.1297....</td><td>  M319T484</td></tr>\n",
       "</tbody>\n",
       "</table>\n"
      ],
      "text/latex": [
       "A matrix: 7 × 6\n",
       "\\begin{tabular}{llllll}\n",
       " target\\_compound\\_id & target\\_spectrum & target\\_collisionEnergy & score & precursor\\_mz & Feature\\\\\n",
       " <chr> & <chr> & <chr> & <chr> & <chr> & <chr> & <chr> & <int> & <int> & <int> & ⋯ & <dbl> & <dbl> & <dbl> & <chr> & <chr> & <chr> & <chr> & <chr> & <chr> & <chr>\\\\\n",
       "\\hline\n",
       "\t MetaSci0043 & 43 & NA & 0.612696.... & 244.1859.... &   M244T711\\\\\n",
       "\t MetaSci0078 & 78 & NA & 0.589455.... & 153.0377.... &   M153T308\\\\\n",
       "\t MetaSci0043 & 43 & NA & 0.742098.... & 130.0837.... &   M130T170\\\\\n",
       "\t MetaSci0041 & 41 & NA & 0.997834.... & 269.0826.... & M269T389\\_1\\\\\n",
       "\t MetaSci0041 & 41 & NA & 0.850406.... & 537.1571.... &   M537T389\\\\\n",
       "\t MetaSci0038 & 38 & NA & 0.872298.... & 284.0935.... &   M284T390\\\\\n",
       "\t MetaSci0021 & 21 & NA & 0.658605.... & 319.1297.... &   M319T484\\\\\n",
       "\\end{tabular}\n"
      ],
      "text/markdown": [
       "\n",
       "A matrix: 7 × 6\n",
       "\n",
       "| target_compound_id &lt;chr&gt; | target_spectrum &lt;chr&gt; | target_collisionEnergy &lt;chr&gt; | score &lt;chr&gt; | precursor_mz &lt;chr&gt; | Feature &lt;chr&gt; | target_compound_id &lt;chr&gt; | target_spectrum &lt;int&gt; | target_collisionEnergy &lt;int&gt; | score &lt;int&gt; | precursor_mz ⋯ | Feature &lt;dbl&gt; | target_compound_id &lt;dbl&gt; | target_spectrum &lt;dbl&gt; | target_collisionEnergy &lt;chr&gt; | score &lt;chr&gt; | precursor_mz &lt;chr&gt; | Feature &lt;chr&gt; | target_compound_id &lt;chr&gt; | target_spectrum &lt;chr&gt; | target_collisionEnergy &lt;chr&gt; |\n",
       "|---|---|---|---|---|---|\n",
       "| MetaSci0043 | 43 | NA | 0.612696.... | 244.1859.... |   M244T711 |\n",
       "| MetaSci0078 | 78 | NA | 0.589455.... | 153.0377.... |   M153T308 |\n",
       "| MetaSci0043 | 43 | NA | 0.742098.... | 130.0837.... |   M130T170 |\n",
       "| MetaSci0041 | 41 | NA | 0.997834.... | 269.0826.... | M269T389_1 |\n",
       "| MetaSci0041 | 41 | NA | 0.850406.... | 537.1571.... |   M537T389 |\n",
       "| MetaSci0038 | 38 | NA | 0.872298.... | 284.0935.... |   M284T390 |\n",
       "| MetaSci0021 | 21 | NA | 0.658605.... | 319.1297.... |   M319T484 |\n",
       "\n"
      ],
      "text/plain": [
       "     target_compound_id target_spectrum target_collisionEnergy score       \n",
       "[1,] MetaSci0043        43              NA                     0.612696....\n",
       "[2,] MetaSci0078        78              NA                     0.589455....\n",
       "[3,] MetaSci0043        43              NA                     0.742098....\n",
       "[4,] MetaSci0041        41              NA                     0.997834....\n",
       "[5,] MetaSci0041        41              NA                     0.850406....\n",
       "[6,] MetaSci0038        38              NA                     0.872298....\n",
       "[7,] MetaSci0021        21              NA                     0.658605....\n",
       "     precursor_mz Feature   \n",
       "[1,] 244.1859....   M244T711\n",
       "[2,] 153.0377....   M153T308\n",
       "[3,] 130.0837....   M130T170\n",
       "[4,] 269.0826.... M269T389_1\n",
       "[5,] 537.1571....   M537T389\n",
       "[6,] 284.0935....   M284T390\n",
       "[7,] 319.1297....   M319T484"
      ]
     },
     "metadata": {},
     "output_type": "display_data"
    }
   ],
   "source": [
    "results_mylib <- read_match_feature(all_result_mylib,myLib, threshold_score = 0.5)\n",
    "# drop if all na in columns\n",
    "results_mylib <- results_mylib[!apply(is.na(results_mylib), 1, all), ]\n",
    "\n",
    "results_mylib"
   ]
  },
  {
   "cell_type": "code",
   "execution_count": 216,
   "metadata": {
    "vscode": {
     "languageId": "r"
    }
   },
   "outputs": [],
   "source": [
    "# save to csv\n",
    "write.csv(results_mylib, \"results_matched_mylib.csv\", row.names = FALSE)\n",
    "#write.csv(results_mbank, \"results_mergedSpc_mbank_sub.csv\", row.names = FALSE)"
   ]
  },
  {
   "cell_type": "markdown",
   "metadata": {},
   "source": [
    "# mirror plot"
   ]
  },
  {
   "cell_type": "code",
   "execution_count": 36,
   "metadata": {
    "vscode": {
     "languageId": "r"
    }
   },
   "outputs": [],
   "source": [
    "plot_match_feature <- function(all_result,MS2DB,threshold_score = 0.5){\n",
    "    for (i in 1:length(all_result)) {\n",
    "        #lib <- all_result[[i]]$lib\n",
    "        sample<- all_result[[i]]$sample\n",
    "        best_match <- all_result[[i]]$best_match\n",
    "        lib_sps <- MS2DB[best_match]\n",
    "        results <- all_result[[i]]$results\n",
    "        score <- results[best_match[1]]\n",
    "        # # normalize the intensity\n",
    "        # sample <- addProcessing(sample,norm_int)\n",
    "        # lib_sps <- addProcessing(lib_sps,norm_int)\n",
    "        # remove low intensity peaks\n",
    "        # sample <- filterIntensity(sample, intensity = low_int)\n",
    "        # lib_sps <- filterIntensity(lib_sps, intensity = low_int)\n",
    "        # if score is nan, skip\n",
    "        if (isTRUE(score >= threshold_score)==TRUE){\n",
    "            plotSpectraMirror(sample, lib_sps,\n",
    "            # labels \n",
    "            # select the peaks with intensity > 0.3\n",
    "            labels = function(z) {\n",
    "                    lbls <- format(mz(z)[[1L]], digits = 4)\n",
    "                    lbls[intensity(z)[[1L]] <= 30] <- \"\"\n",
    "                    lbls\n",
    "                    },\n",
    "            labelSrt = -30, labelPos = 2, labelOffset = 0.2, tolerance = 0.1,\n",
    "            matchCol = \"#2e65ccab\", matchLwd = 2,\n",
    "            main = paste0(sample$Feature_ID,\"vs\",lib_sps$compound_id,\"\\n\",\n",
    "            \"score:\",round(score,3)))\n",
    "            grid()\n",
    "        }\n",
    "    }\n",
    "}"
   ]
  },
  {
   "cell_type": "code",
   "execution_count": 37,
   "metadata": {
    "vscode": {
     "languageId": "r"
    }
   },
   "outputs": [
    {
     "name": "stderr",
     "output_type": "stream",
     "text": [
      "'MsBackendCompDb' does not support parallel processing. Switching to serial processing.\n",
      "\n",
      "'MsBackendCompDb' does not support parallel processing. Switching to serial processing.\n",
      "\n",
      "'MsBackendCompDb' does not support parallel processing. Switching to serial processing.\n",
      "\n",
      "'MsBackendCompDb' does not support parallel processing. Switching to serial processing.\n",
      "\n"
     ]
    },
    {
     "data": {
      "image/png": "[encoded data removed]",
      "text/plain": [
       "Plot with title \"M244T711vsMetaSci0043\n",
       "score:0.613\""
      ]
     },
     "metadata": {
      "image/png": {
       "height": 420,
       "width": 420
      }
     },
     "output_type": "display_data"
    },
    {
     "name": "stderr",
     "output_type": "stream",
     "text": [
      "'MsBackendCompDb' does not support parallel processing. Switching to serial processing.\n",
      "\n",
      "'MsBackendCompDb' does not support parallel processing. Switching to serial processing.\n",
      "\n"
     ]
    },
    {
     "data": {
      "image/png": "[encoded data removed]",
      "text/plain": [
       "Plot with title \"M153T308vsMetaSci0078\n",
       "score:0.589\""
      ]
     },
     "metadata": {
      "image/png": {
       "height": 420,
       "width": 420
      }
     },
     "output_type": "display_data"
    },
    {
     "name": "stderr",
     "output_type": "stream",
     "text": [
      "'MsBackendCompDb' does not support parallel processing. Switching to serial processing.\n",
      "\n",
      "'MsBackendCompDb' does not support parallel processing. Switching to serial processing.\n",
      "\n"
     ]
    },
    {
     "data": {
      "image/png": "[encoded data removed]",
      "text/plain": [
       "Plot with title \"M130T170vsMetaSci0043\n",
       "score:0.742\""
      ]
     },
     "metadata": {
      "image/png": {
       "height": 420,
       "width": 420
      }
     },
     "output_type": "display_data"
    },
    {
     "name": "stderr",
     "output_type": "stream",
     "text": [
      "'MsBackendCompDb' does not support parallel processing. Switching to serial processing.\n",
      "\n",
      "'MsBackendCompDb' does not support parallel processing. Switching to serial processing.\n",
      "\n"
     ]
    },
    {
     "data": {
      "image/png": "[encoded data removed]",
      "text/plain": [
       "Plot with title \"M269T389_1vsMetaSci0041\n",
       "score:0.998\""
      ]
     },
     "metadata": {
      "image/png": {
       "height": 420,
       "width": 420
      }
     },
     "output_type": "display_data"
    },
    {
     "name": "stderr",
     "output_type": "stream",
     "text": [
      "'MsBackendCompDb' does not support parallel processing. Switching to serial processing.\n",
      "\n",
      "'MsBackendCompDb' does not support parallel processing. Switching to serial processing.\n",
      "\n"
     ]
    },
    {
     "data": {
      "image/png": "[encoded data removed]",
      "text/plain": [
       "Plot with title \"M537T389vsMetaSci0041\n",
       "score:0.85\""
      ]
     },
     "metadata": {
      "image/png": {
       "height": 420,
       "width": 420
      }
     },
     "output_type": "display_data"
    },
    {
     "name": "stderr",
     "output_type": "stream",
     "text": [
      "'MsBackendCompDb' does not support parallel processing. Switching to serial processing.\n",
      "\n",
      "'MsBackendCompDb' does not support parallel processing. Switching to serial processing.\n",
      "\n"
     ]
    },
    {
     "data": {
      "image/png": "[encoded data removed]",
      "text/plain": [
       "Plot with title \"M284T390vsMetaSci0038\n",
       "score:0.872\""
      ]
     },
     "metadata": {
      "image/png": {
       "height": 420,
       "width": 420
      }
     },
     "output_type": "display_data"
    },
    {
     "data": {
      "image/png": "[encoded data removed]",
      "text/plain": [
       "Plot with title \"M319T484vsMetaSci0021\n",
       "score:0.659\""
      ]
     },
     "metadata": {
      "image/png": {
       "height": 420,
       "width": 420
      }
     },
     "output_type": "display_data"
    }
   ],
   "source": [
    "plot_match_feature(all_result_mylib,myLib,threshold_score = 0.5)"
   ]
  },
  {
   "cell_type": "code",
   "execution_count": 275,
   "metadata": {
    "vscode": {
     "languageId": "r"
    }
   },
   "outputs": [
    {
     "data": {
      "image/png": "[encoded data removed]",
      "text/plain": [
       "Plot with title \"M188T573vs22390\n",
       "score:0.56\""
      ]
     },
     "metadata": {
      "image/png": {
       "height": 420,
       "width": 420
      }
     },
     "output_type": "display_data"
    },
    {
     "data": {
      "image/png": "[encoded data removed]",
      "text/plain": [
       "Plot with title \"M206T574vs15524\n",
       "score:0.532\""
      ]
     },
     "metadata": {
      "image/png": {
       "height": 420,
       "width": 420
      }
     },
     "output_type": "display_data"
    }
   ],
   "source": [
    "plot_match_feature(all_result_mbank_mergeSps)"
   ]
  },
  {
   "cell_type": "code",
   "execution_count": 38,
   "metadata": {
    "vscode": {
     "languageId": "r"
    }
   },
   "outputs": [
    {
     "data": {
      "text/html": [
       "<style>\n",
       ".list-inline {list-style: none; margin:0; padding: 0}\n",
       ".list-inline>li {display: inline-block}\n",
       ".list-inline>li:not(:last-child)::after {content: \"\\00b7\"; padding: 0 .5ex}\n",
       "</style>\n",
       "<ol class=list-inline><li>'msLevel'</li><li>'rtime'</li><li>'acquisitionNum'</li><li>'scanIndex'</li><li>'dataStorage'</li><li>'dataOrigin'</li><li>'centroided'</li><li>'smoothed'</li><li>'polarity'</li><li>'precScanNum'</li><li>'precursorMz'</li><li>'precursorIntensity'</li><li>'precursorCharge'</li><li>'collisionEnergy'</li><li>'isolationWindowLowerMz'</li><li>'isolationWindowTargetMz'</li><li>'isolationWindowUpperMz'</li><li>'compound_id'</li><li>'HMDB_ID'</li><li>'name'</li><li>'cas'</li><li>'exactmass'</li><li>'formula'</li><li>'inchikey'</li><li>'inchi'</li><li>'KEGG_ID'</li><li>'TITLE'</li><li>'spectrum_id'</li><li>'predicted'</li><li>'splash'</li><li>'instrument_type'</li><li>'instrument'</li><li>'msms_mz_range_min'</li><li>'msms_mz_range_max'</li><li>'synonym'</li></ol>\n"
      ],
      "text/latex": [
       "\\begin{enumerate*}\n",
       "\\item 'msLevel'\n",
       "\\item 'rtime'\n",
       "\\item 'acquisitionNum'\n",
       "\\item 'scanIndex'\n",
       "\\item 'dataStorage'\n",
       "\\item 'dataOrigin'\n",
       "\\item 'centroided'\n",
       "\\item 'smoothed'\n",
       "\\item 'polarity'\n",
       "\\item 'precScanNum'\n",
       "\\item 'precursorMz'\n",
       "\\item 'precursorIntensity'\n",
       "\\item 'precursorCharge'\n",
       "\\item 'collisionEnergy'\n",
       "\\item 'isolationWindowLowerMz'\n",
       "\\item 'isolationWindowTargetMz'\n",
       "\\item 'isolationWindowUpperMz'\n",
       "\\item 'compound\\_id'\n",
       "\\item 'HMDB\\_ID'\n",
       "\\item 'name'\n",
       "\\item 'cas'\n",
       "\\item 'exactmass'\n",
       "\\item 'formula'\n",
       "\\item 'inchikey'\n",
       "\\item 'inchi'\n",
       "\\item 'KEGG\\_ID'\n",
       "\\item 'TITLE'\n",
       "\\item 'spectrum\\_id'\n",
       "\\item 'predicted'\n",
       "\\item 'splash'\n",
       "\\item 'instrument\\_type'\n",
       "\\item 'instrument'\n",
       "\\item 'msms\\_mz\\_range\\_min'\n",
       "\\item 'msms\\_mz\\_range\\_max'\n",
       "\\item 'synonym'\n",
       "\\end{enumerate*}\n"
      ],
      "text/markdown": [
       "1. 'msLevel'\n",
       "2. 'rtime'\n",
       "3. 'acquisitionNum'\n",
       "4. 'scanIndex'\n",
       "5. 'dataStorage'\n",
       "6. 'dataOrigin'\n",
       "7. 'centroided'\n",
       "8. 'smoothed'\n",
       "9. 'polarity'\n",
       "10. 'precScanNum'\n",
       "11. 'precursorMz'\n",
       "12. 'precursorIntensity'\n",
       "13. 'precursorCharge'\n",
       "14. 'collisionEnergy'\n",
       "15. 'isolationWindowLowerMz'\n",
       "16. 'isolationWindowTargetMz'\n",
       "17. 'isolationWindowUpperMz'\n",
       "18. 'compound_id'\n",
       "19. 'HMDB_ID'\n",
       "20. 'name'\n",
       "21. 'cas'\n",
       "22. 'exactmass'\n",
       "23. 'formula'\n",
       "24. 'inchikey'\n",
       "25. 'inchi'\n",
       "26. 'KEGG_ID'\n",
       "27. 'TITLE'\n",
       "28. 'spectrum_id'\n",
       "29. 'predicted'\n",
       "30. 'splash'\n",
       "31. 'instrument_type'\n",
       "32. 'instrument'\n",
       "33. 'msms_mz_range_min'\n",
       "34. 'msms_mz_range_max'\n",
       "35. 'synonym'\n",
       "\n",
       "\n"
      ],
      "text/plain": [
       " [1] \"msLevel\"                 \"rtime\"                  \n",
       " [3] \"acquisitionNum\"          \"scanIndex\"              \n",
       " [5] \"dataStorage\"             \"dataOrigin\"             \n",
       " [7] \"centroided\"              \"smoothed\"               \n",
       " [9] \"polarity\"                \"precScanNum\"            \n",
       "[11] \"precursorMz\"             \"precursorIntensity\"     \n",
       "[13] \"precursorCharge\"         \"collisionEnergy\"        \n",
       "[15] \"isolationWindowLowerMz\"  \"isolationWindowTargetMz\"\n",
       "[17] \"isolationWindowUpperMz\"  \"compound_id\"            \n",
       "[19] \"HMDB_ID\"                 \"name\"                   \n",
       "[21] \"cas\"                     \"exactmass\"              \n",
       "[23] \"formula\"                 \"inchikey\"               \n",
       "[25] \"inchi\"                   \"KEGG_ID\"                \n",
       "[27] \"TITLE\"                   \"spectrum_id\"            \n",
       "[29] \"predicted\"               \"splash\"                 \n",
       "[31] \"instrument_type\"         \"instrument\"             \n",
       "[33] \"msms_mz_range_min\"       \"msms_mz_range_max\"      \n",
       "[35] \"synonym\"                "
      ]
     },
     "metadata": {},
     "output_type": "display_data"
    }
   ],
   "source": [
    "spectraVariables(myLib)"
   ]
  }
 ],
 "metadata": {
  "kernelspec": {
   "display_name": "R",
   "language": "R",
   "name": "ir"
  },
  "language_info": {
   "codemirror_mode": "r",
   "file_extension": ".r",
   "mimetype": "text/x-r-source",
   "name": "R",
   "pygments_lexer": "r",
   "version": "4.3.1"
  },
  "orig_nbformat": 4
 },
 "nbformat": 4,
 "nbformat_minor": 2
}
